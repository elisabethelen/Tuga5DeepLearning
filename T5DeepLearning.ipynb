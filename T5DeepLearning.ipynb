{
  "nbformat": 4,
  "nbformat_minor": 0,
  "metadata": {
    "colab": {
      "provenance": [],
      "gpuType": "T4",
      "include_colab_link": true
    },
    "kernelspec": {
      "name": "python3",
      "display_name": "Python 3"
    },
    "accelerator": "GPU"
  },
  "cells": [
    {
      "cell_type": "markdown",
      "metadata": {
        "id": "view-in-github",
        "colab_type": "text"
      },
      "source": [
        "<a href=\"https://colab.research.google.com/github/elisabethelen/Tuga5DeepLearning/blob/main/T5DeepLearning.ipynb\" target=\"_parent\"><img src=\"https://colab.research.google.com/assets/colab-badge.svg\" alt=\"Open In Colab\"/></a>"
      ]
    },
    {
      "cell_type": "markdown",
      "metadata": {
        "id": "t6MPjfT5NrKQ"
      },
      "source": [
        "<div align=\"center\">\n",
        "  <a href=\"https://ultralytics.com/yolo\" target=\"_blank\">\n",
        "    <img width=\"1024\" src=\"https://raw.githubusercontent.com/ultralytics/assets/main/yolov8/banner-yolov8.png\">\n",
        "  </a>\n",
        "\n",
        "  [中文](https://docs.ultralytics.com/zh/) | [한국어](https://docs.ultralytics.com/ko/) | [日本語](https://docs.ultralytics.com/ja/) | [Русский](https://docs.ultralytics.com/ru/) | [Deutsch](https://docs.ultralytics.com/de/) | [Français](https://docs.ultralytics.com/fr/) | [Español](https://docs.ultralytics.com/es/) | [Português](https://docs.ultralytics.com/pt/) | [Türkçe](https://docs.ultralytics.com/tr/) | [Tiếng Việt](https://docs.ultralytics.com/vi/) | [العربية](https://docs.ultralytics.com/ar/)\n",
        "\n",
        "  <a href=\"https://github.com/ultralytics/ultralytics/actions/workflows/ci.yml\"><img src=\"https://github.com/ultralytics/ultralytics/actions/workflows/ci.yml/badge.svg\" alt=\"Ultralytics CI\"></a>\n",
        "  <a href=\"https://console.paperspace.com/github/ultralytics/ultralytics\"><img src=\"https://assets.paperspace.io/img/gradient-badge.svg\" alt=\"Run on Gradient\"/></a>\n",
        "  <a href=\"https://colab.research.google.com/github/ultralytics/ultralytics/blob/main/examples/tutorial.ipynb\"><img src=\"https://colab.research.google.com/assets/colab-badge.svg\" alt=\"Open In Colab\"></a>\n",
        "  <a href=\"https://www.kaggle.com/models/ultralytics/yolo11\"><img src=\"https://kaggle.com/static/images/open-in-kaggle.svg\" alt=\"Open In Kaggle\"></a>\n",
        "\n",
        "  <a href=\"https://ultralytics.com/discord\"><img alt=\"Discord\" src=\"https://img.shields.io/discord/1089800235347353640?logo=discord&logoColor=white&label=Discord&color=blue\"></a>\n",
        "  <a href=\"https://community.ultralytics.com\"><img alt=\"Ultralytics Forums\" src=\"https://img.shields.io/discourse/users?server=https%3A%2F%2Fcommunity.ultralytics.com&logo=discourse&label=Forums&color=blue\"></a>\n",
        "  <a href=\"https://reddit.com/r/ultralytics\"><img alt=\"Ultralytics Reddit\" src=\"https://img.shields.io/reddit/subreddit-subscribers/ultralytics?style=flat&logo=reddit&logoColor=white&label=Reddit&color=blue\"></a>\n",
        "</div>\n",
        "\n",
        "This **Ultralytics Colab Notebook** is the easiest way to get started with [YOLO models](https://www.ultralytics.com/yolo)—no installation needed. Built by [Ultralytics](https://www.ultralytics.com/), the creators of YOLO, this notebook walks you through running **state-of-the-art** models directly in your browser.\n",
        "\n",
        "Ultralytics models are constantly updated for performance and flexibility. They're **fast**, **accurate**, and **easy to use**, and they excel at [object detection](https://docs.ultralytics.com/tasks/detect/), [tracking](https://docs.ultralytics.com/modes/track/), [instance segmentation](https://docs.ultralytics.com/tasks/segment/), [image classification](https://docs.ultralytics.com/tasks/classify/), and [pose estimation](https://docs.ultralytics.com/tasks/pose/).\n",
        "\n",
        "Find detailed documentation in the [Ultralytics Docs](https://docs.ultralytics.com/). Get support via [GitHub Issues](https://github.com/ultralytics/ultralytics/issues/new/choose). Join discussions on [Discord](https://discord.com/invite/ultralytics), [Reddit](https://www.reddit.com/r/ultralytics/), and the [Ultralytics Community Forums](https://community.ultralytics.com/)!\n",
        "\n",
        "Request an Enterprise License for commercial use at [Ultralytics Licensing](https://www.ultralytics.com/license).\n",
        "\n",
        "<br>\n",
        "<div>\n",
        "  <a href=\"https://www.youtube.com/watch?v=ZN3nRZT7b24\" target=\"_blank\">\n",
        "    <img src=\"https://img.youtube.com/vi/ZN3nRZT7b24/maxresdefault.jpg\" alt=\"Ultralytics Video\" width=\"640\" style=\"border-radius: 10px; box-shadow: 0 4px 8px rgba(0, 0, 0, 0.2);\">\n",
        "  </a>\n",
        "\n",
        "  <p style=\"font-size: 16px; font-family: Arial, sans-serif; color: #555;\">\n",
        "    <strong>Watch: </strong> How to Train\n",
        "    <a href=\"https://github.com/ultralytics/ultralytics\">Ultralytics</a>\n",
        "    <a href=\"https://docs.ultralytics.com/models/yolo11/\">YOLO11</a> Model on Custom Dataset using Google Colab Notebook 🚀\n",
        "  </p>\n",
        "</div>"
      ]
    },
    {
      "cell_type": "markdown",
      "metadata": {
        "id": "7mGmQbAO5pQb"
      },
      "source": [
        "# Setup\n",
        "\n",
        "pip install `ultralytics` and [dependencies](https://github.com/ultralytics/ultralytics/blob/main/pyproject.toml) and check software and hardware.\n",
        "\n",
        "[![PyPI - Version](https://img.shields.io/pypi/v/ultralytics?logo=pypi&logoColor=white)](https://pypi.org/project/ultralytics/) [![Downloads](https://static.pepy.tech/badge/ultralytics)](https://www.pepy.tech/projects/ultralytics) [![PyPI - Python Version](https://img.shields.io/pypi/pyversions/ultralytics?logo=python&logoColor=gold)](https://pypi.org/project/ultralytics/)"
      ]
    },
    {
      "cell_type": "code",
      "source": [
        "from google.colab import drive\n",
        "drive.mount('/content/drive')"
      ],
      "metadata": {
        "colab": {
          "base_uri": "https://localhost:8080/"
        },
        "id": "udww_O1L7hzr",
        "outputId": "16d03acd-260b-4002-ef1e-73b7edfe53b7"
      },
      "execution_count": 4,
      "outputs": [
        {
          "output_type": "stream",
          "name": "stdout",
          "text": [
            "Drive already mounted at /content/drive; to attempt to forcibly remount, call drive.mount(\"/content/drive\", force_remount=True).\n"
          ]
        }
      ]
    },
    {
      "cell_type": "code",
      "metadata": {
        "id": "wbvMlHd_QwMG",
        "colab": {
          "base_uri": "https://localhost:8080/"
        },
        "outputId": "fcfd69a6-b625-4c7f-f707-361173a05192"
      },
      "source": [
        "%pip install ultralytics\n",
        "import ultralytics\n",
        "ultralytics.checks()"
      ],
      "execution_count": 5,
      "outputs": [
        {
          "output_type": "stream",
          "name": "stdout",
          "text": [
            "Ultralytics 8.3.153 🚀 Python-3.11.13 torch-2.6.0+cu124 CPU (Intel Xeon 2.20GHz)\n",
            "Setup complete ✅ (2 CPUs, 12.7 GB RAM, 41.5/107.7 GB disk)\n"
          ]
        }
      ]
    },
    {
      "cell_type": "code",
      "source": [
        "%cd /content/drive/MyDrive/T4DL"
      ],
      "metadata": {
        "colab": {
          "base_uri": "https://localhost:8080/"
        },
        "id": "2z9i7fLu8K51",
        "outputId": "4dcb8c00-cd87-413d-f4b7-3a49efe74029"
      },
      "execution_count": 6,
      "outputs": [
        {
          "output_type": "stream",
          "name": "stdout",
          "text": [
            "/content/drive/MyDrive/T4DL\n"
          ]
        }
      ]
    },
    {
      "cell_type": "code",
      "source": [
        "# Install YOLOv8 dan DeepSORT Realtime\n",
        "!pip install ultralytics deep_sort_realtime opencv-python"
      ],
      "metadata": {
        "colab": {
          "base_uri": "https://localhost:8080/"
        },
        "id": "f-pBQrS_Cbbi",
        "outputId": "ae8911d4-e668-4617-db53-871a12346c65"
      },
      "execution_count": 7,
      "outputs": [
        {
          "output_type": "stream",
          "name": "stdout",
          "text": [
            "Requirement already satisfied: ultralytics in /usr/local/lib/python3.11/dist-packages (8.3.153)\n",
            "Collecting deep_sort_realtime\n",
            "  Downloading deep_sort_realtime-1.3.2-py3-none-any.whl.metadata (12 kB)\n",
            "Requirement already satisfied: opencv-python in /usr/local/lib/python3.11/dist-packages (4.11.0.86)\n",
            "Requirement already satisfied: numpy>=1.23.0 in /usr/local/lib/python3.11/dist-packages (from ultralytics) (2.0.2)\n",
            "Requirement already satisfied: matplotlib>=3.3.0 in /usr/local/lib/python3.11/dist-packages (from ultralytics) (3.10.0)\n",
            "Requirement already satisfied: pillow>=7.1.2 in /usr/local/lib/python3.11/dist-packages (from ultralytics) (11.2.1)\n",
            "Requirement already satisfied: pyyaml>=5.3.1 in /usr/local/lib/python3.11/dist-packages (from ultralytics) (6.0.2)\n",
            "Requirement already satisfied: requests>=2.23.0 in /usr/local/lib/python3.11/dist-packages (from ultralytics) (2.32.3)\n",
            "Requirement already satisfied: scipy>=1.4.1 in /usr/local/lib/python3.11/dist-packages (from ultralytics) (1.15.3)\n",
            "Requirement already satisfied: torch>=1.8.0 in /usr/local/lib/python3.11/dist-packages (from ultralytics) (2.6.0+cu124)\n",
            "Requirement already satisfied: torchvision>=0.9.0 in /usr/local/lib/python3.11/dist-packages (from ultralytics) (0.21.0+cu124)\n",
            "Requirement already satisfied: tqdm>=4.64.0 in /usr/local/lib/python3.11/dist-packages (from ultralytics) (4.67.1)\n",
            "Requirement already satisfied: psutil in /usr/local/lib/python3.11/dist-packages (from ultralytics) (5.9.5)\n",
            "Requirement already satisfied: py-cpuinfo in /usr/local/lib/python3.11/dist-packages (from ultralytics) (9.0.0)\n",
            "Requirement already satisfied: pandas>=1.1.4 in /usr/local/lib/python3.11/dist-packages (from ultralytics) (2.2.2)\n",
            "Requirement already satisfied: ultralytics-thop>=2.0.0 in /usr/local/lib/python3.11/dist-packages (from ultralytics) (2.0.14)\n",
            "Requirement already satisfied: contourpy>=1.0.1 in /usr/local/lib/python3.11/dist-packages (from matplotlib>=3.3.0->ultralytics) (1.3.2)\n",
            "Requirement already satisfied: cycler>=0.10 in /usr/local/lib/python3.11/dist-packages (from matplotlib>=3.3.0->ultralytics) (0.12.1)\n",
            "Requirement already satisfied: fonttools>=4.22.0 in /usr/local/lib/python3.11/dist-packages (from matplotlib>=3.3.0->ultralytics) (4.58.1)\n",
            "Requirement already satisfied: kiwisolver>=1.3.1 in /usr/local/lib/python3.11/dist-packages (from matplotlib>=3.3.0->ultralytics) (1.4.8)\n",
            "Requirement already satisfied: packaging>=20.0 in /usr/local/lib/python3.11/dist-packages (from matplotlib>=3.3.0->ultralytics) (24.2)\n",
            "Requirement already satisfied: pyparsing>=2.3.1 in /usr/local/lib/python3.11/dist-packages (from matplotlib>=3.3.0->ultralytics) (3.2.3)\n",
            "Requirement already satisfied: python-dateutil>=2.7 in /usr/local/lib/python3.11/dist-packages (from matplotlib>=3.3.0->ultralytics) (2.9.0.post0)\n",
            "Requirement already satisfied: pytz>=2020.1 in /usr/local/lib/python3.11/dist-packages (from pandas>=1.1.4->ultralytics) (2025.2)\n",
            "Requirement already satisfied: tzdata>=2022.7 in /usr/local/lib/python3.11/dist-packages (from pandas>=1.1.4->ultralytics) (2025.2)\n",
            "Requirement already satisfied: charset-normalizer<4,>=2 in /usr/local/lib/python3.11/dist-packages (from requests>=2.23.0->ultralytics) (3.4.2)\n",
            "Requirement already satisfied: idna<4,>=2.5 in /usr/local/lib/python3.11/dist-packages (from requests>=2.23.0->ultralytics) (3.10)\n",
            "Requirement already satisfied: urllib3<3,>=1.21.1 in /usr/local/lib/python3.11/dist-packages (from requests>=2.23.0->ultralytics) (2.4.0)\n",
            "Requirement already satisfied: certifi>=2017.4.17 in /usr/local/lib/python3.11/dist-packages (from requests>=2.23.0->ultralytics) (2025.4.26)\n",
            "Requirement already satisfied: filelock in /usr/local/lib/python3.11/dist-packages (from torch>=1.8.0->ultralytics) (3.18.0)\n",
            "Requirement already satisfied: typing-extensions>=4.10.0 in /usr/local/lib/python3.11/dist-packages (from torch>=1.8.0->ultralytics) (4.14.0)\n",
            "Requirement already satisfied: networkx in /usr/local/lib/python3.11/dist-packages (from torch>=1.8.0->ultralytics) (3.5)\n",
            "Requirement already satisfied: jinja2 in /usr/local/lib/python3.11/dist-packages (from torch>=1.8.0->ultralytics) (3.1.6)\n",
            "Requirement already satisfied: fsspec in /usr/local/lib/python3.11/dist-packages (from torch>=1.8.0->ultralytics) (2025.3.2)\n",
            "Requirement already satisfied: nvidia-cuda-nvrtc-cu12==12.4.127 in /usr/local/lib/python3.11/dist-packages (from torch>=1.8.0->ultralytics) (12.4.127)\n",
            "Requirement already satisfied: nvidia-cuda-runtime-cu12==12.4.127 in /usr/local/lib/python3.11/dist-packages (from torch>=1.8.0->ultralytics) (12.4.127)\n",
            "Requirement already satisfied: nvidia-cuda-cupti-cu12==12.4.127 in /usr/local/lib/python3.11/dist-packages (from torch>=1.8.0->ultralytics) (12.4.127)\n",
            "Requirement already satisfied: nvidia-cudnn-cu12==9.1.0.70 in /usr/local/lib/python3.11/dist-packages (from torch>=1.8.0->ultralytics) (9.1.0.70)\n",
            "Requirement already satisfied: nvidia-cublas-cu12==12.4.5.8 in /usr/local/lib/python3.11/dist-packages (from torch>=1.8.0->ultralytics) (12.4.5.8)\n",
            "Requirement already satisfied: nvidia-cufft-cu12==11.2.1.3 in /usr/local/lib/python3.11/dist-packages (from torch>=1.8.0->ultralytics) (11.2.1.3)\n",
            "Requirement already satisfied: nvidia-curand-cu12==10.3.5.147 in /usr/local/lib/python3.11/dist-packages (from torch>=1.8.0->ultralytics) (10.3.5.147)\n",
            "Requirement already satisfied: nvidia-cusolver-cu12==11.6.1.9 in /usr/local/lib/python3.11/dist-packages (from torch>=1.8.0->ultralytics) (11.6.1.9)\n",
            "Requirement already satisfied: nvidia-cusparse-cu12==12.3.1.170 in /usr/local/lib/python3.11/dist-packages (from torch>=1.8.0->ultralytics) (12.3.1.170)\n",
            "Requirement already satisfied: nvidia-cusparselt-cu12==0.6.2 in /usr/local/lib/python3.11/dist-packages (from torch>=1.8.0->ultralytics) (0.6.2)\n",
            "Requirement already satisfied: nvidia-nccl-cu12==2.21.5 in /usr/local/lib/python3.11/dist-packages (from torch>=1.8.0->ultralytics) (2.21.5)\n",
            "Requirement already satisfied: nvidia-nvtx-cu12==12.4.127 in /usr/local/lib/python3.11/dist-packages (from torch>=1.8.0->ultralytics) (12.4.127)\n",
            "Requirement already satisfied: nvidia-nvjitlink-cu12==12.4.127 in /usr/local/lib/python3.11/dist-packages (from torch>=1.8.0->ultralytics) (12.4.127)\n",
            "Requirement already satisfied: triton==3.2.0 in /usr/local/lib/python3.11/dist-packages (from torch>=1.8.0->ultralytics) (3.2.0)\n",
            "Requirement already satisfied: sympy==1.13.1 in /usr/local/lib/python3.11/dist-packages (from torch>=1.8.0->ultralytics) (1.13.1)\n",
            "Requirement already satisfied: mpmath<1.4,>=1.1.0 in /usr/local/lib/python3.11/dist-packages (from sympy==1.13.1->torch>=1.8.0->ultralytics) (1.3.0)\n",
            "Requirement already satisfied: six>=1.5 in /usr/local/lib/python3.11/dist-packages (from python-dateutil>=2.7->matplotlib>=3.3.0->ultralytics) (1.17.0)\n",
            "Requirement already satisfied: MarkupSafe>=2.0 in /usr/local/lib/python3.11/dist-packages (from jinja2->torch>=1.8.0->ultralytics) (3.0.2)\n",
            "Downloading deep_sort_realtime-1.3.2-py3-none-any.whl (8.4 MB)\n",
            "\u001b[2K   \u001b[90m━━━━━━━━━━━━━━━━━━━━━━━━━━━━━━━━━━━━━━━━\u001b[0m \u001b[32m8.4/8.4 MB\u001b[0m \u001b[31m51.1 MB/s\u001b[0m eta \u001b[36m0:00:00\u001b[0m\n",
            "\u001b[?25hInstalling collected packages: deep_sort_realtime\n",
            "Successfully installed deep_sort_realtime-1.3.2\n"
          ]
        }
      ]
    },
    {
      "cell_type": "markdown",
      "metadata": {
        "id": "4JnkELT0cIJg"
      },
      "source": [
        "# 1. Predict\n",
        "\n",
        "YOLO11 may be used directly in the Command Line Interface (CLI) with a `yolo` command for a variety of tasks and modes and accepts additional arguments, i.e. `imgsz=640`. See a full list of available `yolo` [arguments](https://docs.ultralytics.com/usage/cfg/) and other details in the [YOLO11 Predict Docs](https://docs.ultralytics.com/modes/train/).\n"
      ]
    },
    {
      "cell_type": "code",
      "metadata": {
        "id": "zR9ZbuQCH7FX",
        "colab": {
          "base_uri": "https://localhost:8080/"
        },
        "outputId": "b606d223-5885-4871-92a7-57a93e22ac85"
      },
      "source": [
        "# Run inference on an image with YOLO11n\n",
        "!yolo predict model=/content/drive/MyDrive/T4DL/runs/detect/train/weights/best.pt source='/content/drive/MyDrive/T4DL/testimage/Botol' save=True project=\"runs/predict_Botol\" name=\"Botol\""
      ],
      "execution_count": null,
      "outputs": [
        {
          "output_type": "stream",
          "name": "stdout",
          "text": [
            "Ultralytics 8.3.152 🚀 Python-3.11.13 torch-2.6.0+cu124 CUDA:0 (Tesla T4, 15095MiB)\n",
            "YOLO11n summary (fused): 100 layers, 2,582,932 parameters, 0 gradients, 6.3 GFLOPs\n",
            "\n",
            "image 1/5 /content/drive/MyDrive/T4DL/testimage/Botol/IMG20250602212742.jpg: 640x640 1 Botol, 10.1ms\n",
            "image 2/5 /content/drive/MyDrive/T4DL/testimage/Botol/IMG20250602213538.jpg: 640x640 1 Botol, 10.0ms\n",
            "image 3/5 /content/drive/MyDrive/T4DL/testimage/Botol/IMG20250602214431.jpg: 640x640 1 Botol, 9.0ms\n",
            "image 4/5 /content/drive/MyDrive/T4DL/testimage/Botol/IMG_20250602_211526.jpg: 640x640 1 Botol, 10.3ms\n",
            "image 5/5 /content/drive/MyDrive/T4DL/testimage/Botol/IMG_20250602_212549.jpg: 640x640 1 Botol, 9.2ms\n",
            "Speed: 6.2ms preprocess, 9.7ms inference, 71.7ms postprocess per image at shape (1, 3, 640, 640)\n",
            "Results saved to \u001b[1mruns/predict_Botol/Botol4\u001b[0m\n",
            "💡 Learn more at https://docs.ultralytics.com/modes/predict\n"
          ]
        }
      ]
    },
    {
      "cell_type": "code",
      "source": [
        "# Run inference on an image with YOLO11n\n",
        "!yolo predict model=/content/drive/MyDrive/T4DL/runs/detect/train/weights/best.pt source='/content/drive/MyDrive/T4DL/testimage/Buku' save=True project=\"runs/predict_Buku\" name=\"Buku\""
      ],
      "metadata": {
        "colab": {
          "base_uri": "https://localhost:8080/"
        },
        "id": "qC7JpcJYNp_-",
        "outputId": "b6fd8aea-d542-42e5-f687-134e4e43a9bf"
      },
      "execution_count": null,
      "outputs": [
        {
          "output_type": "stream",
          "name": "stdout",
          "text": [
            "Ultralytics 8.3.148 🚀 Python-3.11.12 torch-2.6.0+cu124 CUDA:0 (Tesla T4, 15095MiB)\n",
            "YOLO11n summary (fused): 100 layers, 2,582,932 parameters, 0 gradients, 6.3 GFLOPs\n",
            "\n",
            "image 1/5 /content/drive/MyDrive/T4DL/testimage/Buku/IMG20250602194534.jpg: 640x640 1 Buku, 17.4ms\n",
            "image 2/5 /content/drive/MyDrive/T4DL/testimage/Buku/IMG20250602200523.jpg: 640x640 1 Buku, 9.5ms\n",
            "image 3/5 /content/drive/MyDrive/T4DL/testimage/Buku/IMG20250602203807.jpg: 640x640 1 Buku, 8.9ms\n",
            "image 4/5 /content/drive/MyDrive/T4DL/testimage/Buku/IMG20250602204433.jpg: 640x640 1 Buku, 9.1ms\n",
            "image 5/5 /content/drive/MyDrive/T4DL/testimage/Buku/IMG20250602205035.jpg: 640x640 1 Buku, 10.2ms\n",
            "Speed: 4.5ms preprocess, 11.0ms inference, 37.9ms postprocess per image at shape (1, 3, 640, 640)\n",
            "Results saved to \u001b[1mruns/predict_Buku/Buku\u001b[0m\n",
            "💡 Learn more at https://docs.ultralytics.com/modes/predict\n"
          ]
        }
      ]
    },
    {
      "cell_type": "code",
      "source": [
        "# Run inference on an image with YOLO11n\n",
        "!yolo predict model=/content/drive/MyDrive/T4DL/runs/detect/train/weights/best.pt source='/content/drive/MyDrive/T4DL/testimage/Dompet' save=True project=\"runs/predict_Dompet\" name=\"Dompet\""
      ],
      "metadata": {
        "colab": {
          "base_uri": "https://localhost:8080/"
        },
        "id": "rPcqNyDrNxtk",
        "outputId": "f9329791-5b99-4fdc-c053-a1b446fbf0e5"
      },
      "execution_count": null,
      "outputs": [
        {
          "output_type": "stream",
          "name": "stdout",
          "text": [
            "Ultralytics 8.3.148 🚀 Python-3.11.12 torch-2.6.0+cu124 CUDA:0 (Tesla T4, 15095MiB)\n",
            "YOLO11n summary (fused): 100 layers, 2,582,932 parameters, 0 gradients, 6.3 GFLOPs\n",
            "\n",
            "image 1/5 /content/drive/MyDrive/T4DL/testimage/Dompet/IMG20250602184733.jpg: 640x640 1 Dompet, 9.4ms\n",
            "image 2/5 /content/drive/MyDrive/T4DL/testimage/Dompet/IMG20250602190814.jpg: 640x640 1 Dompet, 9.1ms\n",
            "image 3/5 /content/drive/MyDrive/T4DL/testimage/Dompet/IMG20250602191447.jpg: 640x640 1 Dompet, 9.0ms\n",
            "image 4/5 /content/drive/MyDrive/T4DL/testimage/Dompet/IMG20250602191853.jpg: 640x640 1 Dompet, 9.2ms\n",
            "image 5/5 /content/drive/MyDrive/T4DL/testimage/Dompet/IMG20250602192433.jpg: 640x640 1 Dompet, 9.4ms\n",
            "Speed: 4.0ms preprocess, 9.2ms inference, 29.4ms postprocess per image at shape (1, 3, 640, 640)\n",
            "Results saved to \u001b[1mruns/predict_Dompet/Dompet\u001b[0m\n",
            "💡 Learn more at https://docs.ultralytics.com/modes/predict\n"
          ]
        }
      ]
    },
    {
      "cell_type": "code",
      "source": [
        "# Run inference on an image with YOLO11n\n",
        "!yolo predict model=/content/drive/MyDrive/T4DL/runs/detect/train/weights/best.pt source='/content/drive/MyDrive/T4DL/testimage/Tas' save=True project=\"runs/predict_Tas\" name=\"Tas\""
      ],
      "metadata": {
        "colab": {
          "base_uri": "https://localhost:8080/"
        },
        "id": "1hepPA6lN-IS",
        "outputId": "8ca8ad58-e4db-4f6b-9e0d-7b01e7e2102c"
      },
      "execution_count": null,
      "outputs": [
        {
          "output_type": "stream",
          "name": "stdout",
          "text": [
            "Ultralytics 8.3.148 🚀 Python-3.11.12 torch-2.6.0+cu124 CUDA:0 (Tesla T4, 15095MiB)\n",
            "YOLO11n summary (fused): 100 layers, 2,582,932 parameters, 0 gradients, 6.3 GFLOPs\n",
            "\n",
            "image 1/5 /content/drive/MyDrive/T4DL/testimage/Tas/IMG20250602225145.jpg: 640x640 1 Tas, 16.4ms\n",
            "image 2/5 /content/drive/MyDrive/T4DL/testimage/Tas/IMG20250602230733.jpg: 640x640 1 Tas, 9.3ms\n",
            "image 3/5 /content/drive/MyDrive/T4DL/testimage/Tas/IMG20250602232050.jpg: 640x640 1 Tas, 9.1ms\n",
            "image 4/5 /content/drive/MyDrive/T4DL/testimage/Tas/IMG20250602233612.jpg: 640x640 1 Tas, 15.5ms\n",
            "image 5/5 /content/drive/MyDrive/T4DL/testimage/Tas/IMG_20250602_223321.jpg: 640x640 1 Tas, 9.7ms\n",
            "Speed: 4.1ms preprocess, 12.0ms inference, 29.9ms postprocess per image at shape (1, 3, 640, 640)\n",
            "Results saved to \u001b[1mruns/predict_Tas/Tas\u001b[0m\n",
            "💡 Learn more at https://docs.ultralytics.com/modes/predict\n"
          ]
        }
      ]
    },
    {
      "cell_type": "code",
      "source": [
        "!yolo predict model=/content/drive/MyDrive/T4DL/runs/detect/train/weights/best.pt source='/content/drive/MyDrive/Tugas_4_DeepLearning/test_videos/testing_2.mp4' save=True project='runs/predict_video' name='kelas_prediksi_video' conf=0.1"
      ],
      "metadata": {
        "id": "sBrx0JX_GfYS"
      },
      "execution_count": null,
      "outputs": []
    },
    {
      "cell_type": "markdown",
      "metadata": {
        "id": "hkAzDWJ7cWTr"
      },
      "source": [
        "&nbsp;&nbsp;&nbsp;&nbsp;&nbsp;&nbsp;&nbsp;&nbsp;\n",
        "<img align=\"left\" src=\"https://user-images.githubusercontent.com/26833433/212889447-69e5bdf1-5800-4e29-835e-2ed2336dede2.jpg\" width=\"600\">"
      ]
    },
    {
      "cell_type": "markdown",
      "metadata": {
        "id": "0eq1SMWl6Sfn"
      },
      "source": [
        "# 2. Val\n",
        "Validate a model's accuracy on the [COCO](https://docs.ultralytics.com/datasets/detect/coco/) dataset's `val` or `test` splits. The latest YOLO11 [models](https://github.com/ultralytics/ultralytics#models) are downloaded automatically the first time they are used. See [YOLO11 Val Docs](https://docs.ultralytics.com/modes/val/) for more information."
      ]
    },
    {
      "cell_type": "code",
      "metadata": {
        "id": "WQPtK1QYVaD_"
      },
      "source": [
        "# Download COCO val\n",
        "import torch\n",
        "torch.hub.download_url_to_file('https://ultralytics.com/assets/coco2017val.zip', 'tmp.zip')  # download (780M - 5000 images)\n",
        "!unzip -q tmp.zip -d datasets && rm tmp.zip  # unzip"
      ],
      "execution_count": null,
      "outputs": []
    },
    {
      "cell_type": "code",
      "metadata": {
        "id": "X58w8JLpMnjH",
        "outputId": "29e72136-aeff-4cd5-ae5b-e922e7602251",
        "colab": {
          "base_uri": "https://localhost:8080/"
        }
      },
      "source": [
        "# Validate YOLO11n on COCO8 val\n",
        "!yolo val model=yolo11n.pt data=coco8.yaml"
      ],
      "execution_count": null,
      "outputs": [
        {
          "output_type": "stream",
          "name": "stdout",
          "text": [
            "Ultralytics 8.3.110 🚀 Python-3.11.12 torch-2.6.0+cu124 CUDA:0 (Tesla T4, 15095MiB)\n",
            "YOLO11n summary (fused): 100 layers, 2,616,248 parameters, 0 gradients, 6.5 GFLOPs\n",
            "\n",
            "Dataset 'coco8.yaml' images not found ⚠️, missing path '/content/datasets/coco8/images/val'\n",
            "Downloading https://ultralytics.com/assets/coco8.zip to '/content/datasets/coco8.zip'...\n",
            "100% 433k/433k [00:00<00:00, 59.1MB/s]\n",
            "Unzipping /content/datasets/coco8.zip to /content/datasets/coco8...: 100% 25/25 [00:00<00:00, 2391.88file/s]\n",
            "Dataset download success ✅ (1.7s), saved to \u001b[1m/content/datasets\u001b[0m\n",
            "\n",
            "Downloading https://ultralytics.com/assets/Arial.ttf to '/root/.config/Ultralytics/Arial.ttf'...\n",
            "100% 755k/755k [00:00<00:00, 64.3MB/s]\n",
            "\u001b[34m\u001b[1mval: \u001b[0mFast image access ✅ (ping: 0.0±0.0 ms, read: 1415.9±718.7 MB/s, size: 54.0 KB)\n",
            "\u001b[34m\u001b[1mval: \u001b[0mScanning /content/datasets/coco8/labels/val... 4 images, 0 backgrounds, 0 corrupt: 100% 4/4 [00:00<00:00, 77.31it/s]\n",
            "\u001b[34m\u001b[1mval: \u001b[0mNew cache created: /content/datasets/coco8/labels/val.cache\n",
            "                 Class     Images  Instances      Box(P          R      mAP50  mAP50-95): 100% 1/1 [00:01<00:00,  1.28s/it]\n",
            "                   all          4         17       0.57       0.85      0.847      0.632\n",
            "                person          3         10      0.557        0.6      0.585      0.272\n",
            "                   dog          1          1      0.548          1      0.995      0.697\n",
            "                 horse          1          2      0.531          1      0.995      0.674\n",
            "              elephant          1          2      0.371        0.5      0.516      0.256\n",
            "              umbrella          1          1      0.569          1      0.995      0.995\n",
            "          potted plant          1          1      0.847          1      0.995      0.895\n",
            "Speed: 0.3ms preprocess, 24.6ms inference, 0.0ms loss, 36.4ms postprocess per image\n",
            "Results saved to \u001b[1mruns/detect/val\u001b[0m\n",
            "💡 Learn more at https://docs.ultralytics.com/modes/val\n"
          ]
        }
      ]
    },
    {
      "cell_type": "markdown",
      "metadata": {
        "id": "ZY2VXXXu74w5"
      },
      "source": [
        "# 3. Train\n",
        "\n",
        "<p align=\"\"><a href=\"https://ultralytics.com/hub\"><img width=\"1000\" src=\"https://github.com/ultralytics/assets/raw/main/yolov8/banner-integrations.png\"/></a></p>\n",
        "\n",
        "Train YOLO11 on [Detect](https://docs.ultralytics.com/tasks/detect/), [Segment](https://docs.ultralytics.com/tasks/segment/), [Classify](https://docs.ultralytics.com/tasks/classify/) and [Pose](https://docs.ultralytics.com/tasks/pose/) datasets. See [YOLO11 Train Docs](https://docs.ultralytics.com/modes/train/) for more information."
      ]
    },
    {
      "cell_type": "code",
      "source": [
        "#@title Select YOLO11 🚀 logger {run: 'auto'}\n",
        "logger = 'TensorBoard' #@param ['TensorBoard', 'Weights & Biases']\n",
        "\n",
        "if logger == 'TensorBoard':\n",
        "  !yolo settings tensorboard=True\n",
        "  %load_ext tensorboard\n",
        "  %tensorboard --logdir .\n",
        "elif logger == 'Weights & Biases':\n",
        "  !yolo settings wandb=True"
      ],
      "metadata": {
        "id": "ktegpM42AooT"
      },
      "execution_count": null,
      "outputs": []
    },
    {
      "cell_type": "code",
      "source": [
        "!unzip /content/drive/MyDrive/T4DL/barangmahasiswa.zip"
      ],
      "metadata": {
        "colab": {
          "base_uri": "https://localhost:8080/"
        },
        "id": "ohCp9-w8BQ7A",
        "outputId": "ece82b49-a6c1-4283-c4d3-aee68f1d87fe"
      },
      "execution_count": null,
      "outputs": [
        {
          "output_type": "stream",
          "name": "stdout",
          "text": [
            "Archive:  /content/drive/MyDrive/T4DL/barangmahasiswa.zip\n",
            "replace test/images/IMG20250602183457_jpg.rf.e1e1baef316f461f541631a1bb9b73bd.jpg? [y]es, [n]o, [A]ll, [N]one, [r]ename: A\n",
            "  inflating: test/images/IMG20250602183457_jpg.rf.e1e1baef316f461f541631a1bb9b73bd.jpg  \n",
            "  inflating: test/images/IMG20250602184552_jpg.rf.620ccfa24c6b932638116dbaa221c43d.jpg  \n",
            "  inflating: test/images/IMG20250602184736_jpg.rf.379de64d648423656b008f0f84e0538c.jpg  \n",
            "  inflating: test/images/IMG20250602190511_jpg.rf.fd5fa2c14b1c0adfabbd4488a88e6de8.jpg  \n",
            "  inflating: test/images/IMG20250602191008_jpg.rf.dc3e8964b9a9114cf84eaadb248846a7.jpg  \n",
            "  inflating: test/images/IMG20250602191015_jpg.rf.168577eeb10542729c7b23a6e8947f1c.jpg  \n",
            "  inflating: test/images/IMG20250602191036_jpg.rf.63b941e6d8fa48cd3b06eb5871489dcd.jpg  \n",
            "  inflating: test/images/IMG20250602191129_jpg.rf.096f888cf3eaddd652fb9741ee5509be.jpg  \n",
            "  inflating: test/images/IMG20250602191329_jpg.rf.767da8d73840c9470aad0fa85b5f2006.jpg  \n",
            "  inflating: test/images/IMG20250602191447_jpg.rf.4e2bd26b6892b1fa300f17208be8c476.jpg  \n",
            "  inflating: test/images/IMG20250602191729_jpg.rf.55a91b0970033a13a882a5a39c8c3bc3.jpg  \n",
            "  inflating: test/images/IMG20250602192154_jpg.rf.44cdb62527ffc5e1ec96b3c4e1ef9580.jpg  \n",
            "  inflating: test/images/IMG20250602192329_jpg.rf.a3f23b3f5975a322b891e0a5f1bee5d6.jpg  \n",
            "  inflating: test/images/IMG20250602192544_jpg.rf.82b21674a26eb3f3570b52d19a5dec6c.jpg  \n",
            "  inflating: test/images/IMG20250602192554_jpg.rf.d206e5a4bf5b741dfe09940e3c2b4ade.jpg  \n",
            "  inflating: test/images/IMG20250602192600_jpg.rf.12732c819baf3ee67ef414b8635c2c4c.jpg  \n",
            "  inflating: test/images/IMG20250602192724_jpg.rf.41eceae8f2dccde25bcc9e9d375a2bed.jpg  \n",
            "  inflating: test/images/IMG20250602194611_jpg.rf.f35e1ba1cc89eeecda51628ad72cc269.jpg  \n",
            "  inflating: test/images/IMG20250602194900_jpg.rf.668a6f7679e9fdfd6d8fddc9b5c889d7.jpg  \n",
            "  inflating: test/images/IMG20250602201838_jpg.rf.bafb30f8a449a39cb7c54da261bfaa76.jpg  \n",
            "  inflating: test/images/IMG20250602201914_jpg.rf.6721a4e9f4e2d0bc6cea4c5831a049c8.jpg  \n",
            "  inflating: test/images/IMG20250602202637_jpg.rf.39777273b5eea8a9c2858ebd21970071.jpg  \n",
            "  inflating: test/images/IMG20250602202729_jpg.rf.7ea2e70ba7e25c4655fc5658171cd253.jpg  \n",
            "  inflating: test/images/IMG20250602203109_jpg.rf.edae7bf1584c606323d6a5966cefe7ae.jpg  \n",
            "  inflating: test/images/IMG20250602203126_jpg.rf.81919d4e0f2f93c2b43b314d774bffbd.jpg  \n",
            "  inflating: test/images/IMG20250602203235_jpg.rf.a9c0b77e7708a9324c9d9f006237d5ed.jpg  \n",
            "  inflating: test/images/IMG20250602203435_jpg.rf.20145dde6e5a3b5f9ea77cfbdc323f81.jpg  \n",
            "  inflating: test/images/IMG20250602203847_jpg.rf.80accd9b0b1f04b62aecfe410f81a0c0.jpg  \n",
            "  inflating: test/images/IMG20250602204509_jpg.rf.a7a14c26e76ab656c260171e34c43ef6.jpg  \n",
            "  inflating: test/images/IMG20250602204730_jpg.rf.e5b60abff160473110a486e9e7eebb52.jpg  \n",
            "  inflating: test/images/IMG20250602204943_jpg.rf.ca9b42b3c2d504611fc9e162bcbd897d.jpg  \n",
            "  inflating: test/images/IMG20250602205346_jpg.rf.48bf2fb9a8402c3926f9ebf7a1195ab0.jpg  \n",
            "  inflating: test/images/IMG20250602205400_jpg.rf.3be19c5d8b072c461624768a0bfdcfe9.jpg  \n",
            "  inflating: test/images/IMG20250602205525_jpg.rf.11b246060ff5a33f936e1f1be0106287.jpg  \n",
            "  inflating: test/images/IMG20250602205530_jpg.rf.8f6019362e4d45b01c3ed7ef27aef61d.jpg  \n",
            "  inflating: test/images/IMG20250602205551_jpg.rf.e0e19309c70a32017efc70aa1ec2ef55.jpg  \n",
            "  inflating: test/images/IMG20250602205620_jpg.rf.2e6fd5bc3e4607017eb0d6f85dcbdfc4.jpg  \n",
            "  inflating: test/images/IMG20250602205727_jpg.rf.ec8c3b9a30b8e8101549d73bd1434dbd.jpg  \n",
            "  inflating: test/images/IMG20250602211427_jpg.rf.ca44e415ef6c74353c652e6d7ba6d67c.jpg  \n",
            "  inflating: test/images/IMG20250602211719_jpg.rf.9a57db0a9c0c7f65136f75f9f9841560.jpg  \n",
            "  inflating: test/images/IMG20250602212411_jpg.rf.2684b2661cc08bf2a0ed91fd6bb3a48d.jpg  \n",
            "  inflating: test/images/IMG20250602212533_jpg.rf.d8224918f430f813bc1f7d01aa6e382f.jpg  \n",
            "  inflating: test/images/IMG20250602212707_jpg.rf.7405cfd8421ebc28e1c5e7a7471c9d3d.jpg  \n",
            "  inflating: test/images/IMG20250602212711_jpg.rf.187860b89940618871cad3c2c7d75645.jpg  \n",
            "  inflating: test/images/IMG20250602213004_jpg.rf.2a7b3ac01e505c93df0e72ea2151e806.jpg  \n",
            "  inflating: test/images/IMG20250602213024_jpg.rf.3460e26bd993fae4768ab1ac240453ff.jpg  \n",
            "  inflating: test/images/IMG20250602213349_jpg.rf.33fe3c590413bfc4a33833605ca4a60b.jpg  \n",
            "  inflating: test/images/IMG20250602213723_jpg.rf.41478d20a34acbfda971b3ce6d5b79a9.jpg  \n",
            "  inflating: test/images/IMG20250602214102_jpg.rf.068d5af089e97f14af275966c79f8089.jpg  \n",
            "  inflating: test/images/IMG20250602214503_jpg.rf.761d842388ed771922071a7b58fcd7fb.jpg  \n",
            "  inflating: test/images/IMG20250602224023_jpg.rf.3511d8e39764de4cd5f4e94493470c87.jpg  \n",
            "  inflating: test/images/IMG20250602224047_jpg.rf.c9b18728f8e44fb06446c607d580baa6.jpg  \n",
            "  inflating: test/images/IMG20250602224830_jpg.rf.19ff355075722b6b8ff045ae5b21ee7e.jpg  \n",
            "  inflating: test/images/IMG20250602230046_jpg.rf.05ce020281c2c54e4b8a52af5349c450.jpg  \n",
            "  inflating: test/images/IMG20250602230310_jpg.rf.2a68023e2697b99e3e134e4bfc399bfd.jpg  \n",
            "  inflating: test/images/IMG20250602230716_jpg.rf.2590113b528e64bed7655c5b910879ac.jpg  \n",
            "  inflating: test/images/IMG20250602231017_jpg.rf.bb6752f2aaa0c9c8132e11c13e42608d.jpg  \n",
            "  inflating: test/images/IMG20250602231524_jpg.rf.c208698d649d84be87caf207e0e5ee95.jpg  \n",
            "  inflating: test/images/IMG20250602231922_jpg.rf.ddada3275414c7c6d88093ef5cb7b2b0.jpg  \n",
            "  inflating: test/images/IMG20250602232109_jpg.rf.cc4888b516022712339d39ed5a09e3e5.jpg  \n",
            "  inflating: test/labels/IMG20250602183457_jpg.rf.e1e1baef316f461f541631a1bb9b73bd.txt  \n",
            "  inflating: test/labels/IMG20250602184552_jpg.rf.620ccfa24c6b932638116dbaa221c43d.txt  \n",
            "  inflating: test/labels/IMG20250602184736_jpg.rf.379de64d648423656b008f0f84e0538c.txt  \n",
            "  inflating: test/labels/IMG20250602190511_jpg.rf.fd5fa2c14b1c0adfabbd4488a88e6de8.txt  \n",
            "  inflating: test/labels/IMG20250602191008_jpg.rf.dc3e8964b9a9114cf84eaadb248846a7.txt  \n",
            "  inflating: test/labels/IMG20250602191015_jpg.rf.168577eeb10542729c7b23a6e8947f1c.txt  \n",
            "  inflating: test/labels/IMG20250602191036_jpg.rf.63b941e6d8fa48cd3b06eb5871489dcd.txt  \n",
            "  inflating: test/labels/IMG20250602191129_jpg.rf.096f888cf3eaddd652fb9741ee5509be.txt  \n",
            "  inflating: test/labels/IMG20250602191329_jpg.rf.767da8d73840c9470aad0fa85b5f2006.txt  \n",
            "  inflating: test/labels/IMG20250602191447_jpg.rf.4e2bd26b6892b1fa300f17208be8c476.txt  \n",
            "  inflating: test/labels/IMG20250602191729_jpg.rf.55a91b0970033a13a882a5a39c8c3bc3.txt  \n",
            "  inflating: test/labels/IMG20250602192154_jpg.rf.44cdb62527ffc5e1ec96b3c4e1ef9580.txt  \n",
            "  inflating: test/labels/IMG20250602192329_jpg.rf.a3f23b3f5975a322b891e0a5f1bee5d6.txt  \n",
            "  inflating: test/labels/IMG20250602192544_jpg.rf.82b21674a26eb3f3570b52d19a5dec6c.txt  \n",
            "  inflating: test/labels/IMG20250602192554_jpg.rf.d206e5a4bf5b741dfe09940e3c2b4ade.txt  \n",
            "  inflating: test/labels/IMG20250602192600_jpg.rf.12732c819baf3ee67ef414b8635c2c4c.txt  \n",
            "  inflating: test/labels/IMG20250602192724_jpg.rf.41eceae8f2dccde25bcc9e9d375a2bed.txt  \n",
            "  inflating: test/labels/IMG20250602194611_jpg.rf.f35e1ba1cc89eeecda51628ad72cc269.txt  \n",
            "  inflating: test/labels/IMG20250602194900_jpg.rf.668a6f7679e9fdfd6d8fddc9b5c889d7.txt  \n",
            "  inflating: test/labels/IMG20250602201838_jpg.rf.bafb30f8a449a39cb7c54da261bfaa76.txt  \n",
            "  inflating: test/labels/IMG20250602201914_jpg.rf.6721a4e9f4e2d0bc6cea4c5831a049c8.txt  \n",
            "  inflating: test/labels/IMG20250602202637_jpg.rf.39777273b5eea8a9c2858ebd21970071.txt  \n",
            "  inflating: test/labels/IMG20250602202729_jpg.rf.7ea2e70ba7e25c4655fc5658171cd253.txt  \n",
            "  inflating: test/labels/IMG20250602203109_jpg.rf.edae7bf1584c606323d6a5966cefe7ae.txt  \n",
            "  inflating: test/labels/IMG20250602203126_jpg.rf.81919d4e0f2f93c2b43b314d774bffbd.txt  \n",
            "  inflating: test/labels/IMG20250602203235_jpg.rf.a9c0b77e7708a9324c9d9f006237d5ed.txt  \n",
            "  inflating: test/labels/IMG20250602203435_jpg.rf.20145dde6e5a3b5f9ea77cfbdc323f81.txt  \n",
            "  inflating: test/labels/IMG20250602203847_jpg.rf.80accd9b0b1f04b62aecfe410f81a0c0.txt  \n",
            "  inflating: test/labels/IMG20250602204509_jpg.rf.a7a14c26e76ab656c260171e34c43ef6.txt  \n",
            "  inflating: test/labels/IMG20250602204730_jpg.rf.e5b60abff160473110a486e9e7eebb52.txt  \n",
            "  inflating: test/labels/IMG20250602204943_jpg.rf.ca9b42b3c2d504611fc9e162bcbd897d.txt  \n",
            "  inflating: test/labels/IMG20250602205346_jpg.rf.48bf2fb9a8402c3926f9ebf7a1195ab0.txt  \n",
            "  inflating: test/labels/IMG20250602205400_jpg.rf.3be19c5d8b072c461624768a0bfdcfe9.txt  \n",
            "  inflating: test/labels/IMG20250602205525_jpg.rf.11b246060ff5a33f936e1f1be0106287.txt  \n",
            "  inflating: test/labels/IMG20250602205530_jpg.rf.8f6019362e4d45b01c3ed7ef27aef61d.txt  \n",
            "  inflating: test/labels/IMG20250602205551_jpg.rf.e0e19309c70a32017efc70aa1ec2ef55.txt  \n",
            "  inflating: test/labels/IMG20250602205620_jpg.rf.2e6fd5bc3e4607017eb0d6f85dcbdfc4.txt  \n",
            "  inflating: test/labels/IMG20250602205727_jpg.rf.ec8c3b9a30b8e8101549d73bd1434dbd.txt  \n",
            "  inflating: test/labels/IMG20250602211427_jpg.rf.ca44e415ef6c74353c652e6d7ba6d67c.txt  \n",
            "  inflating: test/labels/IMG20250602211719_jpg.rf.9a57db0a9c0c7f65136f75f9f9841560.txt  \n",
            "  inflating: test/labels/IMG20250602212411_jpg.rf.2684b2661cc08bf2a0ed91fd6bb3a48d.txt  \n",
            "  inflating: test/labels/IMG20250602212533_jpg.rf.d8224918f430f813bc1f7d01aa6e382f.txt  \n",
            "  inflating: test/labels/IMG20250602212707_jpg.rf.7405cfd8421ebc28e1c5e7a7471c9d3d.txt  \n",
            "  inflating: test/labels/IMG20250602212711_jpg.rf.187860b89940618871cad3c2c7d75645.txt  \n",
            "  inflating: test/labels/IMG20250602213004_jpg.rf.2a7b3ac01e505c93df0e72ea2151e806.txt  \n",
            "  inflating: test/labels/IMG20250602213024_jpg.rf.3460e26bd993fae4768ab1ac240453ff.txt  \n",
            "  inflating: test/labels/IMG20250602213349_jpg.rf.33fe3c590413bfc4a33833605ca4a60b.txt  \n",
            "  inflating: test/labels/IMG20250602213723_jpg.rf.41478d20a34acbfda971b3ce6d5b79a9.txt  \n",
            "  inflating: test/labels/IMG20250602214102_jpg.rf.068d5af089e97f14af275966c79f8089.txt  \n",
            "  inflating: test/labels/IMG20250602214503_jpg.rf.761d842388ed771922071a7b58fcd7fb.txt  \n",
            "  inflating: test/labels/IMG20250602224023_jpg.rf.3511d8e39764de4cd5f4e94493470c87.txt  \n",
            "  inflating: test/labels/IMG20250602224047_jpg.rf.c9b18728f8e44fb06446c607d580baa6.txt  \n",
            "  inflating: test/labels/IMG20250602224830_jpg.rf.19ff355075722b6b8ff045ae5b21ee7e.txt  \n",
            "  inflating: test/labels/IMG20250602230046_jpg.rf.05ce020281c2c54e4b8a52af5349c450.txt  \n",
            "  inflating: test/labels/IMG20250602230310_jpg.rf.2a68023e2697b99e3e134e4bfc399bfd.txt  \n",
            "  inflating: test/labels/IMG20250602230716_jpg.rf.2590113b528e64bed7655c5b910879ac.txt  \n",
            "  inflating: test/labels/IMG20250602231017_jpg.rf.bb6752f2aaa0c9c8132e11c13e42608d.txt  \n",
            "  inflating: test/labels/IMG20250602231524_jpg.rf.c208698d649d84be87caf207e0e5ee95.txt  \n",
            "  inflating: test/labels/IMG20250602231922_jpg.rf.ddada3275414c7c6d88093ef5cb7b2b0.txt  \n",
            "  inflating: test/labels/IMG20250602232109_jpg.rf.cc4888b516022712339d39ed5a09e3e5.txt  \n",
            "  inflating: valid/images/IMG20250602184417_jpg.rf.fe8574921b4b101c71698fee40233a8e.jpg  \n",
            "  inflating: valid/images/IMG20250602184513_jpg.rf.e68e2af232e9e737721cb28563043652.jpg  \n",
            "  inflating: valid/images/IMG20250602184740_jpg.rf.98b2e2cd51c67e1394c39065d99270eb.jpg  \n",
            "  inflating: valid/images/IMG20250602190035_jpg.rf.805528cc484792ba51fe422d0d0dafcf.jpg  \n",
            "  inflating: valid/images/IMG20250602190141_jpg.rf.9757178a55bfe9c3d2e1abf82b46241c.jpg  \n",
            "  inflating: valid/images/IMG20250602190159_jpg.rf.17ceda015cb1c6dcb77164fa6a3a571e.jpg  \n",
            "  inflating: valid/images/IMG20250602190337_jpg.rf.27c9d41c37e13a43cb71a26594463b5b.jpg  \n",
            "  inflating: valid/images/IMG20250602190430_jpg.rf.e37da2e0ee61529ee5f0e6f59b908a82.jpg  \n",
            "  inflating: valid/images/IMG20250602190443_jpg.rf.d37347fff70b338b4d8d20c03cdb55e3.jpg  \n",
            "  inflating: valid/images/IMG20250602190522_jpg.rf.3772c1048163fd85fbd5e4554c0704cd.jpg  \n",
            "  inflating: valid/images/IMG20250602190531_jpg.rf.51c7c2d2c1426f68bb2dac4b95277f1b.jpg  \n",
            "  inflating: valid/images/IMG20250602190814_jpg.rf.8825ce3a29d8ab1e9e293b3595ff93a3.jpg  \n",
            "  inflating: valid/images/IMG20250602190818_jpg.rf.cb919be9bf6d8ab17e7bc6137ff8d247.jpg  \n",
            "  inflating: valid/images/IMG20250602190931_jpg.rf.436195c3365a8135b921e03de1b3369b.jpg  \n",
            "  inflating: valid/images/IMG20250602191032_jpg.rf.df22625ae70acc7df9142bc765a43f22.jpg  \n",
            "  inflating: valid/images/IMG20250602191207_jpg.rf.31524cc99b84bfc66370a7d42c1c78f4.jpg  \n",
            "  inflating: valid/images/IMG20250602191320_jpg.rf.cbe7d47a294d9d903abc784f8309df2b.jpg  \n",
            "  inflating: valid/images/IMG20250602191551_jpg.rf.3e529f061eda379177b54849e97393c2.jpg  \n",
            "  inflating: valid/images/IMG20250602191640_jpg.rf.7780074c5abe66e95fcb354acd1368a3.jpg  \n",
            "  inflating: valid/images/IMG20250602191654_jpg.rf.09338baa4cd1f316ac8fb06fd9f6c677.jpg  \n",
            "  inflating: valid/images/IMG20250602191736_jpg.rf.f0330b91abf6b04e8d01e00977bbd568.jpg  \n",
            "  inflating: valid/images/IMG20250602191755_jpg.rf.85203a73c70e9f074a58d8357bbbaad5.jpg  \n",
            "  inflating: valid/images/IMG20250602191948_jpg.rf.205d56b6523c0324db123077fa904eff.jpg  \n",
            "  inflating: valid/images/IMG20250602192103_jpg.rf.dee0b54b20e41d346d1a647e6fe3c3ac.jpg  \n",
            "  inflating: valid/images/IMG20250602192207_jpg.rf.5525b8d90f140e81b50d2e864c21a19d.jpg  \n",
            "  inflating: valid/images/IMG20250602192322_jpg.rf.be030325071350c43326bbd8e015aa3a.jpg  \n",
            "  inflating: valid/images/IMG20250602192339_jpg.rf.945a0437837fb2a064196fdfc3fee9ec.jpg  \n",
            "  inflating: valid/images/IMG20250602192348_jpg.rf.429cc31381b11329c34ed67ea751b60f.jpg  \n",
            "  inflating: valid/images/IMG20250602192428_jpg.rf.9d4e7df4aa864d6492a24e4d37d76ce1.jpg  \n",
            "  inflating: valid/images/IMG20250602192715_jpg.rf.9e80c2ed876b42a8b18fa1d7aeeb58bc.jpg  \n",
            "  inflating: valid/images/IMG20250602194110_jpg.rf.f65c6637fca34d4fa67a601502ac2cb4.jpg  \n",
            "  inflating: valid/images/IMG20250602194352_jpg.rf.444b1a101685a06591d32c56de1d4f48.jpg  \n",
            "  inflating: valid/images/IMG20250602194447_jpg.rf.98ca1e349f3372f88a627a889a0e8e68.jpg  \n",
            "  inflating: valid/images/IMG20250602194656_jpg.rf.3876782c4f0f59aee5abee5a62c5698a.jpg  \n",
            "  inflating: valid/images/IMG20250602195711_jpg.rf.738277f5f49c2fd614eda61daca3028f.jpg  \n",
            "  inflating: valid/images/IMG20250602200500_jpg.rf.aa2a3f71cfb28bc950ba22f50d4a66a1.jpg  \n",
            "  inflating: valid/images/IMG20250602200514_jpg.rf.1b7ba149a7a67633f4cd8da0ba963111.jpg  \n",
            "  inflating: valid/images/IMG20250602200530_jpg.rf.e8d6ca82affb7431c8094cf9e2c0b008.jpg  \n",
            "  inflating: valid/images/IMG20250602201831_jpg.rf.d7f3f7dfd3d6e7a8778a78cb9b3a1357.jpg  \n",
            "  inflating: valid/images/IMG20250602202629_jpg.rf.cfc8722524f9388f7c0ea7c41161610b.jpg  \n",
            "  inflating: valid/images/IMG20250602202633_jpg.rf.a893a775974385b5b25e47c44c720560.jpg  \n",
            "  inflating: valid/images/IMG20250602202649_jpg.rf.9ee96925aa44da00c727350062dc8816.jpg  \n",
            "  inflating: valid/images/IMG20250602202759_jpg.rf.642b333c58c4f6303628d17302ee04f8.jpg  \n",
            "  inflating: valid/images/IMG20250602202905_jpg.rf.764b7bade3b08c6ffd3f2c8707348c1e.jpg  \n",
            "  inflating: valid/images/IMG20250602202911_jpg.rf.3652e2b10e4252a1c5bc144337b7b34b.jpg  \n",
            "  inflating: valid/images/IMG20250602202924_jpg.rf.9e211b77d1459f3b835702397e2f036f.jpg  \n",
            "  inflating: valid/images/IMG20250602203247_jpg.rf.2d398c5a36fad028998d9a9bf7621a84.jpg  \n",
            "  inflating: valid/images/IMG20250602203308_jpg.rf.726adc4e57ba14982663c9c0e13ea021.jpg  \n",
            "  inflating: valid/images/IMG20250602203442_jpg.rf.1825d57c08d9edf32819fd3dacd09aa2.jpg  \n",
            "  inflating: valid/images/IMG20250602203807_jpg.rf.e381f025124e94ae677d4c012e092e75.jpg  \n",
            "  inflating: valid/images/IMG20250602203817_jpg.rf.71f0588e5fcc8792ecb94f9596b1860a.jpg  \n",
            "  inflating: valid/images/IMG20250602203859_jpg.rf.fed128d018b8ac50b070341ff12794c6.jpg  \n",
            "  inflating: valid/images/IMG20250602203926_jpg.rf.524d576e3222888a5c7c173c5f502f6a.jpg  \n",
            "  inflating: valid/images/IMG20250602204029_jpg.rf.398ae4c158abfa206625f721bcacf901.jpg  \n",
            "  inflating: valid/images/IMG20250602204115_jpg.rf.1fa06e5154caf894176de7f401419791.jpg  \n",
            "  inflating: valid/images/IMG20250602204240_jpg.rf.50585b94510fff445d2117fa3f3f13f6.jpg  \n",
            "  inflating: valid/images/IMG20250602204256_jpg.rf.3303dfdf65ece7083bcd1e3ff30e08c4.jpg  \n",
            "  inflating: valid/images/IMG20250602204440_jpg.rf.15354057d646e3dbe773803a9c672d28.jpg  \n",
            "  inflating: valid/images/IMG20250602204741_jpg.rf.c37f695ef95c16f0e16b7b5181a4b010.jpg  \n",
            "  inflating: valid/images/IMG20250602204914_jpg.rf.85b8f9ba4bf4955a996be023c6b49346.jpg  \n",
            "  inflating: valid/images/IMG20250602205050_jpg.rf.381cdcfc9ca6adc9c5b234ac74fd4f47.jpg  \n",
            "  inflating: valid/images/IMG20250602205352_jpg.rf.daaa907b7ca384add7c444ccfa9356ab.jpg  \n",
            "  inflating: valid/images/IMG20250602205558_jpg.rf.38660926899282f93891342e31bb2557.jpg  \n",
            "  inflating: valid/images/IMG20250602205720_jpg.rf.9157e57a87e943b3b33d36525349accd.jpg  \n",
            "  inflating: valid/images/IMG20250602205733_jpg.rf.67d05a4be297e7c8dd2437d39036d0ce.jpg  \n",
            "  inflating: valid/images/IMG20250602210653_jpg.rf.1aab55da4600cbd9e183219c20be01c0.jpg  \n",
            "  inflating: valid/images/IMG20250602210751_jpg.rf.119fbac1516e5552d3815b99a440b6fd.jpg  \n",
            "  inflating: valid/images/IMG20250602211234_jpg.rf.84e2c2ca82795fcfb958662c277e9c41.jpg  \n",
            "  inflating: valid/images/IMG20250602211727_jpg.rf.ec598bef4025e2c06db8dd5339a2e3fa.jpg  \n",
            "  inflating: valid/images/IMG20250602212248_jpg.rf.5d29bc44d19b0105595ba72d7a2116c5.jpg  \n",
            "  inflating: valid/images/IMG20250602212328_jpg.rf.2c5e7438d4508ff1c5e56da890323843.jpg  \n",
            "  inflating: valid/images/IMG20250602212357_jpg.rf.6615a4af5677caed9f42166ccdf68f0f.jpg  \n",
            "  inflating: valid/images/IMG20250602212521_jpg.rf.3fcd7d4b9cc11fa534c404148fa5f6c1.jpg  \n",
            "  inflating: valid/images/IMG20250602212654_jpg.rf.c1efde13495d54dfccc676ce5a0bd8e2.jpg  \n",
            "  inflating: valid/images/IMG20250602212700_jpg.rf.45bd08fbf3f290da8fd8c50046e86ff8.jpg  \n",
            "  inflating: valid/images/IMG20250602212739_jpg.rf.d7fef7c6b0b88ba828fa71e97dbea797.jpg  \n",
            "  inflating: valid/images/IMG20250602212757_jpg.rf.08a21ff7b55d8bae2b989a4fa4ecf240.jpg  \n",
            "  inflating: valid/images/IMG20250602212820_jpg.rf.adaa180e7368cdcce2030452a0e4e051.jpg  \n",
            "  inflating: valid/images/IMG20250602212842_jpg.rf.cf7af6d8b1a25cd0383ebdbc7894b394.jpg  \n",
            "  inflating: valid/images/IMG20250602212957_jpg.rf.65347ed5afcaf5ee252739cc6d957212.jpg  \n",
            "  inflating: valid/images/IMG20250602213104_jpg.rf.87d6ad463ea388ffd720f34007051bc9.jpg  \n",
            "  inflating: valid/images/IMG20250602213241_jpg.rf.ee98b7bb8317f1825bdd38f26829b707.jpg  \n",
            "  inflating: valid/images/IMG20250602213546_jpg.rf.302c435c42e85efd461ec341c794eea7.jpg  \n",
            "  inflating: valid/images/IMG20250602213706_jpg.rf.be65f36de9d17b5b0083d163c659e2e5.jpg  \n",
            "  inflating: valid/images/IMG20250602213738_jpg.rf.c4d2e75d526d0432b61f2854b7719c83.jpg  \n",
            "  inflating: valid/images/IMG20250602213747_jpg.rf.38b8036961748637f243ff3fcebe675a.jpg  \n",
            "  inflating: valid/images/IMG20250602213820_jpg.rf.c8567af9aa28b8eb07494952bce3de2b.jpg  \n",
            "  inflating: valid/images/IMG20250602213839_jpg.rf.d8aacd4734c0d82b783bfe83fc3b19a6.jpg  \n",
            "  inflating: valid/images/IMG20250602214100_jpg.rf.cae25d89e6622527e2567d5d96bf42de.jpg  \n",
            "  inflating: valid/images/IMG20250602214105_jpg.rf.6240497933b232d856bd9774fcf21463.jpg  \n",
            "  inflating: valid/images/IMG20250602214333_jpg.rf.632b99c0b475ddd4f0ff12793e91f49d.jpg  \n",
            "  inflating: valid/images/IMG20250602214544_jpg.rf.ca66adffbf5e66b32ee3154c5d57f2b3.jpg  \n",
            "  inflating: valid/images/IMG20250602214718_jpg.rf.c0a0f928d0e077dae76aacf1374d4865.jpg  \n",
            "  inflating: valid/images/IMG20250602223714_jpg.rf.e59815339d3f0ce11195737faa8bb0b2.jpg  \n",
            "  inflating: valid/images/IMG20250602224455_jpg.rf.73ae27047152a0a785cee0b416b16ce8.jpg  \n",
            "  inflating: valid/images/IMG20250602224526_jpg.rf.da712e52166e8053f850cd3c42a68934.jpg  \n",
            "  inflating: valid/images/IMG20250602225054_jpg.rf.017d4feb2d044e404d308b7be7d8f329.jpg  \n",
            "  inflating: valid/images/IMG20250602225304_jpg.rf.c789f366b5700d491af1b94d3e5a87d0.jpg  \n",
            "  inflating: valid/images/IMG20250602230140_jpg.rf.680e5a4dbbc453b3c85cadaca5c494b3.jpg  \n",
            "  inflating: valid/images/IMG20250602230727_jpg.rf.c3844a231dd5f4d54fb7ee3b50248a5c.jpg  \n",
            "  inflating: valid/images/IMG20250602230804_jpg.rf.774a6fb9e2017b0aa85bc1b86d874955.jpg  \n",
            "  inflating: valid/images/IMG20250602230931_jpg.rf.7565a3c6956665e4b165e65137bba9c2.jpg  \n",
            "  inflating: valid/images/IMG20250602230940_jpg.rf.d577c6a7db37218402712fd9ca89b722.jpg  \n",
            "  inflating: valid/images/IMG20250602231028_jpg.rf.832ae9641c1b2256d4e15331d79ea3f8.jpg  \n",
            "  inflating: valid/images/IMG20250602231224_jpg.rf.3c6eed48fc14550fe4de2140b9ddfce9.jpg  \n",
            "  inflating: valid/images/IMG20250602231310_jpg.rf.6140b55ba29c64bc102958b9c8ab26a8.jpg  \n",
            "  inflating: valid/images/IMG20250602231542_jpg.rf.7eac993b0b50d7efa78b2c1b2ae8692e.jpg  \n",
            "  inflating: valid/images/IMG20250602231551_jpg.rf.e768e350053a862ad901a7c459888255.jpg  \n",
            "  inflating: valid/images/IMG20250602231720_jpg.rf.5ede3226df7faa634fafbfd61b81d8e5.jpg  \n",
            "  inflating: valid/images/IMG20250602231910_jpg.rf.4916500678a26d06ae27af7451a92162.jpg  \n",
            "  inflating: valid/images/IMG20250602231915_jpg.rf.e6a83f2bec5165fef33e234ee3afa267.jpg  \n",
            "  inflating: valid/images/IMG20250602232015_jpg.rf.d2687406b5f40c21d38868a3b2e02161.jpg  \n",
            "  inflating: valid/images/IMG20250602232050_jpg.rf.16b6072aa96faf97500df7b5b18b9b98.jpg  \n",
            "  inflating: valid/images/IMG20250602232358_jpg.rf.60b3b9b45914b9b41c8d7960e676ee99.jpg  \n",
            "  inflating: valid/images/IMG20250602232552_jpg.rf.465dfdd3654eec47e858ac32f1189fea.jpg  \n",
            "  inflating: valid/images/IMG20250602232808_jpg.rf.50f1c27ea44eabe9a67321ed664d40ce.jpg  \n",
            "  inflating: valid/images/IMG20250602232838_jpg.rf.82c8b6a5730275c218167e812facb3cb.jpg  \n",
            "  inflating: valid/images/IMG20250602233450_jpg.rf.923f93170fea3322d24c48cc7a6be4cf.jpg  \n",
            "  inflating: valid/images/IMG20250602233612_jpg.rf.24cc8a23a6f6cd1312eb5e2ec1dff218.jpg  \n",
            "  inflating: valid/images/IMG20250602233644_jpg.rf.6bbfc3ffff20543808a7aba785f6a75a.jpg  \n",
            "  inflating: valid/labels/IMG20250602184417_jpg.rf.fe8574921b4b101c71698fee40233a8e.txt  \n",
            "  inflating: valid/labels/IMG20250602184513_jpg.rf.e68e2af232e9e737721cb28563043652.txt  \n",
            "  inflating: valid/labels/IMG20250602184740_jpg.rf.98b2e2cd51c67e1394c39065d99270eb.txt  \n",
            "  inflating: valid/labels/IMG20250602190035_jpg.rf.805528cc484792ba51fe422d0d0dafcf.txt  \n",
            "  inflating: valid/labels/IMG20250602190141_jpg.rf.9757178a55bfe9c3d2e1abf82b46241c.txt  \n",
            "  inflating: valid/labels/IMG20250602190159_jpg.rf.17ceda015cb1c6dcb77164fa6a3a571e.txt  \n",
            "  inflating: valid/labels/IMG20250602190337_jpg.rf.27c9d41c37e13a43cb71a26594463b5b.txt  \n",
            "  inflating: valid/labels/IMG20250602190430_jpg.rf.e37da2e0ee61529ee5f0e6f59b908a82.txt  \n",
            "  inflating: valid/labels/IMG20250602190443_jpg.rf.d37347fff70b338b4d8d20c03cdb55e3.txt  \n",
            "  inflating: valid/labels/IMG20250602190522_jpg.rf.3772c1048163fd85fbd5e4554c0704cd.txt  \n",
            "  inflating: valid/labels/IMG20250602190531_jpg.rf.51c7c2d2c1426f68bb2dac4b95277f1b.txt  \n",
            "  inflating: valid/labels/IMG20250602190814_jpg.rf.8825ce3a29d8ab1e9e293b3595ff93a3.txt  \n",
            "  inflating: valid/labels/IMG20250602190818_jpg.rf.cb919be9bf6d8ab17e7bc6137ff8d247.txt  \n",
            "  inflating: valid/labels/IMG20250602190931_jpg.rf.436195c3365a8135b921e03de1b3369b.txt  \n",
            "  inflating: valid/labels/IMG20250602191032_jpg.rf.df22625ae70acc7df9142bc765a43f22.txt  \n",
            "  inflating: valid/labels/IMG20250602191207_jpg.rf.31524cc99b84bfc66370a7d42c1c78f4.txt  \n",
            "  inflating: valid/labels/IMG20250602191320_jpg.rf.cbe7d47a294d9d903abc784f8309df2b.txt  \n",
            "  inflating: valid/labels/IMG20250602191551_jpg.rf.3e529f061eda379177b54849e97393c2.txt  \n",
            "  inflating: valid/labels/IMG20250602191640_jpg.rf.7780074c5abe66e95fcb354acd1368a3.txt  \n",
            "  inflating: valid/labels/IMG20250602191654_jpg.rf.09338baa4cd1f316ac8fb06fd9f6c677.txt  \n",
            "  inflating: valid/labels/IMG20250602191736_jpg.rf.f0330b91abf6b04e8d01e00977bbd568.txt  \n",
            "  inflating: valid/labels/IMG20250602191755_jpg.rf.85203a73c70e9f074a58d8357bbbaad5.txt  \n",
            "  inflating: valid/labels/IMG20250602191948_jpg.rf.205d56b6523c0324db123077fa904eff.txt  \n",
            "  inflating: valid/labels/IMG20250602192103_jpg.rf.dee0b54b20e41d346d1a647e6fe3c3ac.txt  \n",
            "  inflating: valid/labels/IMG20250602192207_jpg.rf.5525b8d90f140e81b50d2e864c21a19d.txt  \n",
            "  inflating: valid/labels/IMG20250602192322_jpg.rf.be030325071350c43326bbd8e015aa3a.txt  \n",
            "  inflating: valid/labels/IMG20250602192339_jpg.rf.945a0437837fb2a064196fdfc3fee9ec.txt  \n",
            "  inflating: valid/labels/IMG20250602192348_jpg.rf.429cc31381b11329c34ed67ea751b60f.txt  \n",
            "  inflating: valid/labels/IMG20250602192428_jpg.rf.9d4e7df4aa864d6492a24e4d37d76ce1.txt  \n",
            "  inflating: valid/labels/IMG20250602192715_jpg.rf.9e80c2ed876b42a8b18fa1d7aeeb58bc.txt  \n",
            "  inflating: valid/labels/IMG20250602194110_jpg.rf.f65c6637fca34d4fa67a601502ac2cb4.txt  \n",
            "  inflating: valid/labels/IMG20250602194352_jpg.rf.444b1a101685a06591d32c56de1d4f48.txt  \n",
            "  inflating: valid/labels/IMG20250602194447_jpg.rf.98ca1e349f3372f88a627a889a0e8e68.txt  \n",
            "  inflating: valid/labels/IMG20250602194656_jpg.rf.3876782c4f0f59aee5abee5a62c5698a.txt  \n",
            "  inflating: valid/labels/IMG20250602195711_jpg.rf.738277f5f49c2fd614eda61daca3028f.txt  \n",
            "  inflating: valid/labels/IMG20250602200500_jpg.rf.aa2a3f71cfb28bc950ba22f50d4a66a1.txt  \n",
            "  inflating: valid/labels/IMG20250602200514_jpg.rf.1b7ba149a7a67633f4cd8da0ba963111.txt  \n",
            "  inflating: valid/labels/IMG20250602200530_jpg.rf.e8d6ca82affb7431c8094cf9e2c0b008.txt  \n",
            "  inflating: valid/labels/IMG20250602201831_jpg.rf.d7f3f7dfd3d6e7a8778a78cb9b3a1357.txt  \n",
            "  inflating: valid/labels/IMG20250602202629_jpg.rf.cfc8722524f9388f7c0ea7c41161610b.txt  \n",
            "  inflating: valid/labels/IMG20250602202633_jpg.rf.a893a775974385b5b25e47c44c720560.txt  \n",
            "  inflating: valid/labels/IMG20250602202649_jpg.rf.9ee96925aa44da00c727350062dc8816.txt  \n",
            "  inflating: valid/labels/IMG20250602202759_jpg.rf.642b333c58c4f6303628d17302ee04f8.txt  \n",
            "  inflating: valid/labels/IMG20250602202905_jpg.rf.764b7bade3b08c6ffd3f2c8707348c1e.txt  \n",
            "  inflating: valid/labels/IMG20250602202911_jpg.rf.3652e2b10e4252a1c5bc144337b7b34b.txt  \n",
            "  inflating: valid/labels/IMG20250602202924_jpg.rf.9e211b77d1459f3b835702397e2f036f.txt  \n",
            "  inflating: valid/labels/IMG20250602203247_jpg.rf.2d398c5a36fad028998d9a9bf7621a84.txt  \n",
            "  inflating: valid/labels/IMG20250602203308_jpg.rf.726adc4e57ba14982663c9c0e13ea021.txt  \n",
            "  inflating: valid/labels/IMG20250602203442_jpg.rf.1825d57c08d9edf32819fd3dacd09aa2.txt  \n",
            "  inflating: valid/labels/IMG20250602203807_jpg.rf.e381f025124e94ae677d4c012e092e75.txt  \n",
            "  inflating: valid/labels/IMG20250602203817_jpg.rf.71f0588e5fcc8792ecb94f9596b1860a.txt  \n",
            "  inflating: valid/labels/IMG20250602203859_jpg.rf.fed128d018b8ac50b070341ff12794c6.txt  \n",
            "  inflating: valid/labels/IMG20250602203926_jpg.rf.524d576e3222888a5c7c173c5f502f6a.txt  \n",
            "  inflating: valid/labels/IMG20250602204029_jpg.rf.398ae4c158abfa206625f721bcacf901.txt  \n",
            "  inflating: valid/labels/IMG20250602204115_jpg.rf.1fa06e5154caf894176de7f401419791.txt  \n",
            "  inflating: valid/labels/IMG20250602204240_jpg.rf.50585b94510fff445d2117fa3f3f13f6.txt  \n",
            "  inflating: valid/labels/IMG20250602204256_jpg.rf.3303dfdf65ece7083bcd1e3ff30e08c4.txt  \n",
            "  inflating: valid/labels/IMG20250602204440_jpg.rf.15354057d646e3dbe773803a9c672d28.txt  \n",
            "  inflating: valid/labels/IMG20250602204741_jpg.rf.c37f695ef95c16f0e16b7b5181a4b010.txt  \n",
            "  inflating: valid/labels/IMG20250602204914_jpg.rf.85b8f9ba4bf4955a996be023c6b49346.txt  \n",
            "  inflating: valid/labels/IMG20250602205050_jpg.rf.381cdcfc9ca6adc9c5b234ac74fd4f47.txt  \n",
            "  inflating: valid/labels/IMG20250602205352_jpg.rf.daaa907b7ca384add7c444ccfa9356ab.txt  \n",
            "  inflating: valid/labels/IMG20250602205558_jpg.rf.38660926899282f93891342e31bb2557.txt  \n",
            "  inflating: valid/labels/IMG20250602205720_jpg.rf.9157e57a87e943b3b33d36525349accd.txt  \n",
            "  inflating: valid/labels/IMG20250602205733_jpg.rf.67d05a4be297e7c8dd2437d39036d0ce.txt  \n",
            "  inflating: valid/labels/IMG20250602210653_jpg.rf.1aab55da4600cbd9e183219c20be01c0.txt  \n",
            "  inflating: valid/labels/IMG20250602210751_jpg.rf.119fbac1516e5552d3815b99a440b6fd.txt  \n",
            "  inflating: valid/labels/IMG20250602211234_jpg.rf.84e2c2ca82795fcfb958662c277e9c41.txt  \n",
            "  inflating: valid/labels/IMG20250602211727_jpg.rf.ec598bef4025e2c06db8dd5339a2e3fa.txt  \n",
            "  inflating: valid/labels/IMG20250602212248_jpg.rf.5d29bc44d19b0105595ba72d7a2116c5.txt  \n",
            "  inflating: valid/labels/IMG20250602212328_jpg.rf.2c5e7438d4508ff1c5e56da890323843.txt  \n",
            "  inflating: valid/labels/IMG20250602212357_jpg.rf.6615a4af5677caed9f42166ccdf68f0f.txt  \n",
            "  inflating: valid/labels/IMG20250602212521_jpg.rf.3fcd7d4b9cc11fa534c404148fa5f6c1.txt  \n",
            "  inflating: valid/labels/IMG20250602212654_jpg.rf.c1efde13495d54dfccc676ce5a0bd8e2.txt  \n",
            "  inflating: valid/labels/IMG20250602212700_jpg.rf.45bd08fbf3f290da8fd8c50046e86ff8.txt  \n",
            "  inflating: valid/labels/IMG20250602212739_jpg.rf.d7fef7c6b0b88ba828fa71e97dbea797.txt  \n",
            "  inflating: valid/labels/IMG20250602212757_jpg.rf.08a21ff7b55d8bae2b989a4fa4ecf240.txt  \n",
            "  inflating: valid/labels/IMG20250602212820_jpg.rf.adaa180e7368cdcce2030452a0e4e051.txt  \n",
            "  inflating: valid/labels/IMG20250602212842_jpg.rf.cf7af6d8b1a25cd0383ebdbc7894b394.txt  \n",
            "  inflating: valid/labels/IMG20250602212957_jpg.rf.65347ed5afcaf5ee252739cc6d957212.txt  \n",
            "  inflating: valid/labels/IMG20250602213104_jpg.rf.87d6ad463ea388ffd720f34007051bc9.txt  \n",
            "  inflating: valid/labels/IMG20250602213241_jpg.rf.ee98b7bb8317f1825bdd38f26829b707.txt  \n",
            "  inflating: valid/labels/IMG20250602213546_jpg.rf.302c435c42e85efd461ec341c794eea7.txt  \n",
            "  inflating: valid/labels/IMG20250602213706_jpg.rf.be65f36de9d17b5b0083d163c659e2e5.txt  \n",
            "  inflating: valid/labels/IMG20250602213738_jpg.rf.c4d2e75d526d0432b61f2854b7719c83.txt  \n",
            "  inflating: valid/labels/IMG20250602213747_jpg.rf.38b8036961748637f243ff3fcebe675a.txt  \n",
            "  inflating: valid/labels/IMG20250602213820_jpg.rf.c8567af9aa28b8eb07494952bce3de2b.txt  \n",
            "  inflating: valid/labels/IMG20250602213839_jpg.rf.d8aacd4734c0d82b783bfe83fc3b19a6.txt  \n",
            "  inflating: valid/labels/IMG20250602214100_jpg.rf.cae25d89e6622527e2567d5d96bf42de.txt  \n",
            "  inflating: valid/labels/IMG20250602214105_jpg.rf.6240497933b232d856bd9774fcf21463.txt  \n",
            "  inflating: valid/labels/IMG20250602214333_jpg.rf.632b99c0b475ddd4f0ff12793e91f49d.txt  \n",
            "  inflating: valid/labels/IMG20250602214544_jpg.rf.ca66adffbf5e66b32ee3154c5d57f2b3.txt  \n",
            "  inflating: valid/labels/IMG20250602214718_jpg.rf.c0a0f928d0e077dae76aacf1374d4865.txt  \n",
            "  inflating: valid/labels/IMG20250602223714_jpg.rf.e59815339d3f0ce11195737faa8bb0b2.txt  \n",
            "  inflating: valid/labels/IMG20250602224455_jpg.rf.73ae27047152a0a785cee0b416b16ce8.txt  \n",
            "  inflating: valid/labels/IMG20250602224526_jpg.rf.da712e52166e8053f850cd3c42a68934.txt  \n",
            "  inflating: valid/labels/IMG20250602225054_jpg.rf.017d4feb2d044e404d308b7be7d8f329.txt  \n",
            "  inflating: valid/labels/IMG20250602225304_jpg.rf.c789f366b5700d491af1b94d3e5a87d0.txt  \n",
            "  inflating: valid/labels/IMG20250602230140_jpg.rf.680e5a4dbbc453b3c85cadaca5c494b3.txt  \n",
            "  inflating: valid/labels/IMG20250602230727_jpg.rf.c3844a231dd5f4d54fb7ee3b50248a5c.txt  \n",
            "  inflating: valid/labels/IMG20250602230804_jpg.rf.774a6fb9e2017b0aa85bc1b86d874955.txt  \n",
            "  inflating: valid/labels/IMG20250602230931_jpg.rf.7565a3c6956665e4b165e65137bba9c2.txt  \n",
            "  inflating: valid/labels/IMG20250602230940_jpg.rf.d577c6a7db37218402712fd9ca89b722.txt  \n",
            "  inflating: valid/labels/IMG20250602231028_jpg.rf.832ae9641c1b2256d4e15331d79ea3f8.txt  \n",
            "  inflating: valid/labels/IMG20250602231224_jpg.rf.3c6eed48fc14550fe4de2140b9ddfce9.txt  \n",
            "  inflating: valid/labels/IMG20250602231310_jpg.rf.6140b55ba29c64bc102958b9c8ab26a8.txt  \n",
            "  inflating: valid/labels/IMG20250602231542_jpg.rf.7eac993b0b50d7efa78b2c1b2ae8692e.txt  \n",
            "  inflating: valid/labels/IMG20250602231551_jpg.rf.e768e350053a862ad901a7c459888255.txt  \n",
            "  inflating: valid/labels/IMG20250602231720_jpg.rf.5ede3226df7faa634fafbfd61b81d8e5.txt  \n",
            "  inflating: valid/labels/IMG20250602231910_jpg.rf.4916500678a26d06ae27af7451a92162.txt  \n",
            "  inflating: valid/labels/IMG20250602231915_jpg.rf.e6a83f2bec5165fef33e234ee3afa267.txt  \n",
            "  inflating: valid/labels/IMG20250602232015_jpg.rf.d2687406b5f40c21d38868a3b2e02161.txt  \n",
            "  inflating: valid/labels/IMG20250602232050_jpg.rf.16b6072aa96faf97500df7b5b18b9b98.txt  \n",
            "  inflating: valid/labels/IMG20250602232358_jpg.rf.60b3b9b45914b9b41c8d7960e676ee99.txt  \n",
            "  inflating: valid/labels/IMG20250602232552_jpg.rf.465dfdd3654eec47e858ac32f1189fea.txt  \n",
            "  inflating: valid/labels/IMG20250602232808_jpg.rf.50f1c27ea44eabe9a67321ed664d40ce.txt  \n",
            "  inflating: valid/labels/IMG20250602232838_jpg.rf.82c8b6a5730275c218167e812facb3cb.txt  \n",
            "  inflating: valid/labels/IMG20250602233450_jpg.rf.923f93170fea3322d24c48cc7a6be4cf.txt  \n",
            "  inflating: valid/labels/IMG20250602233612_jpg.rf.24cc8a23a6f6cd1312eb5e2ec1dff218.txt  \n",
            "  inflating: valid/labels/IMG20250602233644_jpg.rf.6bbfc3ffff20543808a7aba785f6a75a.txt  \n",
            "  inflating: train/images/IMG20250602183502_jpg.rf.11494171690f618259a9e2afb538e2c6.jpg  \n",
            "  inflating: train/images/IMG20250602183502_jpg.rf.5265bf2145cead8287638c9279cf7e77.jpg  \n",
            "  inflating: train/images/IMG20250602183502_jpg.rf.552229a363ac29feb00c251810d2b43c.jpg  \n",
            "  inflating: train/images/IMG20250602184348_jpg.rf.9a81bd6de56af45617443a5cf6336265.jpg  \n",
            "  inflating: train/images/IMG20250602184348_jpg.rf.bd8568c699c771a0a8a5dda789271305.jpg  \n",
            "  inflating: train/images/IMG20250602184348_jpg.rf.eac66ed5af6ba715486c5bade687e8e8.jpg  \n",
            "  inflating: train/images/IMG20250602184427_jpg.rf.07b95a0f287bd6414f9111a8c7a2242c.jpg  \n",
            "  inflating: train/images/IMG20250602184427_jpg.rf.43b7c7661943d998a11d3088ca2b0387.jpg  \n",
            "  inflating: train/images/IMG20250602184427_jpg.rf.aaea0829e51fd8092bc4767095a1a3a6.jpg  \n",
            "  inflating: train/images/IMG20250602184502_jpg.rf.722890608c218ff744c4bb55ed8fa45c.jpg  \n",
            "  inflating: train/images/IMG20250602184502_jpg.rf.76897556326e5477991561b7dc287d35.jpg  \n",
            "  inflating: train/images/IMG20250602184502_jpg.rf.d2b31e56e4d041090db6f4ea4834e3b3.jpg  \n",
            "  inflating: train/images/IMG20250602184509_jpg.rf.252611111e5b423236b95165c505257f.jpg  \n",
            "  inflating: train/images/IMG20250602184509_jpg.rf.451135f9181111aef968a53f317b5594.jpg  \n",
            "  inflating: train/images/IMG20250602184509_jpg.rf.581f1071af66d821359d10086d52289f.jpg  \n",
            "  inflating: train/images/IMG20250602184519_jpg.rf.0636d9207152c40f0bca17a631dcf579.jpg  \n",
            "  inflating: train/images/IMG20250602184519_jpg.rf.eec0ac186d1b84eef0df8777a2db5962.jpg  \n",
            "  inflating: train/images/IMG20250602184519_jpg.rf.f773f6e382bfa8266feae6ad7f742f6b.jpg  \n",
            "  inflating: train/images/IMG20250602184527_jpg.rf.2cbba927175331608e05e4c84f38f79b.jpg  \n",
            "  inflating: train/images/IMG20250602184527_jpg.rf.658f55478515682644b7b041cd5c7b69.jpg  \n",
            "  inflating: train/images/IMG20250602184527_jpg.rf.eaf9e589b4558da6eff3e81df89fe284.jpg  \n",
            "  inflating: train/images/IMG20250602184531_jpg.rf.087ec107eb8db7864c2be9224abd828d.jpg  \n",
            "  inflating: train/images/IMG20250602184531_jpg.rf.156eb236695913917731ad12400c77d3.jpg  \n",
            "  inflating: train/images/IMG20250602184531_jpg.rf.9c5b18bc504debaa940eee54369683e4.jpg  \n",
            "  inflating: train/images/IMG20250602184537_jpg.rf.562d8c40a9218e21983c7ed2ec860f1a.jpg  \n",
            "  inflating: train/images/IMG20250602184537_jpg.rf.5f6beea9809046fc48f1bf0a74e904d4.jpg  \n",
            "  inflating: train/images/IMG20250602184537_jpg.rf.be6ff7ca06a53fb665b8ee66c9888e30.jpg  \n",
            "  inflating: train/images/IMG20250602184545_jpg.rf.1f5bc5c271a150138e36d864d4856779.jpg  \n",
            "  inflating: train/images/IMG20250602184545_jpg.rf.a8e6c906629c10dd05c06f44d96afa3e.jpg  \n",
            "  inflating: train/images/IMG20250602184545_jpg.rf.cdfa8e7d273133e54667c808ff1c285e.jpg  \n",
            "  inflating: train/images/IMG20250602184624_jpg.rf.05cd921b1a37cfa7bd5fb3dc008ff0fd.jpg  \n",
            "  inflating: train/images/IMG20250602184624_jpg.rf.26f3a8eb6a31290d08c5f376463b678a.jpg  \n",
            "  inflating: train/images/IMG20250602184624_jpg.rf.db8cad401841db8f8f4a93054436b8e0.jpg  \n",
            "  inflating: train/images/IMG20250602184733_jpg.rf.5d15fd7b338883be1c956ad074e35194.jpg  \n",
            "  inflating: train/images/IMG20250602184733_jpg.rf.6d757a43ea8084c2d4652ea7385f5c8b.jpg  \n",
            "  inflating: train/images/IMG20250602184733_jpg.rf.f9682ec1d995bcc6832476995421b7b3.jpg  \n",
            "  inflating: train/images/IMG20250602184749_jpg.rf.0c20ddfe1ea6317d9e74eec5a3e3ebee.jpg  \n",
            "  inflating: train/images/IMG20250602184749_jpg.rf.0c8bef6e3694b83cefed62a0a3811ab1.jpg  \n",
            "  inflating: train/images/IMG20250602184749_jpg.rf.2422a686b82e2f039b3bc638dcd71b9e.jpg  \n",
            "  inflating: train/images/IMG20250602184759_jpg.rf.179d987b302d7a956e61de7464dbb563.jpg  \n",
            "  inflating: train/images/IMG20250602184759_jpg.rf.54710d1bb1d2f5abe2403c387aedfcf6.jpg  \n",
            "  inflating: train/images/IMG20250602184759_jpg.rf.8b52cda83113af4ddbc122116c47e571.jpg  \n",
            "  inflating: train/images/IMG20250602185015_jpg.rf.7dd6aa79903c6574f0e77b4f401c7929.jpg  \n",
            "  inflating: train/images/IMG20250602185015_jpg.rf.970d874b4be08ced088c79ccfbf8154c.jpg  \n",
            "  inflating: train/images/IMG20250602185015_jpg.rf.f43726c9257fe5a0c1c79695a6754a49.jpg  \n",
            "  inflating: train/images/IMG20250602185036_jpg.rf.749372d5d3beef96199e0f31d7d21783.jpg  \n",
            "  inflating: train/images/IMG20250602185036_jpg.rf.941093fa2acfc39e386ba48654c7d00c.jpg  \n",
            "  inflating: train/images/IMG20250602185036_jpg.rf.f311401432f22c8e03625b68d6ddc695.jpg  \n",
            "  inflating: train/images/IMG20250602185124_jpg.rf.3e27b8f8a1cf5713ae89ceecccbe1252.jpg  \n",
            "  inflating: train/images/IMG20250602185124_jpg.rf.8474336c3d653cfb2d4e0c48316626a2.jpg  \n",
            "  inflating: train/images/IMG20250602185124_jpg.rf.913fd7ba353c13c6f2c557a9d878dc00.jpg  \n",
            "  inflating: train/images/IMG20250602185139_jpg.rf.37b57f2127e809118a03d5b18b7db264.jpg  \n",
            "  inflating: train/images/IMG20250602185139_jpg.rf.d0f1ca76d076df6fa64b04f54805a2a9.jpg  \n",
            "  inflating: train/images/IMG20250602185139_jpg.rf.d38ce8830ae571038254a86908622020.jpg  \n",
            "  inflating: train/images/IMG20250602185155_jpg.rf.6fe074e34249b7a3b8a0f783168160c6.jpg  \n",
            "  inflating: train/images/IMG20250602185155_jpg.rf.cdeb7e2a38645efa7814efdbc89d1358.jpg  \n",
            "  inflating: train/images/IMG20250602185155_jpg.rf.dfab01b091fa2415639429873b1aeeee.jpg  \n",
            "  inflating: train/images/IMG20250602190038_jpg.rf.560597c9aa4a1c62c38e981fe024fa63.jpg  \n",
            "  inflating: train/images/IMG20250602190038_jpg.rf.88be6386cc7976bb2ae40da4c5a573af.jpg  \n",
            "  inflating: train/images/IMG20250602190038_jpg.rf.ea1f25a2b7cfe927303f5fdf52dd7f5d.jpg  \n",
            "  inflating: train/images/IMG20250602190047_jpg.rf.43cba625435c25256e826cd499060858.jpg  \n",
            "  inflating: train/images/IMG20250602190047_jpg.rf.54f8e9be2306ef5b546a06734c48099e.jpg  \n",
            "  inflating: train/images/IMG20250602190047_jpg.rf.8052c6735d70153b38bd58434887d416.jpg  \n",
            "  inflating: train/images/IMG20250602190058_jpg.rf.6b72af95da326dde31c7960bfa94cc7e.jpg  \n",
            "  inflating: train/images/IMG20250602190058_jpg.rf.a38cb050b48d2fc51bff078306a257b6.jpg  \n",
            "  inflating: train/images/IMG20250602190058_jpg.rf.f4f58e0b9246c0ac6b50086bd199832f.jpg  \n",
            "  inflating: train/images/IMG20250602190103_jpg.rf.5b5302d9b4595f7e43e96f354f1dc90e.jpg  \n",
            "  inflating: train/images/IMG20250602190103_jpg.rf.82e55fedd3ede4d463f0b5e4b8649abe.jpg  \n",
            "  inflating: train/images/IMG20250602190103_jpg.rf.90f38a2f06fa9e3303529bc4e1ce7506.jpg  \n",
            "  inflating: train/images/IMG20250602190144_jpg.rf.27f8450d2bb30aeaccfdde28fd7e24fd.jpg  \n",
            "  inflating: train/images/IMG20250602190144_jpg.rf.92854b562c867e5fda7e2c21d698ad8f.jpg  \n",
            "  inflating: train/images/IMG20250602190144_jpg.rf.9be4063a0a20c8db6a8418ec98d978b2.jpg  \n",
            "  inflating: train/images/IMG20250602190149_jpg.rf.0d0e7a53b35893b65959d0fa9fedb8e4.jpg  \n",
            "  inflating: train/images/IMG20250602190149_jpg.rf.1fb1a9c8a53d6df8a04f7b2dd8d9253b.jpg  \n",
            "  inflating: train/images/IMG20250602190149_jpg.rf.7a9e5d8ae8db542c8e34f6078bf2c710.jpg  \n",
            "  inflating: train/images/IMG20250602190153_jpg.rf.17f0959ab62385f9b3ccb23ad66f47a1.jpg  \n",
            "  inflating: train/images/IMG20250602190153_jpg.rf.94fdc1534529af1fd1459c79eb65c07e.jpg  \n",
            "  inflating: train/images/IMG20250602190153_jpg.rf.c9b15b8004b89f79b0b046988f90b1fc.jpg  \n",
            "  inflating: train/images/IMG20250602190252_jpg.rf.826293e994ee023b48d8e0c930eac631.jpg  \n",
            "  inflating: train/images/IMG20250602190252_jpg.rf.e0da0233091c22b209e06895a23e6db6.jpg  \n",
            "  inflating: train/images/IMG20250602190252_jpg.rf.ec9f30d205aea8dc4048bfa166c6b243.jpg  \n",
            "  inflating: train/images/IMG20250602190258_jpg.rf.1466f8b8a094cfa41a7c756e8205e6e4.jpg  \n",
            "  inflating: train/images/IMG20250602190258_jpg.rf.594cfc84db314d6183ccd6acf62587ee.jpg  \n",
            "  inflating: train/images/IMG20250602190258_jpg.rf.b313e695d9c923e52865226e9bfe7536.jpg  \n",
            "  inflating: train/images/IMG20250602190302_jpg.rf.1f8a68b72ef4e0afbc2355a314bfa320.jpg  \n",
            "  inflating: train/images/IMG20250602190302_jpg.rf.3b80c983aac7abdbb2bd8f708e7d7a94.jpg  \n",
            "  inflating: train/images/IMG20250602190302_jpg.rf.e059e706c168c988e97fa67f39a0a10e.jpg  \n",
            "  inflating: train/images/IMG20250602190311_jpg.rf.50742de0022f230b7f85383df830ad0d.jpg  \n",
            "  inflating: train/images/IMG20250602190311_jpg.rf.5b81bcdb3df2e014f1f9d2cf2c0f17c8.jpg  \n",
            "  inflating: train/images/IMG20250602190311_jpg.rf.d55311da289178bc9bc2f0a67f908767.jpg  \n",
            "  inflating: train/images/IMG20250602190319_jpg.rf.31841e3aabb004735328f8b95acaaa3b.jpg  \n",
            "  inflating: train/images/IMG20250602190319_jpg.rf.cc67852baac62012d9a1abaf20272447.jpg  \n",
            "  inflating: train/images/IMG20250602190319_jpg.rf.ce9bb6bf824d5f02fb51b5dd6c5c1075.jpg  \n",
            "  inflating: train/images/IMG20250602190322_jpg.rf.17748d880f252dd636738e1232324e98.jpg  \n",
            "  inflating: train/images/IMG20250602190322_jpg.rf.298a16aa0e3e160137786aae52cebb97.jpg  \n",
            "  inflating: train/images/IMG20250602190322_jpg.rf.bf5871522e233ef96bf4ea80ce1e45ec.jpg  \n",
            "  inflating: train/images/IMG20250602190332_jpg.rf.1cfee9d2edac5827bb462223ce280e44.jpg  \n",
            "  inflating: train/images/IMG20250602190332_jpg.rf.b0b7b87ac544f1444216e57b35143a23.jpg  \n",
            "  inflating: train/images/IMG20250602190332_jpg.rf.f625c1bf3a9de2d1fcd2b150989b349b.jpg  \n",
            "  inflating: train/images/IMG20250602190342_jpg.rf.5da1d37eef8879e1c33c2a8328795c85.jpg  \n",
            "  inflating: train/images/IMG20250602190342_jpg.rf.6498ca5e02821a362ac698c64f29759b.jpg  \n",
            "  inflating: train/images/IMG20250602190342_jpg.rf.ff16b7e0d5ac798213cce92d94c8a5d8.jpg  \n",
            "  inflating: train/images/IMG20250602190354_jpg.rf.07b860bc79636cc711b96c9dc8d3adad.jpg  \n",
            "  inflating: train/images/IMG20250602190354_jpg.rf.2591ab95d29f4e4b054a279da87551fb.jpg  \n",
            "  inflating: train/images/IMG20250602190354_jpg.rf.7249dfa731b85fbf186617017054f397.jpg  \n",
            "  inflating: train/images/IMG20250602190425_jpg.rf.01bc90101c8a867f0ed9e6b16dfabcd2.jpg  \n",
            "  inflating: train/images/IMG20250602190425_jpg.rf.7474ce930bf594c7b105978046dd2881.jpg  \n",
            "  inflating: train/images/IMG20250602190425_jpg.rf.845f65ee007e48763ce9b7a4d79a9432.jpg  \n",
            "  inflating: train/images/IMG20250602190435_jpg.rf.3692d190b40041030b99f0520fa372e8.jpg  \n",
            "  inflating: train/images/IMG20250602190435_jpg.rf.7423b5af8968c8dd08358a6d6d5b7538.jpg  \n",
            "  inflating: train/images/IMG20250602190435_jpg.rf.971a0a02b11f5d24c9d8fe34c09a2d16.jpg  \n",
            "  inflating: train/images/IMG20250602190439_jpg.rf.130b8195487b9188d231f9409a1471fc.jpg  \n",
            "  inflating: train/images/IMG20250602190439_jpg.rf.9388377afb14fc251f42f52a0533bcd7.jpg  \n",
            "  inflating: train/images/IMG20250602190439_jpg.rf.cb8344adc6ea4ce2ac8fb2a412eb5920.jpg  \n",
            "  inflating: train/images/IMG20250602190517_jpg.rf.1714af65090f6a916ed6bd7a679879c1.jpg  \n",
            "  inflating: train/images/IMG20250602190517_jpg.rf.1d2a1609de2b13c59b3f2270ee0ebb62.jpg  \n",
            "  inflating: train/images/IMG20250602190517_jpg.rf.4ed50c10420d42845536617cfb1cdc64.jpg  \n",
            "  inflating: train/images/IMG20250602190540_jpg.rf.986b248dc4e67eb9ee91f00c1831efa2.jpg  \n",
            "  inflating: train/images/IMG20250602190540_jpg.rf.a88ade8394c42f9041df08a05584abcd.jpg  \n",
            "  inflating: train/images/IMG20250602190540_jpg.rf.fe7c3696439bd2f8dffb9c7f9d530622.jpg  \n",
            "  inflating: train/images/IMG20250602190824_jpg.rf.23a581317d9ad60daa3b7d79700a31ba.jpg  \n",
            "  inflating: train/images/IMG20250602190824_jpg.rf.d187d969e9d0258204dee2b50e334660.jpg  \n",
            "  inflating: train/images/IMG20250602190824_jpg.rf.db43151221f5e73982d99bda8e62f753.jpg  \n",
            "  inflating: train/images/IMG20250602190829_jpg.rf.9d5229dbb061b18602ca8fea53997dd1.jpg  \n",
            "  inflating: train/images/IMG20250602190829_jpg.rf.e1408d002f594658ba1347669611bd3b.jpg  \n",
            "  inflating: train/images/IMG20250602190829_jpg.rf.f6a791a179ca1beaa36ae4dfd688f407.jpg  \n",
            "  inflating: train/images/IMG20250602190839_jpg.rf.6da0d67ff4116021c5d03d34febdbdc3.jpg  \n",
            "  inflating: train/images/IMG20250602190839_jpg.rf.71ec26746949732a2bf1d3c7fae54f5b.jpg  \n",
            "  inflating: train/images/IMG20250602190839_jpg.rf.f0594078da4f94dd1b9f52c8ae363e78.jpg  \n",
            "  inflating: train/images/IMG20250602190918_jpg.rf.694bd1afd4604e11bda1411f47dcd3a7.jpg  \n",
            "  inflating: train/images/IMG20250602190918_jpg.rf.b3982a7217efe918fa2bdf57524d46b7.jpg  \n",
            "  inflating: train/images/IMG20250602190918_jpg.rf.ed2485f41f337d9b22a0a0d20bafd839.jpg  \n",
            "  inflating: train/images/IMG20250602190921_jpg.rf.1050f28cb71d7fc8b06c709da5a5aead.jpg  \n",
            "  inflating: train/images/IMG20250602190921_jpg.rf.3866bc5d97bb27626babb4885a9c89fe.jpg  \n",
            "  inflating: train/images/IMG20250602190921_jpg.rf.7ddd1f86fee33e2d014b2b4f5e895b7e.jpg  \n",
            "  inflating: train/images/IMG20250602190926_jpg.rf.327f6ec737408822d0592c13e5cfcad6.jpg  \n",
            "  inflating: train/images/IMG20250602190926_jpg.rf.6f5637ea2877fc65289059bb8aace1c9.jpg  \n",
            "  inflating: train/images/IMG20250602190926_jpg.rf.e5000a72788b1ef56684ebaf719b76df.jpg  \n",
            "  inflating: train/images/IMG20250602190937_jpg.rf.262476469ae78741085ed6678b033817.jpg  \n",
            "  inflating: train/images/IMG20250602190937_jpg.rf.39ba9efb7b3cfe62cbf48baf112ce336.jpg  \n",
            "  inflating: train/images/IMG20250602190937_jpg.rf.b76a528dccc8da09a39a4c1326d85edc.jpg  \n",
            "  inflating: train/images/IMG20250602191043_jpg.rf.39518eb68c82d9e66b224ae772101606.jpg  \n",
            "  inflating: train/images/IMG20250602191043_jpg.rf.80c6239bf28ccf30ef9fb4474cb724ef.jpg  \n",
            "  inflating: train/images/IMG20250602191043_jpg.rf.a2fd43c43170772b294e10423508a78d.jpg  \n",
            "  inflating: train/images/IMG20250602191133_jpg.rf.0aa32a933d31e349033339388f93f528.jpg  \n",
            "  inflating: train/images/IMG20250602191133_jpg.rf.9597320309afbfd7e932e3f83cf016b3.jpg  \n",
            "  inflating: train/images/IMG20250602191133_jpg.rf.a228a465199a4fddf2eb1466ab339180.jpg  \n",
            "  inflating: train/images/IMG20250602191138_jpg.rf.1c3e3616784b56b2509995363f6cab86.jpg  \n",
            "  inflating: train/images/IMG20250602191138_jpg.rf.540b81581b32a802e449af27a758bc04.jpg  \n",
            "  inflating: train/images/IMG20250602191138_jpg.rf.5b03cebf733bc2f33f902027b76593cb.jpg  \n",
            "  inflating: train/images/IMG20250602191143_jpg.rf.15b0206dc3a14e7bbb1221cdd6df336b.jpg  \n",
            "  inflating: train/images/IMG20250602191143_jpg.rf.675165e3920758cc7973046935e540bb.jpg  \n",
            "  inflating: train/images/IMG20250602191143_jpg.rf.859558cfd8ed906b1ab2a7b20ae59246.jpg  \n",
            "  inflating: train/images/IMG20250602191146_jpg.rf.241556504d89351b36a3ad5357add588.jpg  \n",
            "  inflating: train/images/IMG20250602191146_jpg.rf.68220b4cef27e117d89807e979a62554.jpg  \n",
            "  inflating: train/images/IMG20250602191146_jpg.rf.ffafecd9d58324ace5d5e452062609b7.jpg  \n",
            "  inflating: train/images/IMG20250602191157_jpg.rf.199df00e1a94698435c753237fdc7185.jpg  \n",
            "  inflating: train/images/IMG20250602191157_jpg.rf.20432778a2efd4c3afabb7696ae7a655.jpg  \n",
            "  inflating: train/images/IMG20250602191157_jpg.rf.322708bd281b0a99363bb6e4371c9870.jpg  \n",
            "  inflating: train/images/IMG20250602191201_jpg.rf.079061aee8ef7dfccfcd163c7dd5834e.jpg  \n",
            "  inflating: train/images/IMG20250602191201_jpg.rf.58b09a48ba075daf498b9a3af0e25018.jpg  \n",
            "  inflating: train/images/IMG20250602191201_jpg.rf.bbddcb26bdd74b12b29c6b7f58e9abed.jpg  \n",
            "  inflating: train/images/IMG20250602191215_jpg.rf.00777f4058ca0f277bedb489c436a125.jpg  \n",
            "  inflating: train/images/IMG20250602191215_jpg.rf.966175c077d2bede13b2cd3c8abc031e.jpg  \n",
            "  inflating: train/images/IMG20250602191215_jpg.rf.fcda4f8bef3a9e718a12cae68dd8ae22.jpg  \n",
            "  inflating: train/images/IMG20250602191223_jpg.rf.3c695ac610806564232dd46ba119c36b.jpg  \n",
            "  inflating: train/images/IMG20250602191223_jpg.rf.92f44122b20dcf14a31373c31164b140.jpg  \n",
            "  inflating: train/images/IMG20250602191223_jpg.rf.f01ae2a44645382ef1468180ee3e7c4b.jpg  \n",
            "  inflating: train/images/IMG20250602191336_jpg.rf.5fef6fd960d2e502c17c871339c54dd8.jpg  \n",
            "  inflating: train/images/IMG20250602191336_jpg.rf.6d511bbfcaada9ff81c193e8116aa78f.jpg  \n",
            "  inflating: train/images/IMG20250602191336_jpg.rf.7d472120b6d095b2019f991954382b71.jpg  \n",
            "  inflating: train/images/IMG20250602191342_jpg.rf.0f394552635eb816d9f4058a1ab6eb14.jpg  \n",
            "  inflating: train/images/IMG20250602191342_jpg.rf.aa41738b47aac6c7de25d946557089ca.jpg  \n",
            "  inflating: train/images/IMG20250602191342_jpg.rf.fb3a26990a6bcc9b74887e67835a0fc1.jpg  \n",
            "  inflating: train/images/IMG20250602191349_jpg.rf.57dd474164a7718d6b0e7477b5213c4d.jpg  \n",
            "  inflating: train/images/IMG20250602191349_jpg.rf.9f51d354968e10cd8e44b4a5a94670ef.jpg  \n",
            "  inflating: train/images/IMG20250602191349_jpg.rf.d56044d71b510247743d885543006648.jpg  \n",
            "  inflating: train/images/IMG20250602191453_jpg.rf.134e0d5872103394a1bffe5d4b91cfdb.jpg  \n",
            "  inflating: train/images/IMG20250602191453_jpg.rf.2e317f5d94db85ada5daed8dd165108e.jpg  \n",
            "  inflating: train/images/IMG20250602191453_jpg.rf.bd8c1ff4aeb00e8868446ff3ab5a610e.jpg  \n",
            "  inflating: train/images/IMG20250602191456_jpg.rf.18fac583811aeb4d4208d91e0820c61b.jpg  \n",
            "  inflating: train/images/IMG20250602191456_jpg.rf.2aa4e31c32c8c50c408c875d6940860b.jpg  \n",
            "  inflating: train/images/IMG20250602191456_jpg.rf.89bebdca1872be44504166d9d7e827c6.jpg  \n",
            "  inflating: train/images/IMG20250602191503_jpg.rf.7799b83e145c237480b02abf76dc2827.jpg  \n",
            "  inflating: train/images/IMG20250602191503_jpg.rf.a654dd171ca9cae1d4da9e8edd6aef56.jpg  \n",
            "  inflating: train/images/IMG20250602191503_jpg.rf.c3b0e0a99ed2074cb76df50180e108c0.jpg  \n",
            "  inflating: train/images/IMG20250602191516_jpg.rf.52eb66407fda8d93a7c403790b909da0.jpg  \n",
            "  inflating: train/images/IMG20250602191516_jpg.rf.6d04ab4bf64644dfc770e46c1fbbee52.jpg  \n",
            "  inflating: train/images/IMG20250602191516_jpg.rf.93826ab8a25a5ff857eb3dd28eb85b87.jpg  \n",
            "  inflating: train/images/IMG20250602191547_jpg.rf.438f071cb408b0b8f9f83ea962031d4c.jpg  \n",
            "  inflating: train/images/IMG20250602191547_jpg.rf.8e4978a3ad49ff6ac522fee1ce6e80b7.jpg  \n",
            "  inflating: train/images/IMG20250602191547_jpg.rf.e04873955ff9fb7a4270582442ef64f3.jpg  \n",
            "  inflating: train/images/IMG20250602191554_jpg.rf.47b29abce35c83d4fc1cadc14919f2de.jpg  \n",
            "  inflating: train/images/IMG20250602191554_jpg.rf.532095ab4884b9cc3442f298a04d358e.jpg  \n",
            "  inflating: train/images/IMG20250602191554_jpg.rf.8848e6af4956241aab325a3932edfdcc.jpg  \n",
            "  inflating: train/images/IMG20250602191600_jpg.rf.bcbef090703f1f51337b6d32223a525a.jpg  \n",
            "  inflating: train/images/IMG20250602191600_jpg.rf.e54d6beb40db134d22a25208e4f790d6.jpg  \n",
            "  inflating: train/images/IMG20250602191600_jpg.rf.ed1ab3855f51ded4c2d53e209c2e85ca.jpg  \n",
            "  inflating: train/images/IMG20250602191605_jpg.rf.1c4a54974ee1c39372332d50311ba603.jpg  \n",
            "  inflating: train/images/IMG20250602191605_jpg.rf.2dcc7b625027b413e1969f4bc670f026.jpg  \n",
            "  inflating: train/images/IMG20250602191605_jpg.rf.4f4fe4ba3790e876dfb265257d999dd7.jpg  \n",
            "  inflating: train/images/IMG20250602191647_jpg.rf.b5636f5a5d34c6cd0282741109757bf6.jpg  \n",
            "  inflating: train/images/IMG20250602191647_jpg.rf.d85a1bf8c339969aad291ea2e5ce7fb5.jpg  \n",
            "  inflating: train/images/IMG20250602191647_jpg.rf.f318437074b3941f6a2ade9f45cf3657.jpg  \n",
            "  inflating: train/images/IMG20250602191649_jpg.rf.1d6542feef50b4ebb0e187d3bd73d8b8.jpg  \n",
            "  inflating: train/images/IMG20250602191649_jpg.rf.c52d39469ae0852bce67b3f0ce0009fa.jpg  \n",
            "  inflating: train/images/IMG20250602191649_jpg.rf.f4a9084b2ae615c83683fec632fe532a.jpg  \n",
            "  inflating: train/images/IMG20250602191700_jpg.rf.19723cc49084bd4fb1380a048eb4b22f.jpg  \n",
            "  inflating: train/images/IMG20250602191700_jpg.rf.1a30d4c40eb1e21b663de7ab5acc126a.jpg  \n",
            "  inflating: train/images/IMG20250602191700_jpg.rf.64610109c738907537beeff1618f4414.jpg  \n",
            "  inflating: train/images/IMG20250602191719_jpg.rf.508f00298e2be306e6bc08dfb5c64348.jpg  \n",
            "  inflating: train/images/IMG20250602191719_jpg.rf.7b5a4bcbefb61e944dbbe6511bcd7096.jpg  \n",
            "  inflating: train/images/IMG20250602191719_jpg.rf.87bc0778bf4ad120319f512d3c42a570.jpg  \n",
            "  inflating: train/images/IMG20250602191740_jpg.rf.1cad4d6eba05ec5cfa527b8ae4ebdf66.jpg  \n",
            "  inflating: train/images/IMG20250602191740_jpg.rf.256f29de27de1d85a0b78057a78c2791.jpg  \n",
            "  inflating: train/images/IMG20250602191740_jpg.rf.bfb76dd2c78f8eab99accac91484904b.jpg  \n",
            "  inflating: train/images/IMG20250602191743_jpg.rf.b7884b394992b76a6519fc8494aee66b.jpg  \n",
            "  inflating: train/images/IMG20250602191743_jpg.rf.bbf8bb340d021ec3a04b4b648f6349a9.jpg  \n",
            "  inflating: train/images/IMG20250602191743_jpg.rf.e88779829f273059c914680c76157e61.jpg  \n",
            "  inflating: train/images/IMG20250602191804_jpg.rf.462db0c172a179ac39ceaf716c3ee8ed.jpg  \n",
            "  inflating: train/images/IMG20250602191804_jpg.rf.c35a6806258c0508338e6f95e3244fe2.jpg  \n",
            "  inflating: train/images/IMG20250602191804_jpg.rf.fcd03bf33fadf22be886f29dc3670f39.jpg  \n",
            "  inflating: train/images/IMG20250602191809_jpg.rf.53b30fedbf02253f0caab74fbb1e34da.jpg  \n",
            "  inflating: train/images/IMG20250602191809_jpg.rf.bf80cc786d98869d9dafb011c242cd7d.jpg  \n",
            "  inflating: train/images/IMG20250602191809_jpg.rf.e7c3aa5ad1680158573c16f1eb4d8de9.jpg  \n",
            "  inflating: train/images/IMG20250602191823_jpg.rf.14e7d1abe52ab64b51a57a50f8d78e7e.jpg  \n",
            "  inflating: train/images/IMG20250602191823_jpg.rf.8e60f52dd253a72c8dcce2066335b99b.jpg  \n",
            "  inflating: train/images/IMG20250602191823_jpg.rf.b56560a25bf62d064d01cbc079f8ab52.jpg  \n",
            "  inflating: train/images/IMG20250602191853_jpg.rf.0edff272c89db07156f64ddc131a8e16.jpg  \n",
            "  inflating: train/images/IMG20250602191853_jpg.rf.69beae11c477350fc6df367931d78bf4.jpg  \n",
            "  inflating: train/images/IMG20250602191853_jpg.rf.8a8892378b985e5656fbe1ee1f48b3c2.jpg  \n",
            "  inflating: train/images/IMG20250602191944_jpg.rf.3af58031ceb800784601de62a27937d8.jpg  \n",
            "  inflating: train/images/IMG20250602191944_jpg.rf.6493e72a3a40ba762cf87260cf43523c.jpg  \n",
            "  inflating: train/images/IMG20250602191944_jpg.rf.6d3c86be23cf3573af5bf6f33eb82323.jpg  \n",
            "  inflating: train/images/IMG20250602191951_jpg.rf.15209782ffb0687a4b01153fc268fd9b.jpg  \n",
            "  inflating: train/images/IMG20250602191951_jpg.rf.890d1298451b44d90255347316f68c47.jpg  \n",
            "  inflating: train/images/IMG20250602191951_jpg.rf.ba92b30f4e5df11b228949a16e0b98e8.jpg  \n",
            "  inflating: train/images/IMG20250602191954_jpg.rf.43ab097fda59b2b21f5b421534cc6812.jpg  \n",
            "  inflating: train/images/IMG20250602191954_jpg.rf.c204fb0e537f390d557b4882d3797da0.jpg  \n",
            "  inflating: train/images/IMG20250602191954_jpg.rf.d253edba46e33589a4fa327bc410de88.jpg  \n",
            "  inflating: train/images/IMG20250602192001_jpg.rf.502e7f6a4fdbb07313db5c53fc32ab43.jpg  \n",
            "  inflating: train/images/IMG20250602192001_jpg.rf.6c6ce87539a4a5ebc485d7ac1f7e58f1.jpg  \n",
            "  inflating: train/images/IMG20250602192001_jpg.rf.9d51edde8b2f51ce2082ce8b2479d784.jpg  \n",
            "  inflating: train/images/IMG20250602192055_jpg.rf.2d80e60951178cb59e8351d3efbd4182.jpg  \n",
            "  inflating: train/images/IMG20250602192055_jpg.rf.50638eb1b3e54d0b0af40f416fec9968.jpg  \n",
            "  inflating: train/images/IMG20250602192055_jpg.rf.7c4ca284257d98e2b9be0dcf76f272a0.jpg  \n",
            "  inflating: train/images/IMG20250602192058_jpg.rf.558dd2855e87d700fe2dd09a1411ad93.jpg  \n",
            "  inflating: train/images/IMG20250602192058_jpg.rf.6c96fd537a25c2690990e4ecabeddbcf.jpg  \n",
            "  inflating: train/images/IMG20250602192058_jpg.rf.eb2502ad8e34b845416af29479d63e52.jpg  \n",
            "  inflating: train/images/IMG20250602192109_jpg.rf.2763a373b0a03dafe3fa12bc49f9196d.jpg  \n",
            "  inflating: train/images/IMG20250602192109_jpg.rf.55f36f800d8649c9f9259c5d5d84eebf.jpg  \n",
            "  inflating: train/images/IMG20250602192109_jpg.rf.ab653f369973b9ed7bed21a9b6afa1a3.jpg  \n",
            "  inflating: train/images/IMG20250602192115_jpg.rf.39d3cd1a7d18c1009bc9f982c5bf289d.jpg  \n",
            "  inflating: train/images/IMG20250602192115_jpg.rf.5e23ca05698d04cafbfb7744a72dc390.jpg  \n",
            "  inflating: train/images/IMG20250602192115_jpg.rf.c2a20306a3352f6b9b622c22e41d7a7f.jpg  \n",
            "  inflating: train/images/IMG20250602192157_jpg.rf.5fc41870f7ed6cdc494fb6c9b59d7a31.jpg  \n",
            "  inflating: train/images/IMG20250602192157_jpg.rf.646ee64d8b2fdb058aa1f60eadbba3f7.jpg  \n",
            "  inflating: train/images/IMG20250602192157_jpg.rf.902b46ebedace6f34d50b600a1c9c980.jpg  \n",
            "  inflating: train/images/IMG20250602192159_jpg.rf.1a32da18125a85ae6a4def866163f477.jpg  \n",
            "  inflating: train/images/IMG20250602192159_jpg.rf.49f896110c8ad8a41c57b0a5b956a4d4.jpg  \n",
            "  inflating: train/images/IMG20250602192159_jpg.rf.9aefe67226c82f8ebc08c584bf4613cc.jpg  \n",
            "  inflating: train/images/IMG20250602192202_jpg.rf.2693fc1fbfdff718039fc4ff5c32669a.jpg  \n",
            "  inflating: train/images/IMG20250602192202_jpg.rf.6edee76573eb150ffbe2a1466db7dc7a.jpg  \n",
            "  inflating: train/images/IMG20250602192202_jpg.rf.da9c3b7fb8bf3658ac6ef6b75d00e5d8.jpg  \n",
            "  inflating: train/images/IMG20250602192315_jpg.rf.aa0e7c15f28cc5c437357915bbf7e670.jpg  \n",
            "  inflating: train/images/IMG20250602192315_jpg.rf.ab5387234e75e8040134d037c0244657.jpg  \n",
            "  inflating: train/images/IMG20250602192315_jpg.rf.f78296a322e5721dcf84edc87c0e17a1.jpg  \n",
            "  inflating: train/images/IMG20250602192318_jpg.rf.52ef2461a6c76ca9f12a2c5cb76304e1.jpg  \n",
            "  inflating: train/images/IMG20250602192318_jpg.rf.5f44f9357d8d1cba0dbe75c6008e17d3.jpg  \n",
            "  inflating: train/images/IMG20250602192318_jpg.rf.a8649ea436cb7310192be421fc9f9984.jpg  \n",
            "  inflating: train/images/IMG20250602192334_jpg.rf.327cd60c7fb7cbc73e440dbd1ab8b178.jpg  \n",
            "  inflating: train/images/IMG20250602192334_jpg.rf.8aea01f336a1c47672b455da09ce1703.jpg  \n",
            "  inflating: train/images/IMG20250602192334_jpg.rf.c1979cb5acec4c7de280e04e00bc7c88.jpg  \n",
            "  inflating: train/images/IMG20250602192342_jpg.rf.40fbe2135347ec826b7a561d5480a450.jpg  \n",
            "  inflating: train/images/IMG20250602192342_jpg.rf.5e65e972297b9656bb1eb094d1ee864e.jpg  \n",
            "  inflating: train/images/IMG20250602192342_jpg.rf.c1fd02f92ce99672b1fbcb4f38df26ed.jpg  \n",
            "  inflating: train/images/IMG20250602192351_jpg.rf.7d60349d65cf3621b1247a6487eb8d72.jpg  \n",
            "  inflating: train/images/IMG20250602192351_jpg.rf.b31c764589d13504a0bc124930ea88d4.jpg  \n",
            "  inflating: train/images/IMG20250602192351_jpg.rf.feb19ec42a253a3e24afea65e2ae453b.jpg  \n",
            "  inflating: train/images/IMG20250602192355_jpg.rf.675cbadae53f608272b1083d2843bb87.jpg  \n",
            "  inflating: train/images/IMG20250602192355_jpg.rf.8d983417a21d6d135ac17037668c45da.jpg  \n",
            "  inflating: train/images/IMG20250602192355_jpg.rf.a070f10f81dfc1f1693b951e405b9e71.jpg  \n",
            "  inflating: train/images/IMG20250602192422_jpg.rf.01ed1afaa192222a02fb990d9162eb4f.jpg  \n",
            "  inflating: train/images/IMG20250602192422_jpg.rf.0d15cdf51d9f49e3562ffce4295221ce.jpg  \n",
            "  inflating: train/images/IMG20250602192422_jpg.rf.fcca2a2edad19eb5e9ca03d77427a8c8.jpg  \n",
            "  inflating: train/images/IMG20250602192426_jpg.rf.216e42f45f9c98f841c7b338a319bb3c.jpg  \n",
            "  inflating: train/images/IMG20250602192426_jpg.rf.9ddba37ba85730dcbcadff0929573bd6.jpg  \n",
            "  inflating: train/images/IMG20250602192426_jpg.rf.d0b6a2fc45a82ea66059987c78782458.jpg  \n",
            "  inflating: train/images/IMG20250602192433_jpg.rf.5c94f41fbadfbee68be35d8afb663e4b.jpg  \n",
            "  inflating: train/images/IMG20250602192433_jpg.rf.aabd62450616ae063720030ad60587f0.jpg  \n",
            "  inflating: train/images/IMG20250602192433_jpg.rf.ae43eca41a7b9aec20b02dfe492a8226.jpg  \n",
            "  inflating: train/images/IMG20250602192437_jpg.rf.09315045433cbd44eb239e0483ba3689.jpg  \n",
            "  inflating: train/images/IMG20250602192437_jpg.rf.0fbf03a476217b819cbea4a23cf8053d.jpg  \n",
            "  inflating: train/images/IMG20250602192437_jpg.rf.9d8dd71a83e03e366b8d8b2c42fde84b.jpg  \n",
            "  inflating: train/images/IMG20250602192549_jpg.rf.a0c986ac3d81234fa98b3b45e56f9ce6.jpg  \n",
            "  inflating: train/images/IMG20250602192549_jpg.rf.ba89c55ed1567b4d308dda95c924d083.jpg  \n",
            "  inflating: train/images/IMG20250602192549_jpg.rf.e5f31ed66a812c01b5a379617cb79152.jpg  \n",
            "  inflating: train/images/IMG20250602192603_jpg.rf.0e2201542c63a1ec934a624cdecd8458.jpg  \n",
            "  inflating: train/images/IMG20250602192603_jpg.rf.2b3fc8cd0432ee3a5437f10a2546f58e.jpg  \n",
            "  inflating: train/images/IMG20250602192603_jpg.rf.3c4d6425fea714d735f7cbff3e0bac93.jpg  \n",
            "  inflating: train/images/IMG20250602192720_jpg.rf.38b3389e0a6a16ccf610e27653a84bea.jpg  \n",
            "  inflating: train/images/IMG20250602192720_jpg.rf.56736ca1b3e0bfd0dfce652e50b6ab55.jpg  \n",
            "  inflating: train/images/IMG20250602192720_jpg.rf.e2bd60bd6b7362a5021bcfa025d9c218.jpg  \n",
            "  inflating: train/images/IMG20250602192734_jpg.rf.90f6fe59d3b16eda7de41765d71a4de4.jpg  \n",
            "  inflating: train/images/IMG20250602192734_jpg.rf.b54772e21a6dfa27bf923ffc8b61c7e6.jpg  \n",
            "  inflating: train/images/IMG20250602192734_jpg.rf.d42c8d26ce6b4c366b0a053cb46d50a2.jpg  \n",
            "  inflating: train/images/IMG20250602192743_jpg.rf.4b85b655cd5fac5872c4d4a073e2dc7c.jpg  \n",
            "  inflating: train/images/IMG20250602192743_jpg.rf.57adedaa9ded2b0bf9931949e0b3f662.jpg  \n",
            "  inflating: train/images/IMG20250602192743_jpg.rf.a19012c756de6644d12ac40bd5098d82.jpg  \n",
            "  inflating: train/images/IMG20250602194113_jpg.rf.3dfbc62e52025dede41c5a52a1ab8fd9.jpg  \n",
            "  inflating: train/images/IMG20250602194113_jpg.rf.6a79a03aa632420d539d154c19cb80a5.jpg  \n",
            "  inflating: train/images/IMG20250602194113_jpg.rf.9f0ddf7e6c6a7b8a1b3cf280adb907d0.jpg  \n",
            "  inflating: train/images/IMG20250602194118_jpg.rf.07bfca60279b7f8f02b89fd6ef738106.jpg  \n",
            "  inflating: train/images/IMG20250602194118_jpg.rf.db6180e5625a9fda444cba52d05717ea.jpg  \n",
            "  inflating: train/images/IMG20250602194118_jpg.rf.ee097dbaf6a408c586fab9017d6a9d71.jpg  \n",
            "  inflating: train/images/IMG20250602194128_jpg.rf.5376933c7e5ca6d09aa6a4b9d13848a9.jpg  \n",
            "  inflating: train/images/IMG20250602194128_jpg.rf.9ebfdbd04305ebc639b497089c7af705.jpg  \n",
            "  inflating: train/images/IMG20250602194128_jpg.rf.d4be84d07bcc7b3d0b0bcc4c77112fa4.jpg  \n",
            "  inflating: train/images/IMG20250602194139_jpg.rf.0fe900ee4ee279f6de686db7b13e4f02.jpg  \n",
            "  inflating: train/images/IMG20250602194139_jpg.rf.38605afd3bbd3e9eaafc65e2bf691bc7.jpg  \n",
            "  inflating: train/images/IMG20250602194139_jpg.rf.93bcd3e6fcdd74b57b70baf2e9dc4074.jpg  \n",
            "  inflating: train/images/IMG20250602194327_jpg.rf.32af2f85615213e591c472905033f65c.jpg  \n",
            "  inflating: train/images/IMG20250602194327_jpg.rf.6c68e49ef8c48e1a9779a9677180ff52.jpg  \n",
            "  inflating: train/images/IMG20250602194327_jpg.rf.b7e0dc0120da77a7117d13665b36b6dc.jpg  \n",
            "  inflating: train/images/IMG20250602194330_jpg.rf.80b722543c93fe4623ba3da2e20d4bd2.jpg  \n",
            "  inflating: train/images/IMG20250602194330_jpg.rf.c8ed8e0286b8e18a5bac39b2fcb942c7.jpg  \n",
            "  inflating: train/images/IMG20250602194330_jpg.rf.f7972c5d04ecc60b56253df634d22613.jpg  \n",
            "  inflating: train/images/IMG20250602194345_jpg.rf.369f0ef08331cd2b5f893dc85e46e246.jpg  \n",
            "  inflating: train/images/IMG20250602194345_jpg.rf.77b9e6033b1ff006a02251e1fa96f3a6.jpg  \n",
            "  inflating: train/images/IMG20250602194345_jpg.rf.b744e4d347146bb71e71790701b24255.jpg  \n",
            "  inflating: train/images/IMG20250602194405_jpg.rf.901ef2dad076db61303de2c8d4fb14b0.jpg  \n",
            "  inflating: train/images/IMG20250602194405_jpg.rf.b643556a5e7e34e00d67bc82f223c88f.jpg  \n",
            "  inflating: train/images/IMG20250602194405_jpg.rf.d71032522c922fad85409f5f3dd4aaf5.jpg  \n",
            "  inflating: train/images/IMG20250602194411_jpg.rf.25d6558c005c8b20c9d7f83334d4e946.jpg  \n",
            "  inflating: train/images/IMG20250602194411_jpg.rf.2b4f567cdc3be42ca4118ff32dc44ed9.jpg  \n",
            "  inflating: train/images/IMG20250602194411_jpg.rf.c0646480ca297ac2df8e95427f3995d2.jpg  \n",
            "  inflating: train/images/IMG20250602194444_jpg.rf.08ade16fa42b7377ed15d59d942eb3da.jpg  \n",
            "  inflating: train/images/IMG20250602194444_jpg.rf.9889c2d4d3b5f355ff95498f7aa1733e.jpg  \n",
            "  inflating: train/images/IMG20250602194444_jpg.rf.b3cf40ce58f57f6a49865ed14eabe9a8.jpg  \n",
            "  inflating: train/images/IMG20250602194534_jpg.rf.4039b8f7a9d9a4998c97607615e096ef.jpg  \n",
            "  inflating: train/images/IMG20250602194534_jpg.rf.b9616c6797fbd2732493b16e8e0c858e.jpg  \n",
            "  inflating: train/images/IMG20250602194534_jpg.rf.c7565ab3f826a1568f109f597c9375dd.jpg  \n",
            "  inflating: train/images/IMG20250602194539_jpg.rf.19585c86732421f059dd9c5833626fd8.jpg  \n",
            "  inflating: train/images/IMG20250602194539_jpg.rf.41a77e47ca399db9a13f64eb3583ce4c.jpg  \n",
            "  inflating: train/images/IMG20250602194539_jpg.rf.5b378bf50cdd6f9a9f67e49b19537b91.jpg  \n",
            "  inflating: train/images/IMG20250602194643_jpg.rf.0e25bfdcd7bae1ac2438bfd5b7cd5550.jpg  \n",
            "  inflating: train/images/IMG20250602194643_jpg.rf.6601fd922e8609609d376108ab854666.jpg  \n",
            "  inflating: train/images/IMG20250602194643_jpg.rf.d41ea103b917bb95d985f439dc287c33.jpg  \n",
            "  inflating: train/images/IMG20250602194706_jpg.rf.0b8f22213d6299b0ad3dd83d33c73747.jpg  \n",
            "  inflating: train/images/IMG20250602194706_jpg.rf.6f430d0597a4fab2f8ca5806073f698c.jpg  \n",
            "  inflating: train/images/IMG20250602194706_jpg.rf.98e5e3b114ea464aa077f17e7748ad83.jpg  \n",
            "  inflating: train/images/IMG20250602194731_jpg.rf.a66a293202f40a5d707cfda719bbd984.jpg  \n",
            "  inflating: train/images/IMG20250602194731_jpg.rf.d01e1e9fc932974d96bd67b14c1ab17d.jpg  \n",
            "  inflating: train/images/IMG20250602194731_jpg.rf.e984ad12e022bb8f4c73cdc7b413fe9e.jpg  \n",
            "  inflating: train/images/IMG20250602194832_jpg.rf.1ab8781bcfe6db384236fd84c6d3b287.jpg  \n",
            "  inflating: train/images/IMG20250602194832_jpg.rf.676a51ebac27c95e90b913dae971a087.jpg  \n",
            "  inflating: train/images/IMG20250602194832_jpg.rf.7441a6db698f74a9744bc527521d0b89.jpg  \n",
            "  inflating: train/images/IMG20250602194839_jpg.rf.2ecfc52626cd4e8df411c5419ff7fd37.jpg  \n",
            "  inflating: train/images/IMG20250602194839_jpg.rf.6e34c9fdd778e951377f252ebe1ed79d.jpg  \n",
            "  inflating: train/images/IMG20250602194839_jpg.rf.892286d01d36130bb2ded64803765654.jpg  \n",
            "  inflating: train/images/IMG20250602194843_jpg.rf.8868fdd13f352ff7838fdfdd675cbf42.jpg  \n",
            "  inflating: train/images/IMG20250602194843_jpg.rf.d183f3ebe1f6240366ece689f55c5c2b.jpg  \n",
            "  inflating: train/images/IMG20250602194843_jpg.rf.f05deec8d361c46ec8e1b2011317fd85.jpg  \n",
            "  inflating: train/images/IMG20250602194855_jpg.rf.bd6c44b2dde5e5b5daf4cd57e9a0d870.jpg  \n",
            "  inflating: train/images/IMG20250602194855_jpg.rf.ceed1ea51bb1d93fb84ea1ae8dd542c6.jpg  \n",
            "  inflating: train/images/IMG20250602194855_jpg.rf.ee1bc5c963b2e58615d9c51cab2f49eb.jpg  \n",
            "  inflating: train/images/IMG20250602195704_jpg.rf.0fdd0addd648838cd87ca8e11fb9bb29.jpg  \n",
            "  inflating: train/images/IMG20250602195704_jpg.rf.52985985c2c4c2c37b4fd4935a3b283f.jpg  \n",
            "  inflating: train/images/IMG20250602195704_jpg.rf.a27d61b8fd60152229cd39977f94f040.jpg  \n",
            "  inflating: train/images/IMG20250602195731_jpg.rf.45e2577d4d2664a2c7dbba85dd565a1c.jpg  \n",
            "  inflating: train/images/IMG20250602195731_jpg.rf.cf528a4cd92482b39fc6774bcff44494.jpg  \n",
            "  inflating: train/images/IMG20250602195731_jpg.rf.dfb3c0ba8d8574921f6e38d00ceea2ea.jpg  \n",
            "  inflating: train/images/IMG20250602195746_jpg.rf.599c12a730c6cdc85f034c903f729300.jpg  \n",
            "  inflating: train/images/IMG20250602195746_jpg.rf.83b7dc97124e6d67f2d39bbef51214ee.jpg  \n",
            "  inflating: train/images/IMG20250602195746_jpg.rf.c15809854a639b1e37c209bba0240be2.jpg  \n",
            "  inflating: train/images/IMG20250602195821_jpg.rf.1727564b384620f52139f8b79380f185.jpg  \n",
            "  inflating: train/images/IMG20250602195821_jpg.rf.80a13d5308355c02c992d9f7ee37aff5.jpg  \n",
            "  inflating: train/images/IMG20250602195821_jpg.rf.cdd578b97fd3971b18f38f5f9e919662.jpg  \n",
            "  inflating: train/images/IMG20250602200506_jpg.rf.8e312b0efbb96326bc19d982b94e06af.jpg  \n",
            "  inflating: train/images/IMG20250602200506_jpg.rf.caa03aa91e774b655161a923d62f01d0.jpg  \n",
            "  inflating: train/images/IMG20250602200506_jpg.rf.fc757c18e08daccff4463baa67d2d7a1.jpg  \n",
            "  inflating: train/images/IMG20250602200523_jpg.rf.258072344788f621d9654e79a91cafd6.jpg  \n",
            "  inflating: train/images/IMG20250602200523_jpg.rf.3bbe56483eaeacef022a5e6e0c59894c.jpg  \n",
            "  inflating: train/images/IMG20250602200523_jpg.rf.53eae750d9d8c907e6cba9ed97f83a2d.jpg  \n",
            "  inflating: train/images/IMG20250602201858_jpg.rf.0f705fa3e8fb85ab0f9fcae4e33209b5.jpg  \n",
            "  inflating: train/images/IMG20250602201858_jpg.rf.399af2698a340a4c807fd8be31a6246f.jpg  \n",
            "  inflating: train/images/IMG20250602201858_jpg.rf.b264006bf7dde89ddf55884abaec6d7e.jpg  \n",
            "  inflating: train/images/IMG20250602201904_jpg.rf.4c43fefb614b030417c1cbf04774c96f.jpg  \n",
            "  inflating: train/images/IMG20250602201904_jpg.rf.cda492f9b449ddc8945220d86887d7e8.jpg  \n",
            "  inflating: train/images/IMG20250602201904_jpg.rf.d52fb3000d6194278510c9c155811121.jpg  \n",
            "  inflating: train/images/IMG20250602202505_jpg.rf.160c4be9bb532b87a23fd01d02a1fe7c.jpg  \n",
            "  inflating: train/images/IMG20250602202505_jpg.rf.63a828171d0f7155833ca26ebd5063cc.jpg  \n",
            "  inflating: train/images/IMG20250602202505_jpg.rf.ed271d4024c39e96a6734b943859c2f5.jpg  \n",
            "  inflating: train/images/IMG20250602202514_jpg.rf.393b5a8d5b8d789c950cbb36a778e022.jpg  \n",
            "  inflating: train/images/IMG20250602202514_jpg.rf.812fcdc584be1d1eccb775a14437ff33.jpg  \n",
            "  inflating: train/images/IMG20250602202514_jpg.rf.db734f38a7b7e2efc2ed3dc8404a0a50.jpg  \n",
            "  inflating: train/images/IMG20250602202520_jpg.rf.2627b04e973139fe2bf603345739f555.jpg  \n",
            "  inflating: train/images/IMG20250602202520_jpg.rf.2ad185f85493a540de903509d88bfef8.jpg  \n",
            "  inflating: train/images/IMG20250602202520_jpg.rf.cb892c5b0ca72da87276009842783eee.jpg  \n",
            "  inflating: train/images/IMG20250602202547_jpg.rf.25d0ba9028233735c566ab142829d62c.jpg  \n",
            "  inflating: train/images/IMG20250602202547_jpg.rf.eabef66bd756c2bccbf0d4a1e5ee83b5.jpg  \n",
            "  inflating: train/images/IMG20250602202547_jpg.rf.eb4e1876859a16504e668c0f1c8d3da7.jpg  \n",
            "  inflating: train/images/IMG20250602202551_jpg.rf.207907fa9b219496b769b415a470c17b.jpg  \n",
            "  inflating: train/images/IMG20250602202551_jpg.rf.76d0acb90f2cc7ffa14bcf81a8c54200.jpg  \n",
            "  inflating: train/images/IMG20250602202551_jpg.rf.d3e948aaf97944a73de17a3e8046b3d3.jpg  \n",
            "  inflating: train/images/IMG20250602202646_jpg.rf.5b07e2e8fcfcff458c3fa31679be5998.jpg  \n",
            "  inflating: train/images/IMG20250602202646_jpg.rf.83004507b422c032f5ef2c635ed86a64.jpg  \n",
            "  inflating: train/images/IMG20250602202646_jpg.rf.effd35cb13635eb1562d6dede0f64a2f.jpg  \n",
            "  inflating: train/images/IMG20250602202720_jpg.rf.4e1ef038b3ee35faeb46bba3b83c5f88.jpg  \n",
            "  inflating: train/images/IMG20250602202720_jpg.rf.ad5c9689e20e4acf9afdc662c95c826c.jpg  \n",
            "  inflating: train/images/IMG20250602202720_jpg.rf.ebd63cf8afcbc4724050219e290f92d4.jpg  \n",
            "  inflating: train/images/IMG20250602202743_jpg.rf.a336a670ccf9c6d2f3f896a729ca1c7e.jpg  \n",
            "  inflating: train/images/IMG20250602202743_jpg.rf.afaaa164a0ba686217f6d7b018117063.jpg  \n",
            "  inflating: train/images/IMG20250602202743_jpg.rf.f3776e053311bc7bee30ce6933193c35.jpg  \n",
            "  inflating: train/images/IMG20250602202751_jpg.rf.0ecbf56942566586be3d13b50bf93de8.jpg  \n",
            "  inflating: train/images/IMG20250602202751_jpg.rf.96b5c723ffeef6b75986745144a5b170.jpg  \n",
            "  inflating: train/images/IMG20250602202751_jpg.rf.b2aa4d3873bc8553a5510efebd0a3252.jpg  \n",
            "  inflating: train/images/IMG20250602202845_jpg.rf.0b6745863349dd0a1cbeaa6495deaf2a.jpg  \n",
            "  inflating: train/images/IMG20250602202845_jpg.rf.6494bb1a5c92cb67a861f4f1d88c55a1.jpg  \n",
            "  inflating: train/images/IMG20250602202845_jpg.rf.9450ec4186256c23a987d65130590ad9.jpg  \n",
            "  inflating: train/images/IMG20250602202855_jpg.rf.92de6a1ce02cfc6e96f549d4d91ca94a.jpg  \n",
            "  inflating: train/images/IMG20250602202855_jpg.rf.9b810bad11373138b221431e240e9e1a.jpg  \n",
            "  inflating: train/images/IMG20250602202855_jpg.rf.f48efedb3c765a858adf2bcecd47c5fd.jpg  \n",
            "  inflating: train/images/IMG20250602203102_jpg.rf.395f9af797b01e693bef5aca274a6bee.jpg  \n",
            "  inflating: train/images/IMG20250602203102_jpg.rf.b7ff0237ff9b92fb1e80a64e5ecfb9a6.jpg  \n",
            "  inflating: train/images/IMG20250602203102_jpg.rf.c90bcd5fa01f6baf7774fe5d18429b05.jpg  \n",
            "  inflating: train/images/IMG20250602203117_jpg.rf.67d3a0fb1bec19cc303cb8de1ec8c6a1.jpg  \n",
            "  inflating: train/images/IMG20250602203117_jpg.rf.b303725883c7192cec0c372ce8e68e82.jpg  \n",
            "  inflating: train/images/IMG20250602203117_jpg.rf.b926243846c7e79e0d9ffd6fdf3a13c2.jpg  \n",
            "  inflating: train/images/IMG20250602203137_jpg.rf.05cc4ace8eb4188896a500e607eadd22.jpg  \n",
            "  inflating: train/images/IMG20250602203137_jpg.rf.251f2aa0cac511eeb0c2a547b82f8f96.jpg  \n",
            "  inflating: train/images/IMG20250602203137_jpg.rf.cf4762d00a1fcc7e5a7db649c52be813.jpg  \n",
            "  inflating: train/images/IMG20250602203242_jpg.rf.00f97d91066e7528ec9851ca6fe9a610.jpg  \n",
            "  inflating: train/images/IMG20250602203242_jpg.rf.6ccf6d7c4f7f94cb7aee3ac14f3709b4.jpg  \n",
            "  inflating: train/images/IMG20250602203242_jpg.rf.7fbec5e7e2d14528ea338f2c29a03b27.jpg  \n",
            "  inflating: train/images/IMG20250602203254_jpg.rf.03da6b64a247d84cc505aedba6838809.jpg  \n",
            "  inflating: train/images/IMG20250602203254_jpg.rf.6b631d10bb8722bd630d55fba1c40577.jpg  \n",
            "  inflating: train/images/IMG20250602203254_jpg.rf.73b3c45f1cfb5510278ea942a13a7d5a.jpg  \n",
            "  inflating: train/images/IMG20250602203451_jpg.rf.018abbe65f6b9b92fdcb7538ef28ef8d.jpg  \n",
            "  inflating: train/images/IMG20250602203451_jpg.rf.1ce15e6b67e3c5343c617cf904abd244.jpg  \n",
            "  inflating: train/images/IMG20250602203451_jpg.rf.bbf776125a40022544c4350e2464fdad.jpg  \n",
            "  inflating: train/images/IMG20250602203511_jpg.rf.4f26d2e26d98ef5b3192588d664c8620.jpg  \n",
            "  inflating: train/images/IMG20250602203511_jpg.rf.8438b2015bcf9388909c97eaeed7fd79.jpg  \n",
            "  inflating: train/images/IMG20250602203511_jpg.rf.da8f6a1bd76668dcb6cbd3d41c541ba0.jpg  \n",
            "  inflating: train/images/IMG20250602203521_jpg.rf.5994a876b2c9831b28a266d61ecf694d.jpg  \n",
            "  inflating: train/images/IMG20250602203521_jpg.rf.be96c7e006ed1f59266fcb59ed293f83.jpg  \n",
            "  inflating: train/images/IMG20250602203521_jpg.rf.dab2e03d769c18a730181d41e3fa4156.jpg  \n",
            "  inflating: train/images/IMG20250602203812_jpg.rf.3974d8b003b509970719b979c9651255.jpg  \n",
            "  inflating: train/images/IMG20250602203812_jpg.rf.8dc0ba436842e37b570576a902511f70.jpg  \n",
            "  inflating: train/images/IMG20250602203812_jpg.rf.9ff416b8e05824fef7c903abf3f7e5dc.jpg  \n",
            "  inflating: train/images/IMG20250602203829_jpg.rf.06c365ee4b4c88b443857fc572688a64.jpg  \n",
            "  inflating: train/images/IMG20250602203829_jpg.rf.377a2b546c1663a7495c312e04e8cb12.jpg  \n",
            "  inflating: train/images/IMG20250602203829_jpg.rf.ccf85145ed64cbc19c65f50dfdf81c60.jpg  \n",
            "  inflating: train/images/IMG20250602203836_jpg.rf.6989056120d24f2bdef71644725a58cb.jpg  \n",
            "  inflating: train/images/IMG20250602203836_jpg.rf.ad8d65df5b24468d6b9249b3b6c0111d.jpg  \n",
            "  inflating: train/images/IMG20250602203836_jpg.rf.f58f1536d898a4dfaae846bc3ff09a00.jpg  \n",
            "  inflating: train/images/IMG20250602203909_jpg.rf.7c16b06e4369bf27cdb439a91b8a2fa5.jpg  \n",
            "  inflating: train/images/IMG20250602203909_jpg.rf.da5a981f65d4b46cfb506c8a69dfdbc0.jpg  \n",
            "  inflating: train/images/IMG20250602203909_jpg.rf.f8bf0420cce3e17e6168e46675625731.jpg  \n",
            "  inflating: train/images/IMG20250602203939_jpg.rf.6108fef3464aa42e6a45993e94ef9bd3.jpg  \n",
            "  inflating: train/images/IMG20250602203939_jpg.rf.6639ebf9c2751eeaaf2938f0f6496f32.jpg  \n",
            "  inflating: train/images/IMG20250602203939_jpg.rf.bf67cf4fea333dbb8e94bb3061b9682f.jpg  \n",
            "  inflating: train/images/IMG20250602204100_jpg.rf.22621561bf405a1ed146e717b9cafd7c.jpg  \n",
            "  inflating: train/images/IMG20250602204100_jpg.rf.503ade2a3d1df8d857588c6cf449f226.jpg  \n",
            "  inflating: train/images/IMG20250602204100_jpg.rf.69dbd24d0415ee96fab278609581efa5.jpg  \n",
            "  inflating: train/images/IMG20250602204107_jpg.rf.3577e19c658496243eeea792f39f2cb7.jpg  \n",
            "  inflating: train/images/IMG20250602204107_jpg.rf.5993a2dff631cb8e4dc473ff80ae0d6c.jpg  \n",
            "  inflating: train/images/IMG20250602204107_jpg.rf.900fadf135a05d53a82779815c0bfeb7.jpg  \n",
            "  inflating: train/images/IMG20250602204120_jpg.rf.726270b81783fcff40dd10e2d46553ff.jpg  \n",
            "  inflating: train/images/IMG20250602204120_jpg.rf.762e18aae1f642e202893bb93dba6660.jpg  \n",
            "  inflating: train/images/IMG20250602204120_jpg.rf.fedb51a5f4ca16fb369cd85d75220625.jpg  \n",
            "  inflating: train/images/IMG20250602204214_jpg.rf.09efb0129d0db6c1438d196409b7cf3b.jpg  \n",
            "  inflating: train/images/IMG20250602204214_jpg.rf.9e8aa68dac2dc63ed35d18e0131526ce.jpg  \n",
            "  inflating: train/images/IMG20250602204214_jpg.rf.afaa340e18b69d96eb5233a7fdfe7257.jpg  \n",
            "  inflating: train/images/IMG20250602204313_jpg.rf.17e952fbd4978f436910011b43910c31.jpg  \n",
            "  inflating: train/images/IMG20250602204313_jpg.rf.399a00e6bf6693ebc6f68681631b0f85.jpg  \n",
            "  inflating: train/images/IMG20250602204313_jpg.rf.db5fa817e7f9b16e4e0b64db2c1a0389.jpg  \n",
            "  inflating: train/images/IMG20250602204343_jpg.rf.06f3158ee534f1f58f6839b4029015db.jpg  \n",
            "  inflating: train/images/IMG20250602204343_jpg.rf.3b8da0e16e1edc2c852a8db9da33fe19.jpg  \n",
            "  inflating: train/images/IMG20250602204343_jpg.rf.95f18032ebe31bfb053fd42e6f92991a.jpg  \n",
            "  inflating: train/images/IMG20250602204425_jpg.rf.42a98d90e8309b2db9b7b495facd86e8.jpg  \n",
            "  inflating: train/images/IMG20250602204425_jpg.rf.8dc920b79d8ef68620478633d5f1f618.jpg  \n",
            "  inflating: train/images/IMG20250602204425_jpg.rf.9e6f061bac33cef41c5e09bcec61c3fa.jpg  \n",
            "  inflating: train/images/IMG20250602204429_jpg.rf.9f0be1d8cbce6d362b5660b75436de4c.jpg  \n",
            "  inflating: train/images/IMG20250602204429_jpg.rf.bc58246fd3792b12b452a177328ed6c8.jpg  \n",
            "  inflating: train/images/IMG20250602204429_jpg.rf.f677fd8dd6000172282c1851117f75c0.jpg  \n",
            "  inflating: train/images/IMG20250602204433_jpg.rf.898beda9d0b465f152552d92cf8d9800.jpg  \n",
            "  inflating: train/images/IMG20250602204433_jpg.rf.c34f070bf0c9f75baa11ca5757425049.jpg  \n",
            "  inflating: train/images/IMG20250602204433_jpg.rf.f55623e83b1b323072cf0ebf23e700ad.jpg  \n",
            "  inflating: train/images/IMG20250602204447_jpg.rf.0639fc69c82f4188dbabec8a6086c17b.jpg  \n",
            "  inflating: train/images/IMG20250602204447_jpg.rf.261313f8680ec433bffa68c4b78ca956.jpg  \n",
            "  inflating: train/images/IMG20250602204447_jpg.rf.f157f7863f898c72d7eb25f7385736e4.jpg  \n",
            "  inflating: train/images/IMG20250602204451_jpg.rf.5cc512f8310f99982576aa1003862466.jpg  \n",
            "  inflating: train/images/IMG20250602204451_jpg.rf.66d6d0518c2803823a055b4a3f7ea7ec.jpg  \n",
            "  inflating: train/images/IMG20250602204451_jpg.rf.e9cce45f691135a596f081ed86fa35cc.jpg  \n",
            "  inflating: train/images/IMG20250602204501_jpg.rf.0954181c5966d2a4d9e482262da5f751.jpg  \n",
            "  inflating: train/images/IMG20250602204501_jpg.rf.3e5c12925b167466c92b6de8f91d7d39.jpg  \n",
            "  inflating: train/images/IMG20250602204501_jpg.rf.b3913ecfa26bb5c69d1b9f3033b5984e.jpg  \n",
            "  inflating: train/images/IMG20250602204515_jpg.rf.bef15ad089cbf98faf377095295043ee.jpg  \n",
            "  inflating: train/images/IMG20250602204515_jpg.rf.d62f754ae1b42156f3c26abdd28d628b.jpg  \n",
            "  inflating: train/images/IMG20250602204515_jpg.rf.eb511455ea44e8cc85c9a1253c215c95.jpg  \n",
            "  inflating: train/images/IMG20250602204521_jpg.rf.0c6b3a3f327c9fc2e62d1a29ac3aac26.jpg  \n",
            "  inflating: train/images/IMG20250602204521_jpg.rf.0d4a74d8d8a17f8fafb6f1393df237de.jpg  \n",
            "  inflating: train/images/IMG20250602204521_jpg.rf.1849948c200ae6f5bf258bdf279e6094.jpg  \n",
            "  inflating: train/images/IMG20250602204610_jpg.rf.570f478de2b9e992b53d007b5dbd6d36.jpg  \n",
            "  inflating: train/images/IMG20250602204610_jpg.rf.582f2548269f03277929fb80fdf44a5a.jpg  \n",
            "  inflating: train/images/IMG20250602204610_jpg.rf.77cd7a43cf1c651edc061525560bbd10.jpg  \n",
            "  inflating: train/images/IMG20250602204615_jpg.rf.11effe1bba75cecb47f130dcbce64e96.jpg  \n",
            "  inflating: train/images/IMG20250602204615_jpg.rf.77b53bc43c2bdcf62aeb8d03dea74b3f.jpg  \n",
            "  inflating: train/images/IMG20250602204615_jpg.rf.b8c42b76beb1971e00dbe11eb638d5b3.jpg  \n",
            "  inflating: train/images/IMG20250602204625_jpg.rf.7e663799c019f6d9c63f4b8cf8d076b2.jpg  \n",
            "  inflating: train/images/IMG20250602204625_jpg.rf.818e4cef5695fc42b2bc8520eeae7197.jpg  \n",
            "  inflating: train/images/IMG20250602204625_jpg.rf.cb5f5971858fc1be2eb90f600e67628f.jpg  \n",
            "  inflating: train/images/IMG20250602204629_jpg.rf.96617d68c4c5069e84544e0ee468c732.jpg  \n",
            "  inflating: train/images/IMG20250602204629_jpg.rf.9f3f0e97f8e732e7068be9be295f07c0.jpg  \n",
            "  inflating: train/images/IMG20250602204629_jpg.rf.b90bfa424331c2b77303ec43af0d9eca.jpg  \n",
            "  inflating: train/images/IMG20250602204636_jpg.rf.29698e3c1093e309e880fafc36fcb6c1.jpg  \n",
            "  inflating: train/images/IMG20250602204636_jpg.rf.519298ebfd93eb9b2b395234754f5a59.jpg  \n",
            "  inflating: train/images/IMG20250602204636_jpg.rf.fd14686f0d4d439efbcd6ccbcdb7e092.jpg  \n",
            "  inflating: train/images/IMG20250602204727_jpg.rf.2f133773463513540572d214cf2e3974.jpg  \n",
            "  inflating: train/images/IMG20250602204727_jpg.rf.33af601e43b25532231ef67f56ee215a.jpg  \n",
            "  inflating: train/images/IMG20250602204727_jpg.rf.551282703684bf96cd05c31c829cc6ae.jpg  \n",
            "  inflating: train/images/IMG20250602204748_jpg.rf.28c2978854fd48a953797eeac8fdc176.jpg  \n",
            "  inflating: train/images/IMG20250602204748_jpg.rf.65fd128daf6d452fee3b34291ab09258.jpg  \n",
            "  inflating: train/images/IMG20250602204748_jpg.rf.f617ab35d53a6d1afa455e0d15b79efd.jpg  \n",
            "  inflating: train/images/IMG20250602204757_jpg.rf.4a91360f124e95d7edd73fb881d71ac5.jpg  \n",
            "  inflating: train/images/IMG20250602204757_jpg.rf.6d0e302c70c92dacbb0dd1a8ff2c7061.jpg  \n",
            "  inflating: train/images/IMG20250602204757_jpg.rf.ec06929662024844d4b1fd41d124782e.jpg  \n",
            "  inflating: train/images/IMG20250602204856_jpg.rf.21e1bc7c106420b086d67b785bd8e7c5.jpg  \n",
            "  inflating: train/images/IMG20250602204856_jpg.rf.f4848015fa8d1303dc03100d0f1c58f6.jpg  \n",
            "  inflating: train/images/IMG20250602204856_jpg.rf.f6a6af7f1654d4bef3f491dfdc279206.jpg  \n",
            "  inflating: train/images/IMG20250602204907_jpg.rf.3b0edd88384f09bda2b32603dc5f526a.jpg  \n",
            "  inflating: train/images/IMG20250602204907_jpg.rf.65882a61e0fb5d5916f7b14576339650.jpg  \n",
            "  inflating: train/images/IMG20250602204907_jpg.rf.86f7a43bf3b1fefa35870e53fb7b2b9a.jpg  \n",
            "  inflating: train/images/IMG20250602204922_jpg.rf.140de8559b9358a204aafde044beeead.jpg  \n",
            "  inflating: train/images/IMG20250602204922_jpg.rf.15508879d44140dea899139fa1a9a4d6.jpg  \n",
            "  inflating: train/images/IMG20250602204922_jpg.rf.1ae4771f5259f1babfd00f3a4078b6c0.jpg  \n",
            "  inflating: train/images/IMG20250602205027_jpg.rf.57c5dc751725432980d20af9d294f537.jpg  \n",
            "  inflating: train/images/IMG20250602205027_jpg.rf.89167abc39f2511dbcd8a1b8fe0232db.jpg  \n",
            "  inflating: train/images/IMG20250602205027_jpg.rf.bff2de15f364e60e13aef8d29e8a3bf5.jpg  \n",
            "  inflating: train/images/IMG20250602205035_jpg.rf.479584020c4f933cb4b5ac36befbe63a.jpg  \n",
            "  inflating: train/images/IMG20250602205035_jpg.rf.6228ea954298173b6106bc6c6c73cc73.jpg  \n",
            "  inflating: train/images/IMG20250602205035_jpg.rf.e2fb607eb553cf0ec8fe428853549829.jpg  \n",
            "  inflating: train/images/IMG20250602205043_jpg.rf.8c0996206f6529b548fc35660e1fd5d6.jpg  \n",
            "  inflating: train/images/IMG20250602205043_jpg.rf.b62c01b7eced46c427d4385c913adc50.jpg  \n",
            "  inflating: train/images/IMG20250602205043_jpg.rf.bf29e8e55e03847027719cf900ccbafe.jpg  \n",
            "  inflating: train/images/IMG20250602205104_jpg.rf.23dac2b2b385540f8c31c16535366de0.jpg  \n",
            "  inflating: train/images/IMG20250602205104_jpg.rf.34e2c6eac10e165e5a6dfbf3c6997039.jpg  \n",
            "  inflating: train/images/IMG20250602205104_jpg.rf.469eb392d9a43a6ae2f1d0fc31cc465e.jpg  \n",
            "  inflating: train/images/IMG20250602205157_jpg.rf.1cc92b7cad2ada14ad56341534264b06.jpg  \n",
            "  inflating: train/images/IMG20250602205157_jpg.rf.482e7f7b213d2f924abde1a44040d927.jpg  \n",
            "  inflating: train/images/IMG20250602205157_jpg.rf.cd7eb0d1f51916480fb1fb00b730a3a4.jpg  \n",
            "  inflating: train/images/IMG20250602205203_jpg.rf.9648a88fe7439f0c1551783c28730431.jpg  \n",
            "  inflating: train/images/IMG20250602205203_jpg.rf.e363d5f0c125de3815de9d0fd7949915.jpg  \n",
            "  inflating: train/images/IMG20250602205203_jpg.rf.fa3f061bb067768d662a45df4a47a94f.jpg  \n",
            "  inflating: train/images/IMG20250602205222_jpg.rf.6d9662153cc91b81b25c4cba78a5233e.jpg  \n",
            "  inflating: train/images/IMG20250602205222_jpg.rf.7894cde7f6a02e71051a9ee470d874ad.jpg  \n",
            "  inflating: train/images/IMG20250602205222_jpg.rf.caf574927bc10334378cf538705098c6.jpg  \n",
            "  inflating: train/images/IMG20250602205230_jpg.rf.484c521050ee9704dc2ec81e65522efb.jpg  \n",
            "  inflating: train/images/IMG20250602205230_jpg.rf.6a50a40c5efc379b89c6494af848605c.jpg  \n",
            "  inflating: train/images/IMG20250602205230_jpg.rf.713a65011b5668b34455c24312a2d574.jpg  \n",
            "  inflating: train/images/IMG20250602205323_jpg.rf.4260a904f3cc95b9d2e9cf537e46bbf1.jpg  \n",
            "  inflating: train/images/IMG20250602205323_jpg.rf.637dbb879f2964d6f6f185888f475d2a.jpg  \n",
            "  inflating: train/images/IMG20250602205323_jpg.rf.e60286047960b5a312197de730819b72.jpg  \n",
            "  inflating: train/images/IMG20250602205419_jpg.rf.7aa86fb3df58f20d00c2a60c7bbaded6.jpg  \n",
            "  inflating: train/images/IMG20250602205419_jpg.rf.9a3c908ab6218e30f1962907e323233d.jpg  \n",
            "  inflating: train/images/IMG20250602205419_jpg.rf.eb6bebb54e8f0c7c467b80e5c7f428c5.jpg  \n",
            "  inflating: train/images/IMG20250602205423_jpg.rf.343447d8e462e6d7da8dba8720413ad1.jpg  \n",
            "  inflating: train/images/IMG20250602205423_jpg.rf.c40ea43e8a57378b7623c326c210c36d.jpg  \n",
            "  inflating: train/images/IMG20250602205423_jpg.rf.d64711f4e078aad5b2324408edd32f16.jpg  \n",
            "  inflating: train/images/IMG20250602205536_jpg.rf.349bd07291097dfa14161a3079b4e484.jpg  \n",
            "  inflating: train/images/IMG20250602205536_jpg.rf.bc244f5a82b62da6217246d39a85112c.jpg  \n",
            "  inflating: train/images/IMG20250602205536_jpg.rf.da7c2362d5a78c6eaf273784c96361e6.jpg  \n",
            "  inflating: train/images/IMG20250602205540_jpg.rf.563641263586ccef89287310eceddbde.jpg  \n",
            "  inflating: train/images/IMG20250602205540_jpg.rf.6b47e4d59e3445ad7faec6b42d9539be.jpg  \n",
            "  inflating: train/images/IMG20250602205540_jpg.rf.889200183178951d308f20c0a5df88c8.jpg  \n",
            "  inflating: train/images/IMG20250602205604_jpg.rf.8cf7c13b8cf81158c3697800f1daf8ee.jpg  \n",
            "  inflating: train/images/IMG20250602205604_jpg.rf.a8551e0a5ab26379d93dec60cec5cc45.jpg  \n",
            "  inflating: train/images/IMG20250602205604_jpg.rf.f80af688fc3a2789fc66b0d38e9d8aba.jpg  \n",
            "  inflating: train/images/IMG20250602205630_jpg.rf.4937c7a41dc8cfffb0ee1858a0828f0f.jpg  \n",
            "  inflating: train/images/IMG20250602205630_jpg.rf.af68ae53ba3bf21cf079444eb3aa11c8.jpg  \n",
            "  inflating: train/images/IMG20250602205630_jpg.rf.f4631821dedfb1c079f2c2fd011ee753.jpg  \n",
            "  inflating: train/images/IMG20250602205644_jpg.rf.2aa383487b53dbebd3f81890c1077fac.jpg  \n",
            "  inflating: train/images/IMG20250602205644_jpg.rf.4f62b7c2c54f8379f213908b35ddaa24.jpg  \n",
            "  inflating: train/images/IMG20250602205644_jpg.rf.66bb8bef5cebaf1570c66f21b7919c1a.jpg  \n",
            "  inflating: train/images/IMG20250602205746_jpg.rf.21cc71e25a91dd0bc7eaac427b5c6af7.jpg  \n",
            "  inflating: train/images/IMG20250602205746_jpg.rf.a1fcf949c74dca98efcc997d49e76575.jpg  \n",
            "  inflating: train/images/IMG20250602205746_jpg.rf.f969607e6bdc11232e20bd2e522469fc.jpg  \n",
            "  inflating: train/images/IMG20250602205752_jpg.rf.12b4b6d8300afb8fafb3f30fdcea4eb3.jpg  \n",
            "  inflating: train/images/IMG20250602205752_jpg.rf.b30d9a142598df739013169e57647ea7.jpg  \n",
            "  inflating: train/images/IMG20250602205752_jpg.rf.f784288b29a2dd9288efe34d6d7548e5.jpg  \n",
            "  inflating: train/images/IMG20250602210636_jpg.rf.1cd6f9368a2f20cd26f5aba3f4cd2ea7.jpg  \n",
            "  inflating: train/images/IMG20250602210636_jpg.rf.2e46289e3be7151f8044e8b7d1215eef.jpg  \n",
            "  inflating: train/images/IMG20250602210636_jpg.rf.973d4ec32daf5e8b53128d24c20725aa.jpg  \n",
            "  inflating: train/images/IMG20250602210642_jpg.rf.205ae26a80e4ca4eecece006c75c1056.jpg  \n",
            "  inflating: train/images/IMG20250602210642_jpg.rf.da52884a0575726fe907ddef457710d0.jpg  \n",
            "  inflating: train/images/IMG20250602210642_jpg.rf.fbc082980a06e166c5f23c23cc7e3f98.jpg  \n",
            "  inflating: train/images/IMG20250602210704_jpg.rf.42442e72f07521b814f162c6c7b60727.jpg  \n",
            "  inflating: train/images/IMG20250602210704_jpg.rf.577c8b95c2a3f002e1286c7776c3b9d5.jpg  \n",
            "  inflating: train/images/IMG20250602210704_jpg.rf.6b2eaf43c4ccdc05b96c9fc7a3cd6c97.jpg  \n",
            "  inflating: train/images/IMG20250602210713_jpg.rf.ad97753259ecc0b9b7c96ec2ae61cb43.jpg  \n",
            "  inflating: train/images/IMG20250602210713_jpg.rf.b6cf2bb3e88ec27404dd99b2d8de62b2.jpg  \n",
            "  inflating: train/images/IMG20250602210713_jpg.rf.fe97bcd342e57788d7c176758998750e.jpg  \n",
            "  inflating: train/images/IMG20250602210757_jpg.rf.0d84cd37e446a3ff6c67f7e461b2b472.jpg  \n",
            "  inflating: train/images/IMG20250602210757_jpg.rf.1268bed2ff9c148e86fbb8a8d266e288.jpg  \n",
            "  inflating: train/images/IMG20250602210757_jpg.rf.61346a5d970dd508093c95f4a0f2f6c4.jpg  \n",
            "  inflating: train/images/IMG20250602210801_jpg.rf.0233c3e94c1ca7e9010d4c38e921fe07.jpg  \n",
            "  inflating: train/images/IMG20250602210801_jpg.rf.29332163b039d215e5b0d8ab5010195f.jpg  \n",
            "  inflating: train/images/IMG20250602210801_jpg.rf.606f09404cb16a1658c389d3e6a4ef36.jpg  \n",
            "  inflating: train/images/IMG20250602210810_jpg.rf.355f4e0e56145f4eb2d08a7dda0c0463.jpg  \n",
            "  inflating: train/images/IMG20250602210810_jpg.rf.9730578806fc6117235c2238acb6a166.jpg  \n",
            "  inflating: train/images/IMG20250602210810_jpg.rf.f1b9288b4f4493b8904640921282dc56.jpg  \n",
            "  inflating: train/images/IMG20250602210815_jpg.rf.b18ecd833879364942d62e4903c3213a.jpg  \n",
            "  inflating: train/images/IMG20250602210815_jpg.rf.b54a9af233cbb9aa05b20eaa6bcc60c0.jpg  \n",
            "  inflating: train/images/IMG20250602210815_jpg.rf.ca3643e55011a7c5901e470fb27a3f9a.jpg  \n",
            "  inflating: train/images/IMG20250602211051_jpg.rf.4905ed48605eb453d33a552c80910f7d.jpg  \n",
            "  inflating: train/images/IMG20250602211051_jpg.rf.c9c83a51a6f4dc1658e0baea9b5fcacc.jpg  \n",
            "  inflating: train/images/IMG20250602211051_jpg.rf.e0af4ae228ec64b8f4f4ec3617e633a6.jpg  \n",
            "  inflating: train/images/IMG20250602211054_jpg.rf.0ab5e30c22a8312a4f1869ff8016e609.jpg  \n",
            "  inflating: train/images/IMG20250602211054_jpg.rf.5639a5840278d2340e12a6b6f62dab0f.jpg  \n",
            "  inflating: train/images/IMG20250602211054_jpg.rf.6de43939a775287dfe57a0f290b06763.jpg  \n",
            "  inflating: train/images/IMG20250602211057_jpg.rf.60529621fc5868d2e32f62c2287b7a4d.jpg  \n",
            "  inflating: train/images/IMG20250602211057_jpg.rf.9889b6e1dcf22527b601704d21d5da20.jpg  \n",
            "  inflating: train/images/IMG20250602211057_jpg.rf.f09075e909e1c3c0138c3a828b145641.jpg  \n",
            "  inflating: train/images/IMG20250602211102_jpg.rf.2c3f87a3ad28e8e062ea102a0bb3e7db.jpg  \n",
            "  inflating: train/images/IMG20250602211102_jpg.rf.9211a1d1f64f699c5009eb6cd2bad859.jpg  \n",
            "  inflating: train/images/IMG20250602211102_jpg.rf.ec3a0fbecf51362c7a7640175240ac6d.jpg  \n",
            "  inflating: train/images/IMG20250602211111_jpg.rf.02754b9d919155f6c5b49feeb7fb4870.jpg  \n",
            "  inflating: train/images/IMG20250602211111_jpg.rf.0fe921e3c0fb83ca80f4eefeed929d7e.jpg  \n",
            "  inflating: train/images/IMG20250602211111_jpg.rf.fc1251ac498f063ec908f89326561c23.jpg  \n",
            "  inflating: train/images/IMG20250602211117_jpg.rf.701580c4ab1a867b3ebd63afbd6cc2b2.jpg  \n",
            "  inflating: train/images/IMG20250602211117_jpg.rf.cd9c241e56e49af98ada01c5c398d2dd.jpg  \n",
            "  inflating: train/images/IMG20250602211117_jpg.rf.d5f72c8bb03e1b11c30cb687a7a94643.jpg  \n",
            "  inflating: train/images/IMG20250602211120_jpg.rf.a0c6d5effc636192db0056f50074d4ee.jpg  \n",
            "  inflating: train/images/IMG20250602211120_jpg.rf.d1f90e66cd3d0b1da97fed446c1b1e64.jpg  \n",
            "  inflating: train/images/IMG20250602211120_jpg.rf.da998fedbef3755fc454a9bcff8d646a.jpg  \n",
            "  inflating: train/images/IMG20250602211200_jpg.rf.152807e2cf3701d88225bdca5dcedd81.jpg  \n",
            "  inflating: train/images/IMG20250602211200_jpg.rf.47858af04d9979deb8b1072fc36ed887.jpg  \n",
            "  inflating: train/images/IMG20250602211200_jpg.rf.d8a92de25192ab4de749bb353e8196a7.jpg  \n",
            "  inflating: train/images/IMG20250602211209_jpg.rf.b5a24e95491096404e262e2b0dddbc79.jpg  \n",
            "  inflating: train/images/IMG20250602211209_jpg.rf.bded724097849ae7065b7a26f4c83203.jpg  \n",
            "  inflating: train/images/IMG20250602211209_jpg.rf.ed9af24e2c27292aa6c5cbf144da3e32.jpg  \n",
            "  inflating: train/images/IMG20250602211435_jpg.rf.33c4a8a10753c8b3b95e0eb4ebc095cd.jpg  \n",
            "  inflating: train/images/IMG20250602211435_jpg.rf.55d9caf573a283ed5074257048a2e842.jpg  \n",
            "  inflating: train/images/IMG20250602211435_jpg.rf.ac470592e489855cb706370c3b87e9a5.jpg  \n",
            "  inflating: train/images/IMG20250602211737_jpg.rf.3bc60ca8e989688cc606e233c82b5056.jpg  \n",
            "  inflating: train/images/IMG20250602211737_jpg.rf.6f90bdeaab6c97ae00078fb4004badbf.jpg  \n",
            "  inflating: train/images/IMG20250602211737_jpg.rf.e8a07bfe2eb03bbffa532027e61f4190.jpg  \n",
            "  inflating: train/images/IMG20250602211743_jpg.rf.711965aa7ad4e1a1d2174020849fd646.jpg  \n",
            "  inflating: train/images/IMG20250602211743_jpg.rf.9d546b286b4ddb71e173b94ed735f68c.jpg  \n",
            "  inflating: train/images/IMG20250602211743_jpg.rf.a1ff2618b80b0b90f0d778d44e7d4e54.jpg  \n",
            "  inflating: train/images/IMG20250602211810_jpg.rf.6abddd3b431c13b7fe3cd1ee26452632.jpg  \n",
            "  inflating: train/images/IMG20250602211810_jpg.rf.75d71ab05c3906a99d0ee13772a338f1.jpg  \n",
            "  inflating: train/images/IMG20250602211810_jpg.rf.a0ac118e8122b4f7460db98e84a3c176.jpg  \n",
            "  inflating: train/images/IMG20250602211910_jpg.rf.2d308893280bb13b1dca5c991839e8ab.jpg  \n",
            "  inflating: train/images/IMG20250602211910_jpg.rf.424d232df5f3e35f861c1d0ff30bcdff.jpg  \n",
            "  inflating: train/images/IMG20250602211910_jpg.rf.90142d9d3a3e68441f030173d4362ebf.jpg  \n",
            "  inflating: train/images/IMG20250602211944_jpg.rf.1e5904220d1b3636ff344fac5e8a5576.jpg  \n",
            "  inflating: train/images/IMG20250602211944_jpg.rf.1ec063b4b56f39eb820bf7ff51b628d5.jpg  \n",
            "  inflating: train/images/IMG20250602211944_jpg.rf.c2edd7d3b4c547a3e217cd8a5bc4a670.jpg  \n",
            "  inflating: train/images/IMG20250602211951_jpg.rf.862272855a17278c924ca2079c19802f.jpg  \n",
            "  inflating: train/images/IMG20250602211951_jpg.rf.b7c54c7d8c6589267f91f041641045ec.jpg  \n",
            "  inflating: train/images/IMG20250602211951_jpg.rf.c23674bc110bf91859eabdc32d2cb62b.jpg  \n",
            "  inflating: train/images/IMG20250602211956_jpg.rf.279e297c07b0c21e2a375401aad3ab0e.jpg  \n",
            "  inflating: train/images/IMG20250602211956_jpg.rf.b401acacad308f4307823745ba988202.jpg  \n",
            "  inflating: train/images/IMG20250602211956_jpg.rf.d5ac4faabbef0e03cb79a875b93ef648.jpg  \n",
            "  inflating: train/images/IMG20250602212058_jpg.rf.6f2c390424990b9dc52cdd2f351535e6.jpg  \n",
            "  inflating: train/images/IMG20250602212058_jpg.rf.86fe859055da9f59a1079be325159a90.jpg  \n",
            "  inflating: train/images/IMG20250602212058_jpg.rf.f8c61d21f0b0de64ae758055b11813ac.jpg  \n",
            "  inflating: train/images/IMG20250602212106_jpg.rf.5a5bf33cb9713ec7e0cb4f134c1c73d9.jpg  \n",
            "  inflating: train/images/IMG20250602212106_jpg.rf.d16ea8f21f737d58b00baa0102eea297.jpg  \n",
            "  inflating: train/images/IMG20250602212106_jpg.rf.fe31d76ed6c25d59b740d10c4457d282.jpg  \n",
            "  inflating: train/images/IMG20250602212117_jpg.rf.0e9372f263f93d6114f4b4eac7cf944b.jpg  \n",
            "  inflating: train/images/IMG20250602212117_jpg.rf.4645d6a4a88c2eb24055a4723f1fc0b5.jpg  \n",
            "  inflating: train/images/IMG20250602212117_jpg.rf.7f2c238bff0a5e0883b6576ec81aa1ac.jpg  \n",
            "  inflating: train/images/IMG20250602212124_jpg.rf.157582aeb8589a7ca665faf9502c6636.jpg  \n",
            "  inflating: train/images/IMG20250602212124_jpg.rf.60cf9c895a574326ee670c89ca889590.jpg  \n",
            "  inflating: train/images/IMG20250602212124_jpg.rf.b703b34810f3010dd4a98d42d99ee9cf.jpg  \n",
            "  inflating: train/images/IMG20250602212134_jpg.rf.74860cce70cfa8b96efc778694370e81.jpg  \n",
            "  inflating: train/images/IMG20250602212134_jpg.rf.84ead7e78fe057dde0b029985aaf876c.jpg  \n",
            "  inflating: train/images/IMG20250602212134_jpg.rf.ec5e8334723b3cc074e93fb5b5022bbf.jpg  \n",
            "  inflating: train/images/IMG20250602212213_jpg.rf.9ac054b70e876d94897dc9bb72720765.jpg  \n",
            "  inflating: train/images/IMG20250602212213_jpg.rf.c837a82d8498027a1b37450c3b7da208.jpg  \n",
            "  inflating: train/images/IMG20250602212213_jpg.rf.d8f74bf5bd44b02b78b81f78f577a926.jpg  \n",
            "  inflating: train/images/IMG20250602212217_jpg.rf.889b60702b710338c6c1d20116165077.jpg  \n",
            "  inflating: train/images/IMG20250602212217_jpg.rf.c124654a347b444ef7aedec8ac96d7e1.jpg  \n",
            "  inflating: train/images/IMG20250602212217_jpg.rf.febe32502d13cd64208a16df2b1a5512.jpg  \n",
            "  inflating: train/images/IMG20250602212227_jpg.rf.1980ab283f1544818e1833140b559ccd.jpg  \n",
            "  inflating: train/images/IMG20250602212227_jpg.rf.62faa9824ffcc7542260bb57836fa607.jpg  \n",
            "  inflating: train/images/IMG20250602212227_jpg.rf.86241ad26234f8fac2789c4a102cbcb4.jpg  \n",
            "  inflating: train/images/IMG20250602212234_jpg.rf.9dba60f531e7ec6dd352c24e6d598955.jpg  \n",
            "  inflating: train/images/IMG20250602212234_jpg.rf.c5f7a340940a217316de681cb0bd7cac.jpg  \n",
            "  inflating: train/images/IMG20250602212234_jpg.rf.d6163a5031f3157322220f48b109b75c.jpg  \n",
            "  inflating: train/images/IMG20250602212323_jpg.rf.841521151f41d47c3bdbd213d13f6b64.jpg  \n",
            "  inflating: train/images/IMG20250602212323_jpg.rf.bb75d30d7aebb04ed4c163ad579a422b.jpg  \n",
            "  inflating: train/images/IMG20250602212323_jpg.rf.d9117663139fe21891bedb52e8c6e8aa.jpg  \n",
            "  inflating: train/images/IMG20250602212349_jpg.rf.503986c9351767268c2e501fe0008f71.jpg  \n",
            "  inflating: train/images/IMG20250602212349_jpg.rf.58108e3708540964d5994fd4150e7e55.jpg  \n",
            "  inflating: train/images/IMG20250602212349_jpg.rf.f0c9f3c873db0d9e509c3a4b1fe2c5fd.jpg  \n",
            "  inflating: train/images/IMG20250602212401_jpg.rf.4ef7ce4e550919f34d417669691d49f2.jpg  \n",
            "  inflating: train/images/IMG20250602212401_jpg.rf.bcded8b4734e4669f67cc2a6c889d647.jpg  \n",
            "  inflating: train/images/IMG20250602212401_jpg.rf.cf5f9a7c4f5ffb0287673e1869f60555.jpg  \n",
            "  inflating: train/images/IMG20250602212407_jpg.rf.139c469e044c59380ea1d203433e58ff.jpg  \n",
            "  inflating: train/images/IMG20250602212407_jpg.rf.7d86e9902137b5bc11a3c4e79b9fa8ca.jpg  \n",
            "  inflating: train/images/IMG20250602212407_jpg.rf.c8ebe906ec947154ad5c0306aa1c8e0e.jpg  \n",
            "  inflating: train/images/IMG20250602212415_jpg.rf.41fa8dcc75aeec62b9ff63e0bfba9cd0.jpg  \n",
            "  inflating: train/images/IMG20250602212415_jpg.rf.60d6d22449c723c5f20536d87cf877b5.jpg  \n",
            "  inflating: train/images/IMG20250602212415_jpg.rf.7be41fd4d4dbcc2fd6cff2d5515f10d4.jpg  \n",
            "  inflating: train/images/IMG20250602212441_jpg.rf.251306869991033be82dac4a0d57d1a2.jpg  \n",
            "  inflating: train/images/IMG20250602212441_jpg.rf.e1612967659b84f19b1b09fdd0e5e1d4.jpg  \n",
            "  inflating: train/images/IMG20250602212441_jpg.rf.fac02a273226be2b71765908eebff39a.jpg  \n",
            "  inflating: train/images/IMG20250602212444_jpg.rf.6c9c995388fe616aa776a08eecbc404d.jpg  \n",
            "  inflating: train/images/IMG20250602212444_jpg.rf.9956814d7f158ff2774ca449ed4442c2.jpg  \n",
            "  inflating: train/images/IMG20250602212444_jpg.rf.c7d9421f73549aea940d3a416c33ca92.jpg  \n",
            "  inflating: train/images/IMG20250602212524_jpg.rf.0d524c2a7a73fe068017df6ed79b7d7f.jpg  \n",
            "  inflating: train/images/IMG20250602212524_jpg.rf.9562d3e1e114c1f00631aab34d1d57aa.jpg  \n",
            "  inflating: train/images/IMG20250602212524_jpg.rf.f8e3ddfca7fd5e1cd67b19c4079037cb.jpg  \n",
            "  inflating: train/images/IMG20250602212622_jpg.rf.0f40e4feb5c39eaa91358291bd427e8a.jpg  \n",
            "  inflating: train/images/IMG20250602212622_jpg.rf.3c0208caa424c9ec19b7b704651b7172.jpg  \n",
            "  inflating: train/images/IMG20250602212622_jpg.rf.7a41413ad12074acc16e0f9bfa57d9b9.jpg  \n",
            "  inflating: train/images/IMG20250602212720_jpg.rf.5557d651cc2fc845a859d2713eb28f82.jpg  \n",
            "  inflating: train/images/IMG20250602212720_jpg.rf.6f96567fa2bba615920182cfa03b8d8e.jpg  \n",
            "  inflating: train/images/IMG20250602212720_jpg.rf.a4ce05d82207bf14f6ba0f4800ff4db4.jpg  \n",
            "  inflating: train/images/IMG20250602212742_jpg.rf.439fc20dcc9124a178c549c878bb355d.jpg  \n",
            "  inflating: train/images/IMG20250602212742_jpg.rf.8b64013c4b8583564932784c7aad40df.jpg  \n",
            "  inflating: train/images/IMG20250602212742_jpg.rf.f0167b7e7b09ac213a5c2e78f9b5d268.jpg  \n",
            "  inflating: train/images/IMG20250602212745_jpg.rf.3d0ec22dc8f0f2c5b2c924115f79fd6e.jpg  \n",
            "  inflating: train/images/IMG20250602212745_jpg.rf.7f4c9db97c760bbcfcad9265d63727f4.jpg  \n",
            "  inflating: train/images/IMG20250602212745_jpg.rf.a264c2395744ed1d0f8c5fd663d3c319.jpg  \n",
            "  inflating: train/images/IMG20250602212749_jpg.rf.aba13c65efce52889cbcd30336a1d343.jpg  \n",
            "  inflating: train/images/IMG20250602212749_jpg.rf.ac58cf69ce098299c6d41f80c171eee8.jpg  \n",
            "  inflating: train/images/IMG20250602212749_jpg.rf.acac702d70b8132c10d83c00aa73e669.jpg  \n",
            "  inflating: train/images/IMG20250602212832_jpg.rf.c8c22b17b765b481c04cb11f1714b113.jpg  \n",
            "  inflating: train/images/IMG20250602212832_jpg.rf.e3e233f2e063b2c7da17f2ac5259535e.jpg  \n",
            "  inflating: train/images/IMG20250602212832_jpg.rf.fa669ac06e097bd9658b02071a83d6e5.jpg  \n",
            "  inflating: train/images/IMG20250602212838_jpg.rf.8eebbaeb6b7555ba8a92ac323d978e7c.jpg  \n",
            "  inflating: train/images/IMG20250602212838_jpg.rf.8f66daef423eacb16c1a7ec7244d47d3.jpg  \n",
            "  inflating: train/images/IMG20250602212838_jpg.rf.db5a23adf391f874a9bf7e86c891be18.jpg  \n",
            "  inflating: train/images/IMG20250602212848_jpg.rf.a9d8528cc627454543adb731cecddcf7.jpg  \n",
            "  inflating: train/images/IMG20250602212848_jpg.rf.e174e6a4b7c862a5b9e5a61cde4d2e72.jpg  \n",
            "  inflating: train/images/IMG20250602212848_jpg.rf.f950ac2d9dbc91a9c38a98b66e68e0eb.jpg  \n",
            "  inflating: train/images/IMG20250602212859_jpg.rf.9669188d4093b53d1fbad3f2b83d584d.jpg  \n",
            "  inflating: train/images/IMG20250602212859_jpg.rf.ea327b4aa40f4b8182da01e1c1225d44.jpg  \n",
            "  inflating: train/images/IMG20250602212859_jpg.rf.f36ee8c30e639d82da8ea829e66ee705.jpg  \n",
            "  inflating: train/images/IMG20250602212911_jpg.rf.95a0d768d3a0db3d41fd2ab1c4a176eb.jpg  \n",
            "  inflating: train/images/IMG20250602212911_jpg.rf.a39436f8409c81bd3d4335ad14b91945.jpg  \n",
            "  inflating: train/images/IMG20250602212911_jpg.rf.c725436fc1749eb0f3a857cbb14059f6.jpg  \n",
            "  inflating: train/images/IMG20250602213100_jpg.rf.0187da86a019ee7c3393b8cd47e73ccb.jpg  \n",
            "  inflating: train/images/IMG20250602213100_jpg.rf.10ecb10d109c6a4d36157e5530605ecc.jpg  \n",
            "  inflating: train/images/IMG20250602213100_jpg.rf.be9019340340a5e26d3464cad09f97d4.jpg  \n",
            "  inflating: train/images/IMG20250602213110_jpg.rf.079ba99b5775392462b0cb98bec1a544.jpg  \n",
            "  inflating: train/images/IMG20250602213110_jpg.rf.bfd5d7565186685e47e23d9247392e0e.jpg  \n",
            "  inflating: train/images/IMG20250602213110_jpg.rf.d3a0f84fdcb1b4425bd7e741521c65e1.jpg  \n",
            "  inflating: train/images/IMG20250602213117_jpg.rf.1108bee3aa83c30174640a89dc1ade20.jpg  \n",
            "  inflating: train/images/IMG20250602213117_jpg.rf.3e2b938ceb126c834d8d6b28992d3a11.jpg  \n",
            "  inflating: train/images/IMG20250602213117_jpg.rf.c01ee7bff4ebcb06bc6e08ea58040cf7.jpg  \n",
            "  inflating: train/images/IMG20250602213122_jpg.rf.284f888cad39048394331bbfc38d0783.jpg  \n",
            "  inflating: train/images/IMG20250602213122_jpg.rf.64e0c318a0696c3faade1733503e207a.jpg  \n",
            "  inflating: train/images/IMG20250602213122_jpg.rf.795c06abdf80c37e0d6287b31afd3552.jpg  \n",
            "  inflating: train/images/IMG20250602213220_jpg.rf.1b7ce45ddbe6d1b8c76efb4037ef048a.jpg  \n",
            "  inflating: train/images/IMG20250602213220_jpg.rf.4ee8376fee9a26870d0778b5409b3bdc.jpg  \n",
            "  inflating: train/images/IMG20250602213220_jpg.rf.f24a9837a8fa78a20dbe483178f78a62.jpg  \n",
            "  inflating: train/images/IMG20250602213231_jpg.rf.4c4d48b5d1d45e79d104fa2a6bcaf0f7.jpg  \n",
            "  inflating: train/images/IMG20250602213231_jpg.rf.787d68ac50db23479d5137ee3e0d3b63.jpg  \n",
            "  inflating: train/images/IMG20250602213231_jpg.rf.9518b9c70afd6f31cf2301a1b24292cc.jpg  \n",
            "  inflating: train/images/IMG20250602213256_jpg.rf.73f2795b345659cda5e14a17a6c2a3e0.jpg  \n",
            "  inflating: train/images/IMG20250602213256_jpg.rf.de1e2271ff872b181ca5e055a14158e4.jpg  \n",
            "  inflating: train/images/IMG20250602213256_jpg.rf.fcc11c0014e4a858d1054fd962cf138b.jpg  \n",
            "  inflating: train/images/IMG20250602213302_jpg.rf.2795186a4e44300e323d760184dcef95.jpg  \n",
            "  inflating: train/images/IMG20250602213302_jpg.rf.7b47d5e6ba8f5ddd3b8626116b6049e3.jpg  \n",
            "  inflating: train/images/IMG20250602213302_jpg.rf.aa40e7f46bb26536192a1d7e317457c8.jpg  \n",
            "  inflating: train/images/IMG20250602213340_jpg.rf.30335906266c46501fdd7390efabb37e.jpg  \n",
            "  inflating: train/images/IMG20250602213340_jpg.rf.823461f12e441bfeff56bb532f270c90.jpg  \n",
            "  inflating: train/images/IMG20250602213340_jpg.rf.e56b4efb8ad8d92dec9d540cbaf5176d.jpg  \n",
            "  inflating: train/images/IMG20250602213424_jpg.rf.1a44e75989cd4dfebe3990be216189a4.jpg  \n",
            "  inflating: train/images/IMG20250602213424_jpg.rf.7269bae423ef3965654040796f8e856c.jpg  \n",
            "  inflating: train/images/IMG20250602213424_jpg.rf.d19e8fa2a0b6c37208d4eb5c62a0b1e4.jpg  \n",
            "  inflating: train/images/IMG20250602213431_jpg.rf.2f3385fe7069b587a4242b76180e1f90.jpg  \n",
            "  inflating: train/images/IMG20250602213431_jpg.rf.3c8634f2c9718a620150c1ea93a01cf1.jpg  \n",
            "  inflating: train/images/IMG20250602213431_jpg.rf.d4c06e0a89ce4f181cd3fa13d0b92166.jpg  \n",
            "  inflating: train/images/IMG20250602213450_jpg.rf.24b05133757ee4f4a66d9b11f5185aff.jpg  \n",
            "  inflating: train/images/IMG20250602213450_jpg.rf.2da52e129e38bf0836e8ae84b1f651e0.jpg  \n",
            "  inflating: train/images/IMG20250602213450_jpg.rf.a14acaf22388eada13a9e89f08e8cadd.jpg  \n",
            "  inflating: train/images/IMG20250602213538_jpg.rf.7c453e3835a5247ebd1c0a4f523f0b83.jpg  \n",
            "  inflating: train/images/IMG20250602213538_jpg.rf.f29039a636482a077e27ae7574c10abf.jpg  \n",
            "  inflating: train/images/IMG20250602213538_jpg.rf.f5494b20ca48038d44aa3897ac3863d4.jpg  \n",
            "  inflating: train/images/IMG20250602213542_jpg.rf.009402c755c37ba029affb8fbc86f20e.jpg  \n",
            "  inflating: train/images/IMG20250602213542_jpg.rf.3b10c46ba20038b94c0d1e9e88929ede.jpg  \n",
            "  inflating: train/images/IMG20250602213542_jpg.rf.798ed42c036024f2a051c8cb09e2e0e6.jpg  \n",
            "  inflating: train/images/IMG20250602213556_jpg.rf.076ff49515b1fbf1e7af7a82a4ed64de.jpg  \n",
            "  inflating: train/images/IMG20250602213556_jpg.rf.d37d73da0743b98464e0b969e5bd2ee1.jpg  \n",
            "  inflating: train/images/IMG20250602213556_jpg.rf.e403702cdca4b7bc882e98a2b3efb744.jpg  \n",
            "  inflating: train/images/IMG20250602213602_jpg.rf.48a33b2e133ea7433a2d18a042c9c96e.jpg  \n",
            "  inflating: train/images/IMG20250602213602_jpg.rf.9ae4b81104ced31cf6a7b5754e0542c6.jpg  \n",
            "  inflating: train/images/IMG20250602213602_jpg.rf.ee6b9faaf19c6fdd1df386da84cea694.jpg  \n",
            "  inflating: train/images/IMG20250602213625_jpg.rf.9f5a37343d341e1e815e44b7f54a5be7.jpg  \n",
            "  inflating: train/images/IMG20250602213625_jpg.rf.9f6aeaf8b3f82cea86e2abb125d4b265.jpg  \n",
            "  inflating: train/images/IMG20250602213625_jpg.rf.b4e73d644d456f50d95435599303d1d9.jpg  \n",
            "  inflating: train/images/IMG20250602213628_jpg.rf.4e4c64aa466e048b2479d2b1c1e1f384.jpg  \n",
            "  inflating: train/images/IMG20250602213628_jpg.rf.b61027e16d5e8f581e06ac26ae7f2fa4.jpg  \n",
            "  inflating: train/images/IMG20250602213628_jpg.rf.ea1e73bbc3ab94dfbe9e099374cd64d8.jpg  \n",
            "  inflating: train/images/IMG20250602213630_jpg.rf.2252d8f3edea24860e8dcde218183c70.jpg  \n",
            "  inflating: train/images/IMG20250602213630_jpg.rf.393430ff477b798ccedc16845bf285c0.jpg  \n",
            "  inflating: train/images/IMG20250602213630_jpg.rf.4b87147c69d94786bb3e247c8aed756a.jpg  \n",
            "  inflating: train/images/IMG20250602213635_jpg.rf.167855f1629d24a795683b50813c7f46.jpg  \n",
            "  inflating: train/images/IMG20250602213635_jpg.rf.2521eccce5c5b83287cc88d2421e5293.jpg  \n",
            "  inflating: train/images/IMG20250602213635_jpg.rf.c8990eab3f0e59470a4181f4d158b1d6.jpg  \n",
            "  inflating: train/images/IMG20250602213642_jpg.rf.595fbe11ce9ab7d9d660c747121a1811.jpg  \n",
            "  inflating: train/images/IMG20250602213642_jpg.rf.7f6a051a56303a253414e1e8144ff8fb.jpg  \n",
            "  inflating: train/images/IMG20250602213642_jpg.rf.d1c70f6eb9d0fd5502854a5769cfe898.jpg  \n",
            "  inflating: train/images/IMG20250602213711_jpg.rf.74e6e1a980139e5d07e6f052fbb99d16.jpg  \n",
            "  inflating: train/images/IMG20250602213711_jpg.rf.82844276cadb982210bbbe6ac670a06f.jpg  \n",
            "  inflating: train/images/IMG20250602213711_jpg.rf.c57c8a10f41f16ab863e73aaae9cf062.jpg  \n",
            "  inflating: train/images/IMG20250602213715_jpg.rf.8151210bb44597100f06506c22ec88af.jpg  \n",
            "  inflating: train/images/IMG20250602213715_jpg.rf.b3863156e483bf24f55f346f5231081e.jpg  \n",
            "  inflating: train/images/IMG20250602213715_jpg.rf.cd604ce53a65d2f6e2ac3a88e7316d1e.jpg  \n",
            "  inflating: train/images/IMG20250602213718_jpg.rf.2deca8f348eae5f083cd78c42dc459a7.jpg  \n",
            "  inflating: train/images/IMG20250602213718_jpg.rf.58f975f48619d9f43acd39ebdbbe0ad1.jpg  \n",
            "  inflating: train/images/IMG20250602213718_jpg.rf.cf0e76ff872e632c97c054183bc63071.jpg  \n",
            "  inflating: train/images/IMG20250602213726_jpg.rf.137c8d5249c79ccb253041c03b12110e.jpg  \n",
            "  inflating: train/images/IMG20250602213726_jpg.rf.84f6e1b52cba6aa6f55d5829574f1cbc.jpg  \n",
            "  inflating: train/images/IMG20250602213726_jpg.rf.d0559d50f7d2dcfaf3bcdd899489349a.jpg  \n",
            "  inflating: train/images/IMG20250602213733_jpg.rf.a50e9a30516858e6259508a30de05ef6.jpg  \n",
            "  inflating: train/images/IMG20250602213733_jpg.rf.f4bb4b4a555634caec8b6a6490b5740d.jpg  \n",
            "  inflating: train/images/IMG20250602213733_jpg.rf.f70748c45223dbf83070263a03f494c9.jpg  \n",
            "  inflating: train/images/IMG20250602213736_jpg.rf.6c3bcbe9de7512ecf804e61510f8ade5.jpg  \n",
            "  inflating: train/images/IMG20250602213736_jpg.rf.a5de026568a89243c78d23c9b4fb91f6.jpg  \n",
            "  inflating: train/images/IMG20250602213736_jpg.rf.b58fe509b4468b97152f383738977f9e.jpg  \n",
            "  inflating: train/images/IMG20250602213824_jpg.rf.6e3f4babd6e5b1e420b27e7263f3ee4c.jpg  \n",
            "  inflating: train/images/IMG20250602213824_jpg.rf.81ae69999fcdec23affcd2462ef820b2.jpg  \n",
            "  inflating: train/images/IMG20250602213824_jpg.rf.b47ebc55624c61c968ce6e69b6afcffe.jpg  \n",
            "  inflating: train/images/IMG20250602213832_jpg.rf.3cc7a8ec137382212ee67bb6fc665541.jpg  \n",
            "  inflating: train/images/IMG20250602213832_jpg.rf.6f4913d2a284b0a4709c252fdc5c2f9a.jpg  \n",
            "  inflating: train/images/IMG20250602213832_jpg.rf.e4a787dc2734c8467a865ed84274be35.jpg  \n",
            "  inflating: train/images/IMG20250602213847_jpg.rf.816282db9143990b0ede0fb12e8c14e7.jpg  \n",
            "  inflating: train/images/IMG20250602213847_jpg.rf.c9950a265b866236fdcba83f3917f7bf.jpg  \n",
            "  inflating: train/images/IMG20250602213847_jpg.rf.e4f8896f3569106fc29a4ab0cf6c823e.jpg  \n",
            "  inflating: train/images/IMG20250602213927_jpg.rf.a1ecd59ae0af86a2255f90e02294894e.jpg  \n",
            "  inflating: train/images/IMG20250602213927_jpg.rf.d0a2ec380b7795a4a750d30a3da7a837.jpg  \n",
            "  inflating: train/images/IMG20250602213927_jpg.rf.f3ad6d71dce5917543f170ef5b0731e5.jpg  \n",
            "  inflating: train/images/IMG20250602213933_jpg.rf.334a0b8a8a0a857a12ac48eb08bf82b1.jpg  \n",
            "  inflating: train/images/IMG20250602213933_jpg.rf.a4c0d364be6ffd62d8dc0dac8fa3ff0d.jpg  \n",
            "  inflating: train/images/IMG20250602213933_jpg.rf.db401250e787f7328a6f8f3f8fcca2f2.jpg  \n",
            "  inflating: train/images/IMG20250602213946_jpg.rf.c588b35520a6892d5d0389ad446db672.jpg  \n",
            "  inflating: train/images/IMG20250602213946_jpg.rf.e1d1c6b89e1736294e6eb654debed5b4.jpg  \n",
            "  inflating: train/images/IMG20250602213946_jpg.rf.e5b29ee6cf20714943c29516ab6c941a.jpg  \n",
            "  inflating: train/images/IMG20250602213955_jpg.rf.0628f8f63d40481ece50e4e09713f7d1.jpg  \n",
            "  inflating: train/images/IMG20250602213955_jpg.rf.9cb97501855ce2eab5ddc58a6abd518d.jpg  \n",
            "  inflating: train/images/IMG20250602213955_jpg.rf.b148d754551224f3e6aaa0d0b5d3c51f.jpg  \n",
            "  inflating: train/images/IMG20250602214048_jpg.rf.1d2232c182503491afc0ee3491efe810.jpg  \n",
            "  inflating: train/images/IMG20250602214048_jpg.rf.aca14d734d4ada50bbc8f323d7a82208.jpg  \n",
            "  inflating: train/images/IMG20250602214048_jpg.rf.b7c4a3053bd6adc27a1469f2dccec7f7.jpg  \n",
            "  inflating: train/images/IMG20250602214051_jpg.rf.6116586558b8b93228b199ec3fc42d61.jpg  \n",
            "  inflating: train/images/IMG20250602214051_jpg.rf.9b749c9cca7d6a72975c5593678f3724.jpg  \n",
            "  inflating: train/images/IMG20250602214051_jpg.rf.c107e5edbbece6ddd6864dc095ce9fd9.jpg  \n",
            "  inflating: train/images/IMG20250602214306_jpg.rf.c9df0958b0fbf6a74839f7de5872fbeb.jpg  \n",
            "  inflating: train/images/IMG20250602214306_jpg.rf.e42a4b6191b6b70a5550531fd748272a.jpg  \n",
            "  inflating: train/images/IMG20250602214306_jpg.rf.ea7f04877020f5517e830ce0af0572b4.jpg  \n",
            "  inflating: train/images/IMG20250602214319_jpg.rf.6ce102ff4f85f958bd3fa59d1124b7b2.jpg  \n",
            "  inflating: train/images/IMG20250602214319_jpg.rf.774cdfd6b889a9cb7f818cf53e15bbdf.jpg  \n",
            "  inflating: train/images/IMG20250602214319_jpg.rf.79963ac6a633d3aa47965fc41e508537.jpg  \n",
            "  inflating: train/images/IMG20250602214327_jpg.rf.6d1dacc764edac766667d6327ef15e51.jpg  \n",
            "  inflating: train/images/IMG20250602214327_jpg.rf.8cde19c0b6e8baae2461243c979506a2.jpg  \n",
            "  inflating: train/images/IMG20250602214327_jpg.rf.a6124c0c866233bf8d16d2ce031ad770.jpg  \n",
            "  inflating: train/images/IMG20250602214358_jpg.rf.407d4dc0ab4ced75bbc35442fdb70b44.jpg  \n",
            "  inflating: train/images/IMG20250602214358_jpg.rf.50e9a3d0916b59a76e4c6170ae345a0a.jpg  \n",
            "  inflating: train/images/IMG20250602214358_jpg.rf.86c78b29bf74dc53cdde3d0fba19191b.jpg  \n",
            "  inflating: train/images/IMG20250602214401_jpg.rf.233da5d54e49adc3fafa96ca8d76a290.jpg  \n",
            "  inflating: train/images/IMG20250602214401_jpg.rf.6fdb516a6c8802135f9d5f0366d0464b.jpg  \n",
            "  inflating: train/images/IMG20250602214401_jpg.rf.a2e1d3e70a9174bfa90740fe5891b923.jpg  \n",
            "  inflating: train/images/IMG20250602214408_jpg.rf.360afd16d0c8ceba8497f471eb2b8a11.jpg  \n",
            "  inflating: train/images/IMG20250602214408_jpg.rf.4661604f9f6493e2e6aa50b85d5addf4.jpg  \n",
            "  inflating: train/images/IMG20250602214408_jpg.rf.46c0c203319a3dbd81946eeedce8853f.jpg  \n",
            "  inflating: train/images/IMG20250602214412_jpg.rf.75b96675df8aea1c1d7224f0a1617f44.jpg  \n",
            "  inflating: train/images/IMG20250602214412_jpg.rf.b3cdf36ed26c7e2635b8df1a68a3bb20.jpg  \n",
            "  inflating: train/images/IMG20250602214412_jpg.rf.f57670cb7caf6ac5ca268831eba093b8.jpg  \n",
            "  inflating: train/images/IMG20250602214424_jpg.rf.153bdfa1aad454d1445c68b370c75ad1.jpg  \n",
            "  inflating: train/images/IMG20250602214424_jpg.rf.a289f911f35fe4b1cf9ed1978091ca9f.jpg  \n",
            "  inflating: train/images/IMG20250602214424_jpg.rf.e305baf1da3a5526bfb5a00b954dcc99.jpg  \n",
            "  inflating: train/images/IMG20250602214431_jpg.rf.5c0afbe2d186cac0b6093a13d5e4081f.jpg  \n",
            "  inflating: train/images/IMG20250602214431_jpg.rf.91048623b836ee270f75fb63a5a50c43.jpg  \n",
            "  inflating: train/images/IMG20250602214431_jpg.rf.be02dff9a275f5afeabae47f5ccf0e2d.jpg  \n",
            "  inflating: train/images/IMG20250602214530_jpg.rf.146a564d2e5e9959dec1d3e4f51cbcae.jpg  \n",
            "  inflating: train/images/IMG20250602214530_jpg.rf.411550f1ae88f7b78719940ea0a758a6.jpg  \n",
            "  inflating: train/images/IMG20250602214530_jpg.rf.4cf7e09e8fd8c2c78947c68ffd6bd665.jpg  \n",
            "  inflating: train/images/IMG20250602214538_jpg.rf.2af9efede0ba60a0e11853035b649ad9.jpg  \n",
            "  inflating: train/images/IMG20250602214538_jpg.rf.b75113fff739fa3e9522e7642731e4a6.jpg  \n",
            "  inflating: train/images/IMG20250602214538_jpg.rf.c79fbc18a9b377dd959a3de494d949fb.jpg  \n",
            "  inflating: train/images/IMG20250602214549_jpg.rf.06c063bad7e892b141abfaee6e438cc8.jpg  \n",
            "  inflating: train/images/IMG20250602214549_jpg.rf.98216c94226f26a0b22161b87f97c87c.jpg  \n",
            "  inflating: train/images/IMG20250602214549_jpg.rf.f36aa9083eecd4c871e14f2c89d4487e.jpg  \n",
            "  inflating: train/images/IMG20250602214554_jpg.rf.197d59d29b8564f37608cf19724787bb.jpg  \n",
            "  inflating: train/images/IMG20250602214554_jpg.rf.5b0c6e73cf7113837aa58f47e38e7ac7.jpg  \n",
            "  inflating: train/images/IMG20250602214554_jpg.rf.9258a5083f103f4f7287267d507f4fa8.jpg  \n",
            "  inflating: train/images/IMG20250602214657_jpg.rf.2dd76bc37d8a24d81ba3a050abd85174.jpg  \n",
            "  inflating: train/images/IMG20250602214657_jpg.rf.590d67145bf16f9d8e9e34dbb4acffc4.jpg  \n",
            "  inflating: train/images/IMG20250602214657_jpg.rf.ade98e9f4c6427454ace960f5a993874.jpg  \n",
            "  inflating: train/images/IMG20250602214700_jpg.rf.2eb8d505121580a385b6891c0398a957.jpg  \n",
            "  inflating: train/images/IMG20250602214700_jpg.rf.489f33288834fdea414448ad8f4466c1.jpg  \n",
            "  inflating: train/images/IMG20250602214700_jpg.rf.70a0e4309ba3d33194a6f3df40eccf1e.jpg  \n",
            "  inflating: train/images/IMG20250602214710_jpg.rf.1081a6136235c94d32adbbcc4959cb6b.jpg  \n",
            "  inflating: train/images/IMG20250602214710_jpg.rf.f28c989c98f5f273d7edf9e19d2999c5.jpg  \n",
            "  inflating: train/images/IMG20250602214710_jpg.rf.f79b68981b188d1f93aa94b44f1cb3ae.jpg  \n",
            "  inflating: train/images/IMG20250602214714_jpg.rf.15e7f84e1c73f7ba5b3275db238ec977.jpg  \n",
            "  inflating: train/images/IMG20250602214714_jpg.rf.4ae47a0186c9e2c8e67e86168c2edee6.jpg  \n",
            "  inflating: train/images/IMG20250602214714_jpg.rf.5b015ba6e6c70106ffd65272a82d7ed8.jpg  \n",
            "  inflating: train/images/IMG20250602223140_jpg.rf.5f2abdaf5ec9440c2c31721aa9ff10fa.jpg  \n",
            "  inflating: train/images/IMG20250602223140_jpg.rf.62bf3765691dad99bf9d059f8f9e2a61.jpg  \n",
            "  inflating: train/images/IMG20250602223140_jpg.rf.e72021c56cd3ce706efbbd8838cae1d6.jpg  \n",
            "  inflating: train/images/IMG20250602223205_jpg.rf.30c77f75d5d0e389bfef45d0e00dd5fc.jpg  \n",
            "  inflating: train/images/IMG20250602223205_jpg.rf.41bf8120a650dfe9856b103a1b26a8ac.jpg  \n",
            "  inflating: train/images/IMG20250602223205_jpg.rf.5599d5b5604eb1dab74cd5eaa9d9b4b5.jpg  \n",
            "  inflating: train/images/IMG20250602223218_jpg.rf.b941f61b6d169dbc4cccb52888144b66.jpg  \n",
            "  inflating: train/images/IMG20250602223218_jpg.rf.cd17833b5625d42bf467c604019d1e40.jpg  \n",
            "  inflating: train/images/IMG20250602223218_jpg.rf.fdfce49e08e76807bf92a38aebee017b.jpg  \n",
            "  inflating: train/images/IMG20250602223633_jpg.rf.628917ddd1ede9772ab045957d0af9b4.jpg  \n",
            "  inflating: train/images/IMG20250602223633_jpg.rf.dd8e33d37681551c3f15e59f42dc0c94.jpg  \n",
            "  inflating: train/images/IMG20250602223633_jpg.rf.e84def18e84301dcf58c4cb66a531ea3.jpg  \n",
            "  inflating: train/images/IMG20250602223654_jpg.rf.03e29751fba46475d1b332d9c2a356f6.jpg  \n",
            "  inflating: train/images/IMG20250602223654_jpg.rf.510578a72a01d855313a6eb0f1a578a4.jpg  \n",
            "  inflating: train/images/IMG20250602223654_jpg.rf.c9ee800a4546e0e71e703c1711db3648.jpg  \n",
            "  inflating: train/images/IMG20250602223737_jpg.rf.26a9ccf79831923e7933ebd09b29d8ba.jpg  \n",
            "  inflating: train/images/IMG20250602223737_jpg.rf.89c1da4b6482153075c88ab6cbf61531.jpg  \n",
            "  inflating: train/images/IMG20250602223737_jpg.rf.c608d49aebad290486cd38f78576f5a2.jpg  \n",
            "  inflating: train/images/IMG20250602223808_jpg.rf.4126cfa900afee05d852ed8ba0ed2529.jpg  \n",
            "  inflating: train/images/IMG20250602223808_jpg.rf.ca847c449aef9f5ab8c6ccd0ca39fd5a.jpg  \n",
            "  inflating: train/images/IMG20250602223808_jpg.rf.e73d70f6b639f52c97c8c5dd06c57e0f.jpg  \n",
            "  inflating: train/images/IMG20250602223822_jpg.rf.1ab83b2127e8602f3ed4313b939c240b.jpg  \n",
            "  inflating: train/images/IMG20250602223822_jpg.rf.3f79725e1f5af233b44ebc392671a71a.jpg  \n",
            "  inflating: train/images/IMG20250602223822_jpg.rf.6e5cbe2b93e3a1baf9119782ef8b64c0.jpg  \n",
            "  inflating: train/images/IMG20250602223905_jpg.rf.93471949a61e68c5d80f5e6adce114d2.jpg  \n",
            "  inflating: train/images/IMG20250602223905_jpg.rf.bee337cf9d6697a0101fe35cd914c6fa.jpg  \n",
            "  inflating: train/images/IMG20250602223905_jpg.rf.e5c468df4a3a19baf3fa866dfbd10efe.jpg  \n",
            "  inflating: train/images/IMG20250602223928_jpg.rf.20c34496f8eb4d3a1a3742f4ae055b21.jpg  \n",
            "  inflating: train/images/IMG20250602223928_jpg.rf.aa513d1667e5f8cc499d11e7e54f8df9.jpg  \n",
            "  inflating: train/images/IMG20250602223928_jpg.rf.e154b6129c36d5d64a4ba1fb93d61969.jpg  \n",
            "  inflating: train/images/IMG20250602224202_jpg.rf.0e747671235ec99c7cfac3666f362046.jpg  \n",
            "  inflating: train/images/IMG20250602224202_jpg.rf.1c40820b568bb5bf078ab5959486b230.jpg  \n",
            "  inflating: train/images/IMG20250602224202_jpg.rf.5f845e65b987adabd67bbf970dd5faa2.jpg  \n",
            "  inflating: train/images/IMG20250602224210_jpg.rf.02ceca2ca922ca5eb9fb3967814da921.jpg  \n",
            "  inflating: train/images/IMG20250602224210_jpg.rf.9b36f1afe9410679ad2a883ec9d4402c.jpg  \n",
            "  inflating: train/images/IMG20250602224210_jpg.rf.a6e074c96b4fe3bd80e8d71a3a323d2a.jpg  \n",
            "  inflating: train/images/IMG20250602224224_jpg.rf.c177973c3e06e2d6fa1ffd9eede4516e.jpg  \n",
            "  inflating: train/images/IMG20250602224224_jpg.rf.f13c770375f7509442174400f7cd44be.jpg  \n",
            "  inflating: train/images/IMG20250602224224_jpg.rf.fffbb0a8cf4d4c1b9751db0eb13675e6.jpg  \n",
            "  inflating: train/images/IMG20250602224235_jpg.rf.3f0b71151bf83b62f5f3b32b87b34cef.jpg  \n",
            "  inflating: train/images/IMG20250602224235_jpg.rf.8a5d7de0930cef016b91772a77c8827a.jpg  \n",
            "  inflating: train/images/IMG20250602224235_jpg.rf.8fe1e4463b8ae3a246bf018235a60333.jpg  \n",
            "  inflating: train/images/IMG20250602224248_jpg.rf.42acae91f555d94981200b5af9144c46.jpg  \n",
            "  inflating: train/images/IMG20250602224248_jpg.rf.a409c7680489fe6aca15dc758cb8f6c9.jpg  \n",
            "  inflating: train/images/IMG20250602224248_jpg.rf.d1ac6e21788cdbddeea222377e0d902b.jpg  \n",
            "  inflating: train/images/IMG20250602224614_jpg.rf.e58b2a09cde1de72cf4c8bb2b12f2f0c.jpg  \n",
            "  inflating: train/images/IMG20250602224614_jpg.rf.f9c9416284035593a6aa20f07e13b468.jpg  \n",
            "  inflating: train/images/IMG20250602224614_jpg.rf.ff37e7930317019feeb594cf7205c79b.jpg  \n",
            "  inflating: train/images/IMG20250602224635_jpg.rf.84b7fa78cc6e637a9d43bc5cd950c704.jpg  \n",
            "  inflating: train/images/IMG20250602224635_jpg.rf.d4f8d4dc495fc2657fbd719a8084f647.jpg  \n",
            "  inflating: train/images/IMG20250602224635_jpg.rf.fb8298505d06e56f809716ff9e1f177f.jpg  \n",
            "  inflating: train/images/IMG20250602224717_jpg.rf.52b1cd39bcc234f11a3bc378f934e6fc.jpg  \n",
            "  inflating: train/images/IMG20250602224717_jpg.rf.c861b23b733ffec30dc780629a21f5e8.jpg  \n",
            "  inflating: train/images/IMG20250602224717_jpg.rf.e76ad365d65fd46240eb33fdfbb1ea0f.jpg  \n",
            "  inflating: train/images/IMG20250602224821_jpg.rf.8e9ed1bf0686ddbaa99dddc6b38306b7.jpg  \n",
            "  inflating: train/images/IMG20250602224821_jpg.rf.b222530b227fe97a8795905f6902d5db.jpg  \n",
            "  inflating: train/images/IMG20250602224821_jpg.rf.e748f6bbcc5addd7548575269d0accf9.jpg  \n",
            "  inflating: train/images/IMG20250602224836_jpg.rf.8c5ee4229cb775e70d3b6e8bf8b52297.jpg  \n",
            "  inflating: train/images/IMG20250602224836_jpg.rf.b8ec38c597a1240950e3f4ca2e28ec89.jpg  \n",
            "  inflating: train/images/IMG20250602224836_jpg.rf.bd4699a1c7bee54126bc55642bc92577.jpg  \n",
            "  inflating: train/images/IMG20250602224843_jpg.rf.32a80786e9158532475a27fd79244b95.jpg  \n",
            "  inflating: train/images/IMG20250602224843_jpg.rf.5bf892f59062a40e61d5fbd341c572dd.jpg  \n",
            "  inflating: train/images/IMG20250602224843_jpg.rf.ef0b61dbf3ae0b81761c7bd74e6083e7.jpg  \n",
            "  inflating: train/images/IMG20250602224902_jpg.rf.139b709dfaa71ac79dc9c5211fee9ce4.jpg  \n",
            "  inflating: train/images/IMG20250602224902_jpg.rf.6dae7caec7d5dd1d01543c68d071ff57.jpg  \n",
            "  inflating: train/images/IMG20250602224902_jpg.rf.940df3e17b5cfe0d9672644a6afea976.jpg  \n",
            "  inflating: train/images/IMG20250602225022_jpg.rf.2485751934ff689cc11fbd203b806e39.jpg  \n",
            "  inflating: train/images/IMG20250602225022_jpg.rf.5149990906a3e6439726eb7e7d891424.jpg  \n",
            "  inflating: train/images/IMG20250602225022_jpg.rf.8291b1827a512839621a3ec7ba1e096a.jpg  \n",
            "  inflating: train/images/IMG20250602225031_jpg.rf.3542d1e30361621efa3c22f6384ebd77.jpg  \n",
            "  inflating: train/images/IMG20250602225031_jpg.rf.64df0dea3271b604e224198dda7b44f7.jpg  \n",
            "  inflating: train/images/IMG20250602225031_jpg.rf.e30bace16fb3d2f2f384547743e39bb1.jpg  \n",
            "  inflating: train/images/IMG20250602225125_jpg.rf.849bb1a0a23180d2b6439f598b6c7073.jpg  \n",
            "  inflating: train/images/IMG20250602225125_jpg.rf.b1a491806d7828ebd1505e43e1e60439.jpg  \n",
            "  inflating: train/images/IMG20250602225125_jpg.rf.dbfecdbbb45ee7278932526be0063a23.jpg  \n",
            "  inflating: train/images/IMG20250602225145_jpg.rf.2f534887347a2119eb83ca0300cb7eae.jpg  \n",
            "  inflating: train/images/IMG20250602225145_jpg.rf.52c92826816d95919ba5afc648de253d.jpg  \n",
            "  inflating: train/images/IMG20250602225145_jpg.rf.69c6fc435e89df0e6a869ae26797f9d4.jpg  \n",
            "  inflating: train/images/IMG20250602225340_jpg.rf.9ff95c4f83f35c5f45a269e690254ea7.jpg  \n",
            "  inflating: train/images/IMG20250602225340_jpg.rf.a2dc5bbe4eafac93a91049c88b7a6874.jpg  \n",
            "  inflating: train/images/IMG20250602225340_jpg.rf.fab1aa77cc7a9d7e8e10fc139834667a.jpg  \n",
            "  inflating: train/images/IMG20250602225546_jpg.rf.07e3247e5ab58e1d79d9cfb7d34eda57.jpg  \n",
            "  inflating: train/images/IMG20250602225546_jpg.rf.4863f5e1ac7468f6470d3ae1627daf5e.jpg  \n",
            "  inflating: train/images/IMG20250602225546_jpg.rf.e9e939e1aa6b910d82e84b2b1ee99627.jpg  \n",
            "  inflating: train/images/IMG20250602225639_jpg.rf.0003d66a242ff8c669a7c33b1c5035bf.jpg  \n",
            "  inflating: train/images/IMG20250602225639_jpg.rf.c979536704dc2267f0cc51b9ca74c418.jpg  \n",
            "  inflating: train/images/IMG20250602225639_jpg.rf.f6ba90de2f26099db649e9d2ab2a67b9.jpg  \n",
            "  inflating: train/images/IMG20250602225725_jpg.rf.64a4ba4ecf1a0b5d52a6f65adfb21106.jpg  \n",
            "  inflating: train/images/IMG20250602225725_jpg.rf.7150e38431842080b041213825b54848.jpg  \n",
            "  inflating: train/images/IMG20250602225725_jpg.rf.a615b8826104cbe414bea4ff64ec0002.jpg  \n",
            "  inflating: train/images/IMG20250602225735_jpg.rf.2ae867b14f914ad1db2020759f31dddb.jpg  \n",
            "  inflating: train/images/IMG20250602225735_jpg.rf.3db0cad496c1bb17073d950d860752dd.jpg  \n",
            "  inflating: train/images/IMG20250602225735_jpg.rf.d9d956e502729c4f461dbced20fe003b.jpg  \n",
            "  inflating: train/images/IMG20250602225752_jpg.rf.39684b74346a5850706368d083ee97b2.jpg  \n",
            "  inflating: train/images/IMG20250602225752_jpg.rf.ba3fbbeb9d0ae5a0e3d3be1643bf6d96.jpg  \n",
            "  inflating: train/images/IMG20250602225752_jpg.rf.fb660ee5cedaac8463756766cf6370b8.jpg  \n",
            "  inflating: train/images/IMG20250602225815_jpg.rf.2f7eb218d2272877710a541a49874042.jpg  \n",
            "  inflating: train/images/IMG20250602225815_jpg.rf.57f724d1108b93b213b395209e4ac589.jpg  \n",
            "  inflating: train/images/IMG20250602225815_jpg.rf.9fab6e50722d39c599b67ac8cb2432ee.jpg  \n",
            "  inflating: train/images/IMG20250602225847_jpg.rf.10220c1d63cf9a3fc853d995795e9d5f.jpg  \n",
            "  inflating: train/images/IMG20250602225847_jpg.rf.7d45d0868269a9823686b408f03a9b14.jpg  \n",
            "  inflating: train/images/IMG20250602225847_jpg.rf.f3beafe0175ca94744fdd4da65495818.jpg  \n",
            "  inflating: train/images/IMG20250602230028_jpg.rf.51dbd76dd734154a79a4f7b6e170a8a2.jpg  \n",
            "  inflating: train/images/IMG20250602230028_jpg.rf.7da5bd6c0a771b31d0b7d4399393b465.jpg  \n",
            "  inflating: train/images/IMG20250602230028_jpg.rf.9de8cf43a9bfbe32dce21943eb5ba8e2.jpg  \n",
            "  inflating: train/images/IMG20250602230040_jpg.rf.278e536175f2856e69ce2f7f832f02bc.jpg  \n",
            "  inflating: train/images/IMG20250602230040_jpg.rf.290d99bdde07e30c2028738915dc46dd.jpg  \n",
            "  inflating: train/images/IMG20250602230040_jpg.rf.a8193ab3c2efcda6c63e41ef474bd7c7.jpg  \n",
            "  inflating: train/images/IMG20250602230055_jpg.rf.3d0fa4cedb8d52f6ebcdefe5c69a9af1.jpg  \n",
            "  inflating: train/images/IMG20250602230055_jpg.rf.453b6061aec6cbf2e19581e7f7cf2fcb.jpg  \n",
            "  inflating: train/images/IMG20250602230055_jpg.rf.f6bccbbd60f7dd286de9b10666675d6c.jpg  \n",
            "  inflating: train/images/IMG20250602230104_jpg.rf.0315c72839db5c19efca1bcad5641314.jpg  \n",
            "  inflating: train/images/IMG20250602230104_jpg.rf.eafd41baeadcbbbea43c90710690a879.jpg  \n",
            "  inflating: train/images/IMG20250602230104_jpg.rf.fb51a27b8b533c6e4b24210567e32e0d.jpg  \n",
            "  inflating: train/images/IMG20250602230117_jpg.rf.558660714de5d2f5a178c21c246995fe.jpg  \n",
            "  inflating: train/images/IMG20250602230117_jpg.rf.6de5ea04d250d1dc837fab567a9e0d00.jpg  \n",
            "  inflating: train/images/IMG20250602230117_jpg.rf.d5ae85b7dcfaed38a6f921b4c94ae212.jpg  \n",
            "  inflating: train/images/IMG20250602230129_jpg.rf.9d9a49fb53568f4275749f8f6f2080bd.jpg  \n",
            "  inflating: train/images/IMG20250602230129_jpg.rf.d9ed5c7aa2eb5a9a6377049f4e657b86.jpg  \n",
            "  inflating: train/images/IMG20250602230129_jpg.rf.da0b5d2b5eb5ad9e0c574bd3027d741b.jpg  \n",
            "  inflating: train/images/IMG20250602230147_jpg.rf.386e9e364b0ea6c30fed72d549f6fd10.jpg  \n",
            "  inflating: train/images/IMG20250602230147_jpg.rf.a64250334d5451af8f9c7d1beba80dd1.jpg  \n",
            "  inflating: train/images/IMG20250602230147_jpg.rf.b8a664f48998fb03584f81c6a574d5e9.jpg  \n",
            "  inflating: train/images/IMG20250602230230_jpg.rf.c83d2be642159fcb43520ecedce465c0.jpg  \n",
            "  inflating: train/images/IMG20250602230230_jpg.rf.ce23432f6fd12a91ee2942e7a2f447d9.jpg  \n",
            "  inflating: train/images/IMG20250602230230_jpg.rf.ee312e1d986f325ad87f734f6cb2e972.jpg  \n",
            "  inflating: train/images/IMG20250602230318_jpg.rf.12690d3f7d555779139569d9fd40e25b.jpg  \n",
            "  inflating: train/images/IMG20250602230318_jpg.rf.a08d6920e6528c35b711a404b7ec8872.jpg  \n",
            "  inflating: train/images/IMG20250602230318_jpg.rf.badb5deb0022d05ccaa56c2b33a4d32e.jpg  \n",
            "  inflating: train/images/IMG20250602230339_jpg.rf.2cd3db6473d55d738c03caef0d330d02.jpg  \n",
            "  inflating: train/images/IMG20250602230339_jpg.rf.3cdd306987446d73495148574de81fbf.jpg  \n",
            "  inflating: train/images/IMG20250602230339_jpg.rf.88b66a8a6c36c131329ffa2b67da2877.jpg  \n",
            "  inflating: train/images/IMG20250602230346_jpg.rf.01ec4e9a1cb496ede719eba4f17b1e50.jpg  \n",
            "  inflating: train/images/IMG20250602230346_jpg.rf.17cd4b21503b54cf8f03d795ab85b6e3.jpg  \n",
            "  inflating: train/images/IMG20250602230346_jpg.rf.9f5d1427ef8a081da5a9cf51e1fc850d.jpg  \n",
            "  inflating: train/images/IMG20250602230430_jpg.rf.6a6e88e0a7499b59c4addb02d4c08ee4.jpg  \n",
            "  inflating: train/images/IMG20250602230430_jpg.rf.db3a9e48ba30f36316a82dfcd2a38603.jpg  \n",
            "  inflating: train/images/IMG20250602230430_jpg.rf.e9da48c03f45e8f42fc77b86eb1ed64b.jpg  \n",
            "  inflating: train/images/IMG20250602230700_jpg.rf.5b221966592b76f5fbb396aa05a72f8c.jpg  \n",
            "  inflating: train/images/IMG20250602230700_jpg.rf.6d56b711788b48bbcdf62ced57938006.jpg  \n",
            "  inflating: train/images/IMG20250602230700_jpg.rf.eafec18f5fdceb6ab0c145a5b48527f6.jpg  \n",
            "  inflating: train/images/IMG20250602230707_jpg.rf.2afdef5fee17aa71114c8f50a2444b44.jpg  \n",
            "  inflating: train/images/IMG20250602230707_jpg.rf.a618944f2f3ff3ceb795da37967eb39c.jpg  \n",
            "  inflating: train/images/IMG20250602230707_jpg.rf.ecea2108d86070093759af8fe1822123.jpg  \n",
            "  inflating: train/images/IMG20250602230733_jpg.rf.1e883c98e430fcf75c2d1187bd6f1265.jpg  \n",
            "  inflating: train/images/IMG20250602230733_jpg.rf.2d71d7c024e785deee20a5c6e46a2073.jpg  \n",
            "  inflating: train/images/IMG20250602230733_jpg.rf.d17fc47ab38443cc7897cc013d6e61b3.jpg  \n",
            "  inflating: train/images/IMG20250602230813_jpg.rf.0b2f9bd5f1a8227ebc7f49c76af730de.jpg  \n",
            "  inflating: train/images/IMG20250602230813_jpg.rf.b57ba7d1fa55f921a96aeb3cd86354d1.jpg  \n",
            "  inflating: train/images/IMG20250602230813_jpg.rf.da79782c2045af42bd946c3777aed28f.jpg  \n",
            "  inflating: train/images/IMG20250602230825_jpg.rf.1ca73fe22914f7bdda701a7b621f2086.jpg  \n",
            "  inflating: train/images/IMG20250602230825_jpg.rf.4d74f1d5619a22702951e6882e00e540.jpg  \n",
            "  inflating: train/images/IMG20250602230825_jpg.rf.6648ce6f6573d255d27598619da56b17.jpg  \n",
            "  inflating: train/images/IMG20250602230833_jpg.rf.4bc7af9862623eebf6631a9665694dfc.jpg  \n",
            "  inflating: train/images/IMG20250602230833_jpg.rf.b67ffd5462da04d4474d30f25ce85618.jpg  \n",
            "  inflating: train/images/IMG20250602230833_jpg.rf.c86eeb5475dbd2048878e9f36c2949b4.jpg  \n",
            "  inflating: train/images/IMG20250602230845_jpg.rf.477680b467be420a5dd175d375164c4e.jpg  \n",
            "  inflating: train/images/IMG20250602230845_jpg.rf.7d69a510f8cf07ac8d80b0e9508ae704.jpg  \n",
            "  inflating: train/images/IMG20250602230845_jpg.rf.a69897a3762fd8406e6f1d628a71e118.jpg  \n",
            "  inflating: train/images/IMG20250602230910_jpg.rf.267ff2131695493c798a432ee6c9ca6a.jpg  \n",
            "  inflating: train/images/IMG20250602230910_jpg.rf.4a9bca5ad693e79db742953fafe0cd98.jpg  \n",
            "  inflating: train/images/IMG20250602230910_jpg.rf.d4741bc4e370eee61b1f596f58a6ea81.jpg  \n",
            "  inflating: train/images/IMG20250602230916_jpg.rf.636e2151b888ddc1428c398a990e81d5.jpg  \n",
            "  inflating: train/images/IMG20250602230916_jpg.rf.6b2b1194f134ed47251ef24608af52ed.jpg  \n",
            "  inflating: train/images/IMG20250602230916_jpg.rf.8ed1242080564fd4e35670a085a1fc65.jpg  \n",
            "  inflating: train/images/IMG20250602230922_jpg.rf.0d31b148f5bc64e57485276c479120a5.jpg  \n",
            "  inflating: train/images/IMG20250602230922_jpg.rf.52ac6b7814992f48c1197d6368976a02.jpg  \n",
            "  inflating: train/images/IMG20250602230922_jpg.rf.c04331addab3d887298d59ec14c0260c.jpg  \n",
            "  inflating: train/images/IMG20250602230951_jpg.rf.0030572d3d63d4b57d7b089f7a2b23a9.jpg  \n",
            "  inflating: train/images/IMG20250602230951_jpg.rf.48556cfda08572abb50dbba875f91acd.jpg  \n",
            "  inflating: train/images/IMG20250602230951_jpg.rf.d00b0062fe1e285a68c3bd51df27935d.jpg  \n",
            "  inflating: train/images/IMG20250602231003_jpg.rf.20dfcf051624b2ed257fd07c06a03e1b.jpg  \n",
            "  inflating: train/images/IMG20250602231003_jpg.rf.9702ecf4c8d9e631196d403649f3c3e5.jpg  \n",
            "  inflating: train/images/IMG20250602231003_jpg.rf.f44b513c58f867d2dc380b8650036c68.jpg  \n",
            "  inflating: train/images/IMG20250602231010_jpg.rf.1c2b2386394b604bc0bed5cad63352c0.jpg  \n",
            "  inflating: train/images/IMG20250602231010_jpg.rf.b900488b9515a4898d7e0c84f04209f2.jpg  \n",
            "  inflating: train/images/IMG20250602231010_jpg.rf.e07b5a5ac9cdfc517a783ef18470c82d.jpg  \n",
            "  inflating: train/images/IMG20250602231127_jpg.rf.342207a164d13c9369c3c27494a8e38a.jpg  \n",
            "  inflating: train/images/IMG20250602231127_jpg.rf.4df61ef86292bacf2eaf663fde6b4850.jpg  \n",
            "  inflating: train/images/IMG20250602231127_jpg.rf.8560e65e5059678f4704387d6e41b201.jpg  \n",
            "  inflating: train/images/IMG20250602231137_jpg.rf.01db4eb3ca74d96fd049e38350bf07a2.jpg  \n",
            "  inflating: train/images/IMG20250602231137_jpg.rf.38193cea155fe041d764da0a77df7ef8.jpg  \n",
            "  inflating: train/images/IMG20250602231137_jpg.rf.e795c771d6b838722514fa6a7bb05dc1.jpg  \n",
            "  inflating: train/images/IMG20250602231146_jpg.rf.1cef149929123686d7f78d1774d8f474.jpg  \n",
            "  inflating: train/images/IMG20250602231146_jpg.rf.453da53e4b2a3ccaa1c991a7eca2efad.jpg  \n",
            "  inflating: train/images/IMG20250602231146_jpg.rf.ae2fd3cc68a9e7df8bb848e226e3f2fc.jpg  \n",
            "  inflating: train/images/IMG20250602231159_jpg.rf.25700f6bd21d5251a0188b35a749e3c2.jpg  \n",
            "  inflating: train/images/IMG20250602231159_jpg.rf.942bbcffb99d68599b288f9003bfee64.jpg  \n",
            "  inflating: train/images/IMG20250602231159_jpg.rf.f430cd0f2178eb312699889ec714a2e2.jpg  \n",
            "  inflating: train/images/IMG20250602231320_jpg.rf.b777c6fa9b752d8ccffe3507cd087f24.jpg  \n",
            "  inflating: train/images/IMG20250602231320_jpg.rf.e28557eceb5f58e67db708e0fb96efed.jpg  \n",
            "  inflating: train/images/IMG20250602231320_jpg.rf.f0aa45394e6d58af2a74e6b7ace06b80.jpg  \n",
            "  inflating: train/images/IMG20250602231330_jpg.rf.72ab45cd42f8b1184efbfe8a8cd5f35e.jpg  \n",
            "  inflating: train/images/IMG20250602231330_jpg.rf.bf4c3ff594bc6a727f19757514a6bd8d.jpg  \n",
            "  inflating: train/images/IMG20250602231330_jpg.rf.c79ea3cd32eb3e33c81885d8bf99320f.jpg  \n",
            "  inflating: train/images/IMG20250602231358_jpg.rf.05dc2a6e5b1be167f2715fe86592023f.jpg  \n",
            "  inflating: train/images/IMG20250602231358_jpg.rf.083ea9efe88ad3aae8f258c099c7b88a.jpg  \n",
            "  inflating: train/images/IMG20250602231358_jpg.rf.1a488423be5ef445aef0128f13eb3ba8.jpg  \n",
            "  inflating: train/images/IMG20250602231406_jpg.rf.78a9a0dc2880aa186f773b3d5d84a1e3.jpg  \n",
            "  inflating: train/images/IMG20250602231406_jpg.rf.798d0528497168323db13dab1bacc19e.jpg  \n",
            "  inflating: train/images/IMG20250602231406_jpg.rf.d734f99cf699c8f29d7a127d89ba6ae9.jpg  \n",
            "  inflating: train/images/IMG20250602231513_jpg.rf.0e1a6291115b901bacb136e56b187468.jpg  \n",
            "  inflating: train/images/IMG20250602231513_jpg.rf.28d3130ba1e2bebd7c13df3f9e69cf92.jpg  \n",
            "  inflating: train/images/IMG20250602231513_jpg.rf.b4c862f25753397191979ea479140363.jpg  \n",
            "  inflating: train/images/IMG20250602231600_jpg.rf.58446de3ab4f0b6d04d15f01de8a2e12.jpg  \n",
            "  inflating: train/images/IMG20250602231600_jpg.rf.ae929af31e11ef35a06980d579677692.jpg  \n",
            "  inflating: train/images/IMG20250602231600_jpg.rf.bada39df32988a26ecfb0b75eb0feb54.jpg  \n",
            "  inflating: train/images/IMG20250602231712_jpg.rf.657be8724c086d67e673c36c4887e5fc.jpg  \n",
            "  inflating: train/images/IMG20250602231712_jpg.rf.7f14fbdaa5756300971e97c88dfddec7.jpg  \n",
            "  inflating: train/images/IMG20250602231712_jpg.rf.ccc7393400097e1b5dde775f638d6901.jpg  \n",
            "  inflating: train/images/IMG20250602231729_jpg.rf.5f81ce19bd15c28af065320b979c05a4.jpg  \n",
            "  inflating: train/images/IMG20250602231729_jpg.rf.c475aec2c56246b183a946e569d5656a.jpg  \n",
            "  inflating: train/images/IMG20250602231729_jpg.rf.cbcefa1dde67d0758706e03aabc39950.jpg  \n",
            "  inflating: train/images/IMG20250602231749_jpg.rf.9590745e663740d348c915931f7d192e.jpg  \n",
            "  inflating: train/images/IMG20250602231749_jpg.rf.990338d08c2f521249c5e375171460d9.jpg  \n",
            "  inflating: train/images/IMG20250602231749_jpg.rf.bc8dba6ab27a6d173fd3f0866c26f71f.jpg  \n",
            "  inflating: train/images/IMG20250602231804_jpg.rf.4e193e95f221cee373c9421d0c1d8611.jpg  \n",
            "  inflating: train/images/IMG20250602231804_jpg.rf.bbcde106daf47628a81daee540f05ca1.jpg  \n",
            "  inflating: train/images/IMG20250602231804_jpg.rf.e16e73fadd9851d0d83bde4f3f0e9ca0.jpg  \n",
            "  inflating: train/images/IMG20250602231928_jpg.rf.2b9c61cdb52c856977e2ddde062f6109.jpg  \n",
            "  inflating: train/images/IMG20250602231928_jpg.rf.691457b7b4106308a5eae9e44fd6d05b.jpg  \n",
            "  inflating: train/images/IMG20250602231928_jpg.rf.cb5fbdb2b00494c4c0df4ee18ed2d859.jpg  \n",
            "  inflating: train/images/IMG20250602231943_jpg.rf.1738474c324ae672a960723b538473fc.jpg  \n",
            "  inflating: train/images/IMG20250602231943_jpg.rf.1bce65afb073ba05089959c133c98873.jpg  \n",
            "  inflating: train/images/IMG20250602231943_jpg.rf.34a76cce4653b331684d7a18139874cc.jpg  \n",
            "  inflating: train/images/IMG20250602232028_jpg.rf.559b165d7460e15c2336e3960d3b5992.jpg  \n",
            "  inflating: train/images/IMG20250602232028_jpg.rf.8eb2cd4c58ac1b7b178243139e36fef8.jpg  \n",
            "  inflating: train/images/IMG20250602232028_jpg.rf.dcf1eb7d32081597eb17905fda176021.jpg  \n",
            "  inflating: train/images/IMG20250602232039_jpg.rf.0ac825c46512256715acf509c128c501.jpg  \n",
            "  inflating: train/images/IMG20250602232039_jpg.rf.1c69187b416b9821b4d540b7a7b6aafa.jpg  \n",
            "  inflating: train/images/IMG20250602232039_jpg.rf.5f519cda8e934c8a19d274ae506867f4.jpg  \n",
            "  inflating: train/images/IMG20250602232151_jpg.rf.308451551318bd78c2f38adbfbf21e28.jpg  \n",
            "  inflating: train/images/IMG20250602232151_jpg.rf.93b322246901e7b0da2f00695e07d4d6.jpg  \n",
            "  inflating: train/images/IMG20250602232151_jpg.rf.997218613119c17799e4d5f50a29aebe.jpg  \n",
            "  inflating: train/images/IMG20250602232204_jpg.rf.30299298fa0228dad91e73d0d9f5f729.jpg  \n",
            "  inflating: train/images/IMG20250602232204_jpg.rf.91b9544ed4c99cde3579baf3279bbe4d.jpg  \n",
            "  inflating: train/images/IMG20250602232204_jpg.rf.e6af6619802651638b6a79bddc8724db.jpg  \n",
            "  inflating: train/images/IMG20250602232216_jpg.rf.47a56ff83e5c2b4ead21a5c961537866.jpg  \n",
            "  inflating: train/images/IMG20250602232216_jpg.rf.7b83fc680435ecd90baaaf5e3a639c89.jpg  \n",
            "  inflating: train/images/IMG20250602232216_jpg.rf.bfbac3878154eabc876b0bb3cffef28a.jpg  \n",
            "  inflating: train/images/IMG20250602232239_jpg.rf.655522f0361cc46f31a2c670ed3d6e31.jpg  \n",
            "  inflating: train/images/IMG20250602232239_jpg.rf.94acf7be64ff33c04e2c682190931f12.jpg  \n",
            "  inflating: train/images/IMG20250602232239_jpg.rf.b344276f80dbc732f64546d8a81e889a.jpg  \n",
            "  inflating: train/images/IMG20250602232254_jpg.rf.37ef62b9915bdecd0953688f3415d373.jpg  \n",
            "  inflating: train/images/IMG20250602232254_jpg.rf.78b96abe8c45dbe7501bed03a43026bc.jpg  \n",
            "  inflating: train/images/IMG20250602232254_jpg.rf.c7900e4923caffa1c9f92dade3ba72e1.jpg  \n",
            "  inflating: train/images/IMG20250602232321_jpg.rf.02414b960fc7b550ff7fdf7d2056fc2c.jpg  \n",
            "  inflating: train/images/IMG20250602232321_jpg.rf.7756fb0f19bf397747f82bd9c6600503.jpg  \n",
            "  inflating: train/images/IMG20250602232321_jpg.rf.f9240a7d777f783c22a1ef1255bd22f2.jpg  \n",
            "  inflating: train/images/IMG20250602232332_jpg.rf.5441ca24cbfb7405cc3fdcff3979dbab.jpg  \n",
            "  inflating: train/images/IMG20250602232332_jpg.rf.7f0006804d1376e89aff575e93aa2ee3.jpg  \n",
            "  inflating: train/images/IMG20250602232332_jpg.rf.e020fad4e112005f815959a5f1e239bf.jpg  \n",
            "  inflating: train/images/IMG20250602232340_jpg.rf.1de19b75b2cdee80e5e29d0a5edfd07b.jpg  \n",
            "  inflating: train/images/IMG20250602232340_jpg.rf.69b5f36a484ca053102d5c85adfcf04d.jpg  \n",
            "  inflating: train/images/IMG20250602232340_jpg.rf.c9f848634fd4f137eeb5bf41530d691f.jpg  \n",
            "  inflating: train/images/IMG20250602232348_jpg.rf.180d9d34ceaea4d6a4d3bb4dc0e118b3.jpg  \n",
            "  inflating: train/images/IMG20250602232348_jpg.rf.4582486193b96066d6a8218dca3fa554.jpg  \n",
            "  inflating: train/images/IMG20250602232348_jpg.rf.b081c88db225a18a7551e770ea75ace5.jpg  \n",
            "  inflating: train/images/IMG20250602232527_jpg.rf.2a050053c3387ee39dd312924d9f39d7.jpg  \n",
            "  inflating: train/images/IMG20250602232527_jpg.rf.6cb97468f8eed56a64707b872f19ebf9.jpg  \n",
            "  inflating: train/images/IMG20250602232527_jpg.rf.de4d36086e0957fa08963ae51a7628e3.jpg  \n",
            "  inflating: train/images/IMG20250602232535_jpg.rf.7fa2afb3ee18b187fa4d9fb7fb857f2a.jpg  \n",
            "  inflating: train/images/IMG20250602232535_jpg.rf.d5cbd28fa747d2326abc00b63b345620.jpg  \n",
            "  inflating: train/images/IMG20250602232535_jpg.rf.e0e8a8de1dd29d1526984a2ce69b533c.jpg  \n",
            "  inflating: train/images/IMG20250602232632_jpg.rf.1b4ba5d9348aebe36a6ed7b995653bfb.jpg  \n",
            "  inflating: train/images/IMG20250602232632_jpg.rf.d7cb28ea986a4ad5086637ad5321b876.jpg  \n",
            "  inflating: train/images/IMG20250602232632_jpg.rf.fc1584361db9897138f293947824501c.jpg  \n",
            "  inflating: train/images/IMG20250602232702_jpg.rf.0632cd713ce3ca8b21dc2038f0e73dd8.jpg  \n",
            "  inflating: train/images/IMG20250602232702_jpg.rf.86bfbaed7b98a80cefa7ecbc873fcb18.jpg  \n",
            "  inflating: train/images/IMG20250602232702_jpg.rf.96bbfdd0ca2d1927ef072ae924386f0e.jpg  \n",
            "  inflating: train/images/IMG20250602232758_jpg.rf.20c8771e7511112f3f8ba25aa6058c9d.jpg  \n",
            "  inflating: train/images/IMG20250602232758_jpg.rf.293c53cb5273fab184b8d6ff0bba07e7.jpg  \n",
            "  inflating: train/images/IMG20250602232758_jpg.rf.efa83d6fce9ac6fa8e2cae61d8291343.jpg  \n",
            "  inflating: train/images/IMG20250602232817_jpg.rf.011a8dd2fd040927c600a5cb29976bb4.jpg  \n",
            "  inflating: train/images/IMG20250602232817_jpg.rf.6e38636e20ebb9343079d9bb966911a2.jpg  \n",
            "  inflating: train/images/IMG20250602232817_jpg.rf.c57a1ad7b4b2c1c3ca30e7442a9dd3a7.jpg  \n",
            "  inflating: train/images/IMG20250602232828_jpg.rf.3ec3711023a9a2a1595f0099ae4a8be0.jpg  \n",
            "  inflating: train/images/IMG20250602232828_jpg.rf.7ab3654bf636dfc152ce36bf27251546.jpg  \n",
            "  inflating: train/images/IMG20250602232828_jpg.rf.ca9f5746cb346b1c7fb3c352c07af7dd.jpg  \n",
            "  inflating: train/images/IMG20250602232912_jpg.rf.064842e97368bb474e88ba8fb77d1444.jpg  \n",
            "  inflating: train/images/IMG20250602232912_jpg.rf.6ad6c326d7c8f51660632dabe1bbab7a.jpg  \n",
            "  inflating: train/images/IMG20250602232912_jpg.rf.7bc6cd801e34ca4580f6ac195eb4a430.jpg  \n",
            "  inflating: train/images/IMG20250602232936_jpg.rf.8e1084d7ecc4a58c4c2fe2374435fa4a.jpg  \n",
            "  inflating: train/images/IMG20250602232936_jpg.rf.9064933bcd6d2dc05e70bff50bf7d0f8.jpg  \n",
            "  inflating: train/images/IMG20250602232936_jpg.rf.bd31d1571fac3d59636c1c0fa0249fc0.jpg  \n",
            "  inflating: train/images/IMG20250602232953_jpg.rf.5b9f8dfb6a66bf69858c5e288174a7ed.jpg  \n",
            "  inflating: train/images/IMG20250602232953_jpg.rf.ad2d6f7438eec5b636ca9d256f9fee5f.jpg  \n",
            "  inflating: train/images/IMG20250602232953_jpg.rf.d8bb0d994f3ed77d75fbdbfbdf1198e3.jpg  \n",
            "  inflating: train/images/IMG20250602233023_jpg.rf.1f9ade1a96752db381d8f254e85babed.jpg  \n",
            "  inflating: train/images/IMG20250602233023_jpg.rf.464ff4d922ae9ba3881b3f6038e17262.jpg  \n",
            "  inflating: train/images/IMG20250602233023_jpg.rf.e93a885cab99b453436546eafc3f4f8d.jpg  \n",
            "  inflating: train/images/IMG20250602233044_jpg.rf.29a3636b211570d2c53c9da3560b66f8.jpg  \n",
            "  inflating: train/images/IMG20250602233044_jpg.rf.65838dc45f3c6d45dc55385150ec9cd9.jpg  \n",
            "  inflating: train/images/IMG20250602233044_jpg.rf.98e10acfe7708385a18dbae4b37ec7b7.jpg  \n",
            "  inflating: train/images/IMG20250602233053_jpg.rf.32df64b7fc9b76d6a891e745b1ac0d63.jpg  \n",
            "  inflating: train/images/IMG20250602233053_jpg.rf.90c93b5a102abfde29781c018b50debb.jpg  \n",
            "  inflating: train/images/IMG20250602233053_jpg.rf.c81e53be370166d52d2763b73424150b.jpg  \n",
            "  inflating: train/images/IMG20250602233111_jpg.rf.817f8afd8d75ab3709fce2699a3c0252.jpg  \n",
            "  inflating: train/images/IMG20250602233111_jpg.rf.b1d2979b3956e8c003f2668a7a7f0409.jpg  \n",
            "  inflating: train/images/IMG20250602233111_jpg.rf.db2a3dc8ef3773e740fa034e92c05388.jpg  \n",
            "  inflating: train/images/IMG20250602233151_jpg.rf.25a492c43664db309a0eb57093835f67.jpg  \n",
            "  inflating: train/images/IMG20250602233151_jpg.rf.4eb86c5d01384c9e6db4622fdac687da.jpg  \n",
            "  inflating: train/images/IMG20250602233151_jpg.rf.cae8972ac6e3a45517428453978e2f94.jpg  \n",
            "  inflating: train/images/IMG20250602233220_jpg.rf.53a5d79f81a03620679ec62a956f1a74.jpg  \n",
            "  inflating: train/images/IMG20250602233220_jpg.rf.abd47a32db6eb762d90e9d77fd5ba4cd.jpg  \n",
            "  inflating: train/images/IMG20250602233220_jpg.rf.ef9004ba5d52b0adbd5ae71b8afde34f.jpg  \n",
            "  inflating: train/images/IMG20250602233308_jpg.rf.1cfb96d5de5af598eddd33a09b111587.jpg  \n",
            "  inflating: train/images/IMG20250602233308_jpg.rf.5a257fc309a27bacc719a85d5343277b.jpg  \n",
            "  inflating: train/images/IMG20250602233308_jpg.rf.9e4f69e5e2ef5745a6708fff8fc3781c.jpg  \n",
            "  inflating: train/images/IMG20250602233410_jpg.rf.80d6ee72d2e481e08b8156db9f7d8931.jpg  \n",
            "  inflating: train/images/IMG20250602233410_jpg.rf.baa738d6a28af36d04d9ad9a095ff0ff.jpg  \n",
            "  inflating: train/images/IMG20250602233410_jpg.rf.f406c14edc8bee943fc95eb38e1754ff.jpg  \n",
            "  inflating: train/images/IMG20250602233420_jpg.rf.47eb082a37d4c094f95e0cfc1877ad01.jpg  \n",
            "  inflating: train/images/IMG20250602233420_jpg.rf.69e263634d576a8f4d64e81a0d994384.jpg  \n",
            "  inflating: train/images/IMG20250602233420_jpg.rf.c7f3d1e3a640eac69a4c1d8b85cfb90e.jpg  \n",
            "  inflating: train/images/IMG20250602233432_jpg.rf.23bc2851c73832a71d36dc73e0131e91.jpg  \n",
            "  inflating: train/images/IMG20250602233432_jpg.rf.25fb730929f541e3525758b3cd20c064.jpg  \n",
            "  inflating: train/images/IMG20250602233432_jpg.rf.3f43244f7ef074ad53e5063c1d8e1299.jpg  \n",
            "  inflating: train/images/IMG20250602233441_jpg.rf.9bfaa0fb6863cbe02c89fa0e70d296be.jpg  \n",
            "  inflating: train/images/IMG20250602233441_jpg.rf.f6128253b33be9e295c1fff0bbc420ae.jpg  \n",
            "  inflating: train/images/IMG20250602233441_jpg.rf.f85f949b1e112cf77d74513d3ed5ce74.jpg  \n",
            "  inflating: train/images/IMG20250602233653_jpg.rf.278cf21519efa97e15d98d3dce81c63b.jpg  \n",
            "  inflating: train/images/IMG20250602233653_jpg.rf.9abfca20db73ecbb499daa29db4d05ca.jpg  \n",
            "  inflating: train/images/IMG20250602233653_jpg.rf.d0640ec08a7781e5423b302efd15ff65.jpg  \n",
            "  inflating: train/images/IMG20250602233702_jpg.rf.99139b22c8af19f171b2ee50963650ee.jpg  \n",
            "  inflating: train/images/IMG20250602233702_jpg.rf.e3c2bb71076e49caf907bbfc8c292424.jpg  \n",
            "  inflating: train/images/IMG20250602233702_jpg.rf.ea122c44cc5f2ed3a9c04319ecc0ab74.jpg  \n",
            "  inflating: train/images/IMG20250602233715_jpg.rf.17dddf057601c0b3fe0c6ea009438c16.jpg  \n",
            "  inflating: train/images/IMG20250602233715_jpg.rf.327ffc1afcb0aee468b565b78b80c102.jpg  \n",
            "  inflating: train/images/IMG20250602233715_jpg.rf.86a7c5e3113297c6a6a508ebce99a9ff.jpg  \n",
            "  inflating: train/images/IMG_20250602_211509_jpg.rf.020b1412c4bd7dddfd5dc05893ecbe71.jpg  \n",
            "  inflating: train/images/IMG_20250602_211509_jpg.rf.638d56291c6890d626eeebfcb23992c5.jpg  \n",
            "  inflating: train/images/IMG_20250602_211509_jpg.rf.8eccd5154f6fc2ce9af10af6ecbcfa01.jpg  \n",
            "  inflating: train/images/IMG_20250602_211526_jpg.rf.0f1507e8145ede2c9fcc5801665470d8.jpg  \n",
            "  inflating: train/images/IMG_20250602_211526_jpg.rf.17084af99e72ae145b53e85b6f78ca84.jpg  \n",
            "  inflating: train/images/IMG_20250602_211526_jpg.rf.c32dcfe470c0ec253abd06f8efe0ed73.jpg  \n",
            "  inflating: train/images/IMG_20250602_211602_jpg.rf.6c0482b29ab2e676a9314a4f89440b31.jpg  \n",
            "  inflating: train/images/IMG_20250602_211602_jpg.rf.7bb9493e1d3d2ab22dc553c5f6c99ab6.jpg  \n",
            "  inflating: train/images/IMG_20250602_211602_jpg.rf.a6e27354912c2a34b997b8ea1c9dd6cd.jpg  \n",
            "  inflating: train/images/IMG_20250602_212010_jpg.rf.079cf8c8f03650b8b7a5cf148670a8bc.jpg  \n",
            "  inflating: train/images/IMG_20250602_212010_jpg.rf.37f2be0f334b9e5dc8a9d117e3cada3a.jpg  \n",
            "  inflating: train/images/IMG_20250602_212010_jpg.rf.40545d657ee4375d71d74450c3b2fc13.jpg  \n",
            "  inflating: train/images/IMG_20250602_212549_jpg.rf.747f7ab4257925be926be2ddb68ab305.jpg  \n",
            "  inflating: train/images/IMG_20250602_212549_jpg.rf.a2d824ead42f87ebf745f09fd288c021.jpg  \n",
            "  inflating: train/images/IMG_20250602_212549_jpg.rf.e2acf28c1fbf64147f21d91ed44a979c.jpg  \n",
            "  inflating: train/images/IMG_20250602_223308_jpg.rf.08dfdb4d80408d0a440592faf46e6e5d.jpg  \n",
            "  inflating: train/images/IMG_20250602_223308_jpg.rf.5bcd34987e0eecdaae7b44aacb553c5c.jpg  \n",
            "  inflating: train/images/IMG_20250602_223308_jpg.rf.5c9d8da42f69cc9f7784eba88342c080.jpg  \n",
            "  inflating: train/images/IMG_20250602_223321_jpg.rf.2f24280a38684847215c791b2b6e65ae.jpg  \n",
            "  inflating: train/images/IMG_20250602_223321_jpg.rf.f639edd3f874c5bca3ef21fd613fb120.jpg  \n",
            "  inflating: train/images/IMG_20250602_223321_jpg.rf.f695e57160f58c0fc91e85d55da42844.jpg  \n",
            "  inflating: train/images/IMG_20250602_225417_jpg.rf.73e14371710db3849c2b3d90452332de.jpg  \n",
            "  inflating: train/images/IMG_20250602_225417_jpg.rf.c8d969bc9ca35c0258548cc7ba518fb6.jpg  \n",
            "  inflating: train/images/IMG_20250602_225417_jpg.rf.e1d30e076525be6dcdeb73eef477b4f5.jpg  \n",
            "  inflating: train/labels/IMG20250602183502_jpg.rf.11494171690f618259a9e2afb538e2c6.txt  \n",
            "  inflating: train/labels/IMG20250602183502_jpg.rf.5265bf2145cead8287638c9279cf7e77.txt  \n",
            "  inflating: train/labels/IMG20250602183502_jpg.rf.552229a363ac29feb00c251810d2b43c.txt  \n",
            "  inflating: train/labels/IMG20250602184348_jpg.rf.9a81bd6de56af45617443a5cf6336265.txt  \n",
            "  inflating: train/labels/IMG20250602184348_jpg.rf.bd8568c699c771a0a8a5dda789271305.txt  \n",
            "  inflating: train/labels/IMG20250602184348_jpg.rf.eac66ed5af6ba715486c5bade687e8e8.txt  \n",
            "  inflating: train/labels/IMG20250602184427_jpg.rf.07b95a0f287bd6414f9111a8c7a2242c.txt  \n",
            "  inflating: train/labels/IMG20250602184427_jpg.rf.43b7c7661943d998a11d3088ca2b0387.txt  \n",
            "  inflating: train/labels/IMG20250602184427_jpg.rf.aaea0829e51fd8092bc4767095a1a3a6.txt  \n",
            "  inflating: train/labels/IMG20250602184502_jpg.rf.722890608c218ff744c4bb55ed8fa45c.txt  \n",
            "  inflating: train/labels/IMG20250602184502_jpg.rf.76897556326e5477991561b7dc287d35.txt  \n",
            "  inflating: train/labels/IMG20250602184502_jpg.rf.d2b31e56e4d041090db6f4ea4834e3b3.txt  \n",
            "  inflating: train/labels/IMG20250602184509_jpg.rf.252611111e5b423236b95165c505257f.txt  \n",
            "  inflating: train/labels/IMG20250602184509_jpg.rf.451135f9181111aef968a53f317b5594.txt  \n",
            "  inflating: train/labels/IMG20250602184509_jpg.rf.581f1071af66d821359d10086d52289f.txt  \n",
            "  inflating: train/labels/IMG20250602184519_jpg.rf.0636d9207152c40f0bca17a631dcf579.txt  \n",
            "  inflating: train/labels/IMG20250602184519_jpg.rf.eec0ac186d1b84eef0df8777a2db5962.txt  \n",
            "  inflating: train/labels/IMG20250602184519_jpg.rf.f773f6e382bfa8266feae6ad7f742f6b.txt  \n",
            "  inflating: train/labels/IMG20250602184527_jpg.rf.2cbba927175331608e05e4c84f38f79b.txt  \n",
            "  inflating: train/labels/IMG20250602184527_jpg.rf.658f55478515682644b7b041cd5c7b69.txt  \n",
            "  inflating: train/labels/IMG20250602184527_jpg.rf.eaf9e589b4558da6eff3e81df89fe284.txt  \n",
            "  inflating: train/labels/IMG20250602184531_jpg.rf.087ec107eb8db7864c2be9224abd828d.txt  \n",
            "  inflating: train/labels/IMG20250602184531_jpg.rf.156eb236695913917731ad12400c77d3.txt  \n",
            "  inflating: train/labels/IMG20250602184531_jpg.rf.9c5b18bc504debaa940eee54369683e4.txt  \n",
            "  inflating: train/labels/IMG20250602184537_jpg.rf.562d8c40a9218e21983c7ed2ec860f1a.txt  \n",
            "  inflating: train/labels/IMG20250602184537_jpg.rf.5f6beea9809046fc48f1bf0a74e904d4.txt  \n",
            "  inflating: train/labels/IMG20250602184537_jpg.rf.be6ff7ca06a53fb665b8ee66c9888e30.txt  \n",
            "  inflating: train/labels/IMG20250602184545_jpg.rf.1f5bc5c271a150138e36d864d4856779.txt  \n",
            "  inflating: train/labels/IMG20250602184545_jpg.rf.a8e6c906629c10dd05c06f44d96afa3e.txt  \n",
            "  inflating: train/labels/IMG20250602184545_jpg.rf.cdfa8e7d273133e54667c808ff1c285e.txt  \n",
            "  inflating: train/labels/IMG20250602184624_jpg.rf.05cd921b1a37cfa7bd5fb3dc008ff0fd.txt  \n",
            "  inflating: train/labels/IMG20250602184624_jpg.rf.26f3a8eb6a31290d08c5f376463b678a.txt  \n",
            "  inflating: train/labels/IMG20250602184624_jpg.rf.db8cad401841db8f8f4a93054436b8e0.txt  \n",
            "  inflating: train/labels/IMG20250602184733_jpg.rf.5d15fd7b338883be1c956ad074e35194.txt  \n",
            "  inflating: train/labels/IMG20250602184733_jpg.rf.6d757a43ea8084c2d4652ea7385f5c8b.txt  \n",
            "  inflating: train/labels/IMG20250602184733_jpg.rf.f9682ec1d995bcc6832476995421b7b3.txt  \n",
            "  inflating: train/labels/IMG20250602184749_jpg.rf.0c20ddfe1ea6317d9e74eec5a3e3ebee.txt  \n",
            "  inflating: train/labels/IMG20250602184749_jpg.rf.0c8bef6e3694b83cefed62a0a3811ab1.txt  \n",
            "  inflating: train/labels/IMG20250602184749_jpg.rf.2422a686b82e2f039b3bc638dcd71b9e.txt  \n",
            "  inflating: train/labels/IMG20250602184759_jpg.rf.179d987b302d7a956e61de7464dbb563.txt  \n",
            "  inflating: train/labels/IMG20250602184759_jpg.rf.54710d1bb1d2f5abe2403c387aedfcf6.txt  \n",
            "  inflating: train/labels/IMG20250602184759_jpg.rf.8b52cda83113af4ddbc122116c47e571.txt  \n",
            "  inflating: train/labels/IMG20250602185015_jpg.rf.7dd6aa79903c6574f0e77b4f401c7929.txt  \n",
            "  inflating: train/labels/IMG20250602185015_jpg.rf.970d874b4be08ced088c79ccfbf8154c.txt  \n",
            "  inflating: train/labels/IMG20250602185015_jpg.rf.f43726c9257fe5a0c1c79695a6754a49.txt  \n",
            "  inflating: train/labels/IMG20250602185036_jpg.rf.749372d5d3beef96199e0f31d7d21783.txt  \n",
            "  inflating: train/labels/IMG20250602185036_jpg.rf.941093fa2acfc39e386ba48654c7d00c.txt  \n",
            "  inflating: train/labels/IMG20250602185036_jpg.rf.f311401432f22c8e03625b68d6ddc695.txt  \n",
            "  inflating: train/labels/IMG20250602185124_jpg.rf.3e27b8f8a1cf5713ae89ceecccbe1252.txt  \n",
            "  inflating: train/labels/IMG20250602185124_jpg.rf.8474336c3d653cfb2d4e0c48316626a2.txt  \n",
            "  inflating: train/labels/IMG20250602185124_jpg.rf.913fd7ba353c13c6f2c557a9d878dc00.txt  \n",
            "  inflating: train/labels/IMG20250602185139_jpg.rf.37b57f2127e809118a03d5b18b7db264.txt  \n",
            "  inflating: train/labels/IMG20250602185139_jpg.rf.d0f1ca76d076df6fa64b04f54805a2a9.txt  \n",
            "  inflating: train/labels/IMG20250602185139_jpg.rf.d38ce8830ae571038254a86908622020.txt  \n",
            "  inflating: train/labels/IMG20250602185155_jpg.rf.6fe074e34249b7a3b8a0f783168160c6.txt  \n",
            "  inflating: train/labels/IMG20250602185155_jpg.rf.cdeb7e2a38645efa7814efdbc89d1358.txt  \n",
            "  inflating: train/labels/IMG20250602185155_jpg.rf.dfab01b091fa2415639429873b1aeeee.txt  \n",
            "  inflating: train/labels/IMG20250602190038_jpg.rf.560597c9aa4a1c62c38e981fe024fa63.txt  \n",
            "  inflating: train/labels/IMG20250602190038_jpg.rf.88be6386cc7976bb2ae40da4c5a573af.txt  \n",
            "  inflating: train/labels/IMG20250602190038_jpg.rf.ea1f25a2b7cfe927303f5fdf52dd7f5d.txt  \n",
            "  inflating: train/labels/IMG20250602190047_jpg.rf.43cba625435c25256e826cd499060858.txt  \n",
            "  inflating: train/labels/IMG20250602190047_jpg.rf.54f8e9be2306ef5b546a06734c48099e.txt  \n",
            "  inflating: train/labels/IMG20250602190047_jpg.rf.8052c6735d70153b38bd58434887d416.txt  \n",
            "  inflating: train/labels/IMG20250602190058_jpg.rf.6b72af95da326dde31c7960bfa94cc7e.txt  \n",
            "  inflating: train/labels/IMG20250602190058_jpg.rf.a38cb050b48d2fc51bff078306a257b6.txt  \n",
            "  inflating: train/labels/IMG20250602190058_jpg.rf.f4f58e0b9246c0ac6b50086bd199832f.txt  \n",
            "  inflating: train/labels/IMG20250602190103_jpg.rf.5b5302d9b4595f7e43e96f354f1dc90e.txt  \n",
            "  inflating: train/labels/IMG20250602190103_jpg.rf.82e55fedd3ede4d463f0b5e4b8649abe.txt  \n",
            "  inflating: train/labels/IMG20250602190103_jpg.rf.90f38a2f06fa9e3303529bc4e1ce7506.txt  \n",
            "  inflating: train/labels/IMG20250602190144_jpg.rf.27f8450d2bb30aeaccfdde28fd7e24fd.txt  \n",
            "  inflating: train/labels/IMG20250602190144_jpg.rf.92854b562c867e5fda7e2c21d698ad8f.txt  \n",
            "  inflating: train/labels/IMG20250602190144_jpg.rf.9be4063a0a20c8db6a8418ec98d978b2.txt  \n",
            "  inflating: train/labels/IMG20250602190149_jpg.rf.0d0e7a53b35893b65959d0fa9fedb8e4.txt  \n",
            "  inflating: train/labels/IMG20250602190149_jpg.rf.1fb1a9c8a53d6df8a04f7b2dd8d9253b.txt  \n",
            "  inflating: train/labels/IMG20250602190149_jpg.rf.7a9e5d8ae8db542c8e34f6078bf2c710.txt  \n",
            "  inflating: train/labels/IMG20250602190153_jpg.rf.17f0959ab62385f9b3ccb23ad66f47a1.txt  \n",
            "  inflating: train/labels/IMG20250602190153_jpg.rf.94fdc1534529af1fd1459c79eb65c07e.txt  \n",
            "  inflating: train/labels/IMG20250602190153_jpg.rf.c9b15b8004b89f79b0b046988f90b1fc.txt  \n",
            "  inflating: train/labels/IMG20250602190252_jpg.rf.826293e994ee023b48d8e0c930eac631.txt  \n",
            "  inflating: train/labels/IMG20250602190252_jpg.rf.e0da0233091c22b209e06895a23e6db6.txt  \n",
            "  inflating: train/labels/IMG20250602190252_jpg.rf.ec9f30d205aea8dc4048bfa166c6b243.txt  \n",
            "  inflating: train/labels/IMG20250602190258_jpg.rf.1466f8b8a094cfa41a7c756e8205e6e4.txt  \n",
            "  inflating: train/labels/IMG20250602190258_jpg.rf.594cfc84db314d6183ccd6acf62587ee.txt  \n",
            "  inflating: train/labels/IMG20250602190258_jpg.rf.b313e695d9c923e52865226e9bfe7536.txt  \n",
            "  inflating: train/labels/IMG20250602190302_jpg.rf.1f8a68b72ef4e0afbc2355a314bfa320.txt  \n",
            "  inflating: train/labels/IMG20250602190302_jpg.rf.3b80c983aac7abdbb2bd8f708e7d7a94.txt  \n",
            "  inflating: train/labels/IMG20250602190302_jpg.rf.e059e706c168c988e97fa67f39a0a10e.txt  \n",
            "  inflating: train/labels/IMG20250602190311_jpg.rf.50742de0022f230b7f85383df830ad0d.txt  \n",
            "  inflating: train/labels/IMG20250602190311_jpg.rf.5b81bcdb3df2e014f1f9d2cf2c0f17c8.txt  \n",
            "  inflating: train/labels/IMG20250602190311_jpg.rf.d55311da289178bc9bc2f0a67f908767.txt  \n",
            "  inflating: train/labels/IMG20250602190319_jpg.rf.31841e3aabb004735328f8b95acaaa3b.txt  \n",
            "  inflating: train/labels/IMG20250602190319_jpg.rf.cc67852baac62012d9a1abaf20272447.txt  \n",
            "  inflating: train/labels/IMG20250602190319_jpg.rf.ce9bb6bf824d5f02fb51b5dd6c5c1075.txt  \n",
            "  inflating: train/labels/IMG20250602190322_jpg.rf.17748d880f252dd636738e1232324e98.txt  \n",
            "  inflating: train/labels/IMG20250602190322_jpg.rf.298a16aa0e3e160137786aae52cebb97.txt  \n",
            "  inflating: train/labels/IMG20250602190322_jpg.rf.bf5871522e233ef96bf4ea80ce1e45ec.txt  \n",
            "  inflating: train/labels/IMG20250602190332_jpg.rf.1cfee9d2edac5827bb462223ce280e44.txt  \n",
            "  inflating: train/labels/IMG20250602190332_jpg.rf.b0b7b87ac544f1444216e57b35143a23.txt  \n",
            "  inflating: train/labels/IMG20250602190332_jpg.rf.f625c1bf3a9de2d1fcd2b150989b349b.txt  \n",
            "  inflating: train/labels/IMG20250602190342_jpg.rf.5da1d37eef8879e1c33c2a8328795c85.txt  \n",
            "  inflating: train/labels/IMG20250602190342_jpg.rf.6498ca5e02821a362ac698c64f29759b.txt  \n",
            "  inflating: train/labels/IMG20250602190342_jpg.rf.ff16b7e0d5ac798213cce92d94c8a5d8.txt  \n",
            "  inflating: train/labels/IMG20250602190354_jpg.rf.07b860bc79636cc711b96c9dc8d3adad.txt  \n",
            "  inflating: train/labels/IMG20250602190354_jpg.rf.2591ab95d29f4e4b054a279da87551fb.txt  \n",
            "  inflating: train/labels/IMG20250602190354_jpg.rf.7249dfa731b85fbf186617017054f397.txt  \n",
            "  inflating: train/labels/IMG20250602190425_jpg.rf.01bc90101c8a867f0ed9e6b16dfabcd2.txt  \n",
            "  inflating: train/labels/IMG20250602190425_jpg.rf.7474ce930bf594c7b105978046dd2881.txt  \n",
            "  inflating: train/labels/IMG20250602190425_jpg.rf.845f65ee007e48763ce9b7a4d79a9432.txt  \n",
            "  inflating: train/labels/IMG20250602190435_jpg.rf.3692d190b40041030b99f0520fa372e8.txt  \n",
            "  inflating: train/labels/IMG20250602190435_jpg.rf.7423b5af8968c8dd08358a6d6d5b7538.txt  \n",
            "  inflating: train/labels/IMG20250602190435_jpg.rf.971a0a02b11f5d24c9d8fe34c09a2d16.txt  \n",
            "  inflating: train/labels/IMG20250602190439_jpg.rf.130b8195487b9188d231f9409a1471fc.txt  \n",
            "  inflating: train/labels/IMG20250602190439_jpg.rf.9388377afb14fc251f42f52a0533bcd7.txt  \n",
            "  inflating: train/labels/IMG20250602190439_jpg.rf.cb8344adc6ea4ce2ac8fb2a412eb5920.txt  \n",
            "  inflating: train/labels/IMG20250602190517_jpg.rf.1714af65090f6a916ed6bd7a679879c1.txt  \n",
            "  inflating: train/labels/IMG20250602190517_jpg.rf.1d2a1609de2b13c59b3f2270ee0ebb62.txt  \n",
            "  inflating: train/labels/IMG20250602190517_jpg.rf.4ed50c10420d42845536617cfb1cdc64.txt  \n",
            "  inflating: train/labels/IMG20250602190540_jpg.rf.986b248dc4e67eb9ee91f00c1831efa2.txt  \n",
            "  inflating: train/labels/IMG20250602190540_jpg.rf.a88ade8394c42f9041df08a05584abcd.txt  \n",
            "  inflating: train/labels/IMG20250602190540_jpg.rf.fe7c3696439bd2f8dffb9c7f9d530622.txt  \n",
            "  inflating: train/labels/IMG20250602190824_jpg.rf.23a581317d9ad60daa3b7d79700a31ba.txt  \n",
            "  inflating: train/labels/IMG20250602190824_jpg.rf.d187d969e9d0258204dee2b50e334660.txt  \n",
            "  inflating: train/labels/IMG20250602190824_jpg.rf.db43151221f5e73982d99bda8e62f753.txt  \n",
            "  inflating: train/labels/IMG20250602190829_jpg.rf.9d5229dbb061b18602ca8fea53997dd1.txt  \n",
            "  inflating: train/labels/IMG20250602190829_jpg.rf.e1408d002f594658ba1347669611bd3b.txt  \n",
            "  inflating: train/labels/IMG20250602190829_jpg.rf.f6a791a179ca1beaa36ae4dfd688f407.txt  \n",
            "  inflating: train/labels/IMG20250602190839_jpg.rf.6da0d67ff4116021c5d03d34febdbdc3.txt  \n",
            "  inflating: train/labels/IMG20250602190839_jpg.rf.71ec26746949732a2bf1d3c7fae54f5b.txt  \n",
            "  inflating: train/labels/IMG20250602190839_jpg.rf.f0594078da4f94dd1b9f52c8ae363e78.txt  \n",
            "  inflating: train/labels/IMG20250602190918_jpg.rf.694bd1afd4604e11bda1411f47dcd3a7.txt  \n",
            "  inflating: train/labels/IMG20250602190918_jpg.rf.b3982a7217efe918fa2bdf57524d46b7.txt  \n",
            "  inflating: train/labels/IMG20250602190918_jpg.rf.ed2485f41f337d9b22a0a0d20bafd839.txt  \n",
            "  inflating: train/labels/IMG20250602190921_jpg.rf.1050f28cb71d7fc8b06c709da5a5aead.txt  \n",
            "  inflating: train/labels/IMG20250602190921_jpg.rf.3866bc5d97bb27626babb4885a9c89fe.txt  \n",
            "  inflating: train/labels/IMG20250602190921_jpg.rf.7ddd1f86fee33e2d014b2b4f5e895b7e.txt  \n",
            "  inflating: train/labels/IMG20250602190926_jpg.rf.327f6ec737408822d0592c13e5cfcad6.txt  \n",
            "  inflating: train/labels/IMG20250602190926_jpg.rf.6f5637ea2877fc65289059bb8aace1c9.txt  \n",
            "  inflating: train/labels/IMG20250602190926_jpg.rf.e5000a72788b1ef56684ebaf719b76df.txt  \n",
            "  inflating: train/labels/IMG20250602190937_jpg.rf.262476469ae78741085ed6678b033817.txt  \n",
            "  inflating: train/labels/IMG20250602190937_jpg.rf.39ba9efb7b3cfe62cbf48baf112ce336.txt  \n",
            "  inflating: train/labels/IMG20250602190937_jpg.rf.b76a528dccc8da09a39a4c1326d85edc.txt  \n",
            "  inflating: train/labels/IMG20250602191043_jpg.rf.39518eb68c82d9e66b224ae772101606.txt  \n",
            "  inflating: train/labels/IMG20250602191043_jpg.rf.80c6239bf28ccf30ef9fb4474cb724ef.txt  \n",
            "  inflating: train/labels/IMG20250602191043_jpg.rf.a2fd43c43170772b294e10423508a78d.txt  \n",
            "  inflating: train/labels/IMG20250602191133_jpg.rf.0aa32a933d31e349033339388f93f528.txt  \n",
            "  inflating: train/labels/IMG20250602191133_jpg.rf.9597320309afbfd7e932e3f83cf016b3.txt  \n",
            "  inflating: train/labels/IMG20250602191133_jpg.rf.a228a465199a4fddf2eb1466ab339180.txt  \n",
            "  inflating: train/labels/IMG20250602191138_jpg.rf.1c3e3616784b56b2509995363f6cab86.txt  \n",
            "  inflating: train/labels/IMG20250602191138_jpg.rf.540b81581b32a802e449af27a758bc04.txt  \n",
            "  inflating: train/labels/IMG20250602191138_jpg.rf.5b03cebf733bc2f33f902027b76593cb.txt  \n",
            "  inflating: train/labels/IMG20250602191143_jpg.rf.15b0206dc3a14e7bbb1221cdd6df336b.txt  \n",
            "  inflating: train/labels/IMG20250602191143_jpg.rf.675165e3920758cc7973046935e540bb.txt  \n",
            "  inflating: train/labels/IMG20250602191143_jpg.rf.859558cfd8ed906b1ab2a7b20ae59246.txt  \n",
            "  inflating: train/labels/IMG20250602191146_jpg.rf.241556504d89351b36a3ad5357add588.txt  \n",
            "  inflating: train/labels/IMG20250602191146_jpg.rf.68220b4cef27e117d89807e979a62554.txt  \n",
            "  inflating: train/labels/IMG20250602191146_jpg.rf.ffafecd9d58324ace5d5e452062609b7.txt  \n",
            "  inflating: train/labels/IMG20250602191157_jpg.rf.199df00e1a94698435c753237fdc7185.txt  \n",
            "  inflating: train/labels/IMG20250602191157_jpg.rf.20432778a2efd4c3afabb7696ae7a655.txt  \n",
            "  inflating: train/labels/IMG20250602191157_jpg.rf.322708bd281b0a99363bb6e4371c9870.txt  \n",
            "  inflating: train/labels/IMG20250602191201_jpg.rf.079061aee8ef7dfccfcd163c7dd5834e.txt  \n",
            "  inflating: train/labels/IMG20250602191201_jpg.rf.58b09a48ba075daf498b9a3af0e25018.txt  \n",
            "  inflating: train/labels/IMG20250602191201_jpg.rf.bbddcb26bdd74b12b29c6b7f58e9abed.txt  \n",
            "  inflating: train/labels/IMG20250602191215_jpg.rf.00777f4058ca0f277bedb489c436a125.txt  \n",
            "  inflating: train/labels/IMG20250602191215_jpg.rf.966175c077d2bede13b2cd3c8abc031e.txt  \n",
            "  inflating: train/labels/IMG20250602191215_jpg.rf.fcda4f8bef3a9e718a12cae68dd8ae22.txt  \n",
            "  inflating: train/labels/IMG20250602191223_jpg.rf.3c695ac610806564232dd46ba119c36b.txt  \n",
            "  inflating: train/labels/IMG20250602191223_jpg.rf.92f44122b20dcf14a31373c31164b140.txt  \n",
            "  inflating: train/labels/IMG20250602191223_jpg.rf.f01ae2a44645382ef1468180ee3e7c4b.txt  \n",
            "  inflating: train/labels/IMG20250602191336_jpg.rf.5fef6fd960d2e502c17c871339c54dd8.txt  \n",
            "  inflating: train/labels/IMG20250602191336_jpg.rf.6d511bbfcaada9ff81c193e8116aa78f.txt  \n",
            "  inflating: train/labels/IMG20250602191336_jpg.rf.7d472120b6d095b2019f991954382b71.txt  \n",
            "  inflating: train/labels/IMG20250602191342_jpg.rf.0f394552635eb816d9f4058a1ab6eb14.txt  \n",
            "  inflating: train/labels/IMG20250602191342_jpg.rf.aa41738b47aac6c7de25d946557089ca.txt  \n",
            "  inflating: train/labels/IMG20250602191342_jpg.rf.fb3a26990a6bcc9b74887e67835a0fc1.txt  \n",
            "  inflating: train/labels/IMG20250602191349_jpg.rf.57dd474164a7718d6b0e7477b5213c4d.txt  \n",
            "  inflating: train/labels/IMG20250602191349_jpg.rf.9f51d354968e10cd8e44b4a5a94670ef.txt  \n",
            "  inflating: train/labels/IMG20250602191349_jpg.rf.d56044d71b510247743d885543006648.txt  \n",
            "  inflating: train/labels/IMG20250602191453_jpg.rf.134e0d5872103394a1bffe5d4b91cfdb.txt  \n",
            "  inflating: train/labels/IMG20250602191453_jpg.rf.2e317f5d94db85ada5daed8dd165108e.txt  \n",
            "  inflating: train/labels/IMG20250602191453_jpg.rf.bd8c1ff4aeb00e8868446ff3ab5a610e.txt  \n",
            "  inflating: train/labels/IMG20250602191456_jpg.rf.18fac583811aeb4d4208d91e0820c61b.txt  \n",
            "  inflating: train/labels/IMG20250602191456_jpg.rf.2aa4e31c32c8c50c408c875d6940860b.txt  \n",
            "  inflating: train/labels/IMG20250602191456_jpg.rf.89bebdca1872be44504166d9d7e827c6.txt  \n",
            "  inflating: train/labels/IMG20250602191503_jpg.rf.7799b83e145c237480b02abf76dc2827.txt  \n",
            "  inflating: train/labels/IMG20250602191503_jpg.rf.a654dd171ca9cae1d4da9e8edd6aef56.txt  \n",
            "  inflating: train/labels/IMG20250602191503_jpg.rf.c3b0e0a99ed2074cb76df50180e108c0.txt  \n",
            "  inflating: train/labels/IMG20250602191516_jpg.rf.52eb66407fda8d93a7c403790b909da0.txt  \n",
            "  inflating: train/labels/IMG20250602191516_jpg.rf.6d04ab4bf64644dfc770e46c1fbbee52.txt  \n",
            "  inflating: train/labels/IMG20250602191516_jpg.rf.93826ab8a25a5ff857eb3dd28eb85b87.txt  \n",
            "  inflating: train/labels/IMG20250602191547_jpg.rf.438f071cb408b0b8f9f83ea962031d4c.txt  \n",
            "  inflating: train/labels/IMG20250602191547_jpg.rf.8e4978a3ad49ff6ac522fee1ce6e80b7.txt  \n",
            "  inflating: train/labels/IMG20250602191547_jpg.rf.e04873955ff9fb7a4270582442ef64f3.txt  \n",
            "  inflating: train/labels/IMG20250602191554_jpg.rf.47b29abce35c83d4fc1cadc14919f2de.txt  \n",
            "  inflating: train/labels/IMG20250602191554_jpg.rf.532095ab4884b9cc3442f298a04d358e.txt  \n",
            "  inflating: train/labels/IMG20250602191554_jpg.rf.8848e6af4956241aab325a3932edfdcc.txt  \n",
            "  inflating: train/labels/IMG20250602191600_jpg.rf.bcbef090703f1f51337b6d32223a525a.txt  \n",
            "  inflating: train/labels/IMG20250602191600_jpg.rf.e54d6beb40db134d22a25208e4f790d6.txt  \n",
            "  inflating: train/labels/IMG20250602191600_jpg.rf.ed1ab3855f51ded4c2d53e209c2e85ca.txt  \n",
            "  inflating: train/labels/IMG20250602191605_jpg.rf.1c4a54974ee1c39372332d50311ba603.txt  \n",
            "  inflating: train/labels/IMG20250602191605_jpg.rf.2dcc7b625027b413e1969f4bc670f026.txt  \n",
            "  inflating: train/labels/IMG20250602191605_jpg.rf.4f4fe4ba3790e876dfb265257d999dd7.txt  \n",
            "  inflating: train/labels/IMG20250602191647_jpg.rf.b5636f5a5d34c6cd0282741109757bf6.txt  \n",
            "  inflating: train/labels/IMG20250602191647_jpg.rf.d85a1bf8c339969aad291ea2e5ce7fb5.txt  \n",
            "  inflating: train/labels/IMG20250602191647_jpg.rf.f318437074b3941f6a2ade9f45cf3657.txt  \n",
            "  inflating: train/labels/IMG20250602191649_jpg.rf.1d6542feef50b4ebb0e187d3bd73d8b8.txt  \n",
            "  inflating: train/labels/IMG20250602191649_jpg.rf.c52d39469ae0852bce67b3f0ce0009fa.txt  \n",
            "  inflating: train/labels/IMG20250602191649_jpg.rf.f4a9084b2ae615c83683fec632fe532a.txt  \n",
            "  inflating: train/labels/IMG20250602191700_jpg.rf.19723cc49084bd4fb1380a048eb4b22f.txt  \n",
            "  inflating: train/labels/IMG20250602191700_jpg.rf.1a30d4c40eb1e21b663de7ab5acc126a.txt  \n",
            "  inflating: train/labels/IMG20250602191700_jpg.rf.64610109c738907537beeff1618f4414.txt  \n",
            "  inflating: train/labels/IMG20250602191719_jpg.rf.508f00298e2be306e6bc08dfb5c64348.txt  \n",
            "  inflating: train/labels/IMG20250602191719_jpg.rf.7b5a4bcbefb61e944dbbe6511bcd7096.txt  \n",
            "  inflating: train/labels/IMG20250602191719_jpg.rf.87bc0778bf4ad120319f512d3c42a570.txt  \n",
            "  inflating: train/labels/IMG20250602191740_jpg.rf.1cad4d6eba05ec5cfa527b8ae4ebdf66.txt  \n",
            "  inflating: train/labels/IMG20250602191740_jpg.rf.256f29de27de1d85a0b78057a78c2791.txt  \n",
            "  inflating: train/labels/IMG20250602191740_jpg.rf.bfb76dd2c78f8eab99accac91484904b.txt  \n",
            "  inflating: train/labels/IMG20250602191743_jpg.rf.b7884b394992b76a6519fc8494aee66b.txt  \n",
            "  inflating: train/labels/IMG20250602191743_jpg.rf.bbf8bb340d021ec3a04b4b648f6349a9.txt  \n",
            "  inflating: train/labels/IMG20250602191743_jpg.rf.e88779829f273059c914680c76157e61.txt  \n",
            "  inflating: train/labels/IMG20250602191804_jpg.rf.462db0c172a179ac39ceaf716c3ee8ed.txt  \n",
            "  inflating: train/labels/IMG20250602191804_jpg.rf.c35a6806258c0508338e6f95e3244fe2.txt  \n",
            "  inflating: train/labels/IMG20250602191804_jpg.rf.fcd03bf33fadf22be886f29dc3670f39.txt  \n",
            "  inflating: train/labels/IMG20250602191809_jpg.rf.53b30fedbf02253f0caab74fbb1e34da.txt  \n",
            "  inflating: train/labels/IMG20250602191809_jpg.rf.bf80cc786d98869d9dafb011c242cd7d.txt  \n",
            "  inflating: train/labels/IMG20250602191809_jpg.rf.e7c3aa5ad1680158573c16f1eb4d8de9.txt  \n",
            "  inflating: train/labels/IMG20250602191823_jpg.rf.14e7d1abe52ab64b51a57a50f8d78e7e.txt  \n",
            "  inflating: train/labels/IMG20250602191823_jpg.rf.8e60f52dd253a72c8dcce2066335b99b.txt  \n",
            "  inflating: train/labels/IMG20250602191823_jpg.rf.b56560a25bf62d064d01cbc079f8ab52.txt  \n",
            "  inflating: train/labels/IMG20250602191853_jpg.rf.0edff272c89db07156f64ddc131a8e16.txt  \n",
            "  inflating: train/labels/IMG20250602191853_jpg.rf.69beae11c477350fc6df367931d78bf4.txt  \n",
            "  inflating: train/labels/IMG20250602191853_jpg.rf.8a8892378b985e5656fbe1ee1f48b3c2.txt  \n",
            "  inflating: train/labels/IMG20250602191944_jpg.rf.3af58031ceb800784601de62a27937d8.txt  \n",
            "  inflating: train/labels/IMG20250602191944_jpg.rf.6493e72a3a40ba762cf87260cf43523c.txt  \n",
            "  inflating: train/labels/IMG20250602191944_jpg.rf.6d3c86be23cf3573af5bf6f33eb82323.txt  \n",
            "  inflating: train/labels/IMG20250602191951_jpg.rf.15209782ffb0687a4b01153fc268fd9b.txt  \n",
            "  inflating: train/labels/IMG20250602191951_jpg.rf.890d1298451b44d90255347316f68c47.txt  \n",
            "  inflating: train/labels/IMG20250602191951_jpg.rf.ba92b30f4e5df11b228949a16e0b98e8.txt  \n",
            "  inflating: train/labels/IMG20250602191954_jpg.rf.43ab097fda59b2b21f5b421534cc6812.txt  \n",
            "  inflating: train/labels/IMG20250602191954_jpg.rf.c204fb0e537f390d557b4882d3797da0.txt  \n",
            "  inflating: train/labels/IMG20250602191954_jpg.rf.d253edba46e33589a4fa327bc410de88.txt  \n",
            "  inflating: train/labels/IMG20250602192001_jpg.rf.502e7f6a4fdbb07313db5c53fc32ab43.txt  \n",
            "  inflating: train/labels/IMG20250602192001_jpg.rf.6c6ce87539a4a5ebc485d7ac1f7e58f1.txt  \n",
            "  inflating: train/labels/IMG20250602192001_jpg.rf.9d51edde8b2f51ce2082ce8b2479d784.txt  \n",
            "  inflating: train/labels/IMG20250602192055_jpg.rf.2d80e60951178cb59e8351d3efbd4182.txt  \n",
            "  inflating: train/labels/IMG20250602192055_jpg.rf.50638eb1b3e54d0b0af40f416fec9968.txt  \n",
            "  inflating: train/labels/IMG20250602192055_jpg.rf.7c4ca284257d98e2b9be0dcf76f272a0.txt  \n",
            "  inflating: train/labels/IMG20250602192058_jpg.rf.558dd2855e87d700fe2dd09a1411ad93.txt  \n",
            "  inflating: train/labels/IMG20250602192058_jpg.rf.6c96fd537a25c2690990e4ecabeddbcf.txt  \n",
            "  inflating: train/labels/IMG20250602192058_jpg.rf.eb2502ad8e34b845416af29479d63e52.txt  \n",
            "  inflating: train/labels/IMG20250602192109_jpg.rf.2763a373b0a03dafe3fa12bc49f9196d.txt  \n",
            "  inflating: train/labels/IMG20250602192109_jpg.rf.55f36f800d8649c9f9259c5d5d84eebf.txt  \n",
            "  inflating: train/labels/IMG20250602192109_jpg.rf.ab653f369973b9ed7bed21a9b6afa1a3.txt  \n",
            "  inflating: train/labels/IMG20250602192115_jpg.rf.39d3cd1a7d18c1009bc9f982c5bf289d.txt  \n",
            "  inflating: train/labels/IMG20250602192115_jpg.rf.5e23ca05698d04cafbfb7744a72dc390.txt  \n",
            "  inflating: train/labels/IMG20250602192115_jpg.rf.c2a20306a3352f6b9b622c22e41d7a7f.txt  \n",
            "  inflating: train/labels/IMG20250602192157_jpg.rf.5fc41870f7ed6cdc494fb6c9b59d7a31.txt  \n",
            "  inflating: train/labels/IMG20250602192157_jpg.rf.646ee64d8b2fdb058aa1f60eadbba3f7.txt  \n",
            "  inflating: train/labels/IMG20250602192157_jpg.rf.902b46ebedace6f34d50b600a1c9c980.txt  \n",
            "  inflating: train/labels/IMG20250602192159_jpg.rf.1a32da18125a85ae6a4def866163f477.txt  \n",
            "  inflating: train/labels/IMG20250602192159_jpg.rf.49f896110c8ad8a41c57b0a5b956a4d4.txt  \n",
            "  inflating: train/labels/IMG20250602192159_jpg.rf.9aefe67226c82f8ebc08c584bf4613cc.txt  \n",
            "  inflating: train/labels/IMG20250602192202_jpg.rf.2693fc1fbfdff718039fc4ff5c32669a.txt  \n",
            "  inflating: train/labels/IMG20250602192202_jpg.rf.6edee76573eb150ffbe2a1466db7dc7a.txt  \n",
            "  inflating: train/labels/IMG20250602192202_jpg.rf.da9c3b7fb8bf3658ac6ef6b75d00e5d8.txt  \n",
            "  inflating: train/labels/IMG20250602192315_jpg.rf.aa0e7c15f28cc5c437357915bbf7e670.txt  \n",
            "  inflating: train/labels/IMG20250602192315_jpg.rf.ab5387234e75e8040134d037c0244657.txt  \n",
            "  inflating: train/labels/IMG20250602192315_jpg.rf.f78296a322e5721dcf84edc87c0e17a1.txt  \n",
            "  inflating: train/labels/IMG20250602192318_jpg.rf.52ef2461a6c76ca9f12a2c5cb76304e1.txt  \n",
            "  inflating: train/labels/IMG20250602192318_jpg.rf.5f44f9357d8d1cba0dbe75c6008e17d3.txt  \n",
            "  inflating: train/labels/IMG20250602192318_jpg.rf.a8649ea436cb7310192be421fc9f9984.txt  \n",
            "  inflating: train/labels/IMG20250602192334_jpg.rf.327cd60c7fb7cbc73e440dbd1ab8b178.txt  \n",
            "  inflating: train/labels/IMG20250602192334_jpg.rf.8aea01f336a1c47672b455da09ce1703.txt  \n",
            "  inflating: train/labels/IMG20250602192334_jpg.rf.c1979cb5acec4c7de280e04e00bc7c88.txt  \n",
            "  inflating: train/labels/IMG20250602192342_jpg.rf.40fbe2135347ec826b7a561d5480a450.txt  \n",
            "  inflating: train/labels/IMG20250602192342_jpg.rf.5e65e972297b9656bb1eb094d1ee864e.txt  \n",
            "  inflating: train/labels/IMG20250602192342_jpg.rf.c1fd02f92ce99672b1fbcb4f38df26ed.txt  \n",
            "  inflating: train/labels/IMG20250602192351_jpg.rf.7d60349d65cf3621b1247a6487eb8d72.txt  \n",
            "  inflating: train/labels/IMG20250602192351_jpg.rf.b31c764589d13504a0bc124930ea88d4.txt  \n",
            "  inflating: train/labels/IMG20250602192351_jpg.rf.feb19ec42a253a3e24afea65e2ae453b.txt  \n",
            "  inflating: train/labels/IMG20250602192355_jpg.rf.675cbadae53f608272b1083d2843bb87.txt  \n",
            "  inflating: train/labels/IMG20250602192355_jpg.rf.8d983417a21d6d135ac17037668c45da.txt  \n",
            "  inflating: train/labels/IMG20250602192355_jpg.rf.a070f10f81dfc1f1693b951e405b9e71.txt  \n",
            "  inflating: train/labels/IMG20250602192422_jpg.rf.01ed1afaa192222a02fb990d9162eb4f.txt  \n",
            "  inflating: train/labels/IMG20250602192422_jpg.rf.0d15cdf51d9f49e3562ffce4295221ce.txt  \n",
            "  inflating: train/labels/IMG20250602192422_jpg.rf.fcca2a2edad19eb5e9ca03d77427a8c8.txt  \n",
            "  inflating: train/labels/IMG20250602192426_jpg.rf.216e42f45f9c98f841c7b338a319bb3c.txt  \n",
            "  inflating: train/labels/IMG20250602192426_jpg.rf.9ddba37ba85730dcbcadff0929573bd6.txt  \n",
            "  inflating: train/labels/IMG20250602192426_jpg.rf.d0b6a2fc45a82ea66059987c78782458.txt  \n",
            "  inflating: train/labels/IMG20250602192433_jpg.rf.5c94f41fbadfbee68be35d8afb663e4b.txt  \n",
            "  inflating: train/labels/IMG20250602192433_jpg.rf.aabd62450616ae063720030ad60587f0.txt  \n",
            "  inflating: train/labels/IMG20250602192433_jpg.rf.ae43eca41a7b9aec20b02dfe492a8226.txt  \n",
            "  inflating: train/labels/IMG20250602192437_jpg.rf.09315045433cbd44eb239e0483ba3689.txt  \n",
            "  inflating: train/labels/IMG20250602192437_jpg.rf.0fbf03a476217b819cbea4a23cf8053d.txt  \n",
            "  inflating: train/labels/IMG20250602192437_jpg.rf.9d8dd71a83e03e366b8d8b2c42fde84b.txt  \n",
            "  inflating: train/labels/IMG20250602192549_jpg.rf.a0c986ac3d81234fa98b3b45e56f9ce6.txt  \n",
            "  inflating: train/labels/IMG20250602192549_jpg.rf.ba89c55ed1567b4d308dda95c924d083.txt  \n",
            "  inflating: train/labels/IMG20250602192549_jpg.rf.e5f31ed66a812c01b5a379617cb79152.txt  \n",
            "  inflating: train/labels/IMG20250602192603_jpg.rf.0e2201542c63a1ec934a624cdecd8458.txt  \n",
            "  inflating: train/labels/IMG20250602192603_jpg.rf.2b3fc8cd0432ee3a5437f10a2546f58e.txt  \n",
            "  inflating: train/labels/IMG20250602192603_jpg.rf.3c4d6425fea714d735f7cbff3e0bac93.txt  \n",
            "  inflating: train/labels/IMG20250602192720_jpg.rf.38b3389e0a6a16ccf610e27653a84bea.txt  \n",
            "  inflating: train/labels/IMG20250602192720_jpg.rf.56736ca1b3e0bfd0dfce652e50b6ab55.txt  \n",
            "  inflating: train/labels/IMG20250602192720_jpg.rf.e2bd60bd6b7362a5021bcfa025d9c218.txt  \n",
            "  inflating: train/labels/IMG20250602192734_jpg.rf.90f6fe59d3b16eda7de41765d71a4de4.txt  \n",
            "  inflating: train/labels/IMG20250602192734_jpg.rf.b54772e21a6dfa27bf923ffc8b61c7e6.txt  \n",
            "  inflating: train/labels/IMG20250602192734_jpg.rf.d42c8d26ce6b4c366b0a053cb46d50a2.txt  \n",
            "  inflating: train/labels/IMG20250602192743_jpg.rf.4b85b655cd5fac5872c4d4a073e2dc7c.txt  \n",
            "  inflating: train/labels/IMG20250602192743_jpg.rf.57adedaa9ded2b0bf9931949e0b3f662.txt  \n",
            "  inflating: train/labels/IMG20250602192743_jpg.rf.a19012c756de6644d12ac40bd5098d82.txt  \n",
            "  inflating: train/labels/IMG20250602194113_jpg.rf.3dfbc62e52025dede41c5a52a1ab8fd9.txt  \n",
            "  inflating: train/labels/IMG20250602194113_jpg.rf.6a79a03aa632420d539d154c19cb80a5.txt  \n",
            "  inflating: train/labels/IMG20250602194113_jpg.rf.9f0ddf7e6c6a7b8a1b3cf280adb907d0.txt  \n",
            "  inflating: train/labels/IMG20250602194118_jpg.rf.07bfca60279b7f8f02b89fd6ef738106.txt  \n",
            "  inflating: train/labels/IMG20250602194118_jpg.rf.db6180e5625a9fda444cba52d05717ea.txt  \n",
            "  inflating: train/labels/IMG20250602194118_jpg.rf.ee097dbaf6a408c586fab9017d6a9d71.txt  \n",
            "  inflating: train/labels/IMG20250602194128_jpg.rf.5376933c7e5ca6d09aa6a4b9d13848a9.txt  \n",
            "  inflating: train/labels/IMG20250602194128_jpg.rf.9ebfdbd04305ebc639b497089c7af705.txt  \n",
            "  inflating: train/labels/IMG20250602194128_jpg.rf.d4be84d07bcc7b3d0b0bcc4c77112fa4.txt  \n",
            "  inflating: train/labels/IMG20250602194139_jpg.rf.0fe900ee4ee279f6de686db7b13e4f02.txt  \n",
            "  inflating: train/labels/IMG20250602194139_jpg.rf.38605afd3bbd3e9eaafc65e2bf691bc7.txt  \n",
            "  inflating: train/labels/IMG20250602194139_jpg.rf.93bcd3e6fcdd74b57b70baf2e9dc4074.txt  \n",
            "  inflating: train/labels/IMG20250602194327_jpg.rf.32af2f85615213e591c472905033f65c.txt  \n",
            "  inflating: train/labels/IMG20250602194327_jpg.rf.6c68e49ef8c48e1a9779a9677180ff52.txt  \n",
            "  inflating: train/labels/IMG20250602194327_jpg.rf.b7e0dc0120da77a7117d13665b36b6dc.txt  \n",
            "  inflating: train/labels/IMG20250602194330_jpg.rf.80b722543c93fe4623ba3da2e20d4bd2.txt  \n",
            "  inflating: train/labels/IMG20250602194330_jpg.rf.c8ed8e0286b8e18a5bac39b2fcb942c7.txt  \n",
            "  inflating: train/labels/IMG20250602194330_jpg.rf.f7972c5d04ecc60b56253df634d22613.txt  \n",
            "  inflating: train/labels/IMG20250602194345_jpg.rf.369f0ef08331cd2b5f893dc85e46e246.txt  \n",
            "  inflating: train/labels/IMG20250602194345_jpg.rf.77b9e6033b1ff006a02251e1fa96f3a6.txt  \n",
            "  inflating: train/labels/IMG20250602194345_jpg.rf.b744e4d347146bb71e71790701b24255.txt  \n",
            "  inflating: train/labels/IMG20250602194405_jpg.rf.901ef2dad076db61303de2c8d4fb14b0.txt  \n",
            "  inflating: train/labels/IMG20250602194405_jpg.rf.b643556a5e7e34e00d67bc82f223c88f.txt  \n",
            "  inflating: train/labels/IMG20250602194405_jpg.rf.d71032522c922fad85409f5f3dd4aaf5.txt  \n",
            "  inflating: train/labels/IMG20250602194411_jpg.rf.25d6558c005c8b20c9d7f83334d4e946.txt  \n",
            "  inflating: train/labels/IMG20250602194411_jpg.rf.2b4f567cdc3be42ca4118ff32dc44ed9.txt  \n",
            "  inflating: train/labels/IMG20250602194411_jpg.rf.c0646480ca297ac2df8e95427f3995d2.txt  \n",
            "  inflating: train/labels/IMG20250602194444_jpg.rf.08ade16fa42b7377ed15d59d942eb3da.txt  \n",
            "  inflating: train/labels/IMG20250602194444_jpg.rf.9889c2d4d3b5f355ff95498f7aa1733e.txt  \n",
            "  inflating: train/labels/IMG20250602194444_jpg.rf.b3cf40ce58f57f6a49865ed14eabe9a8.txt  \n",
            "  inflating: train/labels/IMG20250602194534_jpg.rf.4039b8f7a9d9a4998c97607615e096ef.txt  \n",
            "  inflating: train/labels/IMG20250602194534_jpg.rf.b9616c6797fbd2732493b16e8e0c858e.txt  \n",
            "  inflating: train/labels/IMG20250602194534_jpg.rf.c7565ab3f826a1568f109f597c9375dd.txt  \n",
            "  inflating: train/labels/IMG20250602194539_jpg.rf.19585c86732421f059dd9c5833626fd8.txt  \n",
            "  inflating: train/labels/IMG20250602194539_jpg.rf.41a77e47ca399db9a13f64eb3583ce4c.txt  \n",
            "  inflating: train/labels/IMG20250602194539_jpg.rf.5b378bf50cdd6f9a9f67e49b19537b91.txt  \n",
            "  inflating: train/labels/IMG20250602194643_jpg.rf.0e25bfdcd7bae1ac2438bfd5b7cd5550.txt  \n",
            "  inflating: train/labels/IMG20250602194643_jpg.rf.6601fd922e8609609d376108ab854666.txt  \n",
            "  inflating: train/labels/IMG20250602194643_jpg.rf.d41ea103b917bb95d985f439dc287c33.txt  \n",
            "  inflating: train/labels/IMG20250602194706_jpg.rf.0b8f22213d6299b0ad3dd83d33c73747.txt  \n",
            "  inflating: train/labels/IMG20250602194706_jpg.rf.6f430d0597a4fab2f8ca5806073f698c.txt  \n",
            "  inflating: train/labels/IMG20250602194706_jpg.rf.98e5e3b114ea464aa077f17e7748ad83.txt  \n",
            "  inflating: train/labels/IMG20250602194731_jpg.rf.a66a293202f40a5d707cfda719bbd984.txt  \n",
            "  inflating: train/labels/IMG20250602194731_jpg.rf.d01e1e9fc932974d96bd67b14c1ab17d.txt  \n",
            "  inflating: train/labels/IMG20250602194731_jpg.rf.e984ad12e022bb8f4c73cdc7b413fe9e.txt  \n",
            "  inflating: train/labels/IMG20250602194832_jpg.rf.1ab8781bcfe6db384236fd84c6d3b287.txt  \n",
            "  inflating: train/labels/IMG20250602194832_jpg.rf.676a51ebac27c95e90b913dae971a087.txt  \n",
            "  inflating: train/labels/IMG20250602194832_jpg.rf.7441a6db698f74a9744bc527521d0b89.txt  \n",
            "  inflating: train/labels/IMG20250602194839_jpg.rf.2ecfc52626cd4e8df411c5419ff7fd37.txt  \n",
            "  inflating: train/labels/IMG20250602194839_jpg.rf.6e34c9fdd778e951377f252ebe1ed79d.txt  \n",
            "  inflating: train/labels/IMG20250602194839_jpg.rf.892286d01d36130bb2ded64803765654.txt  \n",
            "  inflating: train/labels/IMG20250602194843_jpg.rf.8868fdd13f352ff7838fdfdd675cbf42.txt  \n",
            "  inflating: train/labels/IMG20250602194843_jpg.rf.d183f3ebe1f6240366ece689f55c5c2b.txt  \n",
            "  inflating: train/labels/IMG20250602194843_jpg.rf.f05deec8d361c46ec8e1b2011317fd85.txt  \n",
            "  inflating: train/labels/IMG20250602194855_jpg.rf.bd6c44b2dde5e5b5daf4cd57e9a0d870.txt  \n",
            "  inflating: train/labels/IMG20250602194855_jpg.rf.ceed1ea51bb1d93fb84ea1ae8dd542c6.txt  \n",
            "  inflating: train/labels/IMG20250602194855_jpg.rf.ee1bc5c963b2e58615d9c51cab2f49eb.txt  \n",
            "  inflating: train/labels/IMG20250602195704_jpg.rf.0fdd0addd648838cd87ca8e11fb9bb29.txt  \n",
            "  inflating: train/labels/IMG20250602195704_jpg.rf.52985985c2c4c2c37b4fd4935a3b283f.txt  \n",
            "  inflating: train/labels/IMG20250602195704_jpg.rf.a27d61b8fd60152229cd39977f94f040.txt  \n",
            "  inflating: train/labels/IMG20250602195731_jpg.rf.45e2577d4d2664a2c7dbba85dd565a1c.txt  \n",
            "  inflating: train/labels/IMG20250602195731_jpg.rf.cf528a4cd92482b39fc6774bcff44494.txt  \n",
            "  inflating: train/labels/IMG20250602195731_jpg.rf.dfb3c0ba8d8574921f6e38d00ceea2ea.txt  \n",
            "  inflating: train/labels/IMG20250602195746_jpg.rf.599c12a730c6cdc85f034c903f729300.txt  \n",
            "  inflating: train/labels/IMG20250602195746_jpg.rf.83b7dc97124e6d67f2d39bbef51214ee.txt  \n",
            "  inflating: train/labels/IMG20250602195746_jpg.rf.c15809854a639b1e37c209bba0240be2.txt  \n",
            "  inflating: train/labels/IMG20250602195821_jpg.rf.1727564b384620f52139f8b79380f185.txt  \n",
            "  inflating: train/labels/IMG20250602195821_jpg.rf.80a13d5308355c02c992d9f7ee37aff5.txt  \n",
            "  inflating: train/labels/IMG20250602195821_jpg.rf.cdd578b97fd3971b18f38f5f9e919662.txt  \n",
            "  inflating: train/labels/IMG20250602200506_jpg.rf.8e312b0efbb96326bc19d982b94e06af.txt  \n",
            "  inflating: train/labels/IMG20250602200506_jpg.rf.caa03aa91e774b655161a923d62f01d0.txt  \n",
            "  inflating: train/labels/IMG20250602200506_jpg.rf.fc757c18e08daccff4463baa67d2d7a1.txt  \n",
            "  inflating: train/labels/IMG20250602200523_jpg.rf.258072344788f621d9654e79a91cafd6.txt  \n",
            "  inflating: train/labels/IMG20250602200523_jpg.rf.3bbe56483eaeacef022a5e6e0c59894c.txt  \n",
            "  inflating: train/labels/IMG20250602200523_jpg.rf.53eae750d9d8c907e6cba9ed97f83a2d.txt  \n",
            "  inflating: train/labels/IMG20250602201858_jpg.rf.0f705fa3e8fb85ab0f9fcae4e33209b5.txt  \n",
            "  inflating: train/labels/IMG20250602201858_jpg.rf.399af2698a340a4c807fd8be31a6246f.txt  \n",
            "  inflating: train/labels/IMG20250602201858_jpg.rf.b264006bf7dde89ddf55884abaec6d7e.txt  \n",
            "  inflating: train/labels/IMG20250602201904_jpg.rf.4c43fefb614b030417c1cbf04774c96f.txt  \n",
            "  inflating: train/labels/IMG20250602201904_jpg.rf.cda492f9b449ddc8945220d86887d7e8.txt  \n",
            "  inflating: train/labels/IMG20250602201904_jpg.rf.d52fb3000d6194278510c9c155811121.txt  \n",
            "  inflating: train/labels/IMG20250602202505_jpg.rf.160c4be9bb532b87a23fd01d02a1fe7c.txt  \n",
            "  inflating: train/labels/IMG20250602202505_jpg.rf.63a828171d0f7155833ca26ebd5063cc.txt  \n",
            "  inflating: train/labels/IMG20250602202505_jpg.rf.ed271d4024c39e96a6734b943859c2f5.txt  \n",
            "  inflating: train/labels/IMG20250602202514_jpg.rf.393b5a8d5b8d789c950cbb36a778e022.txt  \n",
            "  inflating: train/labels/IMG20250602202514_jpg.rf.812fcdc584be1d1eccb775a14437ff33.txt  \n",
            "  inflating: train/labels/IMG20250602202514_jpg.rf.db734f38a7b7e2efc2ed3dc8404a0a50.txt  \n",
            "  inflating: train/labels/IMG20250602202520_jpg.rf.2627b04e973139fe2bf603345739f555.txt  \n",
            "  inflating: train/labels/IMG20250602202520_jpg.rf.2ad185f85493a540de903509d88bfef8.txt  \n",
            "  inflating: train/labels/IMG20250602202520_jpg.rf.cb892c5b0ca72da87276009842783eee.txt  \n",
            "  inflating: train/labels/IMG20250602202547_jpg.rf.25d0ba9028233735c566ab142829d62c.txt  \n",
            "  inflating: train/labels/IMG20250602202547_jpg.rf.eabef66bd756c2bccbf0d4a1e5ee83b5.txt  \n",
            "  inflating: train/labels/IMG20250602202547_jpg.rf.eb4e1876859a16504e668c0f1c8d3da7.txt  \n",
            "  inflating: train/labels/IMG20250602202551_jpg.rf.207907fa9b219496b769b415a470c17b.txt  \n",
            "  inflating: train/labels/IMG20250602202551_jpg.rf.76d0acb90f2cc7ffa14bcf81a8c54200.txt  \n",
            "  inflating: train/labels/IMG20250602202551_jpg.rf.d3e948aaf97944a73de17a3e8046b3d3.txt  \n",
            "  inflating: train/labels/IMG20250602202646_jpg.rf.5b07e2e8fcfcff458c3fa31679be5998.txt  \n",
            "  inflating: train/labels/IMG20250602202646_jpg.rf.83004507b422c032f5ef2c635ed86a64.txt  \n",
            "  inflating: train/labels/IMG20250602202646_jpg.rf.effd35cb13635eb1562d6dede0f64a2f.txt  \n",
            "  inflating: train/labels/IMG20250602202720_jpg.rf.4e1ef038b3ee35faeb46bba3b83c5f88.txt  \n",
            "  inflating: train/labels/IMG20250602202720_jpg.rf.ad5c9689e20e4acf9afdc662c95c826c.txt  \n",
            "  inflating: train/labels/IMG20250602202720_jpg.rf.ebd63cf8afcbc4724050219e290f92d4.txt  \n",
            "  inflating: train/labels/IMG20250602202743_jpg.rf.a336a670ccf9c6d2f3f896a729ca1c7e.txt  \n",
            "  inflating: train/labels/IMG20250602202743_jpg.rf.afaaa164a0ba686217f6d7b018117063.txt  \n",
            "  inflating: train/labels/IMG20250602202743_jpg.rf.f3776e053311bc7bee30ce6933193c35.txt  \n",
            "  inflating: train/labels/IMG20250602202751_jpg.rf.0ecbf56942566586be3d13b50bf93de8.txt  \n",
            "  inflating: train/labels/IMG20250602202751_jpg.rf.96b5c723ffeef6b75986745144a5b170.txt  \n",
            "  inflating: train/labels/IMG20250602202751_jpg.rf.b2aa4d3873bc8553a5510efebd0a3252.txt  \n",
            "  inflating: train/labels/IMG20250602202845_jpg.rf.0b6745863349dd0a1cbeaa6495deaf2a.txt  \n",
            "  inflating: train/labels/IMG20250602202845_jpg.rf.6494bb1a5c92cb67a861f4f1d88c55a1.txt  \n",
            "  inflating: train/labels/IMG20250602202845_jpg.rf.9450ec4186256c23a987d65130590ad9.txt  \n",
            "  inflating: train/labels/IMG20250602202855_jpg.rf.92de6a1ce02cfc6e96f549d4d91ca94a.txt  \n",
            "  inflating: train/labels/IMG20250602202855_jpg.rf.9b810bad11373138b221431e240e9e1a.txt  \n",
            "  inflating: train/labels/IMG20250602202855_jpg.rf.f48efedb3c765a858adf2bcecd47c5fd.txt  \n",
            "  inflating: train/labels/IMG20250602203102_jpg.rf.395f9af797b01e693bef5aca274a6bee.txt  \n",
            "  inflating: train/labels/IMG20250602203102_jpg.rf.b7ff0237ff9b92fb1e80a64e5ecfb9a6.txt  \n",
            "  inflating: train/labels/IMG20250602203102_jpg.rf.c90bcd5fa01f6baf7774fe5d18429b05.txt  \n",
            "  inflating: train/labels/IMG20250602203117_jpg.rf.67d3a0fb1bec19cc303cb8de1ec8c6a1.txt  \n",
            "  inflating: train/labels/IMG20250602203117_jpg.rf.b303725883c7192cec0c372ce8e68e82.txt  \n",
            "  inflating: train/labels/IMG20250602203117_jpg.rf.b926243846c7e79e0d9ffd6fdf3a13c2.txt  \n",
            "  inflating: train/labels/IMG20250602203137_jpg.rf.05cc4ace8eb4188896a500e607eadd22.txt  \n",
            "  inflating: train/labels/IMG20250602203137_jpg.rf.251f2aa0cac511eeb0c2a547b82f8f96.txt  \n",
            "  inflating: train/labels/IMG20250602203137_jpg.rf.cf4762d00a1fcc7e5a7db649c52be813.txt  \n",
            "  inflating: train/labels/IMG20250602203242_jpg.rf.00f97d91066e7528ec9851ca6fe9a610.txt  \n",
            "  inflating: train/labels/IMG20250602203242_jpg.rf.6ccf6d7c4f7f94cb7aee3ac14f3709b4.txt  \n",
            "  inflating: train/labels/IMG20250602203242_jpg.rf.7fbec5e7e2d14528ea338f2c29a03b27.txt  \n",
            "  inflating: train/labels/IMG20250602203254_jpg.rf.03da6b64a247d84cc505aedba6838809.txt  \n",
            "  inflating: train/labels/IMG20250602203254_jpg.rf.6b631d10bb8722bd630d55fba1c40577.txt  \n",
            "  inflating: train/labels/IMG20250602203254_jpg.rf.73b3c45f1cfb5510278ea942a13a7d5a.txt  \n",
            "  inflating: train/labels/IMG20250602203451_jpg.rf.018abbe65f6b9b92fdcb7538ef28ef8d.txt  \n",
            "  inflating: train/labels/IMG20250602203451_jpg.rf.1ce15e6b67e3c5343c617cf904abd244.txt  \n",
            "  inflating: train/labels/IMG20250602203451_jpg.rf.bbf776125a40022544c4350e2464fdad.txt  \n",
            "  inflating: train/labels/IMG20250602203511_jpg.rf.4f26d2e26d98ef5b3192588d664c8620.txt  \n",
            "  inflating: train/labels/IMG20250602203511_jpg.rf.8438b2015bcf9388909c97eaeed7fd79.txt  \n",
            "  inflating: train/labels/IMG20250602203511_jpg.rf.da8f6a1bd76668dcb6cbd3d41c541ba0.txt  \n",
            "  inflating: train/labels/IMG20250602203521_jpg.rf.5994a876b2c9831b28a266d61ecf694d.txt  \n",
            "  inflating: train/labels/IMG20250602203521_jpg.rf.be96c7e006ed1f59266fcb59ed293f83.txt  \n",
            "  inflating: train/labels/IMG20250602203521_jpg.rf.dab2e03d769c18a730181d41e3fa4156.txt  \n",
            "  inflating: train/labels/IMG20250602203812_jpg.rf.3974d8b003b509970719b979c9651255.txt  \n",
            "  inflating: train/labels/IMG20250602203812_jpg.rf.8dc0ba436842e37b570576a902511f70.txt  \n",
            "  inflating: train/labels/IMG20250602203812_jpg.rf.9ff416b8e05824fef7c903abf3f7e5dc.txt  \n",
            "  inflating: train/labels/IMG20250602203829_jpg.rf.06c365ee4b4c88b443857fc572688a64.txt  \n",
            "  inflating: train/labels/IMG20250602203829_jpg.rf.377a2b546c1663a7495c312e04e8cb12.txt  \n",
            "  inflating: train/labels/IMG20250602203829_jpg.rf.ccf85145ed64cbc19c65f50dfdf81c60.txt  \n",
            "  inflating: train/labels/IMG20250602203836_jpg.rf.6989056120d24f2bdef71644725a58cb.txt  \n",
            "  inflating: train/labels/IMG20250602203836_jpg.rf.ad8d65df5b24468d6b9249b3b6c0111d.txt  \n",
            "  inflating: train/labels/IMG20250602203836_jpg.rf.f58f1536d898a4dfaae846bc3ff09a00.txt  \n",
            "  inflating: train/labels/IMG20250602203909_jpg.rf.7c16b06e4369bf27cdb439a91b8a2fa5.txt  \n",
            "  inflating: train/labels/IMG20250602203909_jpg.rf.da5a981f65d4b46cfb506c8a69dfdbc0.txt  \n",
            "  inflating: train/labels/IMG20250602203909_jpg.rf.f8bf0420cce3e17e6168e46675625731.txt  \n",
            "  inflating: train/labels/IMG20250602203939_jpg.rf.6108fef3464aa42e6a45993e94ef9bd3.txt  \n",
            "  inflating: train/labels/IMG20250602203939_jpg.rf.6639ebf9c2751eeaaf2938f0f6496f32.txt  \n",
            "  inflating: train/labels/IMG20250602203939_jpg.rf.bf67cf4fea333dbb8e94bb3061b9682f.txt  \n",
            "  inflating: train/labels/IMG20250602204100_jpg.rf.22621561bf405a1ed146e717b9cafd7c.txt  \n",
            "  inflating: train/labels/IMG20250602204100_jpg.rf.503ade2a3d1df8d857588c6cf449f226.txt  \n",
            "  inflating: train/labels/IMG20250602204100_jpg.rf.69dbd24d0415ee96fab278609581efa5.txt  \n",
            "  inflating: train/labels/IMG20250602204107_jpg.rf.3577e19c658496243eeea792f39f2cb7.txt  \n",
            "  inflating: train/labels/IMG20250602204107_jpg.rf.5993a2dff631cb8e4dc473ff80ae0d6c.txt  \n",
            "  inflating: train/labels/IMG20250602204107_jpg.rf.900fadf135a05d53a82779815c0bfeb7.txt  \n",
            "  inflating: train/labels/IMG20250602204120_jpg.rf.726270b81783fcff40dd10e2d46553ff.txt  \n",
            "  inflating: train/labels/IMG20250602204120_jpg.rf.762e18aae1f642e202893bb93dba6660.txt  \n",
            "  inflating: train/labels/IMG20250602204120_jpg.rf.fedb51a5f4ca16fb369cd85d75220625.txt  \n",
            "  inflating: train/labels/IMG20250602204214_jpg.rf.09efb0129d0db6c1438d196409b7cf3b.txt  \n",
            "  inflating: train/labels/IMG20250602204214_jpg.rf.9e8aa68dac2dc63ed35d18e0131526ce.txt  \n",
            "  inflating: train/labels/IMG20250602204214_jpg.rf.afaa340e18b69d96eb5233a7fdfe7257.txt  \n",
            "  inflating: train/labels/IMG20250602204313_jpg.rf.17e952fbd4978f436910011b43910c31.txt  \n",
            "  inflating: train/labels/IMG20250602204313_jpg.rf.399a00e6bf6693ebc6f68681631b0f85.txt  \n",
            "  inflating: train/labels/IMG20250602204313_jpg.rf.db5fa817e7f9b16e4e0b64db2c1a0389.txt  \n",
            "  inflating: train/labels/IMG20250602204343_jpg.rf.06f3158ee534f1f58f6839b4029015db.txt  \n",
            "  inflating: train/labels/IMG20250602204343_jpg.rf.3b8da0e16e1edc2c852a8db9da33fe19.txt  \n",
            "  inflating: train/labels/IMG20250602204343_jpg.rf.95f18032ebe31bfb053fd42e6f92991a.txt  \n",
            "  inflating: train/labels/IMG20250602204425_jpg.rf.42a98d90e8309b2db9b7b495facd86e8.txt  \n",
            "  inflating: train/labels/IMG20250602204425_jpg.rf.8dc920b79d8ef68620478633d5f1f618.txt  \n",
            "  inflating: train/labels/IMG20250602204425_jpg.rf.9e6f061bac33cef41c5e09bcec61c3fa.txt  \n",
            "  inflating: train/labels/IMG20250602204429_jpg.rf.9f0be1d8cbce6d362b5660b75436de4c.txt  \n",
            "  inflating: train/labels/IMG20250602204429_jpg.rf.bc58246fd3792b12b452a177328ed6c8.txt  \n",
            "  inflating: train/labels/IMG20250602204429_jpg.rf.f677fd8dd6000172282c1851117f75c0.txt  \n",
            "  inflating: train/labels/IMG20250602204433_jpg.rf.898beda9d0b465f152552d92cf8d9800.txt  \n",
            "  inflating: train/labels/IMG20250602204433_jpg.rf.c34f070bf0c9f75baa11ca5757425049.txt  \n",
            "  inflating: train/labels/IMG20250602204433_jpg.rf.f55623e83b1b323072cf0ebf23e700ad.txt  \n",
            "  inflating: train/labels/IMG20250602204447_jpg.rf.0639fc69c82f4188dbabec8a6086c17b.txt  \n",
            "  inflating: train/labels/IMG20250602204447_jpg.rf.261313f8680ec433bffa68c4b78ca956.txt  \n",
            "  inflating: train/labels/IMG20250602204447_jpg.rf.f157f7863f898c72d7eb25f7385736e4.txt  \n",
            "  inflating: train/labels/IMG20250602204451_jpg.rf.5cc512f8310f99982576aa1003862466.txt  \n",
            "  inflating: train/labels/IMG20250602204451_jpg.rf.66d6d0518c2803823a055b4a3f7ea7ec.txt  \n",
            "  inflating: train/labels/IMG20250602204451_jpg.rf.e9cce45f691135a596f081ed86fa35cc.txt  \n",
            "  inflating: train/labels/IMG20250602204501_jpg.rf.0954181c5966d2a4d9e482262da5f751.txt  \n",
            "  inflating: train/labels/IMG20250602204501_jpg.rf.3e5c12925b167466c92b6de8f91d7d39.txt  \n",
            "  inflating: train/labels/IMG20250602204501_jpg.rf.b3913ecfa26bb5c69d1b9f3033b5984e.txt  \n",
            "  inflating: train/labels/IMG20250602204515_jpg.rf.bef15ad089cbf98faf377095295043ee.txt  \n",
            "  inflating: train/labels/IMG20250602204515_jpg.rf.d62f754ae1b42156f3c26abdd28d628b.txt  \n",
            "  inflating: train/labels/IMG20250602204515_jpg.rf.eb511455ea44e8cc85c9a1253c215c95.txt  \n",
            "  inflating: train/labels/IMG20250602204521_jpg.rf.0c6b3a3f327c9fc2e62d1a29ac3aac26.txt  \n",
            "  inflating: train/labels/IMG20250602204521_jpg.rf.0d4a74d8d8a17f8fafb6f1393df237de.txt  \n",
            "  inflating: train/labels/IMG20250602204521_jpg.rf.1849948c200ae6f5bf258bdf279e6094.txt  \n",
            "  inflating: train/labels/IMG20250602204610_jpg.rf.570f478de2b9e992b53d007b5dbd6d36.txt  \n",
            "  inflating: train/labels/IMG20250602204610_jpg.rf.582f2548269f03277929fb80fdf44a5a.txt  \n",
            "  inflating: train/labels/IMG20250602204610_jpg.rf.77cd7a43cf1c651edc061525560bbd10.txt  \n",
            "  inflating: train/labels/IMG20250602204615_jpg.rf.11effe1bba75cecb47f130dcbce64e96.txt  \n",
            "  inflating: train/labels/IMG20250602204615_jpg.rf.77b53bc43c2bdcf62aeb8d03dea74b3f.txt  \n",
            "  inflating: train/labels/IMG20250602204615_jpg.rf.b8c42b76beb1971e00dbe11eb638d5b3.txt  \n",
            "  inflating: train/labels/IMG20250602204625_jpg.rf.7e663799c019f6d9c63f4b8cf8d076b2.txt  \n",
            "  inflating: train/labels/IMG20250602204625_jpg.rf.818e4cef5695fc42b2bc8520eeae7197.txt  \n",
            "  inflating: train/labels/IMG20250602204625_jpg.rf.cb5f5971858fc1be2eb90f600e67628f.txt  \n",
            "  inflating: train/labels/IMG20250602204629_jpg.rf.96617d68c4c5069e84544e0ee468c732.txt  \n",
            "  inflating: train/labels/IMG20250602204629_jpg.rf.9f3f0e97f8e732e7068be9be295f07c0.txt  \n",
            "  inflating: train/labels/IMG20250602204629_jpg.rf.b90bfa424331c2b77303ec43af0d9eca.txt  \n",
            "  inflating: train/labels/IMG20250602204636_jpg.rf.29698e3c1093e309e880fafc36fcb6c1.txt  \n",
            "  inflating: train/labels/IMG20250602204636_jpg.rf.519298ebfd93eb9b2b395234754f5a59.txt  \n",
            "  inflating: train/labels/IMG20250602204636_jpg.rf.fd14686f0d4d439efbcd6ccbcdb7e092.txt  \n",
            "  inflating: train/labels/IMG20250602204727_jpg.rf.2f133773463513540572d214cf2e3974.txt  \n",
            "  inflating: train/labels/IMG20250602204727_jpg.rf.33af601e43b25532231ef67f56ee215a.txt  \n",
            "  inflating: train/labels/IMG20250602204727_jpg.rf.551282703684bf96cd05c31c829cc6ae.txt  \n",
            "  inflating: train/labels/IMG20250602204748_jpg.rf.28c2978854fd48a953797eeac8fdc176.txt  \n",
            "  inflating: train/labels/IMG20250602204748_jpg.rf.65fd128daf6d452fee3b34291ab09258.txt  \n",
            "  inflating: train/labels/IMG20250602204748_jpg.rf.f617ab35d53a6d1afa455e0d15b79efd.txt  \n",
            "  inflating: train/labels/IMG20250602204757_jpg.rf.4a91360f124e95d7edd73fb881d71ac5.txt  \n",
            "  inflating: train/labels/IMG20250602204757_jpg.rf.6d0e302c70c92dacbb0dd1a8ff2c7061.txt  \n",
            "  inflating: train/labels/IMG20250602204757_jpg.rf.ec06929662024844d4b1fd41d124782e.txt  \n",
            "  inflating: train/labels/IMG20250602204856_jpg.rf.21e1bc7c106420b086d67b785bd8e7c5.txt  \n",
            "  inflating: train/labels/IMG20250602204856_jpg.rf.f4848015fa8d1303dc03100d0f1c58f6.txt  \n",
            "  inflating: train/labels/IMG20250602204856_jpg.rf.f6a6af7f1654d4bef3f491dfdc279206.txt  \n",
            "  inflating: train/labels/IMG20250602204907_jpg.rf.3b0edd88384f09bda2b32603dc5f526a.txt  \n",
            "  inflating: train/labels/IMG20250602204907_jpg.rf.65882a61e0fb5d5916f7b14576339650.txt  \n",
            "  inflating: train/labels/IMG20250602204907_jpg.rf.86f7a43bf3b1fefa35870e53fb7b2b9a.txt  \n",
            "  inflating: train/labels/IMG20250602204922_jpg.rf.140de8559b9358a204aafde044beeead.txt  \n",
            "  inflating: train/labels/IMG20250602204922_jpg.rf.15508879d44140dea899139fa1a9a4d6.txt  \n",
            "  inflating: train/labels/IMG20250602204922_jpg.rf.1ae4771f5259f1babfd00f3a4078b6c0.txt  \n",
            "  inflating: train/labels/IMG20250602205027_jpg.rf.57c5dc751725432980d20af9d294f537.txt  \n",
            "  inflating: train/labels/IMG20250602205027_jpg.rf.89167abc39f2511dbcd8a1b8fe0232db.txt  \n",
            "  inflating: train/labels/IMG20250602205027_jpg.rf.bff2de15f364e60e13aef8d29e8a3bf5.txt  \n",
            "  inflating: train/labels/IMG20250602205035_jpg.rf.479584020c4f933cb4b5ac36befbe63a.txt  \n",
            "  inflating: train/labels/IMG20250602205035_jpg.rf.6228ea954298173b6106bc6c6c73cc73.txt  \n",
            "  inflating: train/labels/IMG20250602205035_jpg.rf.e2fb607eb553cf0ec8fe428853549829.txt  \n",
            "  inflating: train/labels/IMG20250602205043_jpg.rf.8c0996206f6529b548fc35660e1fd5d6.txt  \n",
            "  inflating: train/labels/IMG20250602205043_jpg.rf.b62c01b7eced46c427d4385c913adc50.txt  \n",
            "  inflating: train/labels/IMG20250602205043_jpg.rf.bf29e8e55e03847027719cf900ccbafe.txt  \n",
            "  inflating: train/labels/IMG20250602205104_jpg.rf.23dac2b2b385540f8c31c16535366de0.txt  \n",
            "  inflating: train/labels/IMG20250602205104_jpg.rf.34e2c6eac10e165e5a6dfbf3c6997039.txt  \n",
            "  inflating: train/labels/IMG20250602205104_jpg.rf.469eb392d9a43a6ae2f1d0fc31cc465e.txt  \n",
            "  inflating: train/labels/IMG20250602205157_jpg.rf.1cc92b7cad2ada14ad56341534264b06.txt  \n",
            "  inflating: train/labels/IMG20250602205157_jpg.rf.482e7f7b213d2f924abde1a44040d927.txt  \n",
            "  inflating: train/labels/IMG20250602205157_jpg.rf.cd7eb0d1f51916480fb1fb00b730a3a4.txt  \n",
            "  inflating: train/labels/IMG20250602205203_jpg.rf.9648a88fe7439f0c1551783c28730431.txt  \n",
            "  inflating: train/labels/IMG20250602205203_jpg.rf.e363d5f0c125de3815de9d0fd7949915.txt  \n",
            "  inflating: train/labels/IMG20250602205203_jpg.rf.fa3f061bb067768d662a45df4a47a94f.txt  \n",
            "  inflating: train/labels/IMG20250602205222_jpg.rf.6d9662153cc91b81b25c4cba78a5233e.txt  \n",
            "  inflating: train/labels/IMG20250602205222_jpg.rf.7894cde7f6a02e71051a9ee470d874ad.txt  \n",
            "  inflating: train/labels/IMG20250602205222_jpg.rf.caf574927bc10334378cf538705098c6.txt  \n",
            "  inflating: train/labels/IMG20250602205230_jpg.rf.484c521050ee9704dc2ec81e65522efb.txt  \n",
            "  inflating: train/labels/IMG20250602205230_jpg.rf.6a50a40c5efc379b89c6494af848605c.txt  \n",
            "  inflating: train/labels/IMG20250602205230_jpg.rf.713a65011b5668b34455c24312a2d574.txt  \n",
            "  inflating: train/labels/IMG20250602205323_jpg.rf.4260a904f3cc95b9d2e9cf537e46bbf1.txt  \n",
            "  inflating: train/labels/IMG20250602205323_jpg.rf.637dbb879f2964d6f6f185888f475d2a.txt  \n",
            "  inflating: train/labels/IMG20250602205323_jpg.rf.e60286047960b5a312197de730819b72.txt  \n",
            "  inflating: train/labels/IMG20250602205419_jpg.rf.7aa86fb3df58f20d00c2a60c7bbaded6.txt  \n",
            "  inflating: train/labels/IMG20250602205419_jpg.rf.9a3c908ab6218e30f1962907e323233d.txt  \n",
            "  inflating: train/labels/IMG20250602205419_jpg.rf.eb6bebb54e8f0c7c467b80e5c7f428c5.txt  \n",
            "  inflating: train/labels/IMG20250602205423_jpg.rf.343447d8e462e6d7da8dba8720413ad1.txt  \n",
            "  inflating: train/labels/IMG20250602205423_jpg.rf.c40ea43e8a57378b7623c326c210c36d.txt  \n",
            "  inflating: train/labels/IMG20250602205423_jpg.rf.d64711f4e078aad5b2324408edd32f16.txt  \n",
            "  inflating: train/labels/IMG20250602205536_jpg.rf.349bd07291097dfa14161a3079b4e484.txt  \n",
            "  inflating: train/labels/IMG20250602205536_jpg.rf.bc244f5a82b62da6217246d39a85112c.txt  \n",
            "  inflating: train/labels/IMG20250602205536_jpg.rf.da7c2362d5a78c6eaf273784c96361e6.txt  \n",
            "  inflating: train/labels/IMG20250602205540_jpg.rf.563641263586ccef89287310eceddbde.txt  \n",
            "  inflating: train/labels/IMG20250602205540_jpg.rf.6b47e4d59e3445ad7faec6b42d9539be.txt  \n",
            "  inflating: train/labels/IMG20250602205540_jpg.rf.889200183178951d308f20c0a5df88c8.txt  \n",
            "  inflating: train/labels/IMG20250602205604_jpg.rf.8cf7c13b8cf81158c3697800f1daf8ee.txt  \n",
            "  inflating: train/labels/IMG20250602205604_jpg.rf.a8551e0a5ab26379d93dec60cec5cc45.txt  \n",
            "  inflating: train/labels/IMG20250602205604_jpg.rf.f80af688fc3a2789fc66b0d38e9d8aba.txt  \n",
            "  inflating: train/labels/IMG20250602205630_jpg.rf.4937c7a41dc8cfffb0ee1858a0828f0f.txt  \n",
            "  inflating: train/labels/IMG20250602205630_jpg.rf.af68ae53ba3bf21cf079444eb3aa11c8.txt  \n",
            "  inflating: train/labels/IMG20250602205630_jpg.rf.f4631821dedfb1c079f2c2fd011ee753.txt  \n",
            "  inflating: train/labels/IMG20250602205644_jpg.rf.2aa383487b53dbebd3f81890c1077fac.txt  \n",
            "  inflating: train/labels/IMG20250602205644_jpg.rf.4f62b7c2c54f8379f213908b35ddaa24.txt  \n",
            "  inflating: train/labels/IMG20250602205644_jpg.rf.66bb8bef5cebaf1570c66f21b7919c1a.txt  \n",
            "  inflating: train/labels/IMG20250602205746_jpg.rf.21cc71e25a91dd0bc7eaac427b5c6af7.txt  \n",
            "  inflating: train/labels/IMG20250602205746_jpg.rf.a1fcf949c74dca98efcc997d49e76575.txt  \n",
            "  inflating: train/labels/IMG20250602205746_jpg.rf.f969607e6bdc11232e20bd2e522469fc.txt  \n",
            "  inflating: train/labels/IMG20250602205752_jpg.rf.12b4b6d8300afb8fafb3f30fdcea4eb3.txt  \n",
            "  inflating: train/labels/IMG20250602205752_jpg.rf.b30d9a142598df739013169e57647ea7.txt  \n",
            "  inflating: train/labels/IMG20250602205752_jpg.rf.f784288b29a2dd9288efe34d6d7548e5.txt  \n",
            "  inflating: train/labels/IMG20250602210636_jpg.rf.1cd6f9368a2f20cd26f5aba3f4cd2ea7.txt  \n",
            "  inflating: train/labels/IMG20250602210636_jpg.rf.2e46289e3be7151f8044e8b7d1215eef.txt  \n",
            "  inflating: train/labels/IMG20250602210636_jpg.rf.973d4ec32daf5e8b53128d24c20725aa.txt  \n",
            "  inflating: train/labels/IMG20250602210642_jpg.rf.205ae26a80e4ca4eecece006c75c1056.txt  \n",
            "  inflating: train/labels/IMG20250602210642_jpg.rf.da52884a0575726fe907ddef457710d0.txt  \n",
            "  inflating: train/labels/IMG20250602210642_jpg.rf.fbc082980a06e166c5f23c23cc7e3f98.txt  \n",
            "  inflating: train/labels/IMG20250602210704_jpg.rf.42442e72f07521b814f162c6c7b60727.txt  \n",
            "  inflating: train/labels/IMG20250602210704_jpg.rf.577c8b95c2a3f002e1286c7776c3b9d5.txt  \n",
            "  inflating: train/labels/IMG20250602210704_jpg.rf.6b2eaf43c4ccdc05b96c9fc7a3cd6c97.txt  \n",
            "  inflating: train/labels/IMG20250602210713_jpg.rf.ad97753259ecc0b9b7c96ec2ae61cb43.txt  \n",
            "  inflating: train/labels/IMG20250602210713_jpg.rf.b6cf2bb3e88ec27404dd99b2d8de62b2.txt  \n",
            "  inflating: train/labels/IMG20250602210713_jpg.rf.fe97bcd342e57788d7c176758998750e.txt  \n",
            "  inflating: train/labels/IMG20250602210757_jpg.rf.0d84cd37e446a3ff6c67f7e461b2b472.txt  \n",
            "  inflating: train/labels/IMG20250602210757_jpg.rf.1268bed2ff9c148e86fbb8a8d266e288.txt  \n",
            "  inflating: train/labels/IMG20250602210757_jpg.rf.61346a5d970dd508093c95f4a0f2f6c4.txt  \n",
            "  inflating: train/labels/IMG20250602210801_jpg.rf.0233c3e94c1ca7e9010d4c38e921fe07.txt  \n",
            "  inflating: train/labels/IMG20250602210801_jpg.rf.29332163b039d215e5b0d8ab5010195f.txt  \n",
            "  inflating: train/labels/IMG20250602210801_jpg.rf.606f09404cb16a1658c389d3e6a4ef36.txt  \n",
            "  inflating: train/labels/IMG20250602210810_jpg.rf.355f4e0e56145f4eb2d08a7dda0c0463.txt  \n",
            "  inflating: train/labels/IMG20250602210810_jpg.rf.9730578806fc6117235c2238acb6a166.txt  \n",
            "  inflating: train/labels/IMG20250602210810_jpg.rf.f1b9288b4f4493b8904640921282dc56.txt  \n",
            "  inflating: train/labels/IMG20250602210815_jpg.rf.b18ecd833879364942d62e4903c3213a.txt  \n",
            "  inflating: train/labels/IMG20250602210815_jpg.rf.b54a9af233cbb9aa05b20eaa6bcc60c0.txt  \n",
            "  inflating: train/labels/IMG20250602210815_jpg.rf.ca3643e55011a7c5901e470fb27a3f9a.txt  \n",
            "  inflating: train/labels/IMG20250602211051_jpg.rf.4905ed48605eb453d33a552c80910f7d.txt  \n",
            "  inflating: train/labels/IMG20250602211051_jpg.rf.c9c83a51a6f4dc1658e0baea9b5fcacc.txt  \n",
            "  inflating: train/labels/IMG20250602211051_jpg.rf.e0af4ae228ec64b8f4f4ec3617e633a6.txt  \n",
            "  inflating: train/labels/IMG20250602211054_jpg.rf.0ab5e30c22a8312a4f1869ff8016e609.txt  \n",
            "  inflating: train/labels/IMG20250602211054_jpg.rf.5639a5840278d2340e12a6b6f62dab0f.txt  \n",
            "  inflating: train/labels/IMG20250602211054_jpg.rf.6de43939a775287dfe57a0f290b06763.txt  \n",
            "  inflating: train/labels/IMG20250602211057_jpg.rf.60529621fc5868d2e32f62c2287b7a4d.txt  \n",
            "  inflating: train/labels/IMG20250602211057_jpg.rf.9889b6e1dcf22527b601704d21d5da20.txt  \n",
            "  inflating: train/labels/IMG20250602211057_jpg.rf.f09075e909e1c3c0138c3a828b145641.txt  \n",
            "  inflating: train/labels/IMG20250602211102_jpg.rf.2c3f87a3ad28e8e062ea102a0bb3e7db.txt  \n",
            "  inflating: train/labels/IMG20250602211102_jpg.rf.9211a1d1f64f699c5009eb6cd2bad859.txt  \n",
            "  inflating: train/labels/IMG20250602211102_jpg.rf.ec3a0fbecf51362c7a7640175240ac6d.txt  \n",
            "  inflating: train/labels/IMG20250602211111_jpg.rf.02754b9d919155f6c5b49feeb7fb4870.txt  \n",
            "  inflating: train/labels/IMG20250602211111_jpg.rf.0fe921e3c0fb83ca80f4eefeed929d7e.txt  \n",
            "  inflating: train/labels/IMG20250602211111_jpg.rf.fc1251ac498f063ec908f89326561c23.txt  \n",
            "  inflating: train/labels/IMG20250602211117_jpg.rf.701580c4ab1a867b3ebd63afbd6cc2b2.txt  \n",
            "  inflating: train/labels/IMG20250602211117_jpg.rf.cd9c241e56e49af98ada01c5c398d2dd.txt  \n",
            "  inflating: train/labels/IMG20250602211117_jpg.rf.d5f72c8bb03e1b11c30cb687a7a94643.txt  \n",
            "  inflating: train/labels/IMG20250602211120_jpg.rf.a0c6d5effc636192db0056f50074d4ee.txt  \n",
            "  inflating: train/labels/IMG20250602211120_jpg.rf.d1f90e66cd3d0b1da97fed446c1b1e64.txt  \n",
            "  inflating: train/labels/IMG20250602211120_jpg.rf.da998fedbef3755fc454a9bcff8d646a.txt  \n",
            "  inflating: train/labels/IMG20250602211200_jpg.rf.152807e2cf3701d88225bdca5dcedd81.txt  \n",
            "  inflating: train/labels/IMG20250602211200_jpg.rf.47858af04d9979deb8b1072fc36ed887.txt  \n",
            "  inflating: train/labels/IMG20250602211200_jpg.rf.d8a92de25192ab4de749bb353e8196a7.txt  \n",
            "  inflating: train/labels/IMG20250602211209_jpg.rf.b5a24e95491096404e262e2b0dddbc79.txt  \n",
            "  inflating: train/labels/IMG20250602211209_jpg.rf.bded724097849ae7065b7a26f4c83203.txt  \n",
            "  inflating: train/labels/IMG20250602211209_jpg.rf.ed9af24e2c27292aa6c5cbf144da3e32.txt  \n",
            "  inflating: train/labels/IMG20250602211435_jpg.rf.33c4a8a10753c8b3b95e0eb4ebc095cd.txt  \n",
            "  inflating: train/labels/IMG20250602211435_jpg.rf.55d9caf573a283ed5074257048a2e842.txt  \n",
            "  inflating: train/labels/IMG20250602211435_jpg.rf.ac470592e489855cb706370c3b87e9a5.txt  \n",
            "  inflating: train/labels/IMG20250602211737_jpg.rf.3bc60ca8e989688cc606e233c82b5056.txt  \n",
            "  inflating: train/labels/IMG20250602211737_jpg.rf.6f90bdeaab6c97ae00078fb4004badbf.txt  \n",
            "  inflating: train/labels/IMG20250602211737_jpg.rf.e8a07bfe2eb03bbffa532027e61f4190.txt  \n",
            "  inflating: train/labels/IMG20250602211743_jpg.rf.711965aa7ad4e1a1d2174020849fd646.txt  \n",
            "  inflating: train/labels/IMG20250602211743_jpg.rf.9d546b286b4ddb71e173b94ed735f68c.txt  \n",
            "  inflating: train/labels/IMG20250602211743_jpg.rf.a1ff2618b80b0b90f0d778d44e7d4e54.txt  \n",
            "  inflating: train/labels/IMG20250602211810_jpg.rf.6abddd3b431c13b7fe3cd1ee26452632.txt  \n",
            "  inflating: train/labels/IMG20250602211810_jpg.rf.75d71ab05c3906a99d0ee13772a338f1.txt  \n",
            "  inflating: train/labels/IMG20250602211810_jpg.rf.a0ac118e8122b4f7460db98e84a3c176.txt  \n",
            "  inflating: train/labels/IMG20250602211910_jpg.rf.2d308893280bb13b1dca5c991839e8ab.txt  \n",
            "  inflating: train/labels/IMG20250602211910_jpg.rf.424d232df5f3e35f861c1d0ff30bcdff.txt  \n",
            "  inflating: train/labels/IMG20250602211910_jpg.rf.90142d9d3a3e68441f030173d4362ebf.txt  \n",
            "  inflating: train/labels/IMG20250602211944_jpg.rf.1e5904220d1b3636ff344fac5e8a5576.txt  \n",
            "  inflating: train/labels/IMG20250602211944_jpg.rf.1ec063b4b56f39eb820bf7ff51b628d5.txt  \n",
            "  inflating: train/labels/IMG20250602211944_jpg.rf.c2edd7d3b4c547a3e217cd8a5bc4a670.txt  \n",
            "  inflating: train/labels/IMG20250602211951_jpg.rf.862272855a17278c924ca2079c19802f.txt  \n",
            "  inflating: train/labels/IMG20250602211951_jpg.rf.b7c54c7d8c6589267f91f041641045ec.txt  \n",
            "  inflating: train/labels/IMG20250602211951_jpg.rf.c23674bc110bf91859eabdc32d2cb62b.txt  \n",
            "  inflating: train/labels/IMG20250602211956_jpg.rf.279e297c07b0c21e2a375401aad3ab0e.txt  \n",
            "  inflating: train/labels/IMG20250602211956_jpg.rf.b401acacad308f4307823745ba988202.txt  \n",
            "  inflating: train/labels/IMG20250602211956_jpg.rf.d5ac4faabbef0e03cb79a875b93ef648.txt  \n",
            "  inflating: train/labels/IMG20250602212058_jpg.rf.6f2c390424990b9dc52cdd2f351535e6.txt  \n",
            "  inflating: train/labels/IMG20250602212058_jpg.rf.86fe859055da9f59a1079be325159a90.txt  \n",
            "  inflating: train/labels/IMG20250602212058_jpg.rf.f8c61d21f0b0de64ae758055b11813ac.txt  \n",
            "  inflating: train/labels/IMG20250602212106_jpg.rf.5a5bf33cb9713ec7e0cb4f134c1c73d9.txt  \n",
            "  inflating: train/labels/IMG20250602212106_jpg.rf.d16ea8f21f737d58b00baa0102eea297.txt  \n",
            "  inflating: train/labels/IMG20250602212106_jpg.rf.fe31d76ed6c25d59b740d10c4457d282.txt  \n",
            "  inflating: train/labels/IMG20250602212117_jpg.rf.0e9372f263f93d6114f4b4eac7cf944b.txt  \n",
            "  inflating: train/labels/IMG20250602212117_jpg.rf.4645d6a4a88c2eb24055a4723f1fc0b5.txt  \n",
            "  inflating: train/labels/IMG20250602212117_jpg.rf.7f2c238bff0a5e0883b6576ec81aa1ac.txt  \n",
            "  inflating: train/labels/IMG20250602212124_jpg.rf.157582aeb8589a7ca665faf9502c6636.txt  \n",
            "  inflating: train/labels/IMG20250602212124_jpg.rf.60cf9c895a574326ee670c89ca889590.txt  \n",
            "  inflating: train/labels/IMG20250602212124_jpg.rf.b703b34810f3010dd4a98d42d99ee9cf.txt  \n",
            "  inflating: train/labels/IMG20250602212134_jpg.rf.74860cce70cfa8b96efc778694370e81.txt  \n",
            "  inflating: train/labels/IMG20250602212134_jpg.rf.84ead7e78fe057dde0b029985aaf876c.txt  \n",
            "  inflating: train/labels/IMG20250602212134_jpg.rf.ec5e8334723b3cc074e93fb5b5022bbf.txt  \n",
            "  inflating: train/labels/IMG20250602212213_jpg.rf.9ac054b70e876d94897dc9bb72720765.txt  \n",
            "  inflating: train/labels/IMG20250602212213_jpg.rf.c837a82d8498027a1b37450c3b7da208.txt  \n",
            "  inflating: train/labels/IMG20250602212213_jpg.rf.d8f74bf5bd44b02b78b81f78f577a926.txt  \n",
            "  inflating: train/labels/IMG20250602212217_jpg.rf.889b60702b710338c6c1d20116165077.txt  \n",
            "  inflating: train/labels/IMG20250602212217_jpg.rf.c124654a347b444ef7aedec8ac96d7e1.txt  \n",
            "  inflating: train/labels/IMG20250602212217_jpg.rf.febe32502d13cd64208a16df2b1a5512.txt  \n",
            "  inflating: train/labels/IMG20250602212227_jpg.rf.1980ab283f1544818e1833140b559ccd.txt  \n",
            "  inflating: train/labels/IMG20250602212227_jpg.rf.62faa9824ffcc7542260bb57836fa607.txt  \n",
            "  inflating: train/labels/IMG20250602212227_jpg.rf.86241ad26234f8fac2789c4a102cbcb4.txt  \n",
            "  inflating: train/labels/IMG20250602212234_jpg.rf.9dba60f531e7ec6dd352c24e6d598955.txt  \n",
            "  inflating: train/labels/IMG20250602212234_jpg.rf.c5f7a340940a217316de681cb0bd7cac.txt  \n",
            "  inflating: train/labels/IMG20250602212234_jpg.rf.d6163a5031f3157322220f48b109b75c.txt  \n",
            "  inflating: train/labels/IMG20250602212323_jpg.rf.841521151f41d47c3bdbd213d13f6b64.txt  \n",
            "  inflating: train/labels/IMG20250602212323_jpg.rf.bb75d30d7aebb04ed4c163ad579a422b.txt  \n",
            "  inflating: train/labels/IMG20250602212323_jpg.rf.d9117663139fe21891bedb52e8c6e8aa.txt  \n",
            "  inflating: train/labels/IMG20250602212349_jpg.rf.503986c9351767268c2e501fe0008f71.txt  \n",
            "  inflating: train/labels/IMG20250602212349_jpg.rf.58108e3708540964d5994fd4150e7e55.txt  \n",
            "  inflating: train/labels/IMG20250602212349_jpg.rf.f0c9f3c873db0d9e509c3a4b1fe2c5fd.txt  \n",
            "  inflating: train/labels/IMG20250602212401_jpg.rf.4ef7ce4e550919f34d417669691d49f2.txt  \n",
            "  inflating: train/labels/IMG20250602212401_jpg.rf.bcded8b4734e4669f67cc2a6c889d647.txt  \n",
            "  inflating: train/labels/IMG20250602212401_jpg.rf.cf5f9a7c4f5ffb0287673e1869f60555.txt  \n",
            "  inflating: train/labels/IMG20250602212407_jpg.rf.139c469e044c59380ea1d203433e58ff.txt  \n",
            "  inflating: train/labels/IMG20250602212407_jpg.rf.7d86e9902137b5bc11a3c4e79b9fa8ca.txt  \n",
            "  inflating: train/labels/IMG20250602212407_jpg.rf.c8ebe906ec947154ad5c0306aa1c8e0e.txt  \n",
            "  inflating: train/labels/IMG20250602212415_jpg.rf.41fa8dcc75aeec62b9ff63e0bfba9cd0.txt  \n",
            "  inflating: train/labels/IMG20250602212415_jpg.rf.60d6d22449c723c5f20536d87cf877b5.txt  \n",
            "  inflating: train/labels/IMG20250602212415_jpg.rf.7be41fd4d4dbcc2fd6cff2d5515f10d4.txt  \n",
            "  inflating: train/labels/IMG20250602212441_jpg.rf.251306869991033be82dac4a0d57d1a2.txt  \n",
            "  inflating: train/labels/IMG20250602212441_jpg.rf.e1612967659b84f19b1b09fdd0e5e1d4.txt  \n",
            "  inflating: train/labels/IMG20250602212441_jpg.rf.fac02a273226be2b71765908eebff39a.txt  \n",
            "  inflating: train/labels/IMG20250602212444_jpg.rf.6c9c995388fe616aa776a08eecbc404d.txt  \n",
            "  inflating: train/labels/IMG20250602212444_jpg.rf.9956814d7f158ff2774ca449ed4442c2.txt  \n",
            "  inflating: train/labels/IMG20250602212444_jpg.rf.c7d9421f73549aea940d3a416c33ca92.txt  \n",
            "  inflating: train/labels/IMG20250602212524_jpg.rf.0d524c2a7a73fe068017df6ed79b7d7f.txt  \n",
            "  inflating: train/labels/IMG20250602212524_jpg.rf.9562d3e1e114c1f00631aab34d1d57aa.txt  \n",
            "  inflating: train/labels/IMG20250602212524_jpg.rf.f8e3ddfca7fd5e1cd67b19c4079037cb.txt  \n",
            "  inflating: train/labels/IMG20250602212622_jpg.rf.0f40e4feb5c39eaa91358291bd427e8a.txt  \n",
            "  inflating: train/labels/IMG20250602212622_jpg.rf.3c0208caa424c9ec19b7b704651b7172.txt  \n",
            "  inflating: train/labels/IMG20250602212622_jpg.rf.7a41413ad12074acc16e0f9bfa57d9b9.txt  \n",
            "  inflating: train/labels/IMG20250602212720_jpg.rf.5557d651cc2fc845a859d2713eb28f82.txt  \n",
            "  inflating: train/labels/IMG20250602212720_jpg.rf.6f96567fa2bba615920182cfa03b8d8e.txt  \n",
            "  inflating: train/labels/IMG20250602212720_jpg.rf.a4ce05d82207bf14f6ba0f4800ff4db4.txt  \n",
            "  inflating: train/labels/IMG20250602212742_jpg.rf.439fc20dcc9124a178c549c878bb355d.txt  \n",
            "  inflating: train/labels/IMG20250602212742_jpg.rf.8b64013c4b8583564932784c7aad40df.txt  \n",
            "  inflating: train/labels/IMG20250602212742_jpg.rf.f0167b7e7b09ac213a5c2e78f9b5d268.txt  \n",
            "  inflating: train/labels/IMG20250602212745_jpg.rf.3d0ec22dc8f0f2c5b2c924115f79fd6e.txt  \n",
            "  inflating: train/labels/IMG20250602212745_jpg.rf.7f4c9db97c760bbcfcad9265d63727f4.txt  \n",
            "  inflating: train/labels/IMG20250602212745_jpg.rf.a264c2395744ed1d0f8c5fd663d3c319.txt  \n",
            "  inflating: train/labels/IMG20250602212749_jpg.rf.aba13c65efce52889cbcd30336a1d343.txt  \n",
            "  inflating: train/labels/IMG20250602212749_jpg.rf.ac58cf69ce098299c6d41f80c171eee8.txt  \n",
            "  inflating: train/labels/IMG20250602212749_jpg.rf.acac702d70b8132c10d83c00aa73e669.txt  \n",
            "  inflating: train/labels/IMG20250602212832_jpg.rf.c8c22b17b765b481c04cb11f1714b113.txt  \n",
            "  inflating: train/labels/IMG20250602212832_jpg.rf.e3e233f2e063b2c7da17f2ac5259535e.txt  \n",
            "  inflating: train/labels/IMG20250602212832_jpg.rf.fa669ac06e097bd9658b02071a83d6e5.txt  \n",
            "  inflating: train/labels/IMG20250602212838_jpg.rf.8eebbaeb6b7555ba8a92ac323d978e7c.txt  \n",
            "  inflating: train/labels/IMG20250602212838_jpg.rf.8f66daef423eacb16c1a7ec7244d47d3.txt  \n",
            "  inflating: train/labels/IMG20250602212838_jpg.rf.db5a23adf391f874a9bf7e86c891be18.txt  \n",
            "  inflating: train/labels/IMG20250602212848_jpg.rf.a9d8528cc627454543adb731cecddcf7.txt  \n",
            "  inflating: train/labels/IMG20250602212848_jpg.rf.e174e6a4b7c862a5b9e5a61cde4d2e72.txt  \n",
            "  inflating: train/labels/IMG20250602212848_jpg.rf.f950ac2d9dbc91a9c38a98b66e68e0eb.txt  \n",
            "  inflating: train/labels/IMG20250602212859_jpg.rf.9669188d4093b53d1fbad3f2b83d584d.txt  \n",
            "  inflating: train/labels/IMG20250602212859_jpg.rf.ea327b4aa40f4b8182da01e1c1225d44.txt  \n",
            "  inflating: train/labels/IMG20250602212859_jpg.rf.f36ee8c30e639d82da8ea829e66ee705.txt  \n",
            "  inflating: train/labels/IMG20250602212911_jpg.rf.95a0d768d3a0db3d41fd2ab1c4a176eb.txt  \n",
            "  inflating: train/labels/IMG20250602212911_jpg.rf.a39436f8409c81bd3d4335ad14b91945.txt  \n",
            "  inflating: train/labels/IMG20250602212911_jpg.rf.c725436fc1749eb0f3a857cbb14059f6.txt  \n",
            "  inflating: train/labels/IMG20250602213100_jpg.rf.0187da86a019ee7c3393b8cd47e73ccb.txt  \n",
            "  inflating: train/labels/IMG20250602213100_jpg.rf.10ecb10d109c6a4d36157e5530605ecc.txt  \n",
            "  inflating: train/labels/IMG20250602213100_jpg.rf.be9019340340a5e26d3464cad09f97d4.txt  \n",
            "  inflating: train/labels/IMG20250602213110_jpg.rf.079ba99b5775392462b0cb98bec1a544.txt  \n",
            "  inflating: train/labels/IMG20250602213110_jpg.rf.bfd5d7565186685e47e23d9247392e0e.txt  \n",
            "  inflating: train/labels/IMG20250602213110_jpg.rf.d3a0f84fdcb1b4425bd7e741521c65e1.txt  \n",
            "  inflating: train/labels/IMG20250602213117_jpg.rf.1108bee3aa83c30174640a89dc1ade20.txt  \n",
            "  inflating: train/labels/IMG20250602213117_jpg.rf.3e2b938ceb126c834d8d6b28992d3a11.txt  \n",
            "  inflating: train/labels/IMG20250602213117_jpg.rf.c01ee7bff4ebcb06bc6e08ea58040cf7.txt  \n",
            "  inflating: train/labels/IMG20250602213122_jpg.rf.284f888cad39048394331bbfc38d0783.txt  \n",
            "  inflating: train/labels/IMG20250602213122_jpg.rf.64e0c318a0696c3faade1733503e207a.txt  \n",
            "  inflating: train/labels/IMG20250602213122_jpg.rf.795c06abdf80c37e0d6287b31afd3552.txt  \n",
            "  inflating: train/labels/IMG20250602213220_jpg.rf.1b7ce45ddbe6d1b8c76efb4037ef048a.txt  \n",
            "  inflating: train/labels/IMG20250602213220_jpg.rf.4ee8376fee9a26870d0778b5409b3bdc.txt  \n",
            "  inflating: train/labels/IMG20250602213220_jpg.rf.f24a9837a8fa78a20dbe483178f78a62.txt  \n",
            "  inflating: train/labels/IMG20250602213231_jpg.rf.4c4d48b5d1d45e79d104fa2a6bcaf0f7.txt  \n",
            "  inflating: train/labels/IMG20250602213231_jpg.rf.787d68ac50db23479d5137ee3e0d3b63.txt  \n",
            "  inflating: train/labels/IMG20250602213231_jpg.rf.9518b9c70afd6f31cf2301a1b24292cc.txt  \n",
            "  inflating: train/labels/IMG20250602213256_jpg.rf.73f2795b345659cda5e14a17a6c2a3e0.txt  \n",
            "  inflating: train/labels/IMG20250602213256_jpg.rf.de1e2271ff872b181ca5e055a14158e4.txt  \n",
            "  inflating: train/labels/IMG20250602213256_jpg.rf.fcc11c0014e4a858d1054fd962cf138b.txt  \n",
            "  inflating: train/labels/IMG20250602213302_jpg.rf.2795186a4e44300e323d760184dcef95.txt  \n",
            "  inflating: train/labels/IMG20250602213302_jpg.rf.7b47d5e6ba8f5ddd3b8626116b6049e3.txt  \n",
            "  inflating: train/labels/IMG20250602213302_jpg.rf.aa40e7f46bb26536192a1d7e317457c8.txt  \n",
            "  inflating: train/labels/IMG20250602213340_jpg.rf.30335906266c46501fdd7390efabb37e.txt  \n",
            "  inflating: train/labels/IMG20250602213340_jpg.rf.823461f12e441bfeff56bb532f270c90.txt  \n",
            "  inflating: train/labels/IMG20250602213340_jpg.rf.e56b4efb8ad8d92dec9d540cbaf5176d.txt  \n",
            "  inflating: train/labels/IMG20250602213424_jpg.rf.1a44e75989cd4dfebe3990be216189a4.txt  \n",
            "  inflating: train/labels/IMG20250602213424_jpg.rf.7269bae423ef3965654040796f8e856c.txt  \n",
            "  inflating: train/labels/IMG20250602213424_jpg.rf.d19e8fa2a0b6c37208d4eb5c62a0b1e4.txt  \n",
            "  inflating: train/labels/IMG20250602213431_jpg.rf.2f3385fe7069b587a4242b76180e1f90.txt  \n",
            "  inflating: train/labels/IMG20250602213431_jpg.rf.3c8634f2c9718a620150c1ea93a01cf1.txt  \n",
            "  inflating: train/labels/IMG20250602213431_jpg.rf.d4c06e0a89ce4f181cd3fa13d0b92166.txt  \n",
            "  inflating: train/labels/IMG20250602213450_jpg.rf.24b05133757ee4f4a66d9b11f5185aff.txt  \n",
            "  inflating: train/labels/IMG20250602213450_jpg.rf.2da52e129e38bf0836e8ae84b1f651e0.txt  \n",
            "  inflating: train/labels/IMG20250602213450_jpg.rf.a14acaf22388eada13a9e89f08e8cadd.txt  \n",
            "  inflating: train/labels/IMG20250602213538_jpg.rf.7c453e3835a5247ebd1c0a4f523f0b83.txt  \n",
            "  inflating: train/labels/IMG20250602213538_jpg.rf.f29039a636482a077e27ae7574c10abf.txt  \n",
            "  inflating: train/labels/IMG20250602213538_jpg.rf.f5494b20ca48038d44aa3897ac3863d4.txt  \n",
            "  inflating: train/labels/IMG20250602213542_jpg.rf.009402c755c37ba029affb8fbc86f20e.txt  \n",
            "  inflating: train/labels/IMG20250602213542_jpg.rf.3b10c46ba20038b94c0d1e9e88929ede.txt  \n",
            "  inflating: train/labels/IMG20250602213542_jpg.rf.798ed42c036024f2a051c8cb09e2e0e6.txt  \n",
            "  inflating: train/labels/IMG20250602213556_jpg.rf.076ff49515b1fbf1e7af7a82a4ed64de.txt  \n",
            "  inflating: train/labels/IMG20250602213556_jpg.rf.d37d73da0743b98464e0b969e5bd2ee1.txt  \n",
            "  inflating: train/labels/IMG20250602213556_jpg.rf.e403702cdca4b7bc882e98a2b3efb744.txt  \n",
            "  inflating: train/labels/IMG20250602213602_jpg.rf.48a33b2e133ea7433a2d18a042c9c96e.txt  \n",
            "  inflating: train/labels/IMG20250602213602_jpg.rf.9ae4b81104ced31cf6a7b5754e0542c6.txt  \n",
            "  inflating: train/labels/IMG20250602213602_jpg.rf.ee6b9faaf19c6fdd1df386da84cea694.txt  \n",
            "  inflating: train/labels/IMG20250602213625_jpg.rf.9f5a37343d341e1e815e44b7f54a5be7.txt  \n",
            "  inflating: train/labels/IMG20250602213625_jpg.rf.9f6aeaf8b3f82cea86e2abb125d4b265.txt  \n",
            "  inflating: train/labels/IMG20250602213625_jpg.rf.b4e73d644d456f50d95435599303d1d9.txt  \n",
            "  inflating: train/labels/IMG20250602213628_jpg.rf.4e4c64aa466e048b2479d2b1c1e1f384.txt  \n",
            "  inflating: train/labels/IMG20250602213628_jpg.rf.b61027e16d5e8f581e06ac26ae7f2fa4.txt  \n",
            "  inflating: train/labels/IMG20250602213628_jpg.rf.ea1e73bbc3ab94dfbe9e099374cd64d8.txt  \n",
            "  inflating: train/labels/IMG20250602213630_jpg.rf.2252d8f3edea24860e8dcde218183c70.txt  \n",
            "  inflating: train/labels/IMG20250602213630_jpg.rf.393430ff477b798ccedc16845bf285c0.txt  \n",
            "  inflating: train/labels/IMG20250602213630_jpg.rf.4b87147c69d94786bb3e247c8aed756a.txt  \n",
            "  inflating: train/labels/IMG20250602213635_jpg.rf.167855f1629d24a795683b50813c7f46.txt  \n",
            "  inflating: train/labels/IMG20250602213635_jpg.rf.2521eccce5c5b83287cc88d2421e5293.txt  \n",
            "  inflating: train/labels/IMG20250602213635_jpg.rf.c8990eab3f0e59470a4181f4d158b1d6.txt  \n",
            "  inflating: train/labels/IMG20250602213642_jpg.rf.595fbe11ce9ab7d9d660c747121a1811.txt  \n",
            "  inflating: train/labels/IMG20250602213642_jpg.rf.7f6a051a56303a253414e1e8144ff8fb.txt  \n",
            "  inflating: train/labels/IMG20250602213642_jpg.rf.d1c70f6eb9d0fd5502854a5769cfe898.txt  \n",
            "  inflating: train/labels/IMG20250602213711_jpg.rf.74e6e1a980139e5d07e6f052fbb99d16.txt  \n",
            "  inflating: train/labels/IMG20250602213711_jpg.rf.82844276cadb982210bbbe6ac670a06f.txt  \n",
            "  inflating: train/labels/IMG20250602213711_jpg.rf.c57c8a10f41f16ab863e73aaae9cf062.txt  \n",
            "  inflating: train/labels/IMG20250602213715_jpg.rf.8151210bb44597100f06506c22ec88af.txt  \n",
            "  inflating: train/labels/IMG20250602213715_jpg.rf.b3863156e483bf24f55f346f5231081e.txt  \n",
            "  inflating: train/labels/IMG20250602213715_jpg.rf.cd604ce53a65d2f6e2ac3a88e7316d1e.txt  \n",
            "  inflating: train/labels/IMG20250602213718_jpg.rf.2deca8f348eae5f083cd78c42dc459a7.txt  \n",
            "  inflating: train/labels/IMG20250602213718_jpg.rf.58f975f48619d9f43acd39ebdbbe0ad1.txt  \n",
            "  inflating: train/labels/IMG20250602213718_jpg.rf.cf0e76ff872e632c97c054183bc63071.txt  \n",
            "  inflating: train/labels/IMG20250602213726_jpg.rf.137c8d5249c79ccb253041c03b12110e.txt  \n",
            "  inflating: train/labels/IMG20250602213726_jpg.rf.84f6e1b52cba6aa6f55d5829574f1cbc.txt  \n",
            "  inflating: train/labels/IMG20250602213726_jpg.rf.d0559d50f7d2dcfaf3bcdd899489349a.txt  \n",
            "  inflating: train/labels/IMG20250602213733_jpg.rf.a50e9a30516858e6259508a30de05ef6.txt  \n",
            "  inflating: train/labels/IMG20250602213733_jpg.rf.f4bb4b4a555634caec8b6a6490b5740d.txt  \n",
            "  inflating: train/labels/IMG20250602213733_jpg.rf.f70748c45223dbf83070263a03f494c9.txt  \n",
            "  inflating: train/labels/IMG20250602213736_jpg.rf.6c3bcbe9de7512ecf804e61510f8ade5.txt  \n",
            "  inflating: train/labels/IMG20250602213736_jpg.rf.a5de026568a89243c78d23c9b4fb91f6.txt  \n",
            "  inflating: train/labels/IMG20250602213736_jpg.rf.b58fe509b4468b97152f383738977f9e.txt  \n",
            "  inflating: train/labels/IMG20250602213824_jpg.rf.6e3f4babd6e5b1e420b27e7263f3ee4c.txt  \n",
            "  inflating: train/labels/IMG20250602213824_jpg.rf.81ae69999fcdec23affcd2462ef820b2.txt  \n",
            "  inflating: train/labels/IMG20250602213824_jpg.rf.b47ebc55624c61c968ce6e69b6afcffe.txt  \n",
            "  inflating: train/labels/IMG20250602213832_jpg.rf.3cc7a8ec137382212ee67bb6fc665541.txt  \n",
            "  inflating: train/labels/IMG20250602213832_jpg.rf.6f4913d2a284b0a4709c252fdc5c2f9a.txt  \n",
            "  inflating: train/labels/IMG20250602213832_jpg.rf.e4a787dc2734c8467a865ed84274be35.txt  \n",
            "  inflating: train/labels/IMG20250602213847_jpg.rf.816282db9143990b0ede0fb12e8c14e7.txt  \n",
            "  inflating: train/labels/IMG20250602213847_jpg.rf.c9950a265b866236fdcba83f3917f7bf.txt  \n",
            "  inflating: train/labels/IMG20250602213847_jpg.rf.e4f8896f3569106fc29a4ab0cf6c823e.txt  \n",
            "  inflating: train/labels/IMG20250602213927_jpg.rf.a1ecd59ae0af86a2255f90e02294894e.txt  \n",
            "  inflating: train/labels/IMG20250602213927_jpg.rf.d0a2ec380b7795a4a750d30a3da7a837.txt  \n",
            "  inflating: train/labels/IMG20250602213927_jpg.rf.f3ad6d71dce5917543f170ef5b0731e5.txt  \n",
            "  inflating: train/labels/IMG20250602213933_jpg.rf.334a0b8a8a0a857a12ac48eb08bf82b1.txt  \n",
            "  inflating: train/labels/IMG20250602213933_jpg.rf.a4c0d364be6ffd62d8dc0dac8fa3ff0d.txt  \n",
            "  inflating: train/labels/IMG20250602213933_jpg.rf.db401250e787f7328a6f8f3f8fcca2f2.txt  \n",
            "  inflating: train/labels/IMG20250602213946_jpg.rf.c588b35520a6892d5d0389ad446db672.txt  \n",
            "  inflating: train/labels/IMG20250602213946_jpg.rf.e1d1c6b89e1736294e6eb654debed5b4.txt  \n",
            "  inflating: train/labels/IMG20250602213946_jpg.rf.e5b29ee6cf20714943c29516ab6c941a.txt  \n",
            "  inflating: train/labels/IMG20250602213955_jpg.rf.0628f8f63d40481ece50e4e09713f7d1.txt  \n",
            "  inflating: train/labels/IMG20250602213955_jpg.rf.9cb97501855ce2eab5ddc58a6abd518d.txt  \n",
            "  inflating: train/labels/IMG20250602213955_jpg.rf.b148d754551224f3e6aaa0d0b5d3c51f.txt  \n",
            "  inflating: train/labels/IMG20250602214048_jpg.rf.1d2232c182503491afc0ee3491efe810.txt  \n",
            "  inflating: train/labels/IMG20250602214048_jpg.rf.aca14d734d4ada50bbc8f323d7a82208.txt  \n",
            "  inflating: train/labels/IMG20250602214048_jpg.rf.b7c4a3053bd6adc27a1469f2dccec7f7.txt  \n",
            "  inflating: train/labels/IMG20250602214051_jpg.rf.6116586558b8b93228b199ec3fc42d61.txt  \n",
            "  inflating: train/labels/IMG20250602214051_jpg.rf.9b749c9cca7d6a72975c5593678f3724.txt  \n",
            "  inflating: train/labels/IMG20250602214051_jpg.rf.c107e5edbbece6ddd6864dc095ce9fd9.txt  \n",
            "  inflating: train/labels/IMG20250602214306_jpg.rf.c9df0958b0fbf6a74839f7de5872fbeb.txt  \n",
            "  inflating: train/labels/IMG20250602214306_jpg.rf.e42a4b6191b6b70a5550531fd748272a.txt  \n",
            "  inflating: train/labels/IMG20250602214306_jpg.rf.ea7f04877020f5517e830ce0af0572b4.txt  \n",
            "  inflating: train/labels/IMG20250602214319_jpg.rf.6ce102ff4f85f958bd3fa59d1124b7b2.txt  \n",
            "  inflating: train/labels/IMG20250602214319_jpg.rf.774cdfd6b889a9cb7f818cf53e15bbdf.txt  \n",
            "  inflating: train/labels/IMG20250602214319_jpg.rf.79963ac6a633d3aa47965fc41e508537.txt  \n",
            "  inflating: train/labels/IMG20250602214327_jpg.rf.6d1dacc764edac766667d6327ef15e51.txt  \n",
            "  inflating: train/labels/IMG20250602214327_jpg.rf.8cde19c0b6e8baae2461243c979506a2.txt  \n",
            "  inflating: train/labels/IMG20250602214327_jpg.rf.a6124c0c866233bf8d16d2ce031ad770.txt  \n",
            "  inflating: train/labels/IMG20250602214358_jpg.rf.407d4dc0ab4ced75bbc35442fdb70b44.txt  \n",
            "  inflating: train/labels/IMG20250602214358_jpg.rf.50e9a3d0916b59a76e4c6170ae345a0a.txt  \n",
            "  inflating: train/labels/IMG20250602214358_jpg.rf.86c78b29bf74dc53cdde3d0fba19191b.txt  \n",
            "  inflating: train/labels/IMG20250602214401_jpg.rf.233da5d54e49adc3fafa96ca8d76a290.txt  \n",
            "  inflating: train/labels/IMG20250602214401_jpg.rf.6fdb516a6c8802135f9d5f0366d0464b.txt  \n",
            "  inflating: train/labels/IMG20250602214401_jpg.rf.a2e1d3e70a9174bfa90740fe5891b923.txt  \n",
            "  inflating: train/labels/IMG20250602214408_jpg.rf.360afd16d0c8ceba8497f471eb2b8a11.txt  \n",
            "  inflating: train/labels/IMG20250602214408_jpg.rf.4661604f9f6493e2e6aa50b85d5addf4.txt  \n",
            "  inflating: train/labels/IMG20250602214408_jpg.rf.46c0c203319a3dbd81946eeedce8853f.txt  \n",
            "  inflating: train/labels/IMG20250602214412_jpg.rf.75b96675df8aea1c1d7224f0a1617f44.txt  \n",
            "  inflating: train/labels/IMG20250602214412_jpg.rf.b3cdf36ed26c7e2635b8df1a68a3bb20.txt  \n",
            "  inflating: train/labels/IMG20250602214412_jpg.rf.f57670cb7caf6ac5ca268831eba093b8.txt  \n",
            "  inflating: train/labels/IMG20250602214424_jpg.rf.153bdfa1aad454d1445c68b370c75ad1.txt  \n",
            "  inflating: train/labels/IMG20250602214424_jpg.rf.a289f911f35fe4b1cf9ed1978091ca9f.txt  \n",
            "  inflating: train/labels/IMG20250602214424_jpg.rf.e305baf1da3a5526bfb5a00b954dcc99.txt  \n",
            "  inflating: train/labels/IMG20250602214431_jpg.rf.5c0afbe2d186cac0b6093a13d5e4081f.txt  \n",
            "  inflating: train/labels/IMG20250602214431_jpg.rf.91048623b836ee270f75fb63a5a50c43.txt  \n",
            "  inflating: train/labels/IMG20250602214431_jpg.rf.be02dff9a275f5afeabae47f5ccf0e2d.txt  \n",
            "  inflating: train/labels/IMG20250602214530_jpg.rf.146a564d2e5e9959dec1d3e4f51cbcae.txt  \n",
            "  inflating: train/labels/IMG20250602214530_jpg.rf.411550f1ae88f7b78719940ea0a758a6.txt  \n",
            "  inflating: train/labels/IMG20250602214530_jpg.rf.4cf7e09e8fd8c2c78947c68ffd6bd665.txt  \n",
            "  inflating: train/labels/IMG20250602214538_jpg.rf.2af9efede0ba60a0e11853035b649ad9.txt  \n",
            "  inflating: train/labels/IMG20250602214538_jpg.rf.b75113fff739fa3e9522e7642731e4a6.txt  \n",
            "  inflating: train/labels/IMG20250602214538_jpg.rf.c79fbc18a9b377dd959a3de494d949fb.txt  \n",
            "  inflating: train/labels/IMG20250602214549_jpg.rf.06c063bad7e892b141abfaee6e438cc8.txt  \n",
            "  inflating: train/labels/IMG20250602214549_jpg.rf.98216c94226f26a0b22161b87f97c87c.txt  \n",
            "  inflating: train/labels/IMG20250602214549_jpg.rf.f36aa9083eecd4c871e14f2c89d4487e.txt  \n",
            "  inflating: train/labels/IMG20250602214554_jpg.rf.197d59d29b8564f37608cf19724787bb.txt  \n",
            "  inflating: train/labels/IMG20250602214554_jpg.rf.5b0c6e73cf7113837aa58f47e38e7ac7.txt  \n",
            "  inflating: train/labels/IMG20250602214554_jpg.rf.9258a5083f103f4f7287267d507f4fa8.txt  \n",
            "  inflating: train/labels/IMG20250602214657_jpg.rf.2dd76bc37d8a24d81ba3a050abd85174.txt  \n",
            "  inflating: train/labels/IMG20250602214657_jpg.rf.590d67145bf16f9d8e9e34dbb4acffc4.txt  \n",
            "  inflating: train/labels/IMG20250602214657_jpg.rf.ade98e9f4c6427454ace960f5a993874.txt  \n",
            "  inflating: train/labels/IMG20250602214700_jpg.rf.2eb8d505121580a385b6891c0398a957.txt  \n",
            "  inflating: train/labels/IMG20250602214700_jpg.rf.489f33288834fdea414448ad8f4466c1.txt  \n",
            "  inflating: train/labels/IMG20250602214700_jpg.rf.70a0e4309ba3d33194a6f3df40eccf1e.txt  \n",
            "  inflating: train/labels/IMG20250602214710_jpg.rf.1081a6136235c94d32adbbcc4959cb6b.txt  \n",
            "  inflating: train/labels/IMG20250602214710_jpg.rf.f28c989c98f5f273d7edf9e19d2999c5.txt  \n",
            "  inflating: train/labels/IMG20250602214710_jpg.rf.f79b68981b188d1f93aa94b44f1cb3ae.txt  \n",
            "  inflating: train/labels/IMG20250602214714_jpg.rf.15e7f84e1c73f7ba5b3275db238ec977.txt  \n",
            "  inflating: train/labels/IMG20250602214714_jpg.rf.4ae47a0186c9e2c8e67e86168c2edee6.txt  \n",
            "  inflating: train/labels/IMG20250602214714_jpg.rf.5b015ba6e6c70106ffd65272a82d7ed8.txt  \n",
            "  inflating: train/labels/IMG20250602223140_jpg.rf.5f2abdaf5ec9440c2c31721aa9ff10fa.txt  \n",
            "  inflating: train/labels/IMG20250602223140_jpg.rf.62bf3765691dad99bf9d059f8f9e2a61.txt  \n",
            "  inflating: train/labels/IMG20250602223140_jpg.rf.e72021c56cd3ce706efbbd8838cae1d6.txt  \n",
            "  inflating: train/labels/IMG20250602223205_jpg.rf.30c77f75d5d0e389bfef45d0e00dd5fc.txt  \n",
            "  inflating: train/labels/IMG20250602223205_jpg.rf.41bf8120a650dfe9856b103a1b26a8ac.txt  \n",
            "  inflating: train/labels/IMG20250602223205_jpg.rf.5599d5b5604eb1dab74cd5eaa9d9b4b5.txt  \n",
            "  inflating: train/labels/IMG20250602223218_jpg.rf.b941f61b6d169dbc4cccb52888144b66.txt  \n",
            "  inflating: train/labels/IMG20250602223218_jpg.rf.cd17833b5625d42bf467c604019d1e40.txt  \n",
            "  inflating: train/labels/IMG20250602223218_jpg.rf.fdfce49e08e76807bf92a38aebee017b.txt  \n",
            "  inflating: train/labels/IMG20250602223633_jpg.rf.628917ddd1ede9772ab045957d0af9b4.txt  \n",
            "  inflating: train/labels/IMG20250602223633_jpg.rf.dd8e33d37681551c3f15e59f42dc0c94.txt  \n",
            "  inflating: train/labels/IMG20250602223633_jpg.rf.e84def18e84301dcf58c4cb66a531ea3.txt  \n",
            "  inflating: train/labels/IMG20250602223654_jpg.rf.03e29751fba46475d1b332d9c2a356f6.txt  \n",
            "  inflating: train/labels/IMG20250602223654_jpg.rf.510578a72a01d855313a6eb0f1a578a4.txt  \n",
            "  inflating: train/labels/IMG20250602223654_jpg.rf.c9ee800a4546e0e71e703c1711db3648.txt  \n",
            "  inflating: train/labels/IMG20250602223737_jpg.rf.26a9ccf79831923e7933ebd09b29d8ba.txt  \n",
            "  inflating: train/labels/IMG20250602223737_jpg.rf.89c1da4b6482153075c88ab6cbf61531.txt  \n",
            "  inflating: train/labels/IMG20250602223737_jpg.rf.c608d49aebad290486cd38f78576f5a2.txt  \n",
            "  inflating: train/labels/IMG20250602223808_jpg.rf.4126cfa900afee05d852ed8ba0ed2529.txt  \n",
            "  inflating: train/labels/IMG20250602223808_jpg.rf.ca847c449aef9f5ab8c6ccd0ca39fd5a.txt  \n",
            "  inflating: train/labels/IMG20250602223808_jpg.rf.e73d70f6b639f52c97c8c5dd06c57e0f.txt  \n",
            "  inflating: train/labels/IMG20250602223822_jpg.rf.1ab83b2127e8602f3ed4313b939c240b.txt  \n",
            "  inflating: train/labels/IMG20250602223822_jpg.rf.3f79725e1f5af233b44ebc392671a71a.txt  \n",
            "  inflating: train/labels/IMG20250602223822_jpg.rf.6e5cbe2b93e3a1baf9119782ef8b64c0.txt  \n",
            "  inflating: train/labels/IMG20250602223905_jpg.rf.93471949a61e68c5d80f5e6adce114d2.txt  \n",
            "  inflating: train/labels/IMG20250602223905_jpg.rf.bee337cf9d6697a0101fe35cd914c6fa.txt  \n",
            "  inflating: train/labels/IMG20250602223905_jpg.rf.e5c468df4a3a19baf3fa866dfbd10efe.txt  \n",
            "  inflating: train/labels/IMG20250602223928_jpg.rf.20c34496f8eb4d3a1a3742f4ae055b21.txt  \n",
            "  inflating: train/labels/IMG20250602223928_jpg.rf.aa513d1667e5f8cc499d11e7e54f8df9.txt  \n",
            "  inflating: train/labels/IMG20250602223928_jpg.rf.e154b6129c36d5d64a4ba1fb93d61969.txt  \n",
            "  inflating: train/labels/IMG20250602224202_jpg.rf.0e747671235ec99c7cfac3666f362046.txt  \n",
            "  inflating: train/labels/IMG20250602224202_jpg.rf.1c40820b568bb5bf078ab5959486b230.txt  \n",
            "  inflating: train/labels/IMG20250602224202_jpg.rf.5f845e65b987adabd67bbf970dd5faa2.txt  \n",
            "  inflating: train/labels/IMG20250602224210_jpg.rf.02ceca2ca922ca5eb9fb3967814da921.txt  \n",
            "  inflating: train/labels/IMG20250602224210_jpg.rf.9b36f1afe9410679ad2a883ec9d4402c.txt  \n",
            "  inflating: train/labels/IMG20250602224210_jpg.rf.a6e074c96b4fe3bd80e8d71a3a323d2a.txt  \n",
            "  inflating: train/labels/IMG20250602224224_jpg.rf.c177973c3e06e2d6fa1ffd9eede4516e.txt  \n",
            "  inflating: train/labels/IMG20250602224224_jpg.rf.f13c770375f7509442174400f7cd44be.txt  \n",
            "  inflating: train/labels/IMG20250602224224_jpg.rf.fffbb0a8cf4d4c1b9751db0eb13675e6.txt  \n",
            "  inflating: train/labels/IMG20250602224235_jpg.rf.3f0b71151bf83b62f5f3b32b87b34cef.txt  \n",
            "  inflating: train/labels/IMG20250602224235_jpg.rf.8a5d7de0930cef016b91772a77c8827a.txt  \n",
            "  inflating: train/labels/IMG20250602224235_jpg.rf.8fe1e4463b8ae3a246bf018235a60333.txt  \n",
            "  inflating: train/labels/IMG20250602224248_jpg.rf.42acae91f555d94981200b5af9144c46.txt  \n",
            "  inflating: train/labels/IMG20250602224248_jpg.rf.a409c7680489fe6aca15dc758cb8f6c9.txt  \n",
            "  inflating: train/labels/IMG20250602224248_jpg.rf.d1ac6e21788cdbddeea222377e0d902b.txt  \n",
            "  inflating: train/labels/IMG20250602224614_jpg.rf.e58b2a09cde1de72cf4c8bb2b12f2f0c.txt  \n",
            "  inflating: train/labels/IMG20250602224614_jpg.rf.f9c9416284035593a6aa20f07e13b468.txt  \n",
            "  inflating: train/labels/IMG20250602224614_jpg.rf.ff37e7930317019feeb594cf7205c79b.txt  \n",
            "  inflating: train/labels/IMG20250602224635_jpg.rf.84b7fa78cc6e637a9d43bc5cd950c704.txt  \n",
            "  inflating: train/labels/IMG20250602224635_jpg.rf.d4f8d4dc495fc2657fbd719a8084f647.txt  \n",
            "  inflating: train/labels/IMG20250602224635_jpg.rf.fb8298505d06e56f809716ff9e1f177f.txt  \n",
            "  inflating: train/labels/IMG20250602224717_jpg.rf.52b1cd39bcc234f11a3bc378f934e6fc.txt  \n",
            "  inflating: train/labels/IMG20250602224717_jpg.rf.c861b23b733ffec30dc780629a21f5e8.txt  \n",
            "  inflating: train/labels/IMG20250602224717_jpg.rf.e76ad365d65fd46240eb33fdfbb1ea0f.txt  \n",
            "  inflating: train/labels/IMG20250602224821_jpg.rf.8e9ed1bf0686ddbaa99dddc6b38306b7.txt  \n",
            "  inflating: train/labels/IMG20250602224821_jpg.rf.b222530b227fe97a8795905f6902d5db.txt  \n",
            "  inflating: train/labels/IMG20250602224821_jpg.rf.e748f6bbcc5addd7548575269d0accf9.txt  \n",
            "  inflating: train/labels/IMG20250602224836_jpg.rf.8c5ee4229cb775e70d3b6e8bf8b52297.txt  \n",
            "  inflating: train/labels/IMG20250602224836_jpg.rf.b8ec38c597a1240950e3f4ca2e28ec89.txt  \n",
            "  inflating: train/labels/IMG20250602224836_jpg.rf.bd4699a1c7bee54126bc55642bc92577.txt  \n",
            "  inflating: train/labels/IMG20250602224843_jpg.rf.32a80786e9158532475a27fd79244b95.txt  \n",
            "  inflating: train/labels/IMG20250602224843_jpg.rf.5bf892f59062a40e61d5fbd341c572dd.txt  \n",
            "  inflating: train/labels/IMG20250602224843_jpg.rf.ef0b61dbf3ae0b81761c7bd74e6083e7.txt  \n",
            "  inflating: train/labels/IMG20250602224902_jpg.rf.139b709dfaa71ac79dc9c5211fee9ce4.txt  \n",
            "  inflating: train/labels/IMG20250602224902_jpg.rf.6dae7caec7d5dd1d01543c68d071ff57.txt  \n",
            "  inflating: train/labels/IMG20250602224902_jpg.rf.940df3e17b5cfe0d9672644a6afea976.txt  \n",
            "  inflating: train/labels/IMG20250602225022_jpg.rf.2485751934ff689cc11fbd203b806e39.txt  \n",
            "  inflating: train/labels/IMG20250602225022_jpg.rf.5149990906a3e6439726eb7e7d891424.txt  \n",
            "  inflating: train/labels/IMG20250602225022_jpg.rf.8291b1827a512839621a3ec7ba1e096a.txt  \n",
            "  inflating: train/labels/IMG20250602225031_jpg.rf.3542d1e30361621efa3c22f6384ebd77.txt  \n",
            "  inflating: train/labels/IMG20250602225031_jpg.rf.64df0dea3271b604e224198dda7b44f7.txt  \n",
            "  inflating: train/labels/IMG20250602225031_jpg.rf.e30bace16fb3d2f2f384547743e39bb1.txt  \n",
            "  inflating: train/labels/IMG20250602225125_jpg.rf.849bb1a0a23180d2b6439f598b6c7073.txt  \n",
            "  inflating: train/labels/IMG20250602225125_jpg.rf.b1a491806d7828ebd1505e43e1e60439.txt  \n",
            "  inflating: train/labels/IMG20250602225125_jpg.rf.dbfecdbbb45ee7278932526be0063a23.txt  \n",
            "  inflating: train/labels/IMG20250602225145_jpg.rf.2f534887347a2119eb83ca0300cb7eae.txt  \n",
            "  inflating: train/labels/IMG20250602225145_jpg.rf.52c92826816d95919ba5afc648de253d.txt  \n",
            "  inflating: train/labels/IMG20250602225145_jpg.rf.69c6fc435e89df0e6a869ae26797f9d4.txt  \n",
            "  inflating: train/labels/IMG20250602225340_jpg.rf.9ff95c4f83f35c5f45a269e690254ea7.txt  \n",
            "  inflating: train/labels/IMG20250602225340_jpg.rf.a2dc5bbe4eafac93a91049c88b7a6874.txt  \n",
            "  inflating: train/labels/IMG20250602225340_jpg.rf.fab1aa77cc7a9d7e8e10fc139834667a.txt  \n",
            "  inflating: train/labels/IMG20250602225546_jpg.rf.07e3247e5ab58e1d79d9cfb7d34eda57.txt  \n",
            "  inflating: train/labels/IMG20250602225546_jpg.rf.4863f5e1ac7468f6470d3ae1627daf5e.txt  \n",
            "  inflating: train/labels/IMG20250602225546_jpg.rf.e9e939e1aa6b910d82e84b2b1ee99627.txt  \n",
            "  inflating: train/labels/IMG20250602225639_jpg.rf.0003d66a242ff8c669a7c33b1c5035bf.txt  \n",
            "  inflating: train/labels/IMG20250602225639_jpg.rf.c979536704dc2267f0cc51b9ca74c418.txt  \n",
            "  inflating: train/labels/IMG20250602225639_jpg.rf.f6ba90de2f26099db649e9d2ab2a67b9.txt  \n",
            "  inflating: train/labels/IMG20250602225725_jpg.rf.64a4ba4ecf1a0b5d52a6f65adfb21106.txt  \n",
            "  inflating: train/labels/IMG20250602225725_jpg.rf.7150e38431842080b041213825b54848.txt  \n",
            "  inflating: train/labels/IMG20250602225725_jpg.rf.a615b8826104cbe414bea4ff64ec0002.txt  \n",
            "  inflating: train/labels/IMG20250602225735_jpg.rf.2ae867b14f914ad1db2020759f31dddb.txt  \n",
            "  inflating: train/labels/IMG20250602225735_jpg.rf.3db0cad496c1bb17073d950d860752dd.txt  \n",
            "  inflating: train/labels/IMG20250602225735_jpg.rf.d9d956e502729c4f461dbced20fe003b.txt  \n",
            "  inflating: train/labels/IMG20250602225752_jpg.rf.39684b74346a5850706368d083ee97b2.txt  \n",
            "  inflating: train/labels/IMG20250602225752_jpg.rf.ba3fbbeb9d0ae5a0e3d3be1643bf6d96.txt  \n",
            "  inflating: train/labels/IMG20250602225752_jpg.rf.fb660ee5cedaac8463756766cf6370b8.txt  \n",
            "  inflating: train/labels/IMG20250602225815_jpg.rf.2f7eb218d2272877710a541a49874042.txt  \n",
            "  inflating: train/labels/IMG20250602225815_jpg.rf.57f724d1108b93b213b395209e4ac589.txt  \n",
            "  inflating: train/labels/IMG20250602225815_jpg.rf.9fab6e50722d39c599b67ac8cb2432ee.txt  \n",
            "  inflating: train/labels/IMG20250602225847_jpg.rf.10220c1d63cf9a3fc853d995795e9d5f.txt  \n",
            "  inflating: train/labels/IMG20250602225847_jpg.rf.7d45d0868269a9823686b408f03a9b14.txt  \n",
            "  inflating: train/labels/IMG20250602225847_jpg.rf.f3beafe0175ca94744fdd4da65495818.txt  \n",
            "  inflating: train/labels/IMG20250602230028_jpg.rf.51dbd76dd734154a79a4f7b6e170a8a2.txt  \n",
            "  inflating: train/labels/IMG20250602230028_jpg.rf.7da5bd6c0a771b31d0b7d4399393b465.txt  \n",
            "  inflating: train/labels/IMG20250602230028_jpg.rf.9de8cf43a9bfbe32dce21943eb5ba8e2.txt  \n",
            "  inflating: train/labels/IMG20250602230040_jpg.rf.278e536175f2856e69ce2f7f832f02bc.txt  \n",
            "  inflating: train/labels/IMG20250602230040_jpg.rf.290d99bdde07e30c2028738915dc46dd.txt  \n",
            "  inflating: train/labels/IMG20250602230040_jpg.rf.a8193ab3c2efcda6c63e41ef474bd7c7.txt  \n",
            "  inflating: train/labels/IMG20250602230055_jpg.rf.3d0fa4cedb8d52f6ebcdefe5c69a9af1.txt  \n",
            "  inflating: train/labels/IMG20250602230055_jpg.rf.453b6061aec6cbf2e19581e7f7cf2fcb.txt  \n",
            "  inflating: train/labels/IMG20250602230055_jpg.rf.f6bccbbd60f7dd286de9b10666675d6c.txt  \n",
            "  inflating: train/labels/IMG20250602230104_jpg.rf.0315c72839db5c19efca1bcad5641314.txt  \n",
            "  inflating: train/labels/IMG20250602230104_jpg.rf.eafd41baeadcbbbea43c90710690a879.txt  \n",
            "  inflating: train/labels/IMG20250602230104_jpg.rf.fb51a27b8b533c6e4b24210567e32e0d.txt  \n",
            "  inflating: train/labels/IMG20250602230117_jpg.rf.558660714de5d2f5a178c21c246995fe.txt  \n",
            "  inflating: train/labels/IMG20250602230117_jpg.rf.6de5ea04d250d1dc837fab567a9e0d00.txt  \n",
            "  inflating: train/labels/IMG20250602230117_jpg.rf.d5ae85b7dcfaed38a6f921b4c94ae212.txt  \n",
            "  inflating: train/labels/IMG20250602230129_jpg.rf.9d9a49fb53568f4275749f8f6f2080bd.txt  \n",
            "  inflating: train/labels/IMG20250602230129_jpg.rf.d9ed5c7aa2eb5a9a6377049f4e657b86.txt  \n",
            "  inflating: train/labels/IMG20250602230129_jpg.rf.da0b5d2b5eb5ad9e0c574bd3027d741b.txt  \n",
            "  inflating: train/labels/IMG20250602230147_jpg.rf.386e9e364b0ea6c30fed72d549f6fd10.txt  \n",
            "  inflating: train/labels/IMG20250602230147_jpg.rf.a64250334d5451af8f9c7d1beba80dd1.txt  \n",
            "  inflating: train/labels/IMG20250602230147_jpg.rf.b8a664f48998fb03584f81c6a574d5e9.txt  \n",
            "  inflating: train/labels/IMG20250602230230_jpg.rf.c83d2be642159fcb43520ecedce465c0.txt  \n",
            "  inflating: train/labels/IMG20250602230230_jpg.rf.ce23432f6fd12a91ee2942e7a2f447d9.txt  \n",
            "  inflating: train/labels/IMG20250602230230_jpg.rf.ee312e1d986f325ad87f734f6cb2e972.txt  \n",
            "  inflating: train/labels/IMG20250602230318_jpg.rf.12690d3f7d555779139569d9fd40e25b.txt  \n",
            "  inflating: train/labels/IMG20250602230318_jpg.rf.a08d6920e6528c35b711a404b7ec8872.txt  \n",
            "  inflating: train/labels/IMG20250602230318_jpg.rf.badb5deb0022d05ccaa56c2b33a4d32e.txt  \n",
            "  inflating: train/labels/IMG20250602230339_jpg.rf.2cd3db6473d55d738c03caef0d330d02.txt  \n",
            "  inflating: train/labels/IMG20250602230339_jpg.rf.3cdd306987446d73495148574de81fbf.txt  \n",
            "  inflating: train/labels/IMG20250602230339_jpg.rf.88b66a8a6c36c131329ffa2b67da2877.txt  \n",
            "  inflating: train/labels/IMG20250602230346_jpg.rf.01ec4e9a1cb496ede719eba4f17b1e50.txt  \n",
            "  inflating: train/labels/IMG20250602230346_jpg.rf.17cd4b21503b54cf8f03d795ab85b6e3.txt  \n",
            "  inflating: train/labels/IMG20250602230346_jpg.rf.9f5d1427ef8a081da5a9cf51e1fc850d.txt  \n",
            "  inflating: train/labels/IMG20250602230430_jpg.rf.6a6e88e0a7499b59c4addb02d4c08ee4.txt  \n",
            "  inflating: train/labels/IMG20250602230430_jpg.rf.db3a9e48ba30f36316a82dfcd2a38603.txt  \n",
            "  inflating: train/labels/IMG20250602230430_jpg.rf.e9da48c03f45e8f42fc77b86eb1ed64b.txt  \n",
            "  inflating: train/labels/IMG20250602230700_jpg.rf.5b221966592b76f5fbb396aa05a72f8c.txt  \n",
            "  inflating: train/labels/IMG20250602230700_jpg.rf.6d56b711788b48bbcdf62ced57938006.txt  \n",
            "  inflating: train/labels/IMG20250602230700_jpg.rf.eafec18f5fdceb6ab0c145a5b48527f6.txt  \n",
            "  inflating: train/labels/IMG20250602230707_jpg.rf.2afdef5fee17aa71114c8f50a2444b44.txt  \n",
            "  inflating: train/labels/IMG20250602230707_jpg.rf.a618944f2f3ff3ceb795da37967eb39c.txt  \n",
            "  inflating: train/labels/IMG20250602230707_jpg.rf.ecea2108d86070093759af8fe1822123.txt  \n",
            "  inflating: train/labels/IMG20250602230733_jpg.rf.1e883c98e430fcf75c2d1187bd6f1265.txt  \n",
            "  inflating: train/labels/IMG20250602230733_jpg.rf.2d71d7c024e785deee20a5c6e46a2073.txt  \n",
            "  inflating: train/labels/IMG20250602230733_jpg.rf.d17fc47ab38443cc7897cc013d6e61b3.txt  \n",
            "  inflating: train/labels/IMG20250602230813_jpg.rf.0b2f9bd5f1a8227ebc7f49c76af730de.txt  \n",
            "  inflating: train/labels/IMG20250602230813_jpg.rf.b57ba7d1fa55f921a96aeb3cd86354d1.txt  \n",
            "  inflating: train/labels/IMG20250602230813_jpg.rf.da79782c2045af42bd946c3777aed28f.txt  \n",
            "  inflating: train/labels/IMG20250602230825_jpg.rf.1ca73fe22914f7bdda701a7b621f2086.txt  \n",
            "  inflating: train/labels/IMG20250602230825_jpg.rf.4d74f1d5619a22702951e6882e00e540.txt  \n",
            "  inflating: train/labels/IMG20250602230825_jpg.rf.6648ce6f6573d255d27598619da56b17.txt  \n",
            "  inflating: train/labels/IMG20250602230833_jpg.rf.4bc7af9862623eebf6631a9665694dfc.txt  \n",
            "  inflating: train/labels/IMG20250602230833_jpg.rf.b67ffd5462da04d4474d30f25ce85618.txt  \n",
            "  inflating: train/labels/IMG20250602230833_jpg.rf.c86eeb5475dbd2048878e9f36c2949b4.txt  \n",
            "  inflating: train/labels/IMG20250602230845_jpg.rf.477680b467be420a5dd175d375164c4e.txt  \n",
            "  inflating: train/labels/IMG20250602230845_jpg.rf.7d69a510f8cf07ac8d80b0e9508ae704.txt  \n",
            "  inflating: train/labels/IMG20250602230845_jpg.rf.a69897a3762fd8406e6f1d628a71e118.txt  \n",
            "  inflating: train/labels/IMG20250602230910_jpg.rf.267ff2131695493c798a432ee6c9ca6a.txt  \n",
            "  inflating: train/labels/IMG20250602230910_jpg.rf.4a9bca5ad693e79db742953fafe0cd98.txt  \n",
            "  inflating: train/labels/IMG20250602230910_jpg.rf.d4741bc4e370eee61b1f596f58a6ea81.txt  \n",
            "  inflating: train/labels/IMG20250602230916_jpg.rf.636e2151b888ddc1428c398a990e81d5.txt  \n",
            "  inflating: train/labels/IMG20250602230916_jpg.rf.6b2b1194f134ed47251ef24608af52ed.txt  \n",
            "  inflating: train/labels/IMG20250602230916_jpg.rf.8ed1242080564fd4e35670a085a1fc65.txt  \n",
            "  inflating: train/labels/IMG20250602230922_jpg.rf.0d31b148f5bc64e57485276c479120a5.txt  \n",
            "  inflating: train/labels/IMG20250602230922_jpg.rf.52ac6b7814992f48c1197d6368976a02.txt  \n",
            "  inflating: train/labels/IMG20250602230922_jpg.rf.c04331addab3d887298d59ec14c0260c.txt  \n",
            "  inflating: train/labels/IMG20250602230951_jpg.rf.0030572d3d63d4b57d7b089f7a2b23a9.txt  \n",
            "  inflating: train/labels/IMG20250602230951_jpg.rf.48556cfda08572abb50dbba875f91acd.txt  \n",
            "  inflating: train/labels/IMG20250602230951_jpg.rf.d00b0062fe1e285a68c3bd51df27935d.txt  \n",
            "  inflating: train/labels/IMG20250602231003_jpg.rf.20dfcf051624b2ed257fd07c06a03e1b.txt  \n",
            "  inflating: train/labels/IMG20250602231003_jpg.rf.9702ecf4c8d9e631196d403649f3c3e5.txt  \n",
            "  inflating: train/labels/IMG20250602231003_jpg.rf.f44b513c58f867d2dc380b8650036c68.txt  \n",
            "  inflating: train/labels/IMG20250602231010_jpg.rf.1c2b2386394b604bc0bed5cad63352c0.txt  \n",
            "  inflating: train/labels/IMG20250602231010_jpg.rf.b900488b9515a4898d7e0c84f04209f2.txt  \n",
            "  inflating: train/labels/IMG20250602231010_jpg.rf.e07b5a5ac9cdfc517a783ef18470c82d.txt  \n",
            "  inflating: train/labels/IMG20250602231127_jpg.rf.342207a164d13c9369c3c27494a8e38a.txt  \n",
            "  inflating: train/labels/IMG20250602231127_jpg.rf.4df61ef86292bacf2eaf663fde6b4850.txt  \n",
            "  inflating: train/labels/IMG20250602231127_jpg.rf.8560e65e5059678f4704387d6e41b201.txt  \n",
            "  inflating: train/labels/IMG20250602231137_jpg.rf.01db4eb3ca74d96fd049e38350bf07a2.txt  \n",
            "  inflating: train/labels/IMG20250602231137_jpg.rf.38193cea155fe041d764da0a77df7ef8.txt  \n",
            "  inflating: train/labels/IMG20250602231137_jpg.rf.e795c771d6b838722514fa6a7bb05dc1.txt  \n",
            "  inflating: train/labels/IMG20250602231146_jpg.rf.1cef149929123686d7f78d1774d8f474.txt  \n",
            "  inflating: train/labels/IMG20250602231146_jpg.rf.453da53e4b2a3ccaa1c991a7eca2efad.txt  \n",
            "  inflating: train/labels/IMG20250602231146_jpg.rf.ae2fd3cc68a9e7df8bb848e226e3f2fc.txt  \n",
            "  inflating: train/labels/IMG20250602231159_jpg.rf.25700f6bd21d5251a0188b35a749e3c2.txt  \n",
            "  inflating: train/labels/IMG20250602231159_jpg.rf.942bbcffb99d68599b288f9003bfee64.txt  \n",
            "  inflating: train/labels/IMG20250602231159_jpg.rf.f430cd0f2178eb312699889ec714a2e2.txt  \n",
            "  inflating: train/labels/IMG20250602231320_jpg.rf.b777c6fa9b752d8ccffe3507cd087f24.txt  \n",
            "  inflating: train/labels/IMG20250602231320_jpg.rf.e28557eceb5f58e67db708e0fb96efed.txt  \n",
            "  inflating: train/labels/IMG20250602231320_jpg.rf.f0aa45394e6d58af2a74e6b7ace06b80.txt  \n",
            "  inflating: train/labels/IMG20250602231330_jpg.rf.72ab45cd42f8b1184efbfe8a8cd5f35e.txt  \n",
            "  inflating: train/labels/IMG20250602231330_jpg.rf.bf4c3ff594bc6a727f19757514a6bd8d.txt  \n",
            "  inflating: train/labels/IMG20250602231330_jpg.rf.c79ea3cd32eb3e33c81885d8bf99320f.txt  \n",
            "  inflating: train/labels/IMG20250602231358_jpg.rf.05dc2a6e5b1be167f2715fe86592023f.txt  \n",
            "  inflating: train/labels/IMG20250602231358_jpg.rf.083ea9efe88ad3aae8f258c099c7b88a.txt  \n",
            "  inflating: train/labels/IMG20250602231358_jpg.rf.1a488423be5ef445aef0128f13eb3ba8.txt  \n",
            "  inflating: train/labels/IMG20250602231406_jpg.rf.78a9a0dc2880aa186f773b3d5d84a1e3.txt  \n",
            "  inflating: train/labels/IMG20250602231406_jpg.rf.798d0528497168323db13dab1bacc19e.txt  \n",
            "  inflating: train/labels/IMG20250602231406_jpg.rf.d734f99cf699c8f29d7a127d89ba6ae9.txt  \n",
            "  inflating: train/labels/IMG20250602231513_jpg.rf.0e1a6291115b901bacb136e56b187468.txt  \n",
            "  inflating: train/labels/IMG20250602231513_jpg.rf.28d3130ba1e2bebd7c13df3f9e69cf92.txt  \n",
            "  inflating: train/labels/IMG20250602231513_jpg.rf.b4c862f25753397191979ea479140363.txt  \n",
            "  inflating: train/labels/IMG20250602231600_jpg.rf.58446de3ab4f0b6d04d15f01de8a2e12.txt  \n",
            "  inflating: train/labels/IMG20250602231600_jpg.rf.ae929af31e11ef35a06980d579677692.txt  \n",
            "  inflating: train/labels/IMG20250602231600_jpg.rf.bada39df32988a26ecfb0b75eb0feb54.txt  \n",
            "  inflating: train/labels/IMG20250602231712_jpg.rf.657be8724c086d67e673c36c4887e5fc.txt  \n",
            "  inflating: train/labels/IMG20250602231712_jpg.rf.7f14fbdaa5756300971e97c88dfddec7.txt  \n",
            "  inflating: train/labels/IMG20250602231712_jpg.rf.ccc7393400097e1b5dde775f638d6901.txt  \n",
            "  inflating: train/labels/IMG20250602231729_jpg.rf.5f81ce19bd15c28af065320b979c05a4.txt  \n",
            "  inflating: train/labels/IMG20250602231729_jpg.rf.c475aec2c56246b183a946e569d5656a.txt  \n",
            "  inflating: train/labels/IMG20250602231729_jpg.rf.cbcefa1dde67d0758706e03aabc39950.txt  \n",
            "  inflating: train/labels/IMG20250602231749_jpg.rf.9590745e663740d348c915931f7d192e.txt  \n",
            "  inflating: train/labels/IMG20250602231749_jpg.rf.990338d08c2f521249c5e375171460d9.txt  \n",
            "  inflating: train/labels/IMG20250602231749_jpg.rf.bc8dba6ab27a6d173fd3f0866c26f71f.txt  \n",
            "  inflating: train/labels/IMG20250602231804_jpg.rf.4e193e95f221cee373c9421d0c1d8611.txt  \n",
            "  inflating: train/labels/IMG20250602231804_jpg.rf.bbcde106daf47628a81daee540f05ca1.txt  \n",
            "  inflating: train/labels/IMG20250602231804_jpg.rf.e16e73fadd9851d0d83bde4f3f0e9ca0.txt  \n",
            "  inflating: train/labels/IMG20250602231928_jpg.rf.2b9c61cdb52c856977e2ddde062f6109.txt  \n",
            "  inflating: train/labels/IMG20250602231928_jpg.rf.691457b7b4106308a5eae9e44fd6d05b.txt  \n",
            "  inflating: train/labels/IMG20250602231928_jpg.rf.cb5fbdb2b00494c4c0df4ee18ed2d859.txt  \n",
            "  inflating: train/labels/IMG20250602231943_jpg.rf.1738474c324ae672a960723b538473fc.txt  \n",
            "  inflating: train/labels/IMG20250602231943_jpg.rf.1bce65afb073ba05089959c133c98873.txt  \n",
            "  inflating: train/labels/IMG20250602231943_jpg.rf.34a76cce4653b331684d7a18139874cc.txt  \n",
            "  inflating: train/labels/IMG20250602232028_jpg.rf.559b165d7460e15c2336e3960d3b5992.txt  \n",
            "  inflating: train/labels/IMG20250602232028_jpg.rf.8eb2cd4c58ac1b7b178243139e36fef8.txt  \n",
            "  inflating: train/labels/IMG20250602232028_jpg.rf.dcf1eb7d32081597eb17905fda176021.txt  \n",
            "  inflating: train/labels/IMG20250602232039_jpg.rf.0ac825c46512256715acf509c128c501.txt  \n",
            "  inflating: train/labels/IMG20250602232039_jpg.rf.1c69187b416b9821b4d540b7a7b6aafa.txt  \n",
            "  inflating: train/labels/IMG20250602232039_jpg.rf.5f519cda8e934c8a19d274ae506867f4.txt  \n",
            "  inflating: train/labels/IMG20250602232151_jpg.rf.308451551318bd78c2f38adbfbf21e28.txt  \n",
            "  inflating: train/labels/IMG20250602232151_jpg.rf.93b322246901e7b0da2f00695e07d4d6.txt  \n",
            "  inflating: train/labels/IMG20250602232151_jpg.rf.997218613119c17799e4d5f50a29aebe.txt  \n",
            "  inflating: train/labels/IMG20250602232204_jpg.rf.30299298fa0228dad91e73d0d9f5f729.txt  \n",
            "  inflating: train/labels/IMG20250602232204_jpg.rf.91b9544ed4c99cde3579baf3279bbe4d.txt  \n",
            "  inflating: train/labels/IMG20250602232204_jpg.rf.e6af6619802651638b6a79bddc8724db.txt  \n",
            "  inflating: train/labels/IMG20250602232216_jpg.rf.47a56ff83e5c2b4ead21a5c961537866.txt  \n",
            "  inflating: train/labels/IMG20250602232216_jpg.rf.7b83fc680435ecd90baaaf5e3a639c89.txt  \n",
            "  inflating: train/labels/IMG20250602232216_jpg.rf.bfbac3878154eabc876b0bb3cffef28a.txt  \n",
            "  inflating: train/labels/IMG20250602232239_jpg.rf.655522f0361cc46f31a2c670ed3d6e31.txt  \n",
            "  inflating: train/labels/IMG20250602232239_jpg.rf.94acf7be64ff33c04e2c682190931f12.txt  \n",
            "  inflating: train/labels/IMG20250602232239_jpg.rf.b344276f80dbc732f64546d8a81e889a.txt  \n",
            "  inflating: train/labels/IMG20250602232254_jpg.rf.37ef62b9915bdecd0953688f3415d373.txt  \n",
            "  inflating: train/labels/IMG20250602232254_jpg.rf.78b96abe8c45dbe7501bed03a43026bc.txt  \n",
            "  inflating: train/labels/IMG20250602232254_jpg.rf.c7900e4923caffa1c9f92dade3ba72e1.txt  \n",
            "  inflating: train/labels/IMG20250602232321_jpg.rf.02414b960fc7b550ff7fdf7d2056fc2c.txt  \n",
            "  inflating: train/labels/IMG20250602232321_jpg.rf.7756fb0f19bf397747f82bd9c6600503.txt  \n",
            "  inflating: train/labels/IMG20250602232321_jpg.rf.f9240a7d777f783c22a1ef1255bd22f2.txt  \n",
            "  inflating: train/labels/IMG20250602232332_jpg.rf.5441ca24cbfb7405cc3fdcff3979dbab.txt  \n",
            "  inflating: train/labels/IMG20250602232332_jpg.rf.7f0006804d1376e89aff575e93aa2ee3.txt  \n",
            "  inflating: train/labels/IMG20250602232332_jpg.rf.e020fad4e112005f815959a5f1e239bf.txt  \n",
            "  inflating: train/labels/IMG20250602232340_jpg.rf.1de19b75b2cdee80e5e29d0a5edfd07b.txt  \n",
            "  inflating: train/labels/IMG20250602232340_jpg.rf.69b5f36a484ca053102d5c85adfcf04d.txt  \n",
            "  inflating: train/labels/IMG20250602232340_jpg.rf.c9f848634fd4f137eeb5bf41530d691f.txt  \n",
            "  inflating: train/labels/IMG20250602232348_jpg.rf.180d9d34ceaea4d6a4d3bb4dc0e118b3.txt  \n",
            "  inflating: train/labels/IMG20250602232348_jpg.rf.4582486193b96066d6a8218dca3fa554.txt  \n",
            "  inflating: train/labels/IMG20250602232348_jpg.rf.b081c88db225a18a7551e770ea75ace5.txt  \n",
            "  inflating: train/labels/IMG20250602232527_jpg.rf.2a050053c3387ee39dd312924d9f39d7.txt  \n",
            "  inflating: train/labels/IMG20250602232527_jpg.rf.6cb97468f8eed56a64707b872f19ebf9.txt  \n",
            "  inflating: train/labels/IMG20250602232527_jpg.rf.de4d36086e0957fa08963ae51a7628e3.txt  \n",
            "  inflating: train/labels/IMG20250602232535_jpg.rf.7fa2afb3ee18b187fa4d9fb7fb857f2a.txt  \n",
            "  inflating: train/labels/IMG20250602232535_jpg.rf.d5cbd28fa747d2326abc00b63b345620.txt  \n",
            "  inflating: train/labels/IMG20250602232535_jpg.rf.e0e8a8de1dd29d1526984a2ce69b533c.txt  \n",
            "  inflating: train/labels/IMG20250602232632_jpg.rf.1b4ba5d9348aebe36a6ed7b995653bfb.txt  \n",
            "  inflating: train/labels/IMG20250602232632_jpg.rf.d7cb28ea986a4ad5086637ad5321b876.txt  \n",
            "  inflating: train/labels/IMG20250602232632_jpg.rf.fc1584361db9897138f293947824501c.txt  \n",
            "  inflating: train/labels/IMG20250602232702_jpg.rf.0632cd713ce3ca8b21dc2038f0e73dd8.txt  \n",
            "  inflating: train/labels/IMG20250602232702_jpg.rf.86bfbaed7b98a80cefa7ecbc873fcb18.txt  \n",
            "  inflating: train/labels/IMG20250602232702_jpg.rf.96bbfdd0ca2d1927ef072ae924386f0e.txt  \n",
            "  inflating: train/labels/IMG20250602232758_jpg.rf.20c8771e7511112f3f8ba25aa6058c9d.txt  \n",
            "  inflating: train/labels/IMG20250602232758_jpg.rf.293c53cb5273fab184b8d6ff0bba07e7.txt  \n",
            "  inflating: train/labels/IMG20250602232758_jpg.rf.efa83d6fce9ac6fa8e2cae61d8291343.txt  \n",
            "  inflating: train/labels/IMG20250602232817_jpg.rf.011a8dd2fd040927c600a5cb29976bb4.txt  \n",
            "  inflating: train/labels/IMG20250602232817_jpg.rf.6e38636e20ebb9343079d9bb966911a2.txt  \n",
            "  inflating: train/labels/IMG20250602232817_jpg.rf.c57a1ad7b4b2c1c3ca30e7442a9dd3a7.txt  \n",
            "  inflating: train/labels/IMG20250602232828_jpg.rf.3ec3711023a9a2a1595f0099ae4a8be0.txt  \n",
            "  inflating: train/labels/IMG20250602232828_jpg.rf.7ab3654bf636dfc152ce36bf27251546.txt  \n",
            "  inflating: train/labels/IMG20250602232828_jpg.rf.ca9f5746cb346b1c7fb3c352c07af7dd.txt  \n",
            "  inflating: train/labels/IMG20250602232912_jpg.rf.064842e97368bb474e88ba8fb77d1444.txt  \n",
            "  inflating: train/labels/IMG20250602232912_jpg.rf.6ad6c326d7c8f51660632dabe1bbab7a.txt  \n",
            "  inflating: train/labels/IMG20250602232912_jpg.rf.7bc6cd801e34ca4580f6ac195eb4a430.txt  \n",
            "  inflating: train/labels/IMG20250602232936_jpg.rf.8e1084d7ecc4a58c4c2fe2374435fa4a.txt  \n",
            "  inflating: train/labels/IMG20250602232936_jpg.rf.9064933bcd6d2dc05e70bff50bf7d0f8.txt  \n",
            "  inflating: train/labels/IMG20250602232936_jpg.rf.bd31d1571fac3d59636c1c0fa0249fc0.txt  \n",
            "  inflating: train/labels/IMG20250602232953_jpg.rf.5b9f8dfb6a66bf69858c5e288174a7ed.txt  \n",
            "  inflating: train/labels/IMG20250602232953_jpg.rf.ad2d6f7438eec5b636ca9d256f9fee5f.txt  \n",
            "  inflating: train/labels/IMG20250602232953_jpg.rf.d8bb0d994f3ed77d75fbdbfbdf1198e3.txt  \n",
            "  inflating: train/labels/IMG20250602233023_jpg.rf.1f9ade1a96752db381d8f254e85babed.txt  \n",
            "  inflating: train/labels/IMG20250602233023_jpg.rf.464ff4d922ae9ba3881b3f6038e17262.txt  \n",
            "  inflating: train/labels/IMG20250602233023_jpg.rf.e93a885cab99b453436546eafc3f4f8d.txt  \n",
            "  inflating: train/labels/IMG20250602233044_jpg.rf.29a3636b211570d2c53c9da3560b66f8.txt  \n",
            "  inflating: train/labels/IMG20250602233044_jpg.rf.65838dc45f3c6d45dc55385150ec9cd9.txt  \n",
            "  inflating: train/labels/IMG20250602233044_jpg.rf.98e10acfe7708385a18dbae4b37ec7b7.txt  \n",
            "  inflating: train/labels/IMG20250602233053_jpg.rf.32df64b7fc9b76d6a891e745b1ac0d63.txt  \n",
            "  inflating: train/labels/IMG20250602233053_jpg.rf.90c93b5a102abfde29781c018b50debb.txt  \n",
            "  inflating: train/labels/IMG20250602233053_jpg.rf.c81e53be370166d52d2763b73424150b.txt  \n",
            "  inflating: train/labels/IMG20250602233111_jpg.rf.817f8afd8d75ab3709fce2699a3c0252.txt  \n",
            "  inflating: train/labels/IMG20250602233111_jpg.rf.b1d2979b3956e8c003f2668a7a7f0409.txt  \n",
            "  inflating: train/labels/IMG20250602233111_jpg.rf.db2a3dc8ef3773e740fa034e92c05388.txt  \n",
            "  inflating: train/labels/IMG20250602233151_jpg.rf.25a492c43664db309a0eb57093835f67.txt  \n",
            "  inflating: train/labels/IMG20250602233151_jpg.rf.4eb86c5d01384c9e6db4622fdac687da.txt  \n",
            "  inflating: train/labels/IMG20250602233151_jpg.rf.cae8972ac6e3a45517428453978e2f94.txt  \n",
            "  inflating: train/labels/IMG20250602233220_jpg.rf.53a5d79f81a03620679ec62a956f1a74.txt  \n",
            "  inflating: train/labels/IMG20250602233220_jpg.rf.abd47a32db6eb762d90e9d77fd5ba4cd.txt  \n",
            "  inflating: train/labels/IMG20250602233220_jpg.rf.ef9004ba5d52b0adbd5ae71b8afde34f.txt  \n",
            "  inflating: train/labels/IMG20250602233308_jpg.rf.1cfb96d5de5af598eddd33a09b111587.txt  \n",
            "  inflating: train/labels/IMG20250602233308_jpg.rf.5a257fc309a27bacc719a85d5343277b.txt  \n",
            "  inflating: train/labels/IMG20250602233308_jpg.rf.9e4f69e5e2ef5745a6708fff8fc3781c.txt  \n",
            "  inflating: train/labels/IMG20250602233410_jpg.rf.80d6ee72d2e481e08b8156db9f7d8931.txt  \n",
            "  inflating: train/labels/IMG20250602233410_jpg.rf.baa738d6a28af36d04d9ad9a095ff0ff.txt  \n",
            "  inflating: train/labels/IMG20250602233410_jpg.rf.f406c14edc8bee943fc95eb38e1754ff.txt  \n",
            "  inflating: train/labels/IMG20250602233420_jpg.rf.47eb082a37d4c094f95e0cfc1877ad01.txt  \n",
            "  inflating: train/labels/IMG20250602233420_jpg.rf.69e263634d576a8f4d64e81a0d994384.txt  \n",
            "  inflating: train/labels/IMG20250602233420_jpg.rf.c7f3d1e3a640eac69a4c1d8b85cfb90e.txt  \n",
            "  inflating: train/labels/IMG20250602233432_jpg.rf.23bc2851c73832a71d36dc73e0131e91.txt  \n",
            "  inflating: train/labels/IMG20250602233432_jpg.rf.25fb730929f541e3525758b3cd20c064.txt  \n",
            "  inflating: train/labels/IMG20250602233432_jpg.rf.3f43244f7ef074ad53e5063c1d8e1299.txt  \n",
            "  inflating: train/labels/IMG20250602233441_jpg.rf.9bfaa0fb6863cbe02c89fa0e70d296be.txt  \n",
            "  inflating: train/labels/IMG20250602233441_jpg.rf.f6128253b33be9e295c1fff0bbc420ae.txt  \n",
            "  inflating: train/labels/IMG20250602233441_jpg.rf.f85f949b1e112cf77d74513d3ed5ce74.txt  \n",
            "  inflating: train/labels/IMG20250602233653_jpg.rf.278cf21519efa97e15d98d3dce81c63b.txt  \n",
            "  inflating: train/labels/IMG20250602233653_jpg.rf.9abfca20db73ecbb499daa29db4d05ca.txt  \n",
            "  inflating: train/labels/IMG20250602233653_jpg.rf.d0640ec08a7781e5423b302efd15ff65.txt  \n",
            "  inflating: train/labels/IMG20250602233702_jpg.rf.99139b22c8af19f171b2ee50963650ee.txt  \n",
            "  inflating: train/labels/IMG20250602233702_jpg.rf.e3c2bb71076e49caf907bbfc8c292424.txt  \n",
            "  inflating: train/labels/IMG20250602233702_jpg.rf.ea122c44cc5f2ed3a9c04319ecc0ab74.txt  \n",
            "  inflating: train/labels/IMG20250602233715_jpg.rf.17dddf057601c0b3fe0c6ea009438c16.txt  \n",
            "  inflating: train/labels/IMG20250602233715_jpg.rf.327ffc1afcb0aee468b565b78b80c102.txt  \n",
            "  inflating: train/labels/IMG20250602233715_jpg.rf.86a7c5e3113297c6a6a508ebce99a9ff.txt  \n",
            "  inflating: train/labels/IMG_20250602_211509_jpg.rf.020b1412c4bd7dddfd5dc05893ecbe71.txt  \n",
            "  inflating: train/labels/IMG_20250602_211509_jpg.rf.638d56291c6890d626eeebfcb23992c5.txt  \n",
            "  inflating: train/labels/IMG_20250602_211509_jpg.rf.8eccd5154f6fc2ce9af10af6ecbcfa01.txt  \n",
            "  inflating: train/labels/IMG_20250602_211526_jpg.rf.0f1507e8145ede2c9fcc5801665470d8.txt  \n",
            "  inflating: train/labels/IMG_20250602_211526_jpg.rf.17084af99e72ae145b53e85b6f78ca84.txt  \n",
            "  inflating: train/labels/IMG_20250602_211526_jpg.rf.c32dcfe470c0ec253abd06f8efe0ed73.txt  \n",
            "  inflating: train/labels/IMG_20250602_211602_jpg.rf.6c0482b29ab2e676a9314a4f89440b31.txt  \n",
            "  inflating: train/labels/IMG_20250602_211602_jpg.rf.7bb9493e1d3d2ab22dc553c5f6c99ab6.txt  \n",
            "  inflating: train/labels/IMG_20250602_211602_jpg.rf.a6e27354912c2a34b997b8ea1c9dd6cd.txt  \n",
            "  inflating: train/labels/IMG_20250602_212010_jpg.rf.079cf8c8f03650b8b7a5cf148670a8bc.txt  \n",
            "  inflating: train/labels/IMG_20250602_212010_jpg.rf.37f2be0f334b9e5dc8a9d117e3cada3a.txt  \n",
            "  inflating: train/labels/IMG_20250602_212010_jpg.rf.40545d657ee4375d71d74450c3b2fc13.txt  \n",
            "  inflating: train/labels/IMG_20250602_212549_jpg.rf.747f7ab4257925be926be2ddb68ab305.txt  \n",
            "  inflating: train/labels/IMG_20250602_212549_jpg.rf.a2d824ead42f87ebf745f09fd288c021.txt  \n",
            "  inflating: train/labels/IMG_20250602_212549_jpg.rf.e2acf28c1fbf64147f21d91ed44a979c.txt  \n",
            "  inflating: train/labels/IMG_20250602_223308_jpg.rf.08dfdb4d80408d0a440592faf46e6e5d.txt  \n",
            "  inflating: train/labels/IMG_20250602_223308_jpg.rf.5bcd34987e0eecdaae7b44aacb553c5c.txt  \n",
            "  inflating: train/labels/IMG_20250602_223308_jpg.rf.5c9d8da42f69cc9f7784eba88342c080.txt  \n",
            "  inflating: train/labels/IMG_20250602_223321_jpg.rf.2f24280a38684847215c791b2b6e65ae.txt  \n",
            "  inflating: train/labels/IMG_20250602_223321_jpg.rf.f639edd3f874c5bca3ef21fd613fb120.txt  \n",
            "  inflating: train/labels/IMG_20250602_223321_jpg.rf.f695e57160f58c0fc91e85d55da42844.txt  \n",
            "  inflating: train/labels/IMG_20250602_225417_jpg.rf.73e14371710db3849c2b3d90452332de.txt  \n",
            "  inflating: train/labels/IMG_20250602_225417_jpg.rf.c8d969bc9ca35c0258548cc7ba518fb6.txt  \n",
            "  inflating: train/labels/IMG_20250602_225417_jpg.rf.e1d30e076525be6dcdeb73eef477b4f5.txt  \n"
          ]
        }
      ]
    },
    {
      "cell_type": "code",
      "metadata": {
        "id": "1NcFxRcFdJ_O",
        "outputId": "4f350360-3aea-411f-82e2-d9a4f908236e",
        "colab": {
          "base_uri": "https://localhost:8080/"
        }
      },
      "source": [
        "# Train YOLO11n on COCO8 for 3 epochs\n",
        "!yolo train model=yolo11n.pt data=data.yaml epochs=100 imgsz=640"
      ],
      "execution_count": null,
      "outputs": [
        {
          "output_type": "stream",
          "name": "stdout",
          "text": [
            "Downloading https://github.com/ultralytics/assets/releases/download/v8.3.0/yolo11n.pt to 'yolo11n.pt'...\n",
            "100% 5.35M/5.35M [00:00<00:00, 78.4MB/s]\n",
            "Ultralytics 8.3.148 🚀 Python-3.11.12 torch-2.6.0+cu124 CUDA:0 (Tesla T4, 15095MiB)\n",
            "\u001b[34m\u001b[1mengine/trainer: \u001b[0magnostic_nms=False, amp=True, augment=False, auto_augment=randaugment, batch=16, bgr=0.0, box=7.5, cache=False, cfg=None, classes=None, close_mosaic=10, cls=0.5, conf=None, copy_paste=0.0, copy_paste_mode=flip, cos_lr=False, cutmix=0.0, data=data.yaml, degrees=0.0, deterministic=True, device=None, dfl=1.5, dnn=False, dropout=0.0, dynamic=False, embed=None, epochs=100, erasing=0.4, exist_ok=False, fliplr=0.5, flipud=0.0, format=torchscript, fraction=1.0, freeze=None, half=False, hsv_h=0.015, hsv_s=0.7, hsv_v=0.4, imgsz=640, int8=False, iou=0.7, keras=False, kobj=1.0, line_width=None, lr0=0.01, lrf=0.01, mask_ratio=4, max_det=300, mixup=0.0, mode=train, model=yolo11n.pt, momentum=0.937, mosaic=1.0, multi_scale=False, name=train, nbs=64, nms=False, opset=None, optimize=False, optimizer=auto, overlap_mask=True, patience=100, perspective=0.0, plots=True, pose=12.0, pretrained=True, profile=False, project=None, rect=False, resume=False, retina_masks=False, save=True, save_conf=False, save_crop=False, save_dir=runs/detect/train, save_frames=False, save_json=False, save_period=-1, save_txt=False, scale=0.5, seed=0, shear=0.0, show=False, show_boxes=True, show_conf=True, show_labels=True, simplify=True, single_cls=False, source=None, split=val, stream_buffer=False, task=detect, time=None, tracker=botsort.yaml, translate=0.1, val=True, verbose=True, vid_stride=1, visualize=False, warmup_bias_lr=0.1, warmup_epochs=3.0, warmup_momentum=0.8, weight_decay=0.0005, workers=8, workspace=None\n",
            "Downloading https://ultralytics.com/assets/Arial.ttf to '/root/.config/Ultralytics/Arial.ttf'...\n",
            "100% 755k/755k [00:00<00:00, 16.8MB/s]\n",
            "Overriding model.yaml nc=80 with nc=4\n",
            "\n",
            "                   from  n    params  module                                       arguments                     \n",
            "  0                  -1  1       464  ultralytics.nn.modules.conv.Conv             [3, 16, 3, 2]                 \n",
            "  1                  -1  1      4672  ultralytics.nn.modules.conv.Conv             [16, 32, 3, 2]                \n",
            "  2                  -1  1      6640  ultralytics.nn.modules.block.C3k2            [32, 64, 1, False, 0.25]      \n",
            "  3                  -1  1     36992  ultralytics.nn.modules.conv.Conv             [64, 64, 3, 2]                \n",
            "  4                  -1  1     26080  ultralytics.nn.modules.block.C3k2            [64, 128, 1, False, 0.25]     \n",
            "  5                  -1  1    147712  ultralytics.nn.modules.conv.Conv             [128, 128, 3, 2]              \n",
            "  6                  -1  1     87040  ultralytics.nn.modules.block.C3k2            [128, 128, 1, True]           \n",
            "  7                  -1  1    295424  ultralytics.nn.modules.conv.Conv             [128, 256, 3, 2]              \n",
            "  8                  -1  1    346112  ultralytics.nn.modules.block.C3k2            [256, 256, 1, True]           \n",
            "  9                  -1  1    164608  ultralytics.nn.modules.block.SPPF            [256, 256, 5]                 \n",
            " 10                  -1  1    249728  ultralytics.nn.modules.block.C2PSA           [256, 256, 1]                 \n",
            " 11                  -1  1         0  torch.nn.modules.upsampling.Upsample         [None, 2, 'nearest']          \n",
            " 12             [-1, 6]  1         0  ultralytics.nn.modules.conv.Concat           [1]                           \n",
            " 13                  -1  1    111296  ultralytics.nn.modules.block.C3k2            [384, 128, 1, False]          \n",
            " 14                  -1  1         0  torch.nn.modules.upsampling.Upsample         [None, 2, 'nearest']          \n",
            " 15             [-1, 4]  1         0  ultralytics.nn.modules.conv.Concat           [1]                           \n",
            " 16                  -1  1     32096  ultralytics.nn.modules.block.C3k2            [256, 64, 1, False]           \n",
            " 17                  -1  1     36992  ultralytics.nn.modules.conv.Conv             [64, 64, 3, 2]                \n",
            " 18            [-1, 13]  1         0  ultralytics.nn.modules.conv.Concat           [1]                           \n",
            " 19                  -1  1     86720  ultralytics.nn.modules.block.C3k2            [192, 128, 1, False]          \n",
            " 20                  -1  1    147712  ultralytics.nn.modules.conv.Conv             [128, 128, 3, 2]              \n",
            " 21            [-1, 10]  1         0  ultralytics.nn.modules.conv.Concat           [1]                           \n",
            " 22                  -1  1    378880  ultralytics.nn.modules.block.C3k2            [384, 256, 1, True]           \n",
            " 23        [16, 19, 22]  1    431452  ultralytics.nn.modules.head.Detect           [4, [64, 128, 256]]           \n",
            "YOLO11n summary: 181 layers, 2,590,620 parameters, 2,590,604 gradients, 6.4 GFLOPs\n",
            "\n",
            "Transferred 448/499 items from pretrained weights\n",
            "Freezing layer 'model.23.dfl.conv.weight'\n",
            "\u001b[34m\u001b[1mAMP: \u001b[0mrunning Automatic Mixed Precision (AMP) checks...\n",
            "\u001b[34m\u001b[1mAMP: \u001b[0mchecks passed ✅\n",
            "\u001b[34m\u001b[1mtrain: \u001b[0mFast image access ✅ (ping: 0.5±0.2 ms, read: 35.8±26.6 MB/s, size: 98.2 KB)\n",
            "\u001b[34m\u001b[1mtrain: \u001b[0mScanning /content/drive/MyDrive/T4DL/train/labels... 1260 images, 0 backgrounds, 0 corrupt: 100% 1260/1260 [00:16<00:00, 74.39it/s] \n",
            "\u001b[34m\u001b[1mtrain: \u001b[0mNew cache created: /content/drive/MyDrive/T4DL/train/labels.cache\n",
            "\u001b[34m\u001b[1malbumentations: \u001b[0mBlur(p=0.01, blur_limit=(3, 7)), MedianBlur(p=0.01, blur_limit=(3, 7)), ToGray(p=0.01, method='weighted_average', num_output_channels=3), CLAHE(p=0.01, clip_limit=(1.0, 4.0), tile_grid_size=(8, 8))\n",
            "\u001b[34m\u001b[1mval: \u001b[0mFast image access ✅ (ping: 7.7±14.9 ms, read: 8.6±7.7 MB/s, size: 92.2 KB)\n",
            "\u001b[34m\u001b[1mval: \u001b[0mScanning /content/drive/MyDrive/T4DL/valid/labels... 120 images, 0 backgrounds, 0 corrupt: 100% 120/120 [00:01<00:00, 73.37it/s]\n",
            "\u001b[34m\u001b[1mval: \u001b[0mNew cache created: /content/drive/MyDrive/T4DL/valid/labels.cache\n",
            "Plotting labels to runs/detect/train/labels.jpg... \n",
            "\u001b[34m\u001b[1moptimizer:\u001b[0m 'optimizer=auto' found, ignoring 'lr0=0.01' and 'momentum=0.937' and determining best 'optimizer', 'lr0' and 'momentum' automatically... \n",
            "\u001b[34m\u001b[1moptimizer:\u001b[0m AdamW(lr=0.00125, momentum=0.9) with parameter groups 81 weight(decay=0.0), 88 weight(decay=0.0005), 87 bias(decay=0.0)\n",
            "Image sizes 640 train, 640 val\n",
            "Using 2 dataloader workers\n",
            "Logging results to \u001b[1mruns/detect/train\u001b[0m\n",
            "Starting training for 100 epochs...\n",
            "\n",
            "      Epoch    GPU_mem   box_loss   cls_loss   dfl_loss  Instances       Size\n",
            "      1/100      2.29G      1.006      2.527      1.492         24        640: 100% 79/79 [00:31<00:00,  2.48it/s]\n",
            "                 Class     Images  Instances      Box(P          R      mAP50  mAP50-95): 100% 4/4 [00:03<00:00,  1.19it/s]\n",
            "                   all        120        120      0.755      0.713        0.8      0.568\n",
            "\n",
            "      Epoch    GPU_mem   box_loss   cls_loss   dfl_loss  Instances       Size\n",
            "      2/100      2.68G     0.9125      1.447      1.374         24        640: 100% 79/79 [00:26<00:00,  2.97it/s]\n",
            "                 Class     Images  Instances      Box(P          R      mAP50  mAP50-95): 100% 4/4 [00:02<00:00,  1.45it/s]\n",
            "                   all        120        120      0.657      0.625       0.67      0.462\n",
            "\n",
            "      Epoch    GPU_mem   box_loss   cls_loss   dfl_loss  Instances       Size\n",
            "      3/100       2.7G     0.9335      1.307      1.388         27        640: 100% 79/79 [00:25<00:00,  3.07it/s]\n",
            "                 Class     Images  Instances      Box(P          R      mAP50  mAP50-95): 100% 4/4 [00:02<00:00,  1.51it/s]\n",
            "                   all        120        120      0.417       0.44       0.34      0.158\n",
            "\n",
            "      Epoch    GPU_mem   box_loss   cls_loss   dfl_loss  Instances       Size\n",
            "      4/100      2.71G     0.9514      1.185      1.404         25        640: 100% 79/79 [00:26<00:00,  2.96it/s]\n",
            "                 Class     Images  Instances      Box(P          R      mAP50  mAP50-95): 100% 4/4 [00:02<00:00,  1.96it/s]\n",
            "                   all        120        120      0.636      0.699      0.734      0.499\n",
            "\n",
            "      Epoch    GPU_mem   box_loss   cls_loss   dfl_loss  Instances       Size\n",
            "      5/100      2.73G     0.9341      1.054      1.392         26        640: 100% 79/79 [00:27<00:00,  2.90it/s]\n",
            "                 Class     Images  Instances      Box(P          R      mAP50  mAP50-95): 100% 4/4 [00:01<00:00,  2.44it/s]\n",
            "                   all        120        120      0.747      0.844      0.868      0.641\n",
            "\n",
            "      Epoch    GPU_mem   box_loss   cls_loss   dfl_loss  Instances       Size\n",
            "      6/100      2.74G       0.91     0.9426      1.365         29        640: 100% 79/79 [00:26<00:00,  2.97it/s]\n",
            "                 Class     Images  Instances      Box(P          R      mAP50  mAP50-95): 100% 4/4 [00:01<00:00,  2.58it/s]\n",
            "                   all        120        120      0.755      0.746      0.706      0.552\n",
            "\n",
            "      Epoch    GPU_mem   box_loss   cls_loss   dfl_loss  Instances       Size\n",
            "      7/100      2.76G     0.8833      0.884      1.362         30        640: 100% 79/79 [00:26<00:00,  2.97it/s]\n",
            "                 Class     Images  Instances      Box(P          R      mAP50  mAP50-95): 100% 4/4 [00:01<00:00,  2.27it/s]\n",
            "                   all        120        120      0.762      0.702        0.8       0.61\n",
            "\n",
            "      Epoch    GPU_mem   box_loss   cls_loss   dfl_loss  Instances       Size\n",
            "      8/100      2.77G     0.8464     0.8036      1.312         29        640: 100% 79/79 [00:27<00:00,  2.91it/s]\n",
            "                 Class     Images  Instances      Box(P          R      mAP50  mAP50-95): 100% 4/4 [00:01<00:00,  2.30it/s]\n",
            "                   all        120        120      0.845      0.919      0.982      0.738\n",
            "\n",
            "      Epoch    GPU_mem   box_loss   cls_loss   dfl_loss  Instances       Size\n",
            "      9/100      2.79G     0.8269     0.7681        1.3         29        640: 100% 79/79 [00:26<00:00,  2.96it/s]\n",
            "                 Class     Images  Instances      Box(P          R      mAP50  mAP50-95): 100% 4/4 [00:01<00:00,  2.45it/s]\n",
            "                   all        120        120      0.863      0.892       0.95       0.75\n",
            "\n",
            "      Epoch    GPU_mem   box_loss   cls_loss   dfl_loss  Instances       Size\n",
            "     10/100       2.8G     0.8106     0.7075       1.29         33        640: 100% 79/79 [00:27<00:00,  2.91it/s]\n",
            "                 Class     Images  Instances      Box(P          R      mAP50  mAP50-95): 100% 4/4 [00:02<00:00,  1.50it/s]\n",
            "                   all        120        120       0.94      0.983      0.993      0.814\n",
            "\n",
            "      Epoch    GPU_mem   box_loss   cls_loss   dfl_loss  Instances       Size\n",
            "     11/100      2.81G     0.8462     0.7237      1.306         34        640: 100% 79/79 [00:26<00:00,  2.93it/s]\n",
            "                 Class     Images  Instances      Box(P          R      mAP50  mAP50-95): 100% 4/4 [00:01<00:00,  2.76it/s]\n",
            "                   all        120        120      0.931       0.94      0.975      0.804\n",
            "\n",
            "      Epoch    GPU_mem   box_loss   cls_loss   dfl_loss  Instances       Size\n",
            "     12/100      2.83G     0.8112     0.6627      1.284         30        640: 100% 79/79 [00:26<00:00,  2.99it/s]\n",
            "                 Class     Images  Instances      Box(P          R      mAP50  mAP50-95): 100% 4/4 [00:01<00:00,  2.52it/s]\n",
            "                   all        120        120      0.901      0.916      0.972      0.809\n",
            "\n",
            "      Epoch    GPU_mem   box_loss   cls_loss   dfl_loss  Instances       Size\n",
            "     13/100      2.84G     0.7997     0.6477      1.282         25        640: 100% 79/79 [00:27<00:00,  2.92it/s]\n",
            "                 Class     Images  Instances      Box(P          R      mAP50  mAP50-95): 100% 4/4 [00:01<00:00,  2.50it/s]\n",
            "                   all        120        120      0.922      0.962      0.968      0.781\n",
            "\n",
            "      Epoch    GPU_mem   box_loss   cls_loss   dfl_loss  Instances       Size\n",
            "     14/100      2.86G     0.7691     0.6177      1.258         26        640: 100% 79/79 [00:25<00:00,  3.04it/s]\n",
            "                 Class     Images  Instances      Box(P          R      mAP50  mAP50-95): 100% 4/4 [00:01<00:00,  2.50it/s]\n",
            "                   all        120        120       0.97      0.971       0.99      0.832\n",
            "\n",
            "      Epoch    GPU_mem   box_loss   cls_loss   dfl_loss  Instances       Size\n",
            "     15/100      2.88G     0.7638     0.5985      1.255         21        640: 100% 79/79 [00:26<00:00,  2.96it/s]\n",
            "                 Class     Images  Instances      Box(P          R      mAP50  mAP50-95): 100% 4/4 [00:01<00:00,  2.51it/s]\n",
            "                   all        120        120      0.979      0.973      0.993      0.849\n",
            "\n",
            "      Epoch    GPU_mem   box_loss   cls_loss   dfl_loss  Instances       Size\n",
            "     16/100      2.89G     0.8123     0.6221      1.269         32        640: 100% 79/79 [00:26<00:00,  2.96it/s]\n",
            "                 Class     Images  Instances      Box(P          R      mAP50  mAP50-95): 100% 4/4 [00:01<00:00,  2.39it/s]\n",
            "                   all        120        120       0.87      0.908       0.96      0.802\n",
            "\n",
            "      Epoch    GPU_mem   box_loss   cls_loss   dfl_loss  Instances       Size\n",
            "     17/100       2.9G     0.7716     0.5674      1.261         31        640: 100% 79/79 [00:26<00:00,  2.99it/s]\n",
            "                 Class     Images  Instances      Box(P          R      mAP50  mAP50-95): 100% 4/4 [00:01<00:00,  2.71it/s]\n",
            "                   all        120        120      0.824      0.934      0.915        0.8\n",
            "\n",
            "      Epoch    GPU_mem   box_loss   cls_loss   dfl_loss  Instances       Size\n",
            "     18/100      2.92G     0.7771     0.5653       1.26         27        640: 100% 79/79 [00:26<00:00,  3.01it/s]\n",
            "                 Class     Images  Instances      Box(P          R      mAP50  mAP50-95): 100% 4/4 [00:01<00:00,  2.45it/s]\n",
            "                   all        120        120      0.969      0.981      0.992      0.853\n",
            "\n",
            "      Epoch    GPU_mem   box_loss   cls_loss   dfl_loss  Instances       Size\n",
            "     19/100      2.93G     0.7292      0.536      1.237         28        640: 100% 79/79 [00:27<00:00,  2.93it/s]\n",
            "                 Class     Images  Instances      Box(P          R      mAP50  mAP50-95): 100% 4/4 [00:01<00:00,  2.99it/s]\n",
            "                   all        120        120      0.974      0.988      0.995      0.867\n",
            "\n",
            "      Epoch    GPU_mem   box_loss   cls_loss   dfl_loss  Instances       Size\n",
            "     20/100      2.95G     0.7555     0.5567       1.24         28        640: 100% 79/79 [00:28<00:00,  2.78it/s]\n",
            "                 Class     Images  Instances      Box(P          R      mAP50  mAP50-95): 100% 4/4 [00:01<00:00,  2.87it/s]\n",
            "                   all        120        120      0.957      0.964      0.988      0.854\n",
            "\n",
            "      Epoch    GPU_mem   box_loss   cls_loss   dfl_loss  Instances       Size\n",
            "     21/100      2.96G     0.7259     0.5226      1.229         25        640: 100% 79/79 [00:25<00:00,  3.04it/s]\n",
            "                 Class     Images  Instances      Box(P          R      mAP50  mAP50-95): 100% 4/4 [00:01<00:00,  2.56it/s]\n",
            "                   all        120        120      0.998      0.999      0.995      0.852\n",
            "\n",
            "      Epoch    GPU_mem   box_loss   cls_loss   dfl_loss  Instances       Size\n",
            "     22/100      2.98G     0.7453     0.5217      1.235         28        640: 100% 79/79 [00:26<00:00,  2.98it/s]\n",
            "                 Class     Images  Instances      Box(P          R      mAP50  mAP50-95): 100% 4/4 [00:01<00:00,  2.70it/s]\n",
            "                   all        120        120      0.981      0.993      0.995      0.864\n",
            "\n",
            "      Epoch    GPU_mem   box_loss   cls_loss   dfl_loss  Instances       Size\n",
            "     23/100      2.99G     0.7283     0.5199      1.229         33        640: 100% 79/79 [00:26<00:00,  2.97it/s]\n",
            "                 Class     Images  Instances      Box(P          R      mAP50  mAP50-95): 100% 4/4 [00:01<00:00,  2.71it/s]\n",
            "                   all        120        120      0.992      0.991      0.995      0.868\n",
            "\n",
            "      Epoch    GPU_mem   box_loss   cls_loss   dfl_loss  Instances       Size\n",
            "     24/100      3.01G     0.7305     0.4989       1.23         24        640: 100% 79/79 [00:26<00:00,  2.96it/s]\n",
            "                 Class     Images  Instances      Box(P          R      mAP50  mAP50-95): 100% 4/4 [00:01<00:00,  2.52it/s]\n",
            "                   all        120        120      0.981          1      0.995       0.86\n",
            "\n",
            "      Epoch    GPU_mem   box_loss   cls_loss   dfl_loss  Instances       Size\n",
            "     25/100      3.02G       0.73     0.5078      1.225         39        640: 100% 79/79 [00:26<00:00,  2.97it/s]\n",
            "                 Class     Images  Instances      Box(P          R      mAP50  mAP50-95): 100% 4/4 [00:01<00:00,  2.78it/s]\n",
            "                   all        120        120      0.995      0.994      0.995      0.863\n",
            "\n",
            "      Epoch    GPU_mem   box_loss   cls_loss   dfl_loss  Instances       Size\n",
            "     26/100      3.04G     0.7241     0.5095      1.222         31        640: 100% 79/79 [00:26<00:00,  3.00it/s]\n",
            "                 Class     Images  Instances      Box(P          R      mAP50  mAP50-95): 100% 4/4 [00:01<00:00,  2.85it/s]\n",
            "                   all        120        120      0.979      0.999      0.995      0.871\n",
            "\n",
            "      Epoch    GPU_mem   box_loss   cls_loss   dfl_loss  Instances       Size\n",
            "     27/100      3.05G     0.7114     0.4899      1.209         37        640: 100% 79/79 [00:26<00:00,  2.94it/s]\n",
            "                 Class     Images  Instances      Box(P          R      mAP50  mAP50-95): 100% 4/4 [00:01<00:00,  2.72it/s]\n",
            "                   all        120        120      0.996          1      0.995      0.873\n",
            "\n",
            "      Epoch    GPU_mem   box_loss   cls_loss   dfl_loss  Instances       Size\n",
            "     28/100      3.07G     0.7069     0.4864       1.21         35        640: 100% 79/79 [00:26<00:00,  2.95it/s]\n",
            "                 Class     Images  Instances      Box(P          R      mAP50  mAP50-95): 100% 4/4 [00:01<00:00,  2.63it/s]\n",
            "                   all        120        120      0.988      0.993      0.992       0.88\n",
            "\n",
            "      Epoch    GPU_mem   box_loss   cls_loss   dfl_loss  Instances       Size\n",
            "     29/100      3.08G     0.7316     0.4769      1.222         32        640: 100% 79/79 [00:28<00:00,  2.80it/s]\n",
            "                 Class     Images  Instances      Box(P          R      mAP50  mAP50-95): 100% 4/4 [00:01<00:00,  2.26it/s]\n",
            "                   all        120        120      0.995      0.999      0.995       0.86\n",
            "\n",
            "      Epoch    GPU_mem   box_loss   cls_loss   dfl_loss  Instances       Size\n",
            "     30/100       3.1G     0.7046     0.4867      1.209         25        640: 100% 79/79 [00:25<00:00,  3.08it/s]\n",
            "                 Class     Images  Instances      Box(P          R      mAP50  mAP50-95): 100% 4/4 [00:01<00:00,  2.44it/s]\n",
            "                   all        120        120       0.98      0.992      0.995      0.886\n",
            "\n",
            "      Epoch    GPU_mem   box_loss   cls_loss   dfl_loss  Instances       Size\n",
            "     31/100      3.11G     0.7045     0.4887      1.206         31        640: 100% 79/79 [00:25<00:00,  3.05it/s]\n",
            "                 Class     Images  Instances      Box(P          R      mAP50  mAP50-95): 100% 4/4 [00:01<00:00,  2.48it/s]\n",
            "                   all        120        120      0.982      0.993      0.995      0.873\n",
            "\n",
            "      Epoch    GPU_mem   box_loss   cls_loss   dfl_loss  Instances       Size\n",
            "     32/100      3.13G     0.7013     0.4758      1.199         28        640: 100% 79/79 [00:25<00:00,  3.11it/s]\n",
            "                 Class     Images  Instances      Box(P          R      mAP50  mAP50-95): 100% 4/4 [00:01<00:00,  2.51it/s]\n",
            "                   all        120        120      0.963      0.993      0.995      0.851\n",
            "\n",
            "      Epoch    GPU_mem   box_loss   cls_loss   dfl_loss  Instances       Size\n",
            "     33/100      3.14G     0.7108     0.4805       1.21         32        640: 100% 79/79 [00:25<00:00,  3.05it/s]\n",
            "                 Class     Images  Instances      Box(P          R      mAP50  mAP50-95): 100% 4/4 [00:01<00:00,  3.02it/s]\n",
            "                   all        120        120      0.996          1      0.995      0.883\n",
            "\n",
            "      Epoch    GPU_mem   box_loss   cls_loss   dfl_loss  Instances       Size\n",
            "     34/100      3.16G     0.6896     0.4644      1.203         32        640: 100% 79/79 [00:26<00:00,  3.03it/s]\n",
            "                 Class     Images  Instances      Box(P          R      mAP50  mAP50-95): 100% 4/4 [00:01<00:00,  2.92it/s]\n",
            "                   all        120        120      0.973      0.968       0.99      0.863\n",
            "\n",
            "      Epoch    GPU_mem   box_loss   cls_loss   dfl_loss  Instances       Size\n",
            "     35/100      3.17G     0.6845     0.4465      1.194         27        640: 100% 79/79 [00:25<00:00,  3.08it/s]\n",
            "                 Class     Images  Instances      Box(P          R      mAP50  mAP50-95): 100% 4/4 [00:01<00:00,  2.27it/s]\n",
            "                   all        120        120      0.995          1      0.995      0.871\n",
            "\n",
            "      Epoch    GPU_mem   box_loss   cls_loss   dfl_loss  Instances       Size\n",
            "     36/100      3.19G     0.6723      0.447      1.198         27        640: 100% 79/79 [00:26<00:00,  3.03it/s]\n",
            "                 Class     Images  Instances      Box(P          R      mAP50  mAP50-95): 100% 4/4 [00:01<00:00,  2.55it/s]\n",
            "                   all        120        120      0.992      0.999      0.995      0.882\n",
            "\n",
            "      Epoch    GPU_mem   box_loss   cls_loss   dfl_loss  Instances       Size\n",
            "     37/100       3.2G      0.677     0.4603      1.188         25        640: 100% 79/79 [00:26<00:00,  2.99it/s]\n",
            "                 Class     Images  Instances      Box(P          R      mAP50  mAP50-95): 100% 4/4 [00:01<00:00,  2.89it/s]\n",
            "                   all        120        120      0.987      0.993      0.995      0.881\n",
            "\n",
            "      Epoch    GPU_mem   box_loss   cls_loss   dfl_loss  Instances       Size\n",
            "     38/100      3.21G     0.6811     0.4309      1.193         34        640: 100% 79/79 [00:26<00:00,  2.99it/s]\n",
            "                 Class     Images  Instances      Box(P          R      mAP50  mAP50-95): 100% 4/4 [00:01<00:00,  2.53it/s]\n",
            "                   all        120        120      0.997      0.994      0.995       0.88\n",
            "\n",
            "      Epoch    GPU_mem   box_loss   cls_loss   dfl_loss  Instances       Size\n",
            "     39/100      3.23G     0.6758     0.4327      1.185         36        640: 100% 79/79 [00:28<00:00,  2.82it/s]\n",
            "                 Class     Images  Instances      Box(P          R      mAP50  mAP50-95): 100% 4/4 [00:01<00:00,  2.67it/s]\n",
            "                   all        120        120      0.997          1      0.995      0.859\n",
            "\n",
            "      Epoch    GPU_mem   box_loss   cls_loss   dfl_loss  Instances       Size\n",
            "     40/100      3.24G     0.6663     0.4244       1.17         37        640: 100% 79/79 [00:26<00:00,  2.99it/s]\n",
            "                 Class     Images  Instances      Box(P          R      mAP50  mAP50-95): 100% 4/4 [00:01<00:00,  3.05it/s]\n",
            "                   all        120        120      0.996      0.992      0.995      0.859\n",
            "\n",
            "      Epoch    GPU_mem   box_loss   cls_loss   dfl_loss  Instances       Size\n",
            "     41/100      3.26G     0.6813     0.4464      1.186         32        640: 100% 79/79 [00:26<00:00,  2.95it/s]\n",
            "                 Class     Images  Instances      Box(P          R      mAP50  mAP50-95): 100% 4/4 [00:01<00:00,  2.70it/s]\n",
            "                   all        120        120      0.989      0.993      0.992      0.876\n",
            "\n",
            "      Epoch    GPU_mem   box_loss   cls_loss   dfl_loss  Instances       Size\n",
            "     42/100      3.27G     0.6719     0.4145      1.183         36        640: 100% 79/79 [00:26<00:00,  2.99it/s]\n",
            "                 Class     Images  Instances      Box(P          R      mAP50  mAP50-95): 100% 4/4 [00:01<00:00,  2.37it/s]\n",
            "                   all        120        120      0.963      0.977      0.987      0.871\n",
            "\n",
            "      Epoch    GPU_mem   box_loss   cls_loss   dfl_loss  Instances       Size\n",
            "     43/100      3.29G     0.6662     0.4156      1.186         25        640: 100% 79/79 [00:25<00:00,  3.05it/s]\n",
            "                 Class     Images  Instances      Box(P          R      mAP50  mAP50-95): 100% 4/4 [00:01<00:00,  2.56it/s]\n",
            "                   all        120        120      0.996          1      0.995      0.873\n",
            "\n",
            "      Epoch    GPU_mem   box_loss   cls_loss   dfl_loss  Instances       Size\n",
            "     44/100       3.3G     0.6475     0.4144      1.174         31        640: 100% 79/79 [00:25<00:00,  3.09it/s]\n",
            "                 Class     Images  Instances      Box(P          R      mAP50  mAP50-95): 100% 4/4 [00:01<00:00,  2.58it/s]\n",
            "                   all        120        120      0.987      0.993      0.995      0.875\n",
            "\n",
            "      Epoch    GPU_mem   box_loss   cls_loss   dfl_loss  Instances       Size\n",
            "     45/100      3.32G      0.653     0.4065      1.169         26        640: 100% 79/79 [00:25<00:00,  3.11it/s]\n",
            "                 Class     Images  Instances      Box(P          R      mAP50  mAP50-95): 100% 4/4 [00:01<00:00,  2.52it/s]\n",
            "                   all        120        120      0.988      0.999      0.995       0.87\n",
            "\n",
            "      Epoch    GPU_mem   box_loss   cls_loss   dfl_loss  Instances       Size\n",
            "     46/100      3.33G     0.6449     0.4014       1.17         28        640: 100% 79/79 [00:25<00:00,  3.13it/s]\n",
            "                 Class     Images  Instances      Box(P          R      mAP50  mAP50-95): 100% 4/4 [00:01<00:00,  2.33it/s]\n",
            "                   all        120        120      0.995      0.994      0.995      0.881\n",
            "\n",
            "      Epoch    GPU_mem   box_loss   cls_loss   dfl_loss  Instances       Size\n",
            "     47/100      3.35G     0.6396     0.4123      1.157         30        640: 100% 79/79 [00:25<00:00,  3.12it/s]\n",
            "                 Class     Images  Instances      Box(P          R      mAP50  mAP50-95): 100% 4/4 [00:01<00:00,  2.53it/s]\n",
            "                   all        120        120      0.986      0.994      0.995      0.888\n",
            "\n",
            "      Epoch    GPU_mem   box_loss   cls_loss   dfl_loss  Instances       Size\n",
            "     48/100      3.36G     0.6333     0.4026      1.158         30        640: 100% 79/79 [00:27<00:00,  2.88it/s]\n",
            "                 Class     Images  Instances      Box(P          R      mAP50  mAP50-95): 100% 4/4 [00:01<00:00,  2.34it/s]\n",
            "                   all        120        120      0.996      0.993      0.995      0.876\n",
            "\n",
            "      Epoch    GPU_mem   box_loss   cls_loss   dfl_loss  Instances       Size\n",
            "     49/100      3.38G     0.6657     0.4068      1.178         26        640: 100% 79/79 [00:25<00:00,  3.09it/s]\n",
            "                 Class     Images  Instances      Box(P          R      mAP50  mAP50-95): 100% 4/4 [00:01<00:00,  2.57it/s]\n",
            "                   all        120        120      0.996          1      0.995      0.874\n",
            "\n",
            "      Epoch    GPU_mem   box_loss   cls_loss   dfl_loss  Instances       Size\n",
            "     50/100      3.39G     0.6535     0.4047      1.174         22        640: 100% 79/79 [00:26<00:00,  2.98it/s]\n",
            "                 Class     Images  Instances      Box(P          R      mAP50  mAP50-95): 100% 4/4 [00:01<00:00,  2.68it/s]\n",
            "                   all        120        120      0.997          1      0.995      0.874\n",
            "\n",
            "      Epoch    GPU_mem   box_loss   cls_loss   dfl_loss  Instances       Size\n",
            "     51/100      3.41G     0.6335     0.3953      1.161         24        640: 100% 79/79 [00:25<00:00,  3.05it/s]\n",
            "                 Class     Images  Instances      Box(P          R      mAP50  mAP50-95): 100% 4/4 [00:01<00:00,  2.53it/s]\n",
            "                   all        120        120      0.996          1      0.995      0.892\n",
            "\n",
            "      Epoch    GPU_mem   box_loss   cls_loss   dfl_loss  Instances       Size\n",
            "     52/100      3.42G     0.6242     0.3902      1.153         36        640: 100% 79/79 [00:26<00:00,  3.00it/s]\n",
            "                 Class     Images  Instances      Box(P          R      mAP50  mAP50-95): 100% 4/4 [00:01<00:00,  2.48it/s]\n",
            "                   all        120        120      0.997          1      0.995      0.889\n",
            "\n",
            "      Epoch    GPU_mem   box_loss   cls_loss   dfl_loss  Instances       Size\n",
            "     53/100      3.44G     0.6372     0.3985      1.161         37        640: 100% 79/79 [00:26<00:00,  3.03it/s]\n",
            "                 Class     Images  Instances      Box(P          R      mAP50  mAP50-95): 100% 4/4 [00:01<00:00,  2.72it/s]\n",
            "                   all        120        120      0.998          1      0.995      0.889\n",
            "\n",
            "      Epoch    GPU_mem   box_loss   cls_loss   dfl_loss  Instances       Size\n",
            "     54/100      3.45G     0.6092     0.3771      1.138         36        640: 100% 79/79 [00:25<00:00,  3.10it/s]\n",
            "                 Class     Images  Instances      Box(P          R      mAP50  mAP50-95): 100% 4/4 [00:01<00:00,  2.29it/s]\n",
            "                   all        120        120      0.996      0.994      0.995      0.905\n",
            "\n",
            "      Epoch    GPU_mem   box_loss   cls_loss   dfl_loss  Instances       Size\n",
            "     55/100      3.47G     0.6054      0.373      1.149         29        640: 100% 79/79 [00:26<00:00,  2.98it/s]\n",
            "                 Class     Images  Instances      Box(P          R      mAP50  mAP50-95): 100% 4/4 [00:01<00:00,  3.21it/s]\n",
            "                   all        120        120      0.982          1      0.995      0.887\n",
            "\n",
            "      Epoch    GPU_mem   box_loss   cls_loss   dfl_loss  Instances       Size\n",
            "     56/100      3.48G     0.6279     0.3789      1.156         38        640: 100% 79/79 [00:25<00:00,  3.06it/s]\n",
            "                 Class     Images  Instances      Box(P          R      mAP50  mAP50-95): 100% 4/4 [00:01<00:00,  2.85it/s]\n",
            "                   all        120        120      0.994          1      0.995      0.894\n",
            "\n",
            "      Epoch    GPU_mem   box_loss   cls_loss   dfl_loss  Instances       Size\n",
            "     57/100       3.5G       0.61     0.3726      1.143         25        640: 100% 79/79 [00:25<00:00,  3.06it/s]\n",
            "                 Class     Images  Instances      Box(P          R      mAP50  mAP50-95): 100% 4/4 [00:01<00:00,  2.62it/s]\n",
            "                   all        120        120      0.993      0.994      0.995      0.893\n",
            "\n",
            "      Epoch    GPU_mem   box_loss   cls_loss   dfl_loss  Instances       Size\n",
            "     58/100      3.51G     0.6123     0.3682      1.143         30        640: 100% 79/79 [00:27<00:00,  2.86it/s]\n",
            "                 Class     Images  Instances      Box(P          R      mAP50  mAP50-95): 100% 4/4 [00:01<00:00,  2.55it/s]\n",
            "                   all        120        120      0.995          1      0.995      0.889\n",
            "\n",
            "      Epoch    GPU_mem   box_loss   cls_loss   dfl_loss  Instances       Size\n",
            "     59/100      3.53G     0.6251     0.3791       1.15         27        640: 100% 79/79 [00:26<00:00,  3.01it/s]\n",
            "                 Class     Images  Instances      Box(P          R      mAP50  mAP50-95): 100% 4/4 [00:01<00:00,  2.47it/s]\n",
            "                   all        120        120      0.997      0.987      0.995      0.892\n",
            "\n",
            "      Epoch    GPU_mem   box_loss   cls_loss   dfl_loss  Instances       Size\n",
            "     60/100      3.54G     0.6036     0.3797      1.133         35        640: 100% 79/79 [00:26<00:00,  3.03it/s]\n",
            "                 Class     Images  Instances      Box(P          R      mAP50  mAP50-95): 100% 4/4 [00:01<00:00,  2.16it/s]\n",
            "                   all        120        120      0.998          1      0.995      0.905\n",
            "\n",
            "      Epoch    GPU_mem   box_loss   cls_loss   dfl_loss  Instances       Size\n",
            "     61/100      3.55G     0.6026     0.3693      1.139         30        640: 100% 79/79 [00:25<00:00,  3.04it/s]\n",
            "                 Class     Images  Instances      Box(P          R      mAP50  mAP50-95): 100% 4/4 [00:02<00:00,  1.95it/s]\n",
            "                   all        120        120      0.998          1      0.995      0.901\n",
            "\n",
            "      Epoch    GPU_mem   box_loss   cls_loss   dfl_loss  Instances       Size\n",
            "     62/100      3.57G     0.5962     0.3637      1.129         20        640: 100% 79/79 [00:26<00:00,  3.02it/s]\n",
            "                 Class     Images  Instances      Box(P          R      mAP50  mAP50-95): 100% 4/4 [00:02<00:00,  1.34it/s]\n",
            "                   all        120        120      0.996      0.999      0.995      0.891\n",
            "\n",
            "      Epoch    GPU_mem   box_loss   cls_loss   dfl_loss  Instances       Size\n",
            "     63/100      3.59G     0.5908     0.3578      1.134         30        640: 100% 79/79 [00:25<00:00,  3.12it/s]\n",
            "                 Class     Images  Instances      Box(P          R      mAP50  mAP50-95): 100% 4/4 [00:02<00:00,  1.66it/s]\n",
            "                   all        120        120      0.998          1      0.995        0.9\n",
            "\n",
            "      Epoch    GPU_mem   box_loss   cls_loss   dfl_loss  Instances       Size\n",
            "     64/100       3.6G     0.6087     0.3665      1.136         26        640: 100% 79/79 [00:25<00:00,  3.11it/s]\n",
            "                 Class     Images  Instances      Box(P          R      mAP50  mAP50-95): 100% 4/4 [00:02<00:00,  1.45it/s]\n",
            "                   all        120        120      0.998          1      0.995      0.897\n",
            "\n",
            "      Epoch    GPU_mem   box_loss   cls_loss   dfl_loss  Instances       Size\n",
            "     65/100      3.62G     0.6026     0.3601      1.133         27        640: 100% 79/79 [00:26<00:00,  3.02it/s]\n",
            "                 Class     Images  Instances      Box(P          R      mAP50  mAP50-95): 100% 4/4 [00:02<00:00,  1.59it/s]\n",
            "                   all        120        120      0.998          1      0.995      0.898\n",
            "\n",
            "      Epoch    GPU_mem   box_loss   cls_loss   dfl_loss  Instances       Size\n",
            "     66/100      3.63G     0.5903     0.3558      1.133         41        640: 100% 79/79 [00:26<00:00,  2.97it/s]\n",
            "                 Class     Images  Instances      Box(P          R      mAP50  mAP50-95): 100% 4/4 [00:01<00:00,  2.01it/s]\n",
            "                   all        120        120      0.997          1      0.995      0.897\n",
            "\n",
            "      Epoch    GPU_mem   box_loss   cls_loss   dfl_loss  Instances       Size\n",
            "     67/100      3.64G     0.5819     0.3492      1.126         24        640: 100% 79/79 [00:28<00:00,  2.79it/s]\n",
            "                 Class     Images  Instances      Box(P          R      mAP50  mAP50-95): 100% 4/4 [00:01<00:00,  2.19it/s]\n",
            "                   all        120        120      0.997      0.995      0.995      0.898\n",
            "\n",
            "      Epoch    GPU_mem   box_loss   cls_loss   dfl_loss  Instances       Size\n",
            "     68/100      3.66G     0.5957     0.3509      1.142         26        640: 100% 79/79 [00:26<00:00,  2.94it/s]\n",
            "                 Class     Images  Instances      Box(P          R      mAP50  mAP50-95): 100% 4/4 [00:01<00:00,  2.65it/s]\n",
            "                   all        120        120      0.996      0.999      0.995      0.906\n",
            "\n",
            "      Epoch    GPU_mem   box_loss   cls_loss   dfl_loss  Instances       Size\n",
            "     69/100      3.67G     0.5636     0.3468      1.108         25        640: 100% 79/79 [00:27<00:00,  2.89it/s]\n",
            "                 Class     Images  Instances      Box(P          R      mAP50  mAP50-95): 100% 4/4 [00:01<00:00,  2.40it/s]\n",
            "                   all        120        120      0.995      0.998      0.995      0.902\n",
            "\n",
            "      Epoch    GPU_mem   box_loss   cls_loss   dfl_loss  Instances       Size\n",
            "     70/100      3.69G     0.5877     0.3469      1.134         32        640: 100% 79/79 [00:26<00:00,  2.99it/s]\n",
            "                 Class     Images  Instances      Box(P          R      mAP50  mAP50-95): 100% 4/4 [00:01<00:00,  2.59it/s]\n",
            "                   all        120        120      0.997      0.995      0.995      0.902\n",
            "\n",
            "      Epoch    GPU_mem   box_loss   cls_loss   dfl_loss  Instances       Size\n",
            "     71/100       3.7G     0.5787     0.3467      1.123         31        640: 100% 79/79 [00:26<00:00,  2.95it/s]\n",
            "                 Class     Images  Instances      Box(P          R      mAP50  mAP50-95): 100% 4/4 [00:01<00:00,  2.74it/s]\n",
            "                   all        120        120      0.996      0.995      0.995      0.902\n",
            "\n",
            "      Epoch    GPU_mem   box_loss   cls_loss   dfl_loss  Instances       Size\n",
            "     72/100      3.72G     0.5845     0.3477      1.125         30        640: 100% 79/79 [00:26<00:00,  2.97it/s]\n",
            "                 Class     Images  Instances      Box(P          R      mAP50  mAP50-95): 100% 4/4 [00:01<00:00,  2.68it/s]\n",
            "                   all        120        120      0.993      0.994      0.995      0.897\n",
            "\n",
            "      Epoch    GPU_mem   box_loss   cls_loss   dfl_loss  Instances       Size\n",
            "     73/100      3.73G     0.5717     0.3361      1.122         32        640: 100% 79/79 [00:26<00:00,  3.00it/s]\n",
            "                 Class     Images  Instances      Box(P          R      mAP50  mAP50-95): 100% 4/4 [00:01<00:00,  2.47it/s]\n",
            "                   all        120        120      0.989      0.994      0.995      0.902\n",
            "\n",
            "      Epoch    GPU_mem   box_loss   cls_loss   dfl_loss  Instances       Size\n",
            "     74/100      3.75G     0.5583     0.3285      1.108         28        640: 100% 79/79 [00:26<00:00,  2.96it/s]\n",
            "                 Class     Images  Instances      Box(P          R      mAP50  mAP50-95): 100% 4/4 [00:01<00:00,  2.69it/s]\n",
            "                   all        120        120      0.996      0.999      0.995      0.898\n",
            "\n",
            "      Epoch    GPU_mem   box_loss   cls_loss   dfl_loss  Instances       Size\n",
            "     75/100      3.76G     0.5706     0.3334      1.127         28        640: 100% 79/79 [00:26<00:00,  2.96it/s]\n",
            "                 Class     Images  Instances      Box(P          R      mAP50  mAP50-95): 100% 4/4 [00:01<00:00,  2.60it/s]\n",
            "                   all        120        120      0.998          1      0.995      0.893\n",
            "\n",
            "      Epoch    GPU_mem   box_loss   cls_loss   dfl_loss  Instances       Size\n",
            "     76/100      3.78G     0.5661     0.3254      1.122         22        640: 100% 79/79 [00:26<00:00,  2.94it/s]\n",
            "                 Class     Images  Instances      Box(P          R      mAP50  mAP50-95): 100% 4/4 [00:01<00:00,  2.48it/s]\n",
            "                   all        120        120      0.993      0.995      0.995      0.905\n",
            "\n",
            "      Epoch    GPU_mem   box_loss   cls_loss   dfl_loss  Instances       Size\n",
            "     77/100      3.79G     0.5624     0.3249      1.115         29        640: 100% 79/79 [00:28<00:00,  2.79it/s]\n",
            "                 Class     Images  Instances      Box(P          R      mAP50  mAP50-95): 100% 4/4 [00:01<00:00,  2.33it/s]\n",
            "                   all        120        120      0.996      0.995      0.995      0.906\n",
            "\n",
            "      Epoch    GPU_mem   box_loss   cls_loss   dfl_loss  Instances       Size\n",
            "     78/100      3.81G     0.5527     0.3229      1.112         32        640: 100% 79/79 [00:26<00:00,  2.93it/s]\n",
            "                 Class     Images  Instances      Box(P          R      mAP50  mAP50-95): 100% 4/4 [00:01<00:00,  2.53it/s]\n",
            "                   all        120        120      0.997          1      0.995      0.907\n",
            "\n",
            "      Epoch    GPU_mem   box_loss   cls_loss   dfl_loss  Instances       Size\n",
            "     79/100      3.82G     0.5513     0.3122      1.109         23        640: 100% 79/79 [00:27<00:00,  2.90it/s]\n",
            "                 Class     Images  Instances      Box(P          R      mAP50  mAP50-95): 100% 4/4 [00:01<00:00,  2.63it/s]\n",
            "                   all        120        120      0.995      0.999      0.995        0.9\n",
            "\n",
            "      Epoch    GPU_mem   box_loss   cls_loss   dfl_loss  Instances       Size\n",
            "     80/100      3.84G     0.5555     0.3087       1.11         31        640: 100% 79/79 [00:26<00:00,  2.95it/s]\n",
            "                 Class     Images  Instances      Box(P          R      mAP50  mAP50-95): 100% 4/4 [00:01<00:00,  2.65it/s]\n",
            "                   all        120        120      0.997          1      0.995       0.91\n",
            "\n",
            "      Epoch    GPU_mem   box_loss   cls_loss   dfl_loss  Instances       Size\n",
            "     81/100      3.85G     0.5296     0.3136      1.091         30        640: 100% 79/79 [00:27<00:00,  2.89it/s]\n",
            "                 Class     Images  Instances      Box(P          R      mAP50  mAP50-95): 100% 4/4 [00:01<00:00,  2.78it/s]\n",
            "                   all        120        120      0.998      0.995      0.995      0.903\n",
            "\n",
            "      Epoch    GPU_mem   box_loss   cls_loss   dfl_loss  Instances       Size\n",
            "     82/100      3.87G     0.5438     0.3144      1.096         28        640: 100% 79/79 [00:26<00:00,  2.93it/s]\n",
            "                 Class     Images  Instances      Box(P          R      mAP50  mAP50-95): 100% 4/4 [00:01<00:00,  2.39it/s]\n",
            "                   all        120        120      0.997      0.995      0.995      0.904\n",
            "\n",
            "      Epoch    GPU_mem   box_loss   cls_loss   dfl_loss  Instances       Size\n",
            "     83/100      3.88G     0.5309     0.3134      1.094         25        640: 100% 79/79 [00:27<00:00,  2.91it/s]\n",
            "                 Class     Images  Instances      Box(P          R      mAP50  mAP50-95): 100% 4/4 [00:01<00:00,  2.58it/s]\n",
            "                   all        120        120      0.997      0.995      0.995      0.901\n",
            "\n",
            "      Epoch    GPU_mem   box_loss   cls_loss   dfl_loss  Instances       Size\n",
            "     84/100       3.9G     0.5236     0.3043      1.089         23        640: 100% 79/79 [00:27<00:00,  2.93it/s]\n",
            "                 Class     Images  Instances      Box(P          R      mAP50  mAP50-95): 100% 4/4 [00:01<00:00,  2.74it/s]\n",
            "                   all        120        120      0.996      0.994      0.995      0.906\n",
            "\n",
            "      Epoch    GPU_mem   box_loss   cls_loss   dfl_loss  Instances       Size\n",
            "     85/100      3.91G     0.5256      0.303      1.095         28        640: 100% 79/79 [00:26<00:00,  2.97it/s]\n",
            "                 Class     Images  Instances      Box(P          R      mAP50  mAP50-95): 100% 4/4 [00:01<00:00,  2.38it/s]\n",
            "                   all        120        120      0.997      0.995      0.995      0.905\n",
            "\n",
            "      Epoch    GPU_mem   box_loss   cls_loss   dfl_loss  Instances       Size\n",
            "     86/100      3.93G     0.5295     0.3113      1.093         31        640: 100% 79/79 [00:28<00:00,  2.77it/s]\n",
            "                 Class     Images  Instances      Box(P          R      mAP50  mAP50-95): 100% 4/4 [00:01<00:00,  2.47it/s]\n",
            "                   all        120        120      0.992      0.998      0.995      0.902\n",
            "\n",
            "      Epoch    GPU_mem   box_loss   cls_loss   dfl_loss  Instances       Size\n",
            "     87/100      3.94G     0.5364     0.3022      1.096         32        640: 100% 79/79 [00:26<00:00,  3.01it/s]\n",
            "                 Class     Images  Instances      Box(P          R      mAP50  mAP50-95): 100% 4/4 [00:01<00:00,  2.16it/s]\n",
            "                   all        120        120      0.994      0.994      0.995      0.903\n",
            "\n",
            "      Epoch    GPU_mem   box_loss   cls_loss   dfl_loss  Instances       Size\n",
            "     88/100      3.96G     0.5243     0.3011      1.087         30        640: 100% 79/79 [00:26<00:00,  2.96it/s]\n",
            "                 Class     Images  Instances      Box(P          R      mAP50  mAP50-95): 100% 4/4 [00:02<00:00,  1.87it/s]\n",
            "                   all        120        120      0.989      0.998      0.995      0.905\n",
            "\n",
            "      Epoch    GPU_mem   box_loss   cls_loss   dfl_loss  Instances       Size\n",
            "     89/100      3.97G     0.5292      0.298      1.095         28        640: 100% 79/79 [00:25<00:00,  3.05it/s]\n",
            "                 Class     Images  Instances      Box(P          R      mAP50  mAP50-95): 100% 4/4 [00:01<00:00,  2.27it/s]\n",
            "                   all        120        120       0.99      0.997      0.995      0.901\n",
            "\n",
            "      Epoch    GPU_mem   box_loss   cls_loss   dfl_loss  Instances       Size\n",
            "     90/100      3.99G     0.5124      0.298      1.088         27        640: 100% 79/79 [00:26<00:00,  3.01it/s]\n",
            "                 Class     Images  Instances      Box(P          R      mAP50  mAP50-95): 100% 4/4 [00:01<00:00,  2.08it/s]\n",
            "                   all        120        120      0.993          1      0.995      0.901\n",
            "Closing dataloader mosaic\n",
            "\u001b[34m\u001b[1malbumentations: \u001b[0mBlur(p=0.01, blur_limit=(3, 7)), MedianBlur(p=0.01, blur_limit=(3, 7)), ToGray(p=0.01, method='weighted_average', num_output_channels=3), CLAHE(p=0.01, clip_limit=(1.0, 4.0), tile_grid_size=(8, 8))\n",
            "\n",
            "      Epoch    GPU_mem   box_loss   cls_loss   dfl_loss  Instances       Size\n",
            "     91/100         4G     0.3541     0.2157      1.002         12        640: 100% 79/79 [00:26<00:00,  2.98it/s]\n",
            "                 Class     Images  Instances      Box(P          R      mAP50  mAP50-95): 100% 4/4 [00:02<00:00,  1.65it/s]\n",
            "                   all        120        120      0.992      0.998      0.995      0.897\n",
            "\n",
            "      Epoch    GPU_mem   box_loss   cls_loss   dfl_loss  Instances       Size\n",
            "     92/100      4.02G     0.3365     0.1931     0.9906         12        640: 100% 79/79 [00:23<00:00,  3.32it/s]\n",
            "                 Class     Images  Instances      Box(P          R      mAP50  mAP50-95): 100% 4/4 [00:01<00:00,  2.18it/s]\n",
            "                   all        120        120      0.997      0.995      0.995      0.907\n",
            "\n",
            "      Epoch    GPU_mem   box_loss   cls_loss   dfl_loss  Instances       Size\n",
            "     93/100      4.03G     0.3382     0.1934     0.9937         12        640: 100% 79/79 [00:24<00:00,  3.21it/s]\n",
            "                 Class     Images  Instances      Box(P          R      mAP50  mAP50-95): 100% 4/4 [00:01<00:00,  3.00it/s]\n",
            "                   all        120        120      0.997      0.999      0.995      0.908\n",
            "\n",
            "      Epoch    GPU_mem   box_loss   cls_loss   dfl_loss  Instances       Size\n",
            "     94/100      4.04G     0.3206     0.1829     0.9753         12        640: 100% 79/79 [00:25<00:00,  3.10it/s]\n",
            "                 Class     Images  Instances      Box(P          R      mAP50  mAP50-95): 100% 4/4 [00:01<00:00,  2.49it/s]\n",
            "                   all        120        120      0.996      0.999      0.995      0.902\n",
            "\n",
            "      Epoch    GPU_mem   box_loss   cls_loss   dfl_loss  Instances       Size\n",
            "     95/100      4.06G      0.322     0.1861     0.9797         12        640: 100% 79/79 [00:25<00:00,  3.08it/s]\n",
            "                 Class     Images  Instances      Box(P          R      mAP50  mAP50-95): 100% 4/4 [00:01<00:00,  2.36it/s]\n",
            "                   all        120        120      0.997      0.999      0.995      0.904\n",
            "\n",
            "      Epoch    GPU_mem   box_loss   cls_loss   dfl_loss  Instances       Size\n",
            "     96/100      4.07G     0.3139     0.1747     0.9667         12        640: 100% 79/79 [00:26<00:00,  2.94it/s]\n",
            "                 Class     Images  Instances      Box(P          R      mAP50  mAP50-95): 100% 4/4 [00:01<00:00,  2.91it/s]\n",
            "                   all        120        120      0.997          1      0.995      0.902\n",
            "\n",
            "      Epoch    GPU_mem   box_loss   cls_loss   dfl_loss  Instances       Size\n",
            "     97/100      4.09G     0.3174     0.1753     0.9789         12        640: 100% 79/79 [00:25<00:00,  3.09it/s]\n",
            "                 Class     Images  Instances      Box(P          R      mAP50  mAP50-95): 100% 4/4 [00:01<00:00,  2.46it/s]\n",
            "                   all        120        120      0.997      0.999      0.995      0.906\n",
            "\n",
            "      Epoch    GPU_mem   box_loss   cls_loss   dfl_loss  Instances       Size\n",
            "     98/100       4.1G     0.3033     0.1683     0.9549         12        640: 100% 79/79 [00:25<00:00,  3.10it/s]\n",
            "                 Class     Images  Instances      Box(P          R      mAP50  mAP50-95): 100% 4/4 [00:01<00:00,  2.61it/s]\n",
            "                   all        120        120      0.998          1      0.995      0.905\n",
            "\n",
            "      Epoch    GPU_mem   box_loss   cls_loss   dfl_loss  Instances       Size\n",
            "     99/100      4.12G     0.3059     0.1719     0.9716         12        640: 100% 79/79 [00:25<00:00,  3.08it/s]\n",
            "                 Class     Images  Instances      Box(P          R      mAP50  mAP50-95): 100% 4/4 [00:01<00:00,  2.60it/s]\n",
            "                   all        120        120      0.998          1      0.995      0.905\n",
            "\n",
            "      Epoch    GPU_mem   box_loss   cls_loss   dfl_loss  Instances       Size\n",
            "    100/100      4.13G     0.3109     0.1705     0.9685         12        640: 100% 79/79 [00:25<00:00,  3.11it/s]\n",
            "                 Class     Images  Instances      Box(P          R      mAP50  mAP50-95): 100% 4/4 [00:01<00:00,  2.31it/s]\n",
            "                   all        120        120      0.998          1      0.995      0.908\n",
            "\n",
            "100 epochs completed in 0.796 hours.\n",
            "Optimizer stripped from runs/detect/train/weights/last.pt, 5.5MB\n",
            "Optimizer stripped from runs/detect/train/weights/best.pt, 5.5MB\n",
            "\n",
            "Validating runs/detect/train/weights/best.pt...\n",
            "Ultralytics 8.3.148 🚀 Python-3.11.12 torch-2.6.0+cu124 CUDA:0 (Tesla T4, 15095MiB)\n",
            "YOLO11n summary (fused): 100 layers, 2,582,932 parameters, 0 gradients, 6.3 GFLOPs\n",
            "                 Class     Images  Instances      Box(P          R      mAP50  mAP50-95): 100% 4/4 [00:02<00:00,  1.42it/s]\n",
            "                   all        120        120      0.997          1      0.995       0.91\n",
            "                 Botol         28         28      0.996          1      0.995      0.887\n",
            "                  Buku         35         35      0.998          1      0.995       0.91\n",
            "                Dompet         30         30      0.999          1      0.995      0.887\n",
            "                   Tas         27         27      0.996          1      0.995      0.955\n",
            "Speed: 0.3ms preprocess, 3.2ms inference, 0.0ms loss, 6.7ms postprocess per image\n",
            "Results saved to \u001b[1mruns/detect/train\u001b[0m\n",
            "💡 Learn more at https://docs.ultralytics.com/modes/train\n"
          ]
        }
      ]
    },
    {
      "cell_type": "code",
      "source": [
        "from ultralytics import YOLO\n",
        "\n",
        "# Path ke file data.yaml kamu di Google Drive\n",
        "data_yaml = '/content/drive/MyDrive/T5DeepLearning/data.yaml'\n",
        "\n",
        "# Buat dan latih model YOLOv8\n",
        "model = YOLO('yolov8n.pt')  # atau 'yolov8s.pt' untuk versi lebih akurat\n",
        "\n",
        "model.train(data=data_yaml, epochs=100, imgsz=640)"
      ],
      "metadata": {
        "colab": {
          "base_uri": "https://localhost:8080/"
        },
        "id": "IG63RGQ9GNoi",
        "outputId": "a0655180-ed02-4670-e736-974583796d9e"
      },
      "execution_count": null,
      "outputs": [
        {
          "output_type": "stream",
          "name": "stdout",
          "text": [
            "Ultralytics 8.3.152 🚀 Python-3.11.13 torch-2.6.0+cu124 CUDA:0 (Tesla T4, 15095MiB)\n",
            "\u001b[34m\u001b[1mengine/trainer: \u001b[0magnostic_nms=False, amp=True, augment=False, auto_augment=randaugment, batch=16, bgr=0.0, box=7.5, cache=False, cfg=None, classes=None, close_mosaic=10, cls=0.5, conf=None, copy_paste=0.0, copy_paste_mode=flip, cos_lr=False, cutmix=0.0, data=/content/drive/MyDrive/T5DeepLearning/data.yaml, degrees=0.0, deterministic=True, device=None, dfl=1.5, dnn=False, dropout=0.0, dynamic=False, embed=None, epochs=100, erasing=0.4, exist_ok=False, fliplr=0.5, flipud=0.0, format=torchscript, fraction=1.0, freeze=None, half=False, hsv_h=0.015, hsv_s=0.7, hsv_v=0.4, imgsz=640, int8=False, iou=0.7, keras=False, kobj=1.0, line_width=None, lr0=0.01, lrf=0.01, mask_ratio=4, max_det=300, mixup=0.0, mode=train, model=yolov8n.pt, momentum=0.937, mosaic=1.0, multi_scale=False, name=train3, nbs=64, nms=False, opset=None, optimize=False, optimizer=auto, overlap_mask=True, patience=100, perspective=0.0, plots=True, pose=12.0, pretrained=True, profile=False, project=None, rect=False, resume=False, retina_masks=False, save=True, save_conf=False, save_crop=False, save_dir=runs/detect/train3, save_frames=False, save_json=False, save_period=-1, save_txt=False, scale=0.5, seed=0, shear=0.0, show=False, show_boxes=True, show_conf=True, show_labels=True, simplify=True, single_cls=False, source=None, split=val, stream_buffer=False, task=detect, time=None, tracker=botsort.yaml, translate=0.1, val=True, verbose=True, vid_stride=1, visualize=False, warmup_bias_lr=0.1, warmup_epochs=3.0, warmup_momentum=0.8, weight_decay=0.0005, workers=8, workspace=None\n",
            "Downloading https://ultralytics.com/assets/Arial.ttf to '/root/.config/Ultralytics/Arial.ttf'...\n"
          ]
        },
        {
          "output_type": "stream",
          "name": "stderr",
          "text": [
            "100%|██████████| 755k/755k [00:00<00:00, 20.0MB/s]"
          ]
        },
        {
          "output_type": "stream",
          "name": "stdout",
          "text": [
            "Overriding model.yaml nc=80 with nc=4\n",
            "\n",
            "                   from  n    params  module                                       arguments                     \n",
            "  0                  -1  1       464  ultralytics.nn.modules.conv.Conv             [3, 16, 3, 2]                 \n",
            "  1                  -1  1      4672  ultralytics.nn.modules.conv.Conv             [16, 32, 3, 2]                \n",
            "  2                  -1  1      7360  ultralytics.nn.modules.block.C2f             [32, 32, 1, True]             \n",
            "  3                  -1  1     18560  ultralytics.nn.modules.conv.Conv             [32, 64, 3, 2]                \n",
            "  4                  -1  2     49664  ultralytics.nn.modules.block.C2f             [64, 64, 2, True]             \n",
            "  5                  -1  1     73984  ultralytics.nn.modules.conv.Conv             [64, 128, 3, 2]               \n",
            "  6                  -1  2    197632  ultralytics.nn.modules.block.C2f             [128, 128, 2, True]           \n",
            "  7                  -1  1    295424  ultralytics.nn.modules.conv.Conv             [128, 256, 3, 2]              \n",
            "  8                  -1  1    460288  ultralytics.nn.modules.block.C2f             [256, 256, 1, True]           \n",
            "  9                  -1  1    164608  ultralytics.nn.modules.block.SPPF            [256, 256, 5]                 \n",
            " 10                  -1  1         0  torch.nn.modules.upsampling.Upsample         [None, 2, 'nearest']          \n",
            " 11             [-1, 6]  1         0  ultralytics.nn.modules.conv.Concat           [1]                           \n",
            " 12                  -1  1    148224  ultralytics.nn.modules.block.C2f             [384, 128, 1]                 \n",
            " 13                  -1  1         0  torch.nn.modules.upsampling.Upsample         [None, 2, 'nearest']          \n",
            " 14             [-1, 4]  1         0  ultralytics.nn.modules.conv.Concat           [1]                           \n",
            " 15                  -1  1     37248  ultralytics.nn.modules.block.C2f             [192, 64, 1]                  \n",
            " 16                  -1  1     36992  ultralytics.nn.modules.conv.Conv             [64, 64, 3, 2]                \n",
            " 17            [-1, 12]  1         0  ultralytics.nn.modules.conv.Concat           [1]                           \n",
            " 18                  -1  1    123648  ultralytics.nn.modules.block.C2f             [192, 128, 1]                 \n",
            " 19                  -1  1    147712  ultralytics.nn.modules.conv.Conv             [128, 128, 3, 2]              \n",
            " 20             [-1, 9]  1         0  ultralytics.nn.modules.conv.Concat           [1]                           \n",
            " 21                  -1  1    493056  ultralytics.nn.modules.block.C2f             [384, 256, 1]                 \n",
            " 22        [15, 18, 21]  1    752092  ultralytics.nn.modules.head.Detect           [4, [64, 128, 256]]           \n"
          ]
        },
        {
          "output_type": "stream",
          "name": "stderr",
          "text": [
            "\n"
          ]
        },
        {
          "output_type": "stream",
          "name": "stdout",
          "text": [
            "Model summary: 129 layers, 3,011,628 parameters, 3,011,612 gradients, 8.2 GFLOPs\n",
            "\n",
            "Transferred 319/355 items from pretrained weights\n",
            "Freezing layer 'model.22.dfl.conv.weight'\n",
            "\u001b[34m\u001b[1mAMP: \u001b[0mrunning Automatic Mixed Precision (AMP) checks...\n",
            "\u001b[34m\u001b[1mAMP: \u001b[0mchecks passed ✅\n",
            "\u001b[34m\u001b[1mtrain: \u001b[0mFast image access ✅ (ping: 0.4±0.2 ms, read: 0.2±0.1 MB/s, size: 98.2 KB)\n"
          ]
        },
        {
          "output_type": "stream",
          "name": "stderr",
          "text": [
            "\u001b[34m\u001b[1mtrain: \u001b[0mScanning /content/drive/MyDrive/T5DeepLearning/train/labels.cache... 1260 images, 0 backgrounds, 0 corrupt: 100%|██████████| 1260/1260 [00:00<?, ?it/s]\n"
          ]
        },
        {
          "output_type": "stream",
          "name": "stdout",
          "text": [
            "\u001b[34m\u001b[1malbumentations: \u001b[0mBlur(p=0.01, blur_limit=(3, 7)), MedianBlur(p=0.01, blur_limit=(3, 7)), ToGray(p=0.01, method='weighted_average', num_output_channels=3), CLAHE(p=0.01, clip_limit=(1.0, 4.0), tile_grid_size=(8, 8))\n",
            "\u001b[34m\u001b[1mval: \u001b[0mFast image access ✅ (ping: 9.1±19.1 ms, read: 0.2±0.1 MB/s, size: 92.2 KB)\n"
          ]
        },
        {
          "output_type": "stream",
          "name": "stderr",
          "text": [
            "\u001b[34m\u001b[1mval: \u001b[0mScanning /content/drive/MyDrive/T5DeepLearning/valid/labels.cache... 120 images, 0 backgrounds, 0 corrupt: 100%|██████████| 120/120 [00:00<?, ?it/s]\n"
          ]
        },
        {
          "output_type": "stream",
          "name": "stdout",
          "text": [
            "Plotting labels to runs/detect/train3/labels.jpg... \n",
            "\u001b[34m\u001b[1moptimizer:\u001b[0m 'optimizer=auto' found, ignoring 'lr0=0.01' and 'momentum=0.937' and determining best 'optimizer', 'lr0' and 'momentum' automatically... \n",
            "\u001b[34m\u001b[1moptimizer:\u001b[0m AdamW(lr=0.00125, momentum=0.9) with parameter groups 57 weight(decay=0.0), 64 weight(decay=0.0005), 63 bias(decay=0.0)\n",
            "Image sizes 640 train, 640 val\n",
            "Using 2 dataloader workers\n",
            "Logging results to \u001b[1mruns/detect/train3\u001b[0m\n",
            "Starting training for 100 epochs...\n",
            "\n",
            "      Epoch    GPU_mem   box_loss   cls_loss   dfl_loss  Instances       Size\n"
          ]
        },
        {
          "output_type": "stream",
          "name": "stderr",
          "text": [
            "      1/100         2G      1.005      2.294      1.489         24        640: 100%|██████████| 79/79 [08:54<00:00,  6.77s/it]\n",
            "                 Class     Images  Instances      Box(P          R      mAP50  mAP50-95): 100%|██████████| 4/4 [00:03<00:00,  1.32it/s]"
          ]
        },
        {
          "output_type": "stream",
          "name": "stdout",
          "text": [
            "                   all        120        120      0.686      0.792      0.857      0.609\n"
          ]
        },
        {
          "output_type": "stream",
          "name": "stderr",
          "text": [
            "\n"
          ]
        },
        {
          "output_type": "stream",
          "name": "stdout",
          "text": [
            "\n",
            "      Epoch    GPU_mem   box_loss   cls_loss   dfl_loss  Instances       Size\n"
          ]
        },
        {
          "output_type": "stream",
          "name": "stderr",
          "text": [
            "      2/100      2.48G     0.9135      1.399      1.383         24        640: 100%|██████████| 79/79 [00:24<00:00,  3.17it/s]\n",
            "                 Class     Images  Instances      Box(P          R      mAP50  mAP50-95): 100%|██████████| 4/4 [00:01<00:00,  2.18it/s]"
          ]
        },
        {
          "output_type": "stream",
          "name": "stdout",
          "text": [
            "                   all        120        120      0.863      0.785      0.928      0.677\n"
          ]
        },
        {
          "output_type": "stream",
          "name": "stderr",
          "text": [
            "\n"
          ]
        },
        {
          "output_type": "stream",
          "name": "stdout",
          "text": [
            "\n",
            "      Epoch    GPU_mem   box_loss   cls_loss   dfl_loss  Instances       Size\n"
          ]
        },
        {
          "output_type": "stream",
          "name": "stderr",
          "text": [
            "      3/100      2.48G     0.9388       1.26      1.387         27        640: 100%|██████████| 79/79 [00:25<00:00,  3.07it/s]\n",
            "                 Class     Images  Instances      Box(P          R      mAP50  mAP50-95): 100%|██████████| 4/4 [00:01<00:00,  2.67it/s]"
          ]
        },
        {
          "output_type": "stream",
          "name": "stdout",
          "text": [
            "                   all        120        120      0.944      0.917      0.979      0.678\n"
          ]
        },
        {
          "output_type": "stream",
          "name": "stderr",
          "text": [
            "\n"
          ]
        },
        {
          "output_type": "stream",
          "name": "stdout",
          "text": [
            "\n",
            "      Epoch    GPU_mem   box_loss   cls_loss   dfl_loss  Instances       Size\n"
          ]
        },
        {
          "output_type": "stream",
          "name": "stderr",
          "text": [
            "      4/100      2.48G     0.9301      1.133      1.381         25        640: 100%|██████████| 79/79 [00:25<00:00,  3.06it/s]\n",
            "                 Class     Images  Instances      Box(P          R      mAP50  mAP50-95): 100%|██████████| 4/4 [00:01<00:00,  2.55it/s]"
          ]
        },
        {
          "output_type": "stream",
          "name": "stdout",
          "text": [
            "                   all        120        120       0.78      0.801      0.784      0.593\n"
          ]
        },
        {
          "output_type": "stream",
          "name": "stderr",
          "text": [
            "\n"
          ]
        },
        {
          "output_type": "stream",
          "name": "stdout",
          "text": [
            "\n",
            "      Epoch    GPU_mem   box_loss   cls_loss   dfl_loss  Instances       Size\n"
          ]
        },
        {
          "output_type": "stream",
          "name": "stderr",
          "text": [
            "      5/100      2.48G     0.9275      1.034      1.375         26        640: 100%|██████████| 79/79 [00:25<00:00,  3.11it/s]\n",
            "                 Class     Images  Instances      Box(P          R      mAP50  mAP50-95): 100%|██████████| 4/4 [00:01<00:00,  2.18it/s]"
          ]
        },
        {
          "output_type": "stream",
          "name": "stdout",
          "text": [
            "                   all        120        120      0.977      0.809      0.958      0.727\n"
          ]
        },
        {
          "output_type": "stream",
          "name": "stderr",
          "text": [
            "\n"
          ]
        },
        {
          "output_type": "stream",
          "name": "stdout",
          "text": [
            "\n",
            "      Epoch    GPU_mem   box_loss   cls_loss   dfl_loss  Instances       Size\n"
          ]
        },
        {
          "output_type": "stream",
          "name": "stderr",
          "text": [
            "      6/100      2.48G     0.8655     0.9118      1.332         29        640: 100%|██████████| 79/79 [00:25<00:00,  3.06it/s]\n",
            "                 Class     Images  Instances      Box(P          R      mAP50  mAP50-95): 100%|██████████| 4/4 [00:01<00:00,  2.62it/s]"
          ]
        },
        {
          "output_type": "stream",
          "name": "stdout",
          "text": [
            "                   all        120        120      0.967       0.95       0.99      0.813\n"
          ]
        },
        {
          "output_type": "stream",
          "name": "stderr",
          "text": [
            "\n"
          ]
        },
        {
          "output_type": "stream",
          "name": "stdout",
          "text": [
            "\n",
            "      Epoch    GPU_mem   box_loss   cls_loss   dfl_loss  Instances       Size\n"
          ]
        },
        {
          "output_type": "stream",
          "name": "stderr",
          "text": [
            "      7/100      2.48G     0.8626     0.8621      1.342         30        640: 100%|██████████| 79/79 [00:25<00:00,  3.09it/s]\n",
            "                 Class     Images  Instances      Box(P          R      mAP50  mAP50-95): 100%|██████████| 4/4 [00:01<00:00,  2.65it/s]"
          ]
        },
        {
          "output_type": "stream",
          "name": "stdout",
          "text": [
            "                   all        120        120      0.957      0.918      0.983      0.801\n"
          ]
        },
        {
          "output_type": "stream",
          "name": "stderr",
          "text": [
            "\n"
          ]
        },
        {
          "output_type": "stream",
          "name": "stdout",
          "text": [
            "\n",
            "      Epoch    GPU_mem   box_loss   cls_loss   dfl_loss  Instances       Size\n"
          ]
        },
        {
          "output_type": "stream",
          "name": "stderr",
          "text": [
            "      8/100      2.48G     0.8525     0.8133       1.31         29        640: 100%|██████████| 79/79 [00:25<00:00,  3.15it/s]\n",
            "                 Class     Images  Instances      Box(P          R      mAP50  mAP50-95): 100%|██████████| 4/4 [00:01<00:00,  2.55it/s]"
          ]
        },
        {
          "output_type": "stream",
          "name": "stdout",
          "text": [
            "                   all        120        120       0.79      0.786       0.87      0.677\n"
          ]
        },
        {
          "output_type": "stream",
          "name": "stderr",
          "text": [
            "\n"
          ]
        },
        {
          "output_type": "stream",
          "name": "stdout",
          "text": [
            "\n",
            "      Epoch    GPU_mem   box_loss   cls_loss   dfl_loss  Instances       Size\n"
          ]
        },
        {
          "output_type": "stream",
          "name": "stderr",
          "text": [
            "      9/100      2.48G       0.82     0.7613      1.286         29        640: 100%|██████████| 79/79 [00:24<00:00,  3.17it/s]\n",
            "                 Class     Images  Instances      Box(P          R      mAP50  mAP50-95): 100%|██████████| 4/4 [00:01<00:00,  2.38it/s]"
          ]
        },
        {
          "output_type": "stream",
          "name": "stdout",
          "text": [
            "                   all        120        120      0.949       0.97      0.988       0.81\n"
          ]
        },
        {
          "output_type": "stream",
          "name": "stderr",
          "text": [
            "\n"
          ]
        },
        {
          "output_type": "stream",
          "name": "stdout",
          "text": [
            "\n",
            "      Epoch    GPU_mem   box_loss   cls_loss   dfl_loss  Instances       Size\n"
          ]
        },
        {
          "output_type": "stream",
          "name": "stderr",
          "text": [
            "     10/100      2.48G     0.8041     0.6952      1.276         33        640: 100%|██████████| 79/79 [00:25<00:00,  3.14it/s]\n",
            "                 Class     Images  Instances      Box(P          R      mAP50  mAP50-95): 100%|██████████| 4/4 [00:01<00:00,  2.42it/s]"
          ]
        },
        {
          "output_type": "stream",
          "name": "stdout",
          "text": [
            "                   all        120        120      0.914      0.927      0.937       0.72\n"
          ]
        },
        {
          "output_type": "stream",
          "name": "stderr",
          "text": [
            "\n"
          ]
        },
        {
          "output_type": "stream",
          "name": "stdout",
          "text": [
            "\n",
            "      Epoch    GPU_mem   box_loss   cls_loss   dfl_loss  Instances       Size\n"
          ]
        },
        {
          "output_type": "stream",
          "name": "stderr",
          "text": [
            "     11/100      2.48G     0.8111     0.7161      1.277         34        640: 100%|██████████| 79/79 [00:25<00:00,  3.10it/s]\n",
            "                 Class     Images  Instances      Box(P          R      mAP50  mAP50-95): 100%|██████████| 4/4 [00:01<00:00,  2.07it/s]"
          ]
        },
        {
          "output_type": "stream",
          "name": "stdout",
          "text": [
            "                   all        120        120      0.986      0.949      0.994      0.819\n"
          ]
        },
        {
          "output_type": "stream",
          "name": "stderr",
          "text": [
            "\n"
          ]
        },
        {
          "output_type": "stream",
          "name": "stdout",
          "text": [
            "\n",
            "      Epoch    GPU_mem   box_loss   cls_loss   dfl_loss  Instances       Size\n"
          ]
        },
        {
          "output_type": "stream",
          "name": "stderr",
          "text": [
            "     12/100      2.48G     0.7998     0.6661      1.264         30        640: 100%|██████████| 79/79 [00:26<00:00,  3.01it/s]\n",
            "                 Class     Images  Instances      Box(P          R      mAP50  mAP50-95): 100%|██████████| 4/4 [00:01<00:00,  2.34it/s]"
          ]
        },
        {
          "output_type": "stream",
          "name": "stdout",
          "text": [
            "                   all        120        120      0.991      0.975      0.994       0.84\n"
          ]
        },
        {
          "output_type": "stream",
          "name": "stderr",
          "text": [
            "\n"
          ]
        },
        {
          "output_type": "stream",
          "name": "stdout",
          "text": [
            "\n",
            "      Epoch    GPU_mem   box_loss   cls_loss   dfl_loss  Instances       Size\n"
          ]
        },
        {
          "output_type": "stream",
          "name": "stderr",
          "text": [
            "     13/100      2.48G     0.7787       0.65      1.264         25        640: 100%|██████████| 79/79 [00:26<00:00,  2.96it/s]\n",
            "                 Class     Images  Instances      Box(P          R      mAP50  mAP50-95): 100%|██████████| 4/4 [00:01<00:00,  2.75it/s]"
          ]
        },
        {
          "output_type": "stream",
          "name": "stdout",
          "text": [
            "                   all        120        120      0.987      0.967      0.989      0.841\n"
          ]
        },
        {
          "output_type": "stream",
          "name": "stderr",
          "text": [
            "\n"
          ]
        },
        {
          "output_type": "stream",
          "name": "stdout",
          "text": [
            "\n",
            "      Epoch    GPU_mem   box_loss   cls_loss   dfl_loss  Instances       Size\n"
          ]
        },
        {
          "output_type": "stream",
          "name": "stderr",
          "text": [
            "     14/100      2.48G     0.7626     0.6167      1.247         26        640: 100%|██████████| 79/79 [00:25<00:00,  3.12it/s]\n",
            "                 Class     Images  Instances      Box(P          R      mAP50  mAP50-95): 100%|██████████| 4/4 [00:01<00:00,  2.50it/s]"
          ]
        },
        {
          "output_type": "stream",
          "name": "stdout",
          "text": [
            "                   all        120        120      0.923      0.935      0.944      0.794\n"
          ]
        },
        {
          "output_type": "stream",
          "name": "stderr",
          "text": [
            "\n"
          ]
        },
        {
          "output_type": "stream",
          "name": "stdout",
          "text": [
            "\n",
            "      Epoch    GPU_mem   box_loss   cls_loss   dfl_loss  Instances       Size\n"
          ]
        },
        {
          "output_type": "stream",
          "name": "stderr",
          "text": [
            "     15/100      2.48G     0.7464     0.5986      1.238         21        640: 100%|██████████| 79/79 [00:26<00:00,  3.02it/s]\n",
            "                 Class     Images  Instances      Box(P          R      mAP50  mAP50-95): 100%|██████████| 4/4 [00:01<00:00,  2.48it/s]"
          ]
        },
        {
          "output_type": "stream",
          "name": "stdout",
          "text": [
            "                   all        120        120      0.964      0.957      0.989      0.823\n"
          ]
        },
        {
          "output_type": "stream",
          "name": "stderr",
          "text": [
            "\n"
          ]
        },
        {
          "output_type": "stream",
          "name": "stdout",
          "text": [
            "\n",
            "      Epoch    GPU_mem   box_loss   cls_loss   dfl_loss  Instances       Size\n"
          ]
        },
        {
          "output_type": "stream",
          "name": "stderr",
          "text": [
            "     16/100       2.5G     0.7993     0.6196      1.253         32        640: 100%|██████████| 79/79 [00:26<00:00,  2.99it/s]\n",
            "                 Class     Images  Instances      Box(P          R      mAP50  mAP50-95): 100%|██████████| 4/4 [00:01<00:00,  2.65it/s]"
          ]
        },
        {
          "output_type": "stream",
          "name": "stdout",
          "text": [
            "                   all        120        120      0.978      0.994      0.995      0.848\n"
          ]
        },
        {
          "output_type": "stream",
          "name": "stderr",
          "text": [
            "\n"
          ]
        },
        {
          "output_type": "stream",
          "name": "stdout",
          "text": [
            "\n",
            "      Epoch    GPU_mem   box_loss   cls_loss   dfl_loss  Instances       Size\n"
          ]
        },
        {
          "output_type": "stream",
          "name": "stderr",
          "text": [
            "     17/100       2.5G     0.7591     0.5739      1.242         31        640: 100%|██████████| 79/79 [00:25<00:00,  3.10it/s]\n",
            "                 Class     Images  Instances      Box(P          R      mAP50  mAP50-95): 100%|██████████| 4/4 [00:01<00:00,  2.42it/s]"
          ]
        },
        {
          "output_type": "stream",
          "name": "stdout",
          "text": [
            "                   all        120        120      0.982      0.991      0.995      0.849\n"
          ]
        },
        {
          "output_type": "stream",
          "name": "stderr",
          "text": [
            "\n"
          ]
        },
        {
          "output_type": "stream",
          "name": "stdout",
          "text": [
            "\n",
            "      Epoch    GPU_mem   box_loss   cls_loss   dfl_loss  Instances       Size\n"
          ]
        },
        {
          "output_type": "stream",
          "name": "stderr",
          "text": [
            "     18/100      2.52G     0.7521     0.5568       1.24         27        640: 100%|██████████| 79/79 [00:25<00:00,  3.07it/s]\n",
            "                 Class     Images  Instances      Box(P          R      mAP50  mAP50-95): 100%|██████████| 4/4 [00:01<00:00,  2.02it/s]"
          ]
        },
        {
          "output_type": "stream",
          "name": "stdout",
          "text": [
            "                   all        120        120      0.985          1      0.994       0.84\n"
          ]
        },
        {
          "output_type": "stream",
          "name": "stderr",
          "text": [
            "\n"
          ]
        },
        {
          "output_type": "stream",
          "name": "stdout",
          "text": [
            "\n",
            "      Epoch    GPU_mem   box_loss   cls_loss   dfl_loss  Instances       Size\n"
          ]
        },
        {
          "output_type": "stream",
          "name": "stderr",
          "text": [
            "     19/100      2.54G     0.7193     0.5552      1.222         28        640: 100%|██████████| 79/79 [00:25<00:00,  3.12it/s]\n",
            "                 Class     Images  Instances      Box(P          R      mAP50  mAP50-95): 100%|██████████| 4/4 [00:01<00:00,  2.26it/s]"
          ]
        },
        {
          "output_type": "stream",
          "name": "stdout",
          "text": [
            "                   all        120        120      0.996          1      0.995      0.842\n"
          ]
        },
        {
          "output_type": "stream",
          "name": "stderr",
          "text": [
            "\n"
          ]
        },
        {
          "output_type": "stream",
          "name": "stdout",
          "text": [
            "\n",
            "      Epoch    GPU_mem   box_loss   cls_loss   dfl_loss  Instances       Size\n"
          ]
        },
        {
          "output_type": "stream",
          "name": "stderr",
          "text": [
            "     20/100      2.54G     0.7379     0.5404      1.222         28        640: 100%|██████████| 79/79 [00:24<00:00,  3.16it/s]\n",
            "                 Class     Images  Instances      Box(P          R      mAP50  mAP50-95): 100%|██████████| 4/4 [00:02<00:00,  1.80it/s]"
          ]
        },
        {
          "output_type": "stream",
          "name": "stdout",
          "text": [
            "                   all        120        120      0.992          1      0.995      0.876\n"
          ]
        },
        {
          "output_type": "stream",
          "name": "stderr",
          "text": [
            "\n"
          ]
        },
        {
          "output_type": "stream",
          "name": "stdout",
          "text": [
            "\n",
            "      Epoch    GPU_mem   box_loss   cls_loss   dfl_loss  Instances       Size\n"
          ]
        },
        {
          "output_type": "stream",
          "name": "stderr",
          "text": [
            "     21/100      2.54G     0.7267     0.5258      1.224         25        640: 100%|██████████| 79/79 [00:25<00:00,  3.11it/s]\n",
            "                 Class     Images  Instances      Box(P          R      mAP50  mAP50-95): 100%|██████████| 4/4 [00:02<00:00,  1.82it/s]"
          ]
        },
        {
          "output_type": "stream",
          "name": "stdout",
          "text": [
            "                   all        120        120      0.978      0.983      0.995      0.842\n"
          ]
        },
        {
          "output_type": "stream",
          "name": "stderr",
          "text": [
            "\n"
          ]
        },
        {
          "output_type": "stream",
          "name": "stdout",
          "text": [
            "\n",
            "      Epoch    GPU_mem   box_loss   cls_loss   dfl_loss  Instances       Size\n"
          ]
        },
        {
          "output_type": "stream",
          "name": "stderr",
          "text": [
            "     22/100      2.54G     0.7316     0.5218      1.221         28        640: 100%|██████████| 79/79 [00:24<00:00,  3.18it/s]\n",
            "                 Class     Images  Instances      Box(P          R      mAP50  mAP50-95): 100%|██████████| 4/4 [00:02<00:00,  1.75it/s]"
          ]
        },
        {
          "output_type": "stream",
          "name": "stdout",
          "text": [
            "                   all        120        120      0.988          1      0.995      0.847\n"
          ]
        },
        {
          "output_type": "stream",
          "name": "stderr",
          "text": [
            "\n"
          ]
        },
        {
          "output_type": "stream",
          "name": "stdout",
          "text": [
            "\n",
            "      Epoch    GPU_mem   box_loss   cls_loss   dfl_loss  Instances       Size\n"
          ]
        },
        {
          "output_type": "stream",
          "name": "stderr",
          "text": [
            "     23/100      2.54G     0.7282     0.5275      1.224         33        640: 100%|██████████| 79/79 [00:25<00:00,  3.15it/s]\n",
            "                 Class     Images  Instances      Box(P          R      mAP50  mAP50-95): 100%|██████████| 4/4 [00:02<00:00,  1.56it/s]"
          ]
        },
        {
          "output_type": "stream",
          "name": "stdout",
          "text": [
            "                   all        120        120      0.969      0.977      0.995      0.876\n"
          ]
        },
        {
          "output_type": "stream",
          "name": "stderr",
          "text": [
            "\n"
          ]
        },
        {
          "output_type": "stream",
          "name": "stdout",
          "text": [
            "\n",
            "      Epoch    GPU_mem   box_loss   cls_loss   dfl_loss  Instances       Size\n"
          ]
        },
        {
          "output_type": "stream",
          "name": "stderr",
          "text": [
            "     24/100      2.54G     0.7113     0.5049      1.213         24        640: 100%|██████████| 79/79 [00:24<00:00,  3.27it/s]\n",
            "                 Class     Images  Instances      Box(P          R      mAP50  mAP50-95): 100%|██████████| 4/4 [00:02<00:00,  1.54it/s]"
          ]
        },
        {
          "output_type": "stream",
          "name": "stdout",
          "text": [
            "                   all        120        120      0.995      0.985      0.994      0.841\n"
          ]
        },
        {
          "output_type": "stream",
          "name": "stderr",
          "text": [
            "\n"
          ]
        },
        {
          "output_type": "stream",
          "name": "stdout",
          "text": [
            "\n",
            "      Epoch    GPU_mem   box_loss   cls_loss   dfl_loss  Instances       Size\n"
          ]
        },
        {
          "output_type": "stream",
          "name": "stderr",
          "text": [
            "     25/100      2.55G     0.7163     0.5026      1.215         39        640: 100%|██████████| 79/79 [00:24<00:00,  3.22it/s]\n",
            "                 Class     Images  Instances      Box(P          R      mAP50  mAP50-95): 100%|██████████| 4/4 [00:02<00:00,  1.50it/s]"
          ]
        },
        {
          "output_type": "stream",
          "name": "stdout",
          "text": [
            "                   all        120        120      0.986      0.993      0.995      0.857\n"
          ]
        },
        {
          "output_type": "stream",
          "name": "stderr",
          "text": [
            "\n"
          ]
        },
        {
          "output_type": "stream",
          "name": "stdout",
          "text": [
            "\n",
            "      Epoch    GPU_mem   box_loss   cls_loss   dfl_loss  Instances       Size\n"
          ]
        },
        {
          "output_type": "stream",
          "name": "stderr",
          "text": [
            "     26/100      2.55G     0.7122     0.5048      1.207         31        640: 100%|██████████| 79/79 [00:27<00:00,  2.92it/s]\n",
            "                 Class     Images  Instances      Box(P          R      mAP50  mAP50-95): 100%|██████████| 4/4 [00:02<00:00,  1.62it/s]"
          ]
        },
        {
          "output_type": "stream",
          "name": "stdout",
          "text": [
            "                   all        120        120      0.995      0.996      0.995      0.875\n"
          ]
        },
        {
          "output_type": "stream",
          "name": "stderr",
          "text": [
            "\n"
          ]
        },
        {
          "output_type": "stream",
          "name": "stdout",
          "text": [
            "\n",
            "      Epoch    GPU_mem   box_loss   cls_loss   dfl_loss  Instances       Size\n"
          ]
        },
        {
          "output_type": "stream",
          "name": "stderr",
          "text": [
            "     27/100      2.55G     0.6911     0.4857      1.194         37        640: 100%|██████████| 79/79 [00:24<00:00,  3.23it/s]\n",
            "                 Class     Images  Instances      Box(P          R      mAP50  mAP50-95): 100%|██████████| 4/4 [00:02<00:00,  1.73it/s]"
          ]
        },
        {
          "output_type": "stream",
          "name": "stdout",
          "text": [
            "                   all        120        120      0.973      0.979      0.988      0.868\n"
          ]
        },
        {
          "output_type": "stream",
          "name": "stderr",
          "text": [
            "\n"
          ]
        },
        {
          "output_type": "stream",
          "name": "stdout",
          "text": [
            "\n",
            "      Epoch    GPU_mem   box_loss   cls_loss   dfl_loss  Instances       Size\n"
          ]
        },
        {
          "output_type": "stream",
          "name": "stderr",
          "text": [
            "     28/100      2.55G     0.7005     0.4794        1.2         35        640: 100%|██████████| 79/79 [00:24<00:00,  3.26it/s]\n",
            "                 Class     Images  Instances      Box(P          R      mAP50  mAP50-95): 100%|██████████| 4/4 [00:02<00:00,  1.76it/s]"
          ]
        },
        {
          "output_type": "stream",
          "name": "stdout",
          "text": [
            "                   all        120        120      0.978      0.988      0.989      0.852\n"
          ]
        },
        {
          "output_type": "stream",
          "name": "stderr",
          "text": [
            "\n"
          ]
        },
        {
          "output_type": "stream",
          "name": "stdout",
          "text": [
            "\n",
            "      Epoch    GPU_mem   box_loss   cls_loss   dfl_loss  Instances       Size\n"
          ]
        },
        {
          "output_type": "stream",
          "name": "stderr",
          "text": [
            "     29/100      2.55G     0.6986     0.4662      1.197         32        640: 100%|██████████| 79/79 [00:25<00:00,  3.15it/s]\n",
            "                 Class     Images  Instances      Box(P          R      mAP50  mAP50-95): 100%|██████████| 4/4 [00:02<00:00,  1.98it/s]"
          ]
        },
        {
          "output_type": "stream",
          "name": "stdout",
          "text": [
            "                   all        120        120      0.986      0.972      0.995      0.859\n"
          ]
        },
        {
          "output_type": "stream",
          "name": "stderr",
          "text": [
            "\n"
          ]
        },
        {
          "output_type": "stream",
          "name": "stdout",
          "text": [
            "\n",
            "      Epoch    GPU_mem   box_loss   cls_loss   dfl_loss  Instances       Size\n"
          ]
        },
        {
          "output_type": "stream",
          "name": "stderr",
          "text": [
            "     30/100      2.55G     0.6831     0.4688      1.188         25        640: 100%|██████████| 79/79 [00:24<00:00,  3.22it/s]\n",
            "                 Class     Images  Instances      Box(P          R      mAP50  mAP50-95): 100%|██████████| 4/4 [00:01<00:00,  2.38it/s]"
          ]
        },
        {
          "output_type": "stream",
          "name": "stdout",
          "text": [
            "                   all        120        120      0.993      0.989      0.995      0.884\n"
          ]
        },
        {
          "output_type": "stream",
          "name": "stderr",
          "text": [
            "\n"
          ]
        },
        {
          "output_type": "stream",
          "name": "stdout",
          "text": [
            "\n",
            "      Epoch    GPU_mem   box_loss   cls_loss   dfl_loss  Instances       Size\n"
          ]
        },
        {
          "output_type": "stream",
          "name": "stderr",
          "text": [
            "     31/100      2.55G     0.6939     0.4876      1.196         31        640: 100%|██████████| 79/79 [00:26<00:00,  3.02it/s]\n",
            "                 Class     Images  Instances      Box(P          R      mAP50  mAP50-95): 100%|██████████| 4/4 [00:01<00:00,  2.04it/s]"
          ]
        },
        {
          "output_type": "stream",
          "name": "stdout",
          "text": [
            "                   all        120        120      0.986      0.986      0.994      0.843\n"
          ]
        },
        {
          "output_type": "stream",
          "name": "stderr",
          "text": [
            "\n"
          ]
        },
        {
          "output_type": "stream",
          "name": "stdout",
          "text": [
            "\n",
            "      Epoch    GPU_mem   box_loss   cls_loss   dfl_loss  Instances       Size\n"
          ]
        },
        {
          "output_type": "stream",
          "name": "stderr",
          "text": [
            "     32/100      2.55G     0.6872     0.4777      1.183         28        640: 100%|██████████| 79/79 [00:25<00:00,  3.15it/s]\n",
            "                 Class     Images  Instances      Box(P          R      mAP50  mAP50-95): 100%|██████████| 4/4 [00:01<00:00,  2.63it/s]"
          ]
        },
        {
          "output_type": "stream",
          "name": "stdout",
          "text": [
            "                   all        120        120      0.974      0.986      0.995      0.869\n"
          ]
        },
        {
          "output_type": "stream",
          "name": "stderr",
          "text": [
            "\n"
          ]
        },
        {
          "output_type": "stream",
          "name": "stdout",
          "text": [
            "\n",
            "      Epoch    GPU_mem   box_loss   cls_loss   dfl_loss  Instances       Size\n"
          ]
        },
        {
          "output_type": "stream",
          "name": "stderr",
          "text": [
            "     33/100      2.55G     0.7022     0.4871        1.2         32        640: 100%|██████████| 79/79 [00:25<00:00,  3.10it/s]\n",
            "                 Class     Images  Instances      Box(P          R      mAP50  mAP50-95): 100%|██████████| 4/4 [00:01<00:00,  2.31it/s]"
          ]
        },
        {
          "output_type": "stream",
          "name": "stdout",
          "text": [
            "                   all        120        120      0.991          1      0.995      0.862\n"
          ]
        },
        {
          "output_type": "stream",
          "name": "stderr",
          "text": [
            "\n"
          ]
        },
        {
          "output_type": "stream",
          "name": "stdout",
          "text": [
            "\n",
            "      Epoch    GPU_mem   box_loss   cls_loss   dfl_loss  Instances       Size\n"
          ]
        },
        {
          "output_type": "stream",
          "name": "stderr",
          "text": [
            "     34/100      2.55G     0.6629     0.4565      1.185         32        640: 100%|██████████| 79/79 [00:25<00:00,  3.11it/s]\n",
            "                 Class     Images  Instances      Box(P          R      mAP50  mAP50-95): 100%|██████████| 4/4 [00:01<00:00,  2.46it/s]"
          ]
        },
        {
          "output_type": "stream",
          "name": "stdout",
          "text": [
            "                   all        120        120      0.989          1      0.995      0.889\n"
          ]
        },
        {
          "output_type": "stream",
          "name": "stderr",
          "text": [
            "\n"
          ]
        },
        {
          "output_type": "stream",
          "name": "stdout",
          "text": [
            "\n",
            "      Epoch    GPU_mem   box_loss   cls_loss   dfl_loss  Instances       Size\n"
          ]
        },
        {
          "output_type": "stream",
          "name": "stderr",
          "text": [
            "     35/100      2.55G     0.6681     0.4444      1.181         27        640: 100%|██████████| 79/79 [00:25<00:00,  3.06it/s]\n",
            "                 Class     Images  Instances      Box(P          R      mAP50  mAP50-95): 100%|██████████| 4/4 [00:01<00:00,  2.52it/s]"
          ]
        },
        {
          "output_type": "stream",
          "name": "stdout",
          "text": [
            "                   all        120        120      0.994      0.998      0.995      0.871\n"
          ]
        },
        {
          "output_type": "stream",
          "name": "stderr",
          "text": [
            "\n"
          ]
        },
        {
          "output_type": "stream",
          "name": "stdout",
          "text": [
            "\n",
            "      Epoch    GPU_mem   box_loss   cls_loss   dfl_loss  Instances       Size\n"
          ]
        },
        {
          "output_type": "stream",
          "name": "stderr",
          "text": [
            "     36/100      2.55G     0.6674     0.4455      1.188         27        640: 100%|██████████| 79/79 [00:26<00:00,  3.03it/s]\n",
            "                 Class     Images  Instances      Box(P          R      mAP50  mAP50-95): 100%|██████████| 4/4 [00:01<00:00,  2.90it/s]"
          ]
        },
        {
          "output_type": "stream",
          "name": "stdout",
          "text": [
            "                   all        120        120      0.989      0.983      0.994      0.879\n"
          ]
        },
        {
          "output_type": "stream",
          "name": "stderr",
          "text": [
            "\n"
          ]
        },
        {
          "output_type": "stream",
          "name": "stdout",
          "text": [
            "\n",
            "      Epoch    GPU_mem   box_loss   cls_loss   dfl_loss  Instances       Size\n"
          ]
        },
        {
          "output_type": "stream",
          "name": "stderr",
          "text": [
            "     37/100      2.55G       0.67     0.4492      1.179         25        640: 100%|██████████| 79/79 [00:25<00:00,  3.05it/s]\n",
            "                 Class     Images  Instances      Box(P          R      mAP50  mAP50-95): 100%|██████████| 4/4 [00:01<00:00,  2.99it/s]"
          ]
        },
        {
          "output_type": "stream",
          "name": "stdout",
          "text": [
            "                   all        120        120      0.997          1      0.995      0.873\n"
          ]
        },
        {
          "output_type": "stream",
          "name": "stderr",
          "text": [
            "\n"
          ]
        },
        {
          "output_type": "stream",
          "name": "stdout",
          "text": [
            "\n",
            "      Epoch    GPU_mem   box_loss   cls_loss   dfl_loss  Instances       Size\n"
          ]
        },
        {
          "output_type": "stream",
          "name": "stderr",
          "text": [
            "     38/100      2.55G     0.6588     0.4244      1.174         34        640: 100%|██████████| 79/79 [00:26<00:00,  2.97it/s]\n",
            "                 Class     Images  Instances      Box(P          R      mAP50  mAP50-95): 100%|██████████| 4/4 [00:01<00:00,  2.33it/s]"
          ]
        },
        {
          "output_type": "stream",
          "name": "stdout",
          "text": [
            "                   all        120        120      0.984      0.999      0.995      0.875\n"
          ]
        },
        {
          "output_type": "stream",
          "name": "stderr",
          "text": [
            "\n"
          ]
        },
        {
          "output_type": "stream",
          "name": "stdout",
          "text": [
            "\n",
            "      Epoch    GPU_mem   box_loss   cls_loss   dfl_loss  Instances       Size\n"
          ]
        },
        {
          "output_type": "stream",
          "name": "stderr",
          "text": [
            "     39/100      2.55G     0.6522     0.4222      1.165         36        640: 100%|██████████| 79/79 [00:26<00:00,  2.99it/s]\n",
            "                 Class     Images  Instances      Box(P          R      mAP50  mAP50-95): 100%|██████████| 4/4 [00:01<00:00,  2.69it/s]"
          ]
        },
        {
          "output_type": "stream",
          "name": "stdout",
          "text": [
            "                   all        120        120      0.996      0.999      0.995      0.874\n"
          ]
        },
        {
          "output_type": "stream",
          "name": "stderr",
          "text": [
            "\n"
          ]
        },
        {
          "output_type": "stream",
          "name": "stdout",
          "text": [
            "\n",
            "      Epoch    GPU_mem   box_loss   cls_loss   dfl_loss  Instances       Size\n"
          ]
        },
        {
          "output_type": "stream",
          "name": "stderr",
          "text": [
            "     40/100      2.55G     0.6531     0.4209      1.156         37        640: 100%|██████████| 79/79 [00:26<00:00,  2.99it/s]\n",
            "                 Class     Images  Instances      Box(P          R      mAP50  mAP50-95): 100%|██████████| 4/4 [00:01<00:00,  2.65it/s]"
          ]
        },
        {
          "output_type": "stream",
          "name": "stdout",
          "text": [
            "                   all        120        120      0.997          1      0.995       0.88\n"
          ]
        },
        {
          "output_type": "stream",
          "name": "stderr",
          "text": [
            "\n"
          ]
        },
        {
          "output_type": "stream",
          "name": "stdout",
          "text": [
            "\n",
            "      Epoch    GPU_mem   box_loss   cls_loss   dfl_loss  Instances       Size\n"
          ]
        },
        {
          "output_type": "stream",
          "name": "stderr",
          "text": [
            "     41/100      2.55G     0.6609     0.4406      1.167         32        640: 100%|██████████| 79/79 [00:26<00:00,  3.03it/s]\n",
            "                 Class     Images  Instances      Box(P          R      mAP50  mAP50-95): 100%|██████████| 4/4 [00:01<00:00,  2.22it/s]"
          ]
        },
        {
          "output_type": "stream",
          "name": "stdout",
          "text": [
            "                   all        120        120      0.995          1      0.995      0.884\n"
          ]
        },
        {
          "output_type": "stream",
          "name": "stderr",
          "text": [
            "\n"
          ]
        },
        {
          "output_type": "stream",
          "name": "stdout",
          "text": [
            "\n",
            "      Epoch    GPU_mem   box_loss   cls_loss   dfl_loss  Instances       Size\n"
          ]
        },
        {
          "output_type": "stream",
          "name": "stderr",
          "text": [
            "     42/100      2.55G     0.6575     0.4139      1.171         36        640: 100%|██████████| 79/79 [00:26<00:00,  3.02it/s]\n",
            "                 Class     Images  Instances      Box(P          R      mAP50  mAP50-95): 100%|██████████| 4/4 [00:01<00:00,  2.31it/s]"
          ]
        },
        {
          "output_type": "stream",
          "name": "stdout",
          "text": [
            "                   all        120        120       0.99      0.998      0.995      0.866\n"
          ]
        },
        {
          "output_type": "stream",
          "name": "stderr",
          "text": [
            "\n"
          ]
        },
        {
          "output_type": "stream",
          "name": "stdout",
          "text": [
            "\n",
            "      Epoch    GPU_mem   box_loss   cls_loss   dfl_loss  Instances       Size\n"
          ]
        },
        {
          "output_type": "stream",
          "name": "stderr",
          "text": [
            "     43/100      2.55G     0.6436     0.4171      1.167         25        640: 100%|██████████| 79/79 [00:25<00:00,  3.05it/s]\n",
            "                 Class     Images  Instances      Box(P          R      mAP50  mAP50-95): 100%|██████████| 4/4 [00:01<00:00,  2.56it/s]"
          ]
        },
        {
          "output_type": "stream",
          "name": "stdout",
          "text": [
            "                   all        120        120       0.99       0.99      0.995      0.864\n"
          ]
        },
        {
          "output_type": "stream",
          "name": "stderr",
          "text": [
            "\n"
          ]
        },
        {
          "output_type": "stream",
          "name": "stdout",
          "text": [
            "\n",
            "      Epoch    GPU_mem   box_loss   cls_loss   dfl_loss  Instances       Size\n"
          ]
        },
        {
          "output_type": "stream",
          "name": "stderr",
          "text": [
            "     44/100      2.55G     0.6365     0.4065      1.164         31        640: 100%|██████████| 79/79 [00:26<00:00,  3.01it/s]\n",
            "                 Class     Images  Instances      Box(P          R      mAP50  mAP50-95): 100%|██████████| 4/4 [00:01<00:00,  2.23it/s]"
          ]
        },
        {
          "output_type": "stream",
          "name": "stdout",
          "text": [
            "                   all        120        120      0.995          1      0.995      0.881\n"
          ]
        },
        {
          "output_type": "stream",
          "name": "stderr",
          "text": [
            "\n"
          ]
        },
        {
          "output_type": "stream",
          "name": "stdout",
          "text": [
            "\n",
            "      Epoch    GPU_mem   box_loss   cls_loss   dfl_loss  Instances       Size\n"
          ]
        },
        {
          "output_type": "stream",
          "name": "stderr",
          "text": [
            "     45/100      2.55G      0.633     0.4057      1.153         26        640: 100%|██████████| 79/79 [00:26<00:00,  3.03it/s]\n",
            "                 Class     Images  Instances      Box(P          R      mAP50  mAP50-95): 100%|██████████| 4/4 [00:01<00:00,  2.40it/s]"
          ]
        },
        {
          "output_type": "stream",
          "name": "stdout",
          "text": [
            "                   all        120        120      0.993      0.996      0.995       0.88\n"
          ]
        },
        {
          "output_type": "stream",
          "name": "stderr",
          "text": [
            "\n"
          ]
        },
        {
          "output_type": "stream",
          "name": "stdout",
          "text": [
            "\n",
            "      Epoch    GPU_mem   box_loss   cls_loss   dfl_loss  Instances       Size\n"
          ]
        },
        {
          "output_type": "stream",
          "name": "stderr",
          "text": [
            "     46/100      2.55G     0.6364     0.4051      1.162         28        640: 100%|██████████| 79/79 [00:26<00:00,  2.99it/s]\n",
            "                 Class     Images  Instances      Box(P          R      mAP50  mAP50-95): 100%|██████████| 4/4 [00:01<00:00,  2.27it/s]"
          ]
        },
        {
          "output_type": "stream",
          "name": "stdout",
          "text": [
            "                   all        120        120      0.993      0.988      0.995       0.88\n"
          ]
        },
        {
          "output_type": "stream",
          "name": "stderr",
          "text": [
            "\n"
          ]
        },
        {
          "output_type": "stream",
          "name": "stdout",
          "text": [
            "\n",
            "      Epoch    GPU_mem   box_loss   cls_loss   dfl_loss  Instances       Size\n"
          ]
        },
        {
          "output_type": "stream",
          "name": "stderr",
          "text": [
            "     47/100      2.55G     0.6278     0.4119      1.147         30        640: 100%|██████████| 79/79 [00:25<00:00,  3.10it/s]\n",
            "                 Class     Images  Instances      Box(P          R      mAP50  mAP50-95): 100%|██████████| 4/4 [00:01<00:00,  2.82it/s]"
          ]
        },
        {
          "output_type": "stream",
          "name": "stdout",
          "text": [
            "                   all        120        120      0.996          1      0.995      0.885\n"
          ]
        },
        {
          "output_type": "stream",
          "name": "stderr",
          "text": [
            "\n"
          ]
        },
        {
          "output_type": "stream",
          "name": "stdout",
          "text": [
            "\n",
            "      Epoch    GPU_mem   box_loss   cls_loss   dfl_loss  Instances       Size\n"
          ]
        },
        {
          "output_type": "stream",
          "name": "stderr",
          "text": [
            "     48/100      2.55G     0.6277      0.409      1.152         30        640: 100%|██████████| 79/79 [00:25<00:00,  3.06it/s]\n",
            "                 Class     Images  Instances      Box(P          R      mAP50  mAP50-95): 100%|██████████| 4/4 [00:01<00:00,  2.55it/s]"
          ]
        },
        {
          "output_type": "stream",
          "name": "stdout",
          "text": [
            "                   all        120        120      0.994          1      0.995      0.877\n"
          ]
        },
        {
          "output_type": "stream",
          "name": "stderr",
          "text": [
            "\n"
          ]
        },
        {
          "output_type": "stream",
          "name": "stdout",
          "text": [
            "\n",
            "      Epoch    GPU_mem   box_loss   cls_loss   dfl_loss  Instances       Size\n"
          ]
        },
        {
          "output_type": "stream",
          "name": "stderr",
          "text": [
            "     49/100      2.55G      0.636     0.4034       1.16         26        640: 100%|██████████| 79/79 [00:25<00:00,  3.06it/s]\n",
            "                 Class     Images  Instances      Box(P          R      mAP50  mAP50-95): 100%|██████████| 4/4 [00:01<00:00,  2.38it/s]"
          ]
        },
        {
          "output_type": "stream",
          "name": "stdout",
          "text": [
            "                   all        120        120      0.988          1      0.995       0.89\n"
          ]
        },
        {
          "output_type": "stream",
          "name": "stderr",
          "text": [
            "\n"
          ]
        },
        {
          "output_type": "stream",
          "name": "stdout",
          "text": [
            "\n",
            "      Epoch    GPU_mem   box_loss   cls_loss   dfl_loss  Instances       Size\n"
          ]
        },
        {
          "output_type": "stream",
          "name": "stderr",
          "text": [
            "     50/100      2.55G     0.6376     0.4075       1.16         22        640: 100%|██████████| 79/79 [00:26<00:00,  2.95it/s]\n",
            "                 Class     Images  Instances      Box(P          R      mAP50  mAP50-95): 100%|██████████| 4/4 [00:01<00:00,  2.55it/s]"
          ]
        },
        {
          "output_type": "stream",
          "name": "stdout",
          "text": [
            "                   all        120        120      0.997          1      0.995       0.88\n"
          ]
        },
        {
          "output_type": "stream",
          "name": "stderr",
          "text": [
            "\n"
          ]
        },
        {
          "output_type": "stream",
          "name": "stdout",
          "text": [
            "\n",
            "      Epoch    GPU_mem   box_loss   cls_loss   dfl_loss  Instances       Size\n"
          ]
        },
        {
          "output_type": "stream",
          "name": "stderr",
          "text": [
            "     51/100      2.55G     0.6193     0.3974      1.147         24        640: 100%|██████████| 79/79 [00:25<00:00,  3.08it/s]\n",
            "                 Class     Images  Instances      Box(P          R      mAP50  mAP50-95): 100%|██████████| 4/4 [00:01<00:00,  2.38it/s]"
          ]
        },
        {
          "output_type": "stream",
          "name": "stdout",
          "text": [
            "                   all        120        120      0.997          1      0.995      0.881\n"
          ]
        },
        {
          "output_type": "stream",
          "name": "stderr",
          "text": [
            "\n"
          ]
        },
        {
          "output_type": "stream",
          "name": "stdout",
          "text": [
            "\n",
            "      Epoch    GPU_mem   box_loss   cls_loss   dfl_loss  Instances       Size\n"
          ]
        },
        {
          "output_type": "stream",
          "name": "stderr",
          "text": [
            "     52/100      2.57G     0.6065     0.3757      1.142         36        640: 100%|██████████| 79/79 [00:26<00:00,  2.95it/s]\n",
            "                 Class     Images  Instances      Box(P          R      mAP50  mAP50-95): 100%|██████████| 4/4 [00:01<00:00,  2.33it/s]"
          ]
        },
        {
          "output_type": "stream",
          "name": "stdout",
          "text": [
            "                   all        120        120      0.995          1      0.995       0.88\n"
          ]
        },
        {
          "output_type": "stream",
          "name": "stderr",
          "text": [
            "\n"
          ]
        },
        {
          "output_type": "stream",
          "name": "stdout",
          "text": [
            "\n",
            "      Epoch    GPU_mem   box_loss   cls_loss   dfl_loss  Instances       Size\n"
          ]
        },
        {
          "output_type": "stream",
          "name": "stderr",
          "text": [
            "     53/100      2.59G     0.6267     0.4011      1.149         37        640: 100%|██████████| 79/79 [00:26<00:00,  2.99it/s]\n",
            "                 Class     Images  Instances      Box(P          R      mAP50  mAP50-95): 100%|██████████| 4/4 [00:01<00:00,  2.49it/s]"
          ]
        },
        {
          "output_type": "stream",
          "name": "stdout",
          "text": [
            "                   all        120        120      0.997          1      0.995      0.888\n"
          ]
        },
        {
          "output_type": "stream",
          "name": "stderr",
          "text": [
            "\n"
          ]
        },
        {
          "output_type": "stream",
          "name": "stdout",
          "text": [
            "\n",
            "      Epoch    GPU_mem   box_loss   cls_loss   dfl_loss  Instances       Size\n"
          ]
        },
        {
          "output_type": "stream",
          "name": "stderr",
          "text": [
            "     54/100       2.6G     0.6006     0.3803      1.132         36        640: 100%|██████████| 79/79 [00:26<00:00,  3.00it/s]\n",
            "                 Class     Images  Instances      Box(P          R      mAP50  mAP50-95): 100%|██████████| 4/4 [00:01<00:00,  2.63it/s]"
          ]
        },
        {
          "output_type": "stream",
          "name": "stdout",
          "text": [
            "                   all        120        120      0.996          1      0.995      0.881\n"
          ]
        },
        {
          "output_type": "stream",
          "name": "stderr",
          "text": [
            "\n"
          ]
        },
        {
          "output_type": "stream",
          "name": "stdout",
          "text": [
            "\n",
            "      Epoch    GPU_mem   box_loss   cls_loss   dfl_loss  Instances       Size\n"
          ]
        },
        {
          "output_type": "stream",
          "name": "stderr",
          "text": [
            "     55/100       2.6G      0.601     0.3788       1.14         29        640: 100%|██████████| 79/79 [00:26<00:00,  3.02it/s]\n",
            "                 Class     Images  Instances      Box(P          R      mAP50  mAP50-95): 100%|██████████| 4/4 [00:01<00:00,  2.85it/s]"
          ]
        },
        {
          "output_type": "stream",
          "name": "stdout",
          "text": [
            "                   all        120        120      0.996          1      0.995      0.886\n"
          ]
        },
        {
          "output_type": "stream",
          "name": "stderr",
          "text": [
            "\n"
          ]
        },
        {
          "output_type": "stream",
          "name": "stdout",
          "text": [
            "\n",
            "      Epoch    GPU_mem   box_loss   cls_loss   dfl_loss  Instances       Size\n"
          ]
        },
        {
          "output_type": "stream",
          "name": "stderr",
          "text": [
            "     56/100       2.6G     0.6128     0.3795      1.141         38        640: 100%|██████████| 79/79 [00:26<00:00,  3.03it/s]\n",
            "                 Class     Images  Instances      Box(P          R      mAP50  mAP50-95): 100%|██████████| 4/4 [00:01<00:00,  2.38it/s]"
          ]
        },
        {
          "output_type": "stream",
          "name": "stdout",
          "text": [
            "                   all        120        120      0.997          1      0.995      0.881\n"
          ]
        },
        {
          "output_type": "stream",
          "name": "stderr",
          "text": [
            "\n"
          ]
        },
        {
          "output_type": "stream",
          "name": "stdout",
          "text": [
            "\n",
            "      Epoch    GPU_mem   box_loss   cls_loss   dfl_loss  Instances       Size\n"
          ]
        },
        {
          "output_type": "stream",
          "name": "stderr",
          "text": [
            "     57/100       2.6G     0.5931     0.3656      1.131         25        640: 100%|██████████| 79/79 [00:26<00:00,  2.97it/s]\n",
            "                 Class     Images  Instances      Box(P          R      mAP50  mAP50-95): 100%|██████████| 4/4 [00:01<00:00,  2.35it/s]"
          ]
        },
        {
          "output_type": "stream",
          "name": "stdout",
          "text": [
            "                   all        120        120      0.998          1      0.995      0.884\n"
          ]
        },
        {
          "output_type": "stream",
          "name": "stderr",
          "text": [
            "\n"
          ]
        },
        {
          "output_type": "stream",
          "name": "stdout",
          "text": [
            "\n",
            "      Epoch    GPU_mem   box_loss   cls_loss   dfl_loss  Instances       Size\n"
          ]
        },
        {
          "output_type": "stream",
          "name": "stderr",
          "text": [
            "     58/100       2.6G     0.5903     0.3638      1.127         30        640: 100%|██████████| 79/79 [00:29<00:00,  2.72it/s]\n",
            "                 Class     Images  Instances      Box(P          R      mAP50  mAP50-95): 100%|██████████| 4/4 [00:01<00:00,  2.23it/s]"
          ]
        },
        {
          "output_type": "stream",
          "name": "stdout",
          "text": [
            "                   all        120        120      0.996          1      0.995      0.888\n"
          ]
        },
        {
          "output_type": "stream",
          "name": "stderr",
          "text": [
            "\n"
          ]
        },
        {
          "output_type": "stream",
          "name": "stdout",
          "text": [
            "\n",
            "      Epoch    GPU_mem   box_loss   cls_loss   dfl_loss  Instances       Size\n"
          ]
        },
        {
          "output_type": "stream",
          "name": "stderr",
          "text": [
            "     59/100       2.6G     0.5995     0.3634      1.132         27        640: 100%|██████████| 79/79 [00:26<00:00,  3.00it/s]\n",
            "                 Class     Images  Instances      Box(P          R      mAP50  mAP50-95): 100%|██████████| 4/4 [00:01<00:00,  2.41it/s]"
          ]
        },
        {
          "output_type": "stream",
          "name": "stdout",
          "text": [
            "                   all        120        120      0.997          1      0.995      0.883\n"
          ]
        },
        {
          "output_type": "stream",
          "name": "stderr",
          "text": [
            "\n"
          ]
        },
        {
          "output_type": "stream",
          "name": "stdout",
          "text": [
            "\n",
            "      Epoch    GPU_mem   box_loss   cls_loss   dfl_loss  Instances       Size\n"
          ]
        },
        {
          "output_type": "stream",
          "name": "stderr",
          "text": [
            "     60/100       2.6G     0.5795     0.3689      1.119         35        640: 100%|██████████| 79/79 [00:26<00:00,  2.95it/s]\n",
            "                 Class     Images  Instances      Box(P          R      mAP50  mAP50-95): 100%|██████████| 4/4 [00:01<00:00,  2.67it/s]"
          ]
        },
        {
          "output_type": "stream",
          "name": "stdout",
          "text": [
            "                   all        120        120      0.994      0.999      0.995      0.894\n"
          ]
        },
        {
          "output_type": "stream",
          "name": "stderr",
          "text": [
            "\n"
          ]
        },
        {
          "output_type": "stream",
          "name": "stdout",
          "text": [
            "\n",
            "      Epoch    GPU_mem   box_loss   cls_loss   dfl_loss  Instances       Size\n"
          ]
        },
        {
          "output_type": "stream",
          "name": "stderr",
          "text": [
            "     61/100       2.6G     0.5888     0.3681      1.126         30        640: 100%|██████████| 79/79 [00:27<00:00,  2.89it/s]\n",
            "                 Class     Images  Instances      Box(P          R      mAP50  mAP50-95): 100%|██████████| 4/4 [00:01<00:00,  2.49it/s]"
          ]
        },
        {
          "output_type": "stream",
          "name": "stdout",
          "text": [
            "                   all        120        120      0.995          1      0.995       0.89\n"
          ]
        },
        {
          "output_type": "stream",
          "name": "stderr",
          "text": [
            "\n"
          ]
        },
        {
          "output_type": "stream",
          "name": "stdout",
          "text": [
            "\n",
            "      Epoch    GPU_mem   box_loss   cls_loss   dfl_loss  Instances       Size\n"
          ]
        },
        {
          "output_type": "stream",
          "name": "stderr",
          "text": [
            "     62/100       2.6G      0.581     0.3624      1.121         20        640: 100%|██████████| 79/79 [00:26<00:00,  2.96it/s]\n",
            "                 Class     Images  Instances      Box(P          R      mAP50  mAP50-95): 100%|██████████| 4/4 [00:01<00:00,  2.14it/s]"
          ]
        },
        {
          "output_type": "stream",
          "name": "stdout",
          "text": [
            "                   all        120        120      0.996          1      0.995      0.878\n"
          ]
        },
        {
          "output_type": "stream",
          "name": "stderr",
          "text": [
            "\n"
          ]
        },
        {
          "output_type": "stream",
          "name": "stdout",
          "text": [
            "\n",
            "      Epoch    GPU_mem   box_loss   cls_loss   dfl_loss  Instances       Size\n"
          ]
        },
        {
          "output_type": "stream",
          "name": "stderr",
          "text": [
            "     63/100       2.6G      0.579     0.3558      1.125         30        640: 100%|██████████| 79/79 [00:26<00:00,  3.00it/s]\n",
            "                 Class     Images  Instances      Box(P          R      mAP50  mAP50-95): 100%|██████████| 4/4 [00:01<00:00,  2.81it/s]"
          ]
        },
        {
          "output_type": "stream",
          "name": "stdout",
          "text": [
            "                   all        120        120      0.997          1      0.995      0.883\n"
          ]
        },
        {
          "output_type": "stream",
          "name": "stderr",
          "text": [
            "\n"
          ]
        },
        {
          "output_type": "stream",
          "name": "stdout",
          "text": [
            "\n",
            "      Epoch    GPU_mem   box_loss   cls_loss   dfl_loss  Instances       Size\n"
          ]
        },
        {
          "output_type": "stream",
          "name": "stderr",
          "text": [
            "     64/100       2.6G     0.5855     0.3712      1.121         26        640: 100%|██████████| 79/79 [00:25<00:00,  3.05it/s]\n",
            "                 Class     Images  Instances      Box(P          R      mAP50  mAP50-95): 100%|██████████| 4/4 [00:01<00:00,  2.61it/s]"
          ]
        },
        {
          "output_type": "stream",
          "name": "stdout",
          "text": [
            "                   all        120        120      0.997          1      0.995      0.884\n"
          ]
        },
        {
          "output_type": "stream",
          "name": "stderr",
          "text": [
            "\n"
          ]
        },
        {
          "output_type": "stream",
          "name": "stdout",
          "text": [
            "\n",
            "      Epoch    GPU_mem   box_loss   cls_loss   dfl_loss  Instances       Size\n"
          ]
        },
        {
          "output_type": "stream",
          "name": "stderr",
          "text": [
            "     65/100       2.6G     0.5908      0.367      1.122         27        640: 100%|██████████| 79/79 [00:27<00:00,  2.85it/s]\n",
            "                 Class     Images  Instances      Box(P          R      mAP50  mAP50-95): 100%|██████████| 4/4 [00:01<00:00,  2.27it/s]"
          ]
        },
        {
          "output_type": "stream",
          "name": "stdout",
          "text": [
            "                   all        120        120      0.997          1      0.995      0.904\n"
          ]
        },
        {
          "output_type": "stream",
          "name": "stderr",
          "text": [
            "\n"
          ]
        },
        {
          "output_type": "stream",
          "name": "stdout",
          "text": [
            "\n",
            "      Epoch    GPU_mem   box_loss   cls_loss   dfl_loss  Instances       Size\n"
          ]
        },
        {
          "output_type": "stream",
          "name": "stderr",
          "text": [
            "     66/100       2.6G     0.5712     0.3537      1.119         41        640: 100%|██████████| 79/79 [00:26<00:00,  2.93it/s]\n",
            "                 Class     Images  Instances      Box(P          R      mAP50  mAP50-95): 100%|██████████| 4/4 [00:01<00:00,  2.33it/s]"
          ]
        },
        {
          "output_type": "stream",
          "name": "stdout",
          "text": [
            "                   all        120        120      0.996      0.996      0.995      0.892\n"
          ]
        },
        {
          "output_type": "stream",
          "name": "stderr",
          "text": [
            "\n"
          ]
        },
        {
          "output_type": "stream",
          "name": "stdout",
          "text": [
            "\n",
            "      Epoch    GPU_mem   box_loss   cls_loss   dfl_loss  Instances       Size\n"
          ]
        },
        {
          "output_type": "stream",
          "name": "stderr",
          "text": [
            "     67/100       2.6G     0.5736     0.3507      1.118         24        640: 100%|██████████| 79/79 [00:26<00:00,  2.97it/s]\n",
            "                 Class     Images  Instances      Box(P          R      mAP50  mAP50-95): 100%|██████████| 4/4 [00:01<00:00,  2.47it/s]"
          ]
        },
        {
          "output_type": "stream",
          "name": "stdout",
          "text": [
            "                   all        120        120      0.995      0.998      0.995      0.889\n"
          ]
        },
        {
          "output_type": "stream",
          "name": "stderr",
          "text": [
            "\n"
          ]
        },
        {
          "output_type": "stream",
          "name": "stdout",
          "text": [
            "\n",
            "      Epoch    GPU_mem   box_loss   cls_loss   dfl_loss  Instances       Size\n"
          ]
        },
        {
          "output_type": "stream",
          "name": "stderr",
          "text": [
            "     68/100       2.6G     0.5744     0.3567      1.124         26        640: 100%|██████████| 79/79 [00:26<00:00,  3.01it/s]\n",
            "                 Class     Images  Instances      Box(P          R      mAP50  mAP50-95): 100%|██████████| 4/4 [00:01<00:00,  2.52it/s]"
          ]
        },
        {
          "output_type": "stream",
          "name": "stdout",
          "text": [
            "                   all        120        120      0.996          1      0.995       0.88\n"
          ]
        },
        {
          "output_type": "stream",
          "name": "stderr",
          "text": [
            "\n"
          ]
        },
        {
          "output_type": "stream",
          "name": "stdout",
          "text": [
            "\n",
            "      Epoch    GPU_mem   box_loss   cls_loss   dfl_loss  Instances       Size\n"
          ]
        },
        {
          "output_type": "stream",
          "name": "stderr",
          "text": [
            "     69/100       2.6G     0.5506     0.3477      1.098         25        640: 100%|██████████| 79/79 [00:27<00:00,  2.92it/s]\n",
            "                 Class     Images  Instances      Box(P          R      mAP50  mAP50-95): 100%|██████████| 4/4 [00:01<00:00,  2.53it/s]"
          ]
        },
        {
          "output_type": "stream",
          "name": "stdout",
          "text": [
            "                   all        120        120      0.996          1      0.995      0.892\n"
          ]
        },
        {
          "output_type": "stream",
          "name": "stderr",
          "text": [
            "\n"
          ]
        },
        {
          "output_type": "stream",
          "name": "stdout",
          "text": [
            "\n",
            "      Epoch    GPU_mem   box_loss   cls_loss   dfl_loss  Instances       Size\n"
          ]
        },
        {
          "output_type": "stream",
          "name": "stderr",
          "text": [
            "     70/100       2.6G     0.5797     0.3527      1.128         32        640: 100%|██████████| 79/79 [00:26<00:00,  3.04it/s]\n",
            "                 Class     Images  Instances      Box(P          R      mAP50  mAP50-95): 100%|██████████| 4/4 [00:01<00:00,  2.34it/s]"
          ]
        },
        {
          "output_type": "stream",
          "name": "stdout",
          "text": [
            "                   all        120        120      0.997          1      0.995      0.889\n"
          ]
        },
        {
          "output_type": "stream",
          "name": "stderr",
          "text": [
            "\n"
          ]
        },
        {
          "output_type": "stream",
          "name": "stdout",
          "text": [
            "\n",
            "      Epoch    GPU_mem   box_loss   cls_loss   dfl_loss  Instances       Size\n"
          ]
        },
        {
          "output_type": "stream",
          "name": "stderr",
          "text": [
            "     71/100       2.6G     0.5583     0.3424      1.114         31        640: 100%|██████████| 79/79 [00:27<00:00,  2.90it/s]\n",
            "                 Class     Images  Instances      Box(P          R      mAP50  mAP50-95): 100%|██████████| 4/4 [00:01<00:00,  2.54it/s]"
          ]
        },
        {
          "output_type": "stream",
          "name": "stdout",
          "text": [
            "                   all        120        120      0.997          1      0.995      0.895\n"
          ]
        },
        {
          "output_type": "stream",
          "name": "stderr",
          "text": [
            "\n"
          ]
        },
        {
          "output_type": "stream",
          "name": "stdout",
          "text": [
            "\n",
            "      Epoch    GPU_mem   box_loss   cls_loss   dfl_loss  Instances       Size\n"
          ]
        },
        {
          "output_type": "stream",
          "name": "stderr",
          "text": [
            "     72/100       2.6G     0.5656     0.3466      1.113         30        640: 100%|██████████| 79/79 [00:27<00:00,  2.90it/s]\n",
            "                 Class     Images  Instances      Box(P          R      mAP50  mAP50-95): 100%|██████████| 4/4 [00:01<00:00,  2.74it/s]"
          ]
        },
        {
          "output_type": "stream",
          "name": "stdout",
          "text": [
            "                   all        120        120      0.996          1      0.995      0.886\n"
          ]
        },
        {
          "output_type": "stream",
          "name": "stderr",
          "text": [
            "\n"
          ]
        },
        {
          "output_type": "stream",
          "name": "stdout",
          "text": [
            "\n",
            "      Epoch    GPU_mem   box_loss   cls_loss   dfl_loss  Instances       Size\n"
          ]
        },
        {
          "output_type": "stream",
          "name": "stderr",
          "text": [
            "     73/100       2.6G     0.5629     0.3415      1.114         32        640: 100%|██████████| 79/79 [00:26<00:00,  3.01it/s]\n",
            "                 Class     Images  Instances      Box(P          R      mAP50  mAP50-95): 100%|██████████| 4/4 [00:01<00:00,  2.42it/s]"
          ]
        },
        {
          "output_type": "stream",
          "name": "stdout",
          "text": [
            "                   all        120        120      0.997          1      0.995      0.889\n"
          ]
        },
        {
          "output_type": "stream",
          "name": "stderr",
          "text": [
            "\n"
          ]
        },
        {
          "output_type": "stream",
          "name": "stdout",
          "text": [
            "\n",
            "      Epoch    GPU_mem   box_loss   cls_loss   dfl_loss  Instances       Size\n"
          ]
        },
        {
          "output_type": "stream",
          "name": "stderr",
          "text": [
            "     74/100       2.6G     0.5434     0.3345      1.098         28        640: 100%|██████████| 79/79 [00:26<00:00,  3.00it/s]\n",
            "                 Class     Images  Instances      Box(P          R      mAP50  mAP50-95): 100%|██████████| 4/4 [00:01<00:00,  2.48it/s]"
          ]
        },
        {
          "output_type": "stream",
          "name": "stdout",
          "text": [
            "                   all        120        120      0.995          1      0.995      0.893\n"
          ]
        },
        {
          "output_type": "stream",
          "name": "stderr",
          "text": [
            "\n"
          ]
        },
        {
          "output_type": "stream",
          "name": "stdout",
          "text": [
            "\n",
            "      Epoch    GPU_mem   box_loss   cls_loss   dfl_loss  Instances       Size\n"
          ]
        },
        {
          "output_type": "stream",
          "name": "stderr",
          "text": [
            "     75/100       2.6G     0.5538     0.3353      1.111         28        640: 100%|██████████| 79/79 [00:26<00:00,  2.94it/s]\n",
            "                 Class     Images  Instances      Box(P          R      mAP50  mAP50-95): 100%|██████████| 4/4 [00:01<00:00,  2.53it/s]"
          ]
        },
        {
          "output_type": "stream",
          "name": "stdout",
          "text": [
            "                   all        120        120      0.996          1      0.995      0.891\n"
          ]
        },
        {
          "output_type": "stream",
          "name": "stderr",
          "text": [
            "\n"
          ]
        },
        {
          "output_type": "stream",
          "name": "stdout",
          "text": [
            "\n",
            "      Epoch    GPU_mem   box_loss   cls_loss   dfl_loss  Instances       Size\n"
          ]
        },
        {
          "output_type": "stream",
          "name": "stderr",
          "text": [
            "     76/100       2.6G     0.5479     0.3316      1.106         22        640: 100%|██████████| 79/79 [00:26<00:00,  2.98it/s]\n",
            "                 Class     Images  Instances      Box(P          R      mAP50  mAP50-95): 100%|██████████| 4/4 [00:01<00:00,  2.40it/s]"
          ]
        },
        {
          "output_type": "stream",
          "name": "stdout",
          "text": [
            "                   all        120        120      0.996          1      0.995       0.87\n"
          ]
        },
        {
          "output_type": "stream",
          "name": "stderr",
          "text": [
            "\n"
          ]
        },
        {
          "output_type": "stream",
          "name": "stdout",
          "text": [
            "\n",
            "      Epoch    GPU_mem   box_loss   cls_loss   dfl_loss  Instances       Size\n"
          ]
        },
        {
          "output_type": "stream",
          "name": "stderr",
          "text": [
            "     77/100       2.6G     0.5462     0.3337      1.104         29        640: 100%|██████████| 79/79 [00:26<00:00,  2.97it/s]\n",
            "                 Class     Images  Instances      Box(P          R      mAP50  mAP50-95): 100%|██████████| 4/4 [00:01<00:00,  2.27it/s]"
          ]
        },
        {
          "output_type": "stream",
          "name": "stdout",
          "text": [
            "                   all        120        120      0.996          1      0.995       0.89\n"
          ]
        },
        {
          "output_type": "stream",
          "name": "stderr",
          "text": [
            "\n"
          ]
        },
        {
          "output_type": "stream",
          "name": "stdout",
          "text": [
            "\n",
            "      Epoch    GPU_mem   box_loss   cls_loss   dfl_loss  Instances       Size\n"
          ]
        },
        {
          "output_type": "stream",
          "name": "stderr",
          "text": [
            "     78/100       2.6G     0.5395     0.3279      1.102         32        640: 100%|██████████| 79/79 [00:26<00:00,  2.97it/s]\n",
            "                 Class     Images  Instances      Box(P          R      mAP50  mAP50-95): 100%|██████████| 4/4 [00:01<00:00,  2.69it/s]"
          ]
        },
        {
          "output_type": "stream",
          "name": "stdout",
          "text": [
            "                   all        120        120      0.996          1      0.995      0.898\n"
          ]
        },
        {
          "output_type": "stream",
          "name": "stderr",
          "text": [
            "\n"
          ]
        },
        {
          "output_type": "stream",
          "name": "stdout",
          "text": [
            "\n",
            "      Epoch    GPU_mem   box_loss   cls_loss   dfl_loss  Instances       Size\n"
          ]
        },
        {
          "output_type": "stream",
          "name": "stderr",
          "text": [
            "     79/100       2.6G     0.5313     0.3208      1.097         23        640: 100%|██████████| 79/79 [00:26<00:00,  3.03it/s]\n",
            "                 Class     Images  Instances      Box(P          R      mAP50  mAP50-95): 100%|██████████| 4/4 [00:01<00:00,  2.41it/s]"
          ]
        },
        {
          "output_type": "stream",
          "name": "stdout",
          "text": [
            "                   all        120        120      0.996          1      0.995      0.886\n"
          ]
        },
        {
          "output_type": "stream",
          "name": "stderr",
          "text": [
            "\n"
          ]
        },
        {
          "output_type": "stream",
          "name": "stdout",
          "text": [
            "\n",
            "      Epoch    GPU_mem   box_loss   cls_loss   dfl_loss  Instances       Size\n"
          ]
        },
        {
          "output_type": "stream",
          "name": "stderr",
          "text": [
            "     80/100       2.6G     0.5441     0.3194      1.098         31        640: 100%|██████████| 79/79 [00:26<00:00,  2.97it/s]\n",
            "                 Class     Images  Instances      Box(P          R      mAP50  mAP50-95): 100%|██████████| 4/4 [00:01<00:00,  2.49it/s]"
          ]
        },
        {
          "output_type": "stream",
          "name": "stdout",
          "text": [
            "                   all        120        120      0.997          1      0.995      0.891\n"
          ]
        },
        {
          "output_type": "stream",
          "name": "stderr",
          "text": [
            "\n"
          ]
        },
        {
          "output_type": "stream",
          "name": "stdout",
          "text": [
            "\n",
            "      Epoch    GPU_mem   box_loss   cls_loss   dfl_loss  Instances       Size\n"
          ]
        },
        {
          "output_type": "stream",
          "name": "stderr",
          "text": [
            "     81/100       2.6G     0.5149     0.3161      1.083         30        640: 100%|██████████| 79/79 [00:26<00:00,  2.97it/s]\n",
            "                 Class     Images  Instances      Box(P          R      mAP50  mAP50-95): 100%|██████████| 4/4 [00:01<00:00,  2.61it/s]"
          ]
        },
        {
          "output_type": "stream",
          "name": "stdout",
          "text": [
            "                   all        120        120      0.997          1      0.995      0.881\n"
          ]
        },
        {
          "output_type": "stream",
          "name": "stderr",
          "text": [
            "\n"
          ]
        },
        {
          "output_type": "stream",
          "name": "stdout",
          "text": [
            "\n",
            "      Epoch    GPU_mem   box_loss   cls_loss   dfl_loss  Instances       Size\n"
          ]
        },
        {
          "output_type": "stream",
          "name": "stderr",
          "text": [
            "     82/100       2.6G     0.5321     0.3212      1.089         28        640: 100%|██████████| 79/79 [00:26<00:00,  2.94it/s]\n",
            "                 Class     Images  Instances      Box(P          R      mAP50  mAP50-95): 100%|██████████| 4/4 [00:01<00:00,  2.54it/s]"
          ]
        },
        {
          "output_type": "stream",
          "name": "stdout",
          "text": [
            "                   all        120        120      0.997          1      0.995      0.891\n"
          ]
        },
        {
          "output_type": "stream",
          "name": "stderr",
          "text": [
            "\n"
          ]
        },
        {
          "output_type": "stream",
          "name": "stdout",
          "text": [
            "\n",
            "      Epoch    GPU_mem   box_loss   cls_loss   dfl_loss  Instances       Size\n"
          ]
        },
        {
          "output_type": "stream",
          "name": "stderr",
          "text": [
            "     83/100       2.6G     0.5131     0.3174      1.081         25        640: 100%|██████████| 79/79 [00:27<00:00,  2.91it/s]\n",
            "                 Class     Images  Instances      Box(P          R      mAP50  mAP50-95): 100%|██████████| 4/4 [00:01<00:00,  2.22it/s]"
          ]
        },
        {
          "output_type": "stream",
          "name": "stdout",
          "text": [
            "                   all        120        120      0.997          1      0.995      0.897\n"
          ]
        },
        {
          "output_type": "stream",
          "name": "stderr",
          "text": [
            "\n"
          ]
        },
        {
          "output_type": "stream",
          "name": "stdout",
          "text": [
            "\n",
            "      Epoch    GPU_mem   box_loss   cls_loss   dfl_loss  Instances       Size\n"
          ]
        },
        {
          "output_type": "stream",
          "name": "stderr",
          "text": [
            "     84/100       2.6G     0.5076     0.3116      1.081         23        640: 100%|██████████| 79/79 [00:26<00:00,  2.94it/s]\n",
            "                 Class     Images  Instances      Box(P          R      mAP50  mAP50-95): 100%|██████████| 4/4 [00:01<00:00,  2.50it/s]"
          ]
        },
        {
          "output_type": "stream",
          "name": "stdout",
          "text": [
            "                   all        120        120      0.997          1      0.995       0.89\n"
          ]
        },
        {
          "output_type": "stream",
          "name": "stderr",
          "text": [
            "\n"
          ]
        },
        {
          "output_type": "stream",
          "name": "stdout",
          "text": [
            "\n",
            "      Epoch    GPU_mem   box_loss   cls_loss   dfl_loss  Instances       Size\n"
          ]
        },
        {
          "output_type": "stream",
          "name": "stderr",
          "text": [
            "     85/100       2.6G     0.5151     0.3134      1.086         28        640: 100%|██████████| 79/79 [00:27<00:00,  2.90it/s]\n",
            "                 Class     Images  Instances      Box(P          R      mAP50  mAP50-95): 100%|██████████| 4/4 [00:01<00:00,  2.28it/s]"
          ]
        },
        {
          "output_type": "stream",
          "name": "stdout",
          "text": [
            "                   all        120        120      0.997          1      0.995      0.891\n"
          ]
        },
        {
          "output_type": "stream",
          "name": "stderr",
          "text": [
            "\n"
          ]
        },
        {
          "output_type": "stream",
          "name": "stdout",
          "text": [
            "\n",
            "      Epoch    GPU_mem   box_loss   cls_loss   dfl_loss  Instances       Size\n"
          ]
        },
        {
          "output_type": "stream",
          "name": "stderr",
          "text": [
            "     86/100       2.6G     0.5048     0.3119       1.08         31        640: 100%|██████████| 79/79 [00:26<00:00,  2.93it/s]\n",
            "                 Class     Images  Instances      Box(P          R      mAP50  mAP50-95): 100%|██████████| 4/4 [00:01<00:00,  2.71it/s]"
          ]
        },
        {
          "output_type": "stream",
          "name": "stdout",
          "text": [
            "                   all        120        120      0.996          1      0.995      0.884\n"
          ]
        },
        {
          "output_type": "stream",
          "name": "stderr",
          "text": [
            "\n"
          ]
        },
        {
          "output_type": "stream",
          "name": "stdout",
          "text": [
            "\n",
            "      Epoch    GPU_mem   box_loss   cls_loss   dfl_loss  Instances       Size\n"
          ]
        },
        {
          "output_type": "stream",
          "name": "stderr",
          "text": [
            "     87/100       2.6G     0.5126     0.3111      1.085         32        640: 100%|██████████| 79/79 [00:26<00:00,  2.98it/s]\n",
            "                 Class     Images  Instances      Box(P          R      mAP50  mAP50-95): 100%|██████████| 4/4 [00:01<00:00,  2.44it/s]"
          ]
        },
        {
          "output_type": "stream",
          "name": "stdout",
          "text": [
            "                   all        120        120      0.995          1      0.995      0.882\n"
          ]
        },
        {
          "output_type": "stream",
          "name": "stderr",
          "text": [
            "\n"
          ]
        },
        {
          "output_type": "stream",
          "name": "stdout",
          "text": [
            "\n",
            "      Epoch    GPU_mem   box_loss   cls_loss   dfl_loss  Instances       Size\n"
          ]
        },
        {
          "output_type": "stream",
          "name": "stderr",
          "text": [
            "     88/100       2.6G     0.5033     0.3073      1.077         30        640: 100%|██████████| 79/79 [00:27<00:00,  2.90it/s]\n",
            "                 Class     Images  Instances      Box(P          R      mAP50  mAP50-95): 100%|██████████| 4/4 [00:01<00:00,  2.82it/s]"
          ]
        },
        {
          "output_type": "stream",
          "name": "stdout",
          "text": [
            "                   all        120        120      0.996          1      0.995      0.889\n"
          ]
        },
        {
          "output_type": "stream",
          "name": "stderr",
          "text": [
            "\n"
          ]
        },
        {
          "output_type": "stream",
          "name": "stdout",
          "text": [
            "\n",
            "      Epoch    GPU_mem   box_loss   cls_loss   dfl_loss  Instances       Size\n"
          ]
        },
        {
          "output_type": "stream",
          "name": "stderr",
          "text": [
            "     89/100       2.6G      0.512     0.3032      1.089         28        640: 100%|██████████| 79/79 [00:26<00:00,  2.97it/s]\n",
            "                 Class     Images  Instances      Box(P          R      mAP50  mAP50-95): 100%|██████████| 4/4 [00:01<00:00,  2.46it/s]"
          ]
        },
        {
          "output_type": "stream",
          "name": "stdout",
          "text": [
            "                   all        120        120      0.997          1      0.995      0.881\n"
          ]
        },
        {
          "output_type": "stream",
          "name": "stderr",
          "text": [
            "\n"
          ]
        },
        {
          "output_type": "stream",
          "name": "stdout",
          "text": [
            "\n",
            "      Epoch    GPU_mem   box_loss   cls_loss   dfl_loss  Instances       Size\n"
          ]
        },
        {
          "output_type": "stream",
          "name": "stderr",
          "text": [
            "     90/100       2.6G     0.4969     0.3089      1.077         27        640: 100%|██████████| 79/79 [00:26<00:00,  2.95it/s]\n",
            "                 Class     Images  Instances      Box(P          R      mAP50  mAP50-95): 100%|██████████| 4/4 [00:01<00:00,  2.58it/s]"
          ]
        },
        {
          "output_type": "stream",
          "name": "stdout",
          "text": [
            "                   all        120        120      0.997          1      0.995      0.893\n"
          ]
        },
        {
          "output_type": "stream",
          "name": "stderr",
          "text": [
            "\n"
          ]
        },
        {
          "output_type": "stream",
          "name": "stdout",
          "text": [
            "Closing dataloader mosaic\n",
            "\u001b[34m\u001b[1malbumentations: \u001b[0mBlur(p=0.01, blur_limit=(3, 7)), MedianBlur(p=0.01, blur_limit=(3, 7)), ToGray(p=0.01, method='weighted_average', num_output_channels=3), CLAHE(p=0.01, clip_limit=(1.0, 4.0), tile_grid_size=(8, 8))\n",
            "\n",
            "      Epoch    GPU_mem   box_loss   cls_loss   dfl_loss  Instances       Size\n"
          ]
        },
        {
          "output_type": "stream",
          "name": "stderr",
          "text": [
            "     91/100       2.6G     0.3272     0.2076     0.9842         12        640: 100%|██████████| 79/79 [00:27<00:00,  2.86it/s]\n",
            "                 Class     Images  Instances      Box(P          R      mAP50  mAP50-95): 100%|██████████| 4/4 [00:01<00:00,  2.78it/s]"
          ]
        },
        {
          "output_type": "stream",
          "name": "stdout",
          "text": [
            "                   all        120        120      0.996          1      0.995      0.886\n"
          ]
        },
        {
          "output_type": "stream",
          "name": "stderr",
          "text": [
            "\n"
          ]
        },
        {
          "output_type": "stream",
          "name": "stdout",
          "text": [
            "\n",
            "      Epoch    GPU_mem   box_loss   cls_loss   dfl_loss  Instances       Size\n"
          ]
        },
        {
          "output_type": "stream",
          "name": "stderr",
          "text": [
            "     92/100       2.6G       0.32     0.1911     0.9754         12        640: 100%|██████████| 79/79 [00:25<00:00,  3.06it/s]\n",
            "                 Class     Images  Instances      Box(P          R      mAP50  mAP50-95): 100%|██████████| 4/4 [00:01<00:00,  2.99it/s]"
          ]
        },
        {
          "output_type": "stream",
          "name": "stdout",
          "text": [
            "                   all        120        120      0.996          1      0.995      0.895\n"
          ]
        },
        {
          "output_type": "stream",
          "name": "stderr",
          "text": [
            "\n"
          ]
        },
        {
          "output_type": "stream",
          "name": "stdout",
          "text": [
            "\n",
            "      Epoch    GPU_mem   box_loss   cls_loss   dfl_loss  Instances       Size\n"
          ]
        },
        {
          "output_type": "stream",
          "name": "stderr",
          "text": [
            "     93/100       2.6G     0.3114     0.1863     0.9704         12        640: 100%|██████████| 79/79 [00:25<00:00,  3.11it/s]\n",
            "                 Class     Images  Instances      Box(P          R      mAP50  mAP50-95): 100%|██████████| 4/4 [00:01<00:00,  2.61it/s]"
          ]
        },
        {
          "output_type": "stream",
          "name": "stdout",
          "text": [
            "                   all        120        120      0.996          1      0.995       0.89\n"
          ]
        },
        {
          "output_type": "stream",
          "name": "stderr",
          "text": [
            "\n"
          ]
        },
        {
          "output_type": "stream",
          "name": "stdout",
          "text": [
            "\n",
            "      Epoch    GPU_mem   box_loss   cls_loss   dfl_loss  Instances       Size\n"
          ]
        },
        {
          "output_type": "stream",
          "name": "stderr",
          "text": [
            "     94/100       2.6G     0.2984       0.18     0.9598         12        640: 100%|██████████| 79/79 [00:25<00:00,  3.09it/s]\n",
            "                 Class     Images  Instances      Box(P          R      mAP50  mAP50-95): 100%|██████████| 4/4 [00:01<00:00,  2.66it/s]"
          ]
        },
        {
          "output_type": "stream",
          "name": "stdout",
          "text": [
            "                   all        120        120      0.997          1      0.995      0.898\n"
          ]
        },
        {
          "output_type": "stream",
          "name": "stderr",
          "text": [
            "\n"
          ]
        },
        {
          "output_type": "stream",
          "name": "stdout",
          "text": [
            "\n",
            "      Epoch    GPU_mem   box_loss   cls_loss   dfl_loss  Instances       Size\n"
          ]
        },
        {
          "output_type": "stream",
          "name": "stderr",
          "text": [
            "     95/100       2.6G     0.3049     0.1864     0.9669         12        640: 100%|██████████| 79/79 [00:25<00:00,  3.07it/s]\n",
            "                 Class     Images  Instances      Box(P          R      mAP50  mAP50-95): 100%|██████████| 4/4 [00:01<00:00,  2.56it/s]"
          ]
        },
        {
          "output_type": "stream",
          "name": "stdout",
          "text": [
            "                   all        120        120      0.996          1      0.995      0.892\n"
          ]
        },
        {
          "output_type": "stream",
          "name": "stderr",
          "text": [
            "\n"
          ]
        },
        {
          "output_type": "stream",
          "name": "stdout",
          "text": [
            "\n",
            "      Epoch    GPU_mem   box_loss   cls_loss   dfl_loss  Instances       Size\n"
          ]
        },
        {
          "output_type": "stream",
          "name": "stderr",
          "text": [
            "     96/100       2.6G     0.2938     0.1772     0.9534         12        640: 100%|██████████| 79/79 [00:24<00:00,  3.24it/s]\n",
            "                 Class     Images  Instances      Box(P          R      mAP50  mAP50-95): 100%|██████████| 4/4 [00:02<00:00,  1.72it/s]"
          ]
        },
        {
          "output_type": "stream",
          "name": "stdout",
          "text": [
            "                   all        120        120      0.997          1      0.995      0.891\n"
          ]
        },
        {
          "output_type": "stream",
          "name": "stderr",
          "text": [
            "\n"
          ]
        },
        {
          "output_type": "stream",
          "name": "stdout",
          "text": [
            "\n",
            "      Epoch    GPU_mem   box_loss   cls_loss   dfl_loss  Instances       Size\n"
          ]
        },
        {
          "output_type": "stream",
          "name": "stderr",
          "text": [
            "     97/100       2.6G     0.2962     0.1776     0.9628         12        640: 100%|██████████| 79/79 [00:23<00:00,  3.30it/s]\n",
            "                 Class     Images  Instances      Box(P          R      mAP50  mAP50-95): 100%|██████████| 4/4 [00:02<00:00,  1.63it/s]"
          ]
        },
        {
          "output_type": "stream",
          "name": "stdout",
          "text": [
            "                   all        120        120      0.997          1      0.995      0.894\n"
          ]
        },
        {
          "output_type": "stream",
          "name": "stderr",
          "text": [
            "\n"
          ]
        },
        {
          "output_type": "stream",
          "name": "stdout",
          "text": [
            "\n",
            "      Epoch    GPU_mem   box_loss   cls_loss   dfl_loss  Instances       Size\n"
          ]
        },
        {
          "output_type": "stream",
          "name": "stderr",
          "text": [
            "     98/100       2.6G     0.2894     0.1759     0.9455         12        640: 100%|██████████| 79/79 [00:24<00:00,  3.25it/s]\n",
            "                 Class     Images  Instances      Box(P          R      mAP50  mAP50-95): 100%|██████████| 4/4 [00:01<00:00,  2.17it/s]"
          ]
        },
        {
          "output_type": "stream",
          "name": "stdout",
          "text": [
            "                   all        120        120      0.997          1      0.995      0.897\n"
          ]
        },
        {
          "output_type": "stream",
          "name": "stderr",
          "text": [
            "\n"
          ]
        },
        {
          "output_type": "stream",
          "name": "stdout",
          "text": [
            "\n",
            "      Epoch    GPU_mem   box_loss   cls_loss   dfl_loss  Instances       Size\n"
          ]
        },
        {
          "output_type": "stream",
          "name": "stderr",
          "text": [
            "     99/100       2.6G     0.2852     0.1734     0.9567         12        640: 100%|██████████| 79/79 [00:24<00:00,  3.19it/s]\n",
            "                 Class     Images  Instances      Box(P          R      mAP50  mAP50-95): 100%|██████████| 4/4 [00:01<00:00,  2.78it/s]"
          ]
        },
        {
          "output_type": "stream",
          "name": "stdout",
          "text": [
            "                   all        120        120      0.997          1      0.995      0.894\n"
          ]
        },
        {
          "output_type": "stream",
          "name": "stderr",
          "text": [
            "\n"
          ]
        },
        {
          "output_type": "stream",
          "name": "stdout",
          "text": [
            "\n",
            "      Epoch    GPU_mem   box_loss   cls_loss   dfl_loss  Instances       Size\n"
          ]
        },
        {
          "output_type": "stream",
          "name": "stderr",
          "text": [
            "    100/100       2.6G     0.2883     0.1772     0.9522         12        640: 100%|██████████| 79/79 [00:25<00:00,  3.09it/s]\n",
            "                 Class     Images  Instances      Box(P          R      mAP50  mAP50-95): 100%|██████████| 4/4 [00:01<00:00,  2.95it/s]"
          ]
        },
        {
          "output_type": "stream",
          "name": "stdout",
          "text": [
            "                   all        120        120      0.997          1      0.995      0.893\n"
          ]
        },
        {
          "output_type": "stream",
          "name": "stderr",
          "text": [
            "\n"
          ]
        },
        {
          "output_type": "stream",
          "name": "stdout",
          "text": [
            "\n",
            "100 epochs completed in 0.926 hours.\n",
            "Optimizer stripped from runs/detect/train3/weights/last.pt, 6.3MB\n",
            "Optimizer stripped from runs/detect/train3/weights/best.pt, 6.3MB\n",
            "\n",
            "Validating runs/detect/train3/weights/best.pt...\n",
            "Ultralytics 8.3.152 🚀 Python-3.11.13 torch-2.6.0+cu124 CUDA:0 (Tesla T4, 15095MiB)\n",
            "Model summary (fused): 72 layers, 3,006,428 parameters, 0 gradients, 8.1 GFLOPs\n"
          ]
        },
        {
          "output_type": "stream",
          "name": "stderr",
          "text": [
            "                 Class     Images  Instances      Box(P          R      mAP50  mAP50-95): 100%|██████████| 4/4 [00:02<00:00,  1.45it/s]\n"
          ]
        },
        {
          "output_type": "stream",
          "name": "stdout",
          "text": [
            "                   all        120        120      0.997          1      0.995      0.903\n",
            "                 Botol         28         28      0.997          1      0.995      0.872\n",
            "                  Buku         35         35      0.997          1      0.995      0.908\n",
            "                Dompet         30         30      0.998          1      0.995      0.884\n",
            "                   Tas         27         27      0.995          1      0.995      0.948\n",
            "Speed: 0.3ms preprocess, 2.7ms inference, 0.0ms loss, 6.6ms postprocess per image\n",
            "Results saved to \u001b[1mruns/detect/train3\u001b[0m\n"
          ]
        },
        {
          "output_type": "execute_result",
          "data": {
            "text/plain": [
              "ultralytics.utils.metrics.DetMetrics object with attributes:\n",
              "\n",
              "ap_class_index: array([0, 1, 2, 3])\n",
              "box: ultralytics.utils.metrics.Metric object\n",
              "confusion_matrix: <ultralytics.utils.metrics.ConfusionMatrix object at 0x7f6d357fe210>\n",
              "curves: ['Precision-Recall(B)', 'F1-Confidence(B)', 'Precision-Confidence(B)', 'Recall-Confidence(B)']\n",
              "curves_results: [[array([          0,    0.001001,    0.002002,    0.003003,    0.004004,    0.005005,    0.006006,    0.007007,    0.008008,    0.009009,     0.01001,    0.011011,    0.012012,    0.013013,    0.014014,    0.015015,    0.016016,    0.017017,    0.018018,    0.019019,     0.02002,    0.021021,    0.022022,    0.023023,\n",
              "          0.024024,    0.025025,    0.026026,    0.027027,    0.028028,    0.029029,     0.03003,    0.031031,    0.032032,    0.033033,    0.034034,    0.035035,    0.036036,    0.037037,    0.038038,    0.039039,     0.04004,    0.041041,    0.042042,    0.043043,    0.044044,    0.045045,    0.046046,    0.047047,\n",
              "          0.048048,    0.049049,     0.05005,    0.051051,    0.052052,    0.053053,    0.054054,    0.055055,    0.056056,    0.057057,    0.058058,    0.059059,     0.06006,    0.061061,    0.062062,    0.063063,    0.064064,    0.065065,    0.066066,    0.067067,    0.068068,    0.069069,     0.07007,    0.071071,\n",
              "          0.072072,    0.073073,    0.074074,    0.075075,    0.076076,    0.077077,    0.078078,    0.079079,     0.08008,    0.081081,    0.082082,    0.083083,    0.084084,    0.085085,    0.086086,    0.087087,    0.088088,    0.089089,     0.09009,    0.091091,    0.092092,    0.093093,    0.094094,    0.095095,\n",
              "          0.096096,    0.097097,    0.098098,    0.099099,      0.1001,      0.1011,      0.1021,      0.1031,      0.1041,     0.10511,     0.10611,     0.10711,     0.10811,     0.10911,     0.11011,     0.11111,     0.11211,     0.11311,     0.11411,     0.11512,     0.11612,     0.11712,     0.11812,     0.11912,\n",
              "           0.12012,     0.12112,     0.12212,     0.12312,     0.12412,     0.12513,     0.12613,     0.12713,     0.12813,     0.12913,     0.13013,     0.13113,     0.13213,     0.13313,     0.13413,     0.13514,     0.13614,     0.13714,     0.13814,     0.13914,     0.14014,     0.14114,     0.14214,     0.14314,\n",
              "           0.14414,     0.14515,     0.14615,     0.14715,     0.14815,     0.14915,     0.15015,     0.15115,     0.15215,     0.15315,     0.15415,     0.15516,     0.15616,     0.15716,     0.15816,     0.15916,     0.16016,     0.16116,     0.16216,     0.16316,     0.16416,     0.16517,     0.16617,     0.16717,\n",
              "           0.16817,     0.16917,     0.17017,     0.17117,     0.17217,     0.17317,     0.17417,     0.17518,     0.17618,     0.17718,     0.17818,     0.17918,     0.18018,     0.18118,     0.18218,     0.18318,     0.18418,     0.18519,     0.18619,     0.18719,     0.18819,     0.18919,     0.19019,     0.19119,\n",
              "           0.19219,     0.19319,     0.19419,      0.1952,      0.1962,      0.1972,      0.1982,      0.1992,      0.2002,      0.2012,      0.2022,      0.2032,      0.2042,     0.20521,     0.20621,     0.20721,     0.20821,     0.20921,     0.21021,     0.21121,     0.21221,     0.21321,     0.21421,     0.21522,\n",
              "           0.21622,     0.21722,     0.21822,     0.21922,     0.22022,     0.22122,     0.22222,     0.22322,     0.22422,     0.22523,     0.22623,     0.22723,     0.22823,     0.22923,     0.23023,     0.23123,     0.23223,     0.23323,     0.23423,     0.23524,     0.23624,     0.23724,     0.23824,     0.23924,\n",
              "           0.24024,     0.24124,     0.24224,     0.24324,     0.24424,     0.24525,     0.24625,     0.24725,     0.24825,     0.24925,     0.25025,     0.25125,     0.25225,     0.25325,     0.25425,     0.25526,     0.25626,     0.25726,     0.25826,     0.25926,     0.26026,     0.26126,     0.26226,     0.26326,\n",
              "           0.26426,     0.26527,     0.26627,     0.26727,     0.26827,     0.26927,     0.27027,     0.27127,     0.27227,     0.27327,     0.27427,     0.27528,     0.27628,     0.27728,     0.27828,     0.27928,     0.28028,     0.28128,     0.28228,     0.28328,     0.28428,     0.28529,     0.28629,     0.28729,\n",
              "           0.28829,     0.28929,     0.29029,     0.29129,     0.29229,     0.29329,     0.29429,      0.2953,      0.2963,      0.2973,      0.2983,      0.2993,      0.3003,      0.3013,      0.3023,      0.3033,      0.3043,     0.30531,     0.30631,     0.30731,     0.30831,     0.30931,     0.31031,     0.31131,\n",
              "           0.31231,     0.31331,     0.31431,     0.31532,     0.31632,     0.31732,     0.31832,     0.31932,     0.32032,     0.32132,     0.32232,     0.32332,     0.32432,     0.32533,     0.32633,     0.32733,     0.32833,     0.32933,     0.33033,     0.33133,     0.33233,     0.33333,     0.33433,     0.33534,\n",
              "           0.33634,     0.33734,     0.33834,     0.33934,     0.34034,     0.34134,     0.34234,     0.34334,     0.34434,     0.34535,     0.34635,     0.34735,     0.34835,     0.34935,     0.35035,     0.35135,     0.35235,     0.35335,     0.35435,     0.35536,     0.35636,     0.35736,     0.35836,     0.35936,\n",
              "           0.36036,     0.36136,     0.36236,     0.36336,     0.36436,     0.36537,     0.36637,     0.36737,     0.36837,     0.36937,     0.37037,     0.37137,     0.37237,     0.37337,     0.37437,     0.37538,     0.37638,     0.37738,     0.37838,     0.37938,     0.38038,     0.38138,     0.38238,     0.38338,\n",
              "           0.38438,     0.38539,     0.38639,     0.38739,     0.38839,     0.38939,     0.39039,     0.39139,     0.39239,     0.39339,     0.39439,      0.3954,      0.3964,      0.3974,      0.3984,      0.3994,      0.4004,      0.4014,      0.4024,      0.4034,      0.4044,     0.40541,     0.40641,     0.40741,\n",
              "           0.40841,     0.40941,     0.41041,     0.41141,     0.41241,     0.41341,     0.41441,     0.41542,     0.41642,     0.41742,     0.41842,     0.41942,     0.42042,     0.42142,     0.42242,     0.42342,     0.42442,     0.42543,     0.42643,     0.42743,     0.42843,     0.42943,     0.43043,     0.43143,\n",
              "           0.43243,     0.43343,     0.43443,     0.43544,     0.43644,     0.43744,     0.43844,     0.43944,     0.44044,     0.44144,     0.44244,     0.44344,     0.44444,     0.44545,     0.44645,     0.44745,     0.44845,     0.44945,     0.45045,     0.45145,     0.45245,     0.45345,     0.45445,     0.45546,\n",
              "           0.45646,     0.45746,     0.45846,     0.45946,     0.46046,     0.46146,     0.46246,     0.46346,     0.46446,     0.46547,     0.46647,     0.46747,     0.46847,     0.46947,     0.47047,     0.47147,     0.47247,     0.47347,     0.47447,     0.47548,     0.47648,     0.47748,     0.47848,     0.47948,\n",
              "           0.48048,     0.48148,     0.48248,     0.48348,     0.48448,     0.48549,     0.48649,     0.48749,     0.48849,     0.48949,     0.49049,     0.49149,     0.49249,     0.49349,     0.49449,      0.4955,      0.4965,      0.4975,      0.4985,      0.4995,      0.5005,      0.5015,      0.5025,      0.5035,\n",
              "            0.5045,     0.50551,     0.50651,     0.50751,     0.50851,     0.50951,     0.51051,     0.51151,     0.51251,     0.51351,     0.51451,     0.51552,     0.51652,     0.51752,     0.51852,     0.51952,     0.52052,     0.52152,     0.52252,     0.52352,     0.52452,     0.52553,     0.52653,     0.52753,\n",
              "           0.52853,     0.52953,     0.53053,     0.53153,     0.53253,     0.53353,     0.53453,     0.53554,     0.53654,     0.53754,     0.53854,     0.53954,     0.54054,     0.54154,     0.54254,     0.54354,     0.54454,     0.54555,     0.54655,     0.54755,     0.54855,     0.54955,     0.55055,     0.55155,\n",
              "           0.55255,     0.55355,     0.55455,     0.55556,     0.55656,     0.55756,     0.55856,     0.55956,     0.56056,     0.56156,     0.56256,     0.56356,     0.56456,     0.56557,     0.56657,     0.56757,     0.56857,     0.56957,     0.57057,     0.57157,     0.57257,     0.57357,     0.57457,     0.57558,\n",
              "           0.57658,     0.57758,     0.57858,     0.57958,     0.58058,     0.58158,     0.58258,     0.58358,     0.58458,     0.58559,     0.58659,     0.58759,     0.58859,     0.58959,     0.59059,     0.59159,     0.59259,     0.59359,     0.59459,      0.5956,      0.5966,      0.5976,      0.5986,      0.5996,\n",
              "            0.6006,      0.6016,      0.6026,      0.6036,      0.6046,     0.60561,     0.60661,     0.60761,     0.60861,     0.60961,     0.61061,     0.61161,     0.61261,     0.61361,     0.61461,     0.61562,     0.61662,     0.61762,     0.61862,     0.61962,     0.62062,     0.62162,     0.62262,     0.62362,\n",
              "           0.62462,     0.62563,     0.62663,     0.62763,     0.62863,     0.62963,     0.63063,     0.63163,     0.63263,     0.63363,     0.63463,     0.63564,     0.63664,     0.63764,     0.63864,     0.63964,     0.64064,     0.64164,     0.64264,     0.64364,     0.64464,     0.64565,     0.64665,     0.64765,\n",
              "           0.64865,     0.64965,     0.65065,     0.65165,     0.65265,     0.65365,     0.65465,     0.65566,     0.65666,     0.65766,     0.65866,     0.65966,     0.66066,     0.66166,     0.66266,     0.66366,     0.66466,     0.66567,     0.66667,     0.66767,     0.66867,     0.66967,     0.67067,     0.67167,\n",
              "           0.67267,     0.67367,     0.67467,     0.67568,     0.67668,     0.67768,     0.67868,     0.67968,     0.68068,     0.68168,     0.68268,     0.68368,     0.68468,     0.68569,     0.68669,     0.68769,     0.68869,     0.68969,     0.69069,     0.69169,     0.69269,     0.69369,     0.69469,      0.6957,\n",
              "            0.6967,      0.6977,      0.6987,      0.6997,      0.7007,      0.7017,      0.7027,      0.7037,      0.7047,     0.70571,     0.70671,     0.70771,     0.70871,     0.70971,     0.71071,     0.71171,     0.71271,     0.71371,     0.71471,     0.71572,     0.71672,     0.71772,     0.71872,     0.71972,\n",
              "           0.72072,     0.72172,     0.72272,     0.72372,     0.72472,     0.72573,     0.72673,     0.72773,     0.72873,     0.72973,     0.73073,     0.73173,     0.73273,     0.73373,     0.73473,     0.73574,     0.73674,     0.73774,     0.73874,     0.73974,     0.74074,     0.74174,     0.74274,     0.74374,\n",
              "           0.74474,     0.74575,     0.74675,     0.74775,     0.74875,     0.74975,     0.75075,     0.75175,     0.75275,     0.75375,     0.75475,     0.75576,     0.75676,     0.75776,     0.75876,     0.75976,     0.76076,     0.76176,     0.76276,     0.76376,     0.76476,     0.76577,     0.76677,     0.76777,\n",
              "           0.76877,     0.76977,     0.77077,     0.77177,     0.77277,     0.77377,     0.77477,     0.77578,     0.77678,     0.77778,     0.77878,     0.77978,     0.78078,     0.78178,     0.78278,     0.78378,     0.78478,     0.78579,     0.78679,     0.78779,     0.78879,     0.78979,     0.79079,     0.79179,\n",
              "           0.79279,     0.79379,     0.79479,      0.7958,      0.7968,      0.7978,      0.7988,      0.7998,      0.8008,      0.8018,      0.8028,      0.8038,      0.8048,     0.80581,     0.80681,     0.80781,     0.80881,     0.80981,     0.81081,     0.81181,     0.81281,     0.81381,     0.81481,     0.81582,\n",
              "           0.81682,     0.81782,     0.81882,     0.81982,     0.82082,     0.82182,     0.82282,     0.82382,     0.82482,     0.82583,     0.82683,     0.82783,     0.82883,     0.82983,     0.83083,     0.83183,     0.83283,     0.83383,     0.83483,     0.83584,     0.83684,     0.83784,     0.83884,     0.83984,\n",
              "           0.84084,     0.84184,     0.84284,     0.84384,     0.84484,     0.84585,     0.84685,     0.84785,     0.84885,     0.84985,     0.85085,     0.85185,     0.85285,     0.85385,     0.85485,     0.85586,     0.85686,     0.85786,     0.85886,     0.85986,     0.86086,     0.86186,     0.86286,     0.86386,\n",
              "           0.86486,     0.86587,     0.86687,     0.86787,     0.86887,     0.86987,     0.87087,     0.87187,     0.87287,     0.87387,     0.87487,     0.87588,     0.87688,     0.87788,     0.87888,     0.87988,     0.88088,     0.88188,     0.88288,     0.88388,     0.88488,     0.88589,     0.88689,     0.88789,\n",
              "           0.88889,     0.88989,     0.89089,     0.89189,     0.89289,     0.89389,     0.89489,      0.8959,      0.8969,      0.8979,      0.8989,      0.8999,      0.9009,      0.9019,      0.9029,      0.9039,      0.9049,     0.90591,     0.90691,     0.90791,     0.90891,     0.90991,     0.91091,     0.91191,\n",
              "           0.91291,     0.91391,     0.91491,     0.91592,     0.91692,     0.91792,     0.91892,     0.91992,     0.92092,     0.92192,     0.92292,     0.92392,     0.92492,     0.92593,     0.92693,     0.92793,     0.92893,     0.92993,     0.93093,     0.93193,     0.93293,     0.93393,     0.93493,     0.93594,\n",
              "           0.93694,     0.93794,     0.93894,     0.93994,     0.94094,     0.94194,     0.94294,     0.94394,     0.94494,     0.94595,     0.94695,     0.94795,     0.94895,     0.94995,     0.95095,     0.95195,     0.95295,     0.95395,     0.95495,     0.95596,     0.95696,     0.95796,     0.95896,     0.95996,\n",
              "           0.96096,     0.96196,     0.96296,     0.96396,     0.96496,     0.96597,     0.96697,     0.96797,     0.96897,     0.96997,     0.97097,     0.97197,     0.97297,     0.97397,     0.97497,     0.97598,     0.97698,     0.97798,     0.97898,     0.97998,     0.98098,     0.98198,     0.98298,     0.98398,\n",
              "           0.98498,     0.98599,     0.98699,     0.98799,     0.98899,     0.98999,     0.99099,     0.99199,     0.99299,     0.99399,     0.99499,       0.996,       0.997,       0.998,       0.999,           1]), array([[          1,           1,           1, ...,           1,           1,           0],\n",
              "       [          1,           1,           1, ...,           1,           1,           0],\n",
              "       [          1,           1,           1, ...,           1,           1,           0],\n",
              "       [          1,           1,           1, ...,           1,           1,           0]]), 'Recall', 'Precision'], [array([          0,    0.001001,    0.002002,    0.003003,    0.004004,    0.005005,    0.006006,    0.007007,    0.008008,    0.009009,     0.01001,    0.011011,    0.012012,    0.013013,    0.014014,    0.015015,    0.016016,    0.017017,    0.018018,    0.019019,     0.02002,    0.021021,    0.022022,    0.023023,\n",
              "          0.024024,    0.025025,    0.026026,    0.027027,    0.028028,    0.029029,     0.03003,    0.031031,    0.032032,    0.033033,    0.034034,    0.035035,    0.036036,    0.037037,    0.038038,    0.039039,     0.04004,    0.041041,    0.042042,    0.043043,    0.044044,    0.045045,    0.046046,    0.047047,\n",
              "          0.048048,    0.049049,     0.05005,    0.051051,    0.052052,    0.053053,    0.054054,    0.055055,    0.056056,    0.057057,    0.058058,    0.059059,     0.06006,    0.061061,    0.062062,    0.063063,    0.064064,    0.065065,    0.066066,    0.067067,    0.068068,    0.069069,     0.07007,    0.071071,\n",
              "          0.072072,    0.073073,    0.074074,    0.075075,    0.076076,    0.077077,    0.078078,    0.079079,     0.08008,    0.081081,    0.082082,    0.083083,    0.084084,    0.085085,    0.086086,    0.087087,    0.088088,    0.089089,     0.09009,    0.091091,    0.092092,    0.093093,    0.094094,    0.095095,\n",
              "          0.096096,    0.097097,    0.098098,    0.099099,      0.1001,      0.1011,      0.1021,      0.1031,      0.1041,     0.10511,     0.10611,     0.10711,     0.10811,     0.10911,     0.11011,     0.11111,     0.11211,     0.11311,     0.11411,     0.11512,     0.11612,     0.11712,     0.11812,     0.11912,\n",
              "           0.12012,     0.12112,     0.12212,     0.12312,     0.12412,     0.12513,     0.12613,     0.12713,     0.12813,     0.12913,     0.13013,     0.13113,     0.13213,     0.13313,     0.13413,     0.13514,     0.13614,     0.13714,     0.13814,     0.13914,     0.14014,     0.14114,     0.14214,     0.14314,\n",
              "           0.14414,     0.14515,     0.14615,     0.14715,     0.14815,     0.14915,     0.15015,     0.15115,     0.15215,     0.15315,     0.15415,     0.15516,     0.15616,     0.15716,     0.15816,     0.15916,     0.16016,     0.16116,     0.16216,     0.16316,     0.16416,     0.16517,     0.16617,     0.16717,\n",
              "           0.16817,     0.16917,     0.17017,     0.17117,     0.17217,     0.17317,     0.17417,     0.17518,     0.17618,     0.17718,     0.17818,     0.17918,     0.18018,     0.18118,     0.18218,     0.18318,     0.18418,     0.18519,     0.18619,     0.18719,     0.18819,     0.18919,     0.19019,     0.19119,\n",
              "           0.19219,     0.19319,     0.19419,      0.1952,      0.1962,      0.1972,      0.1982,      0.1992,      0.2002,      0.2012,      0.2022,      0.2032,      0.2042,     0.20521,     0.20621,     0.20721,     0.20821,     0.20921,     0.21021,     0.21121,     0.21221,     0.21321,     0.21421,     0.21522,\n",
              "           0.21622,     0.21722,     0.21822,     0.21922,     0.22022,     0.22122,     0.22222,     0.22322,     0.22422,     0.22523,     0.22623,     0.22723,     0.22823,     0.22923,     0.23023,     0.23123,     0.23223,     0.23323,     0.23423,     0.23524,     0.23624,     0.23724,     0.23824,     0.23924,\n",
              "           0.24024,     0.24124,     0.24224,     0.24324,     0.24424,     0.24525,     0.24625,     0.24725,     0.24825,     0.24925,     0.25025,     0.25125,     0.25225,     0.25325,     0.25425,     0.25526,     0.25626,     0.25726,     0.25826,     0.25926,     0.26026,     0.26126,     0.26226,     0.26326,\n",
              "           0.26426,     0.26527,     0.26627,     0.26727,     0.26827,     0.26927,     0.27027,     0.27127,     0.27227,     0.27327,     0.27427,     0.27528,     0.27628,     0.27728,     0.27828,     0.27928,     0.28028,     0.28128,     0.28228,     0.28328,     0.28428,     0.28529,     0.28629,     0.28729,\n",
              "           0.28829,     0.28929,     0.29029,     0.29129,     0.29229,     0.29329,     0.29429,      0.2953,      0.2963,      0.2973,      0.2983,      0.2993,      0.3003,      0.3013,      0.3023,      0.3033,      0.3043,     0.30531,     0.30631,     0.30731,     0.30831,     0.30931,     0.31031,     0.31131,\n",
              "           0.31231,     0.31331,     0.31431,     0.31532,     0.31632,     0.31732,     0.31832,     0.31932,     0.32032,     0.32132,     0.32232,     0.32332,     0.32432,     0.32533,     0.32633,     0.32733,     0.32833,     0.32933,     0.33033,     0.33133,     0.33233,     0.33333,     0.33433,     0.33534,\n",
              "           0.33634,     0.33734,     0.33834,     0.33934,     0.34034,     0.34134,     0.34234,     0.34334,     0.34434,     0.34535,     0.34635,     0.34735,     0.34835,     0.34935,     0.35035,     0.35135,     0.35235,     0.35335,     0.35435,     0.35536,     0.35636,     0.35736,     0.35836,     0.35936,\n",
              "           0.36036,     0.36136,     0.36236,     0.36336,     0.36436,     0.36537,     0.36637,     0.36737,     0.36837,     0.36937,     0.37037,     0.37137,     0.37237,     0.37337,     0.37437,     0.37538,     0.37638,     0.37738,     0.37838,     0.37938,     0.38038,     0.38138,     0.38238,     0.38338,\n",
              "           0.38438,     0.38539,     0.38639,     0.38739,     0.38839,     0.38939,     0.39039,     0.39139,     0.39239,     0.39339,     0.39439,      0.3954,      0.3964,      0.3974,      0.3984,      0.3994,      0.4004,      0.4014,      0.4024,      0.4034,      0.4044,     0.40541,     0.40641,     0.40741,\n",
              "           0.40841,     0.40941,     0.41041,     0.41141,     0.41241,     0.41341,     0.41441,     0.41542,     0.41642,     0.41742,     0.41842,     0.41942,     0.42042,     0.42142,     0.42242,     0.42342,     0.42442,     0.42543,     0.42643,     0.42743,     0.42843,     0.42943,     0.43043,     0.43143,\n",
              "           0.43243,     0.43343,     0.43443,     0.43544,     0.43644,     0.43744,     0.43844,     0.43944,     0.44044,     0.44144,     0.44244,     0.44344,     0.44444,     0.44545,     0.44645,     0.44745,     0.44845,     0.44945,     0.45045,     0.45145,     0.45245,     0.45345,     0.45445,     0.45546,\n",
              "           0.45646,     0.45746,     0.45846,     0.45946,     0.46046,     0.46146,     0.46246,     0.46346,     0.46446,     0.46547,     0.46647,     0.46747,     0.46847,     0.46947,     0.47047,     0.47147,     0.47247,     0.47347,     0.47447,     0.47548,     0.47648,     0.47748,     0.47848,     0.47948,\n",
              "           0.48048,     0.48148,     0.48248,     0.48348,     0.48448,     0.48549,     0.48649,     0.48749,     0.48849,     0.48949,     0.49049,     0.49149,     0.49249,     0.49349,     0.49449,      0.4955,      0.4965,      0.4975,      0.4985,      0.4995,      0.5005,      0.5015,      0.5025,      0.5035,\n",
              "            0.5045,     0.50551,     0.50651,     0.50751,     0.50851,     0.50951,     0.51051,     0.51151,     0.51251,     0.51351,     0.51451,     0.51552,     0.51652,     0.51752,     0.51852,     0.51952,     0.52052,     0.52152,     0.52252,     0.52352,     0.52452,     0.52553,     0.52653,     0.52753,\n",
              "           0.52853,     0.52953,     0.53053,     0.53153,     0.53253,     0.53353,     0.53453,     0.53554,     0.53654,     0.53754,     0.53854,     0.53954,     0.54054,     0.54154,     0.54254,     0.54354,     0.54454,     0.54555,     0.54655,     0.54755,     0.54855,     0.54955,     0.55055,     0.55155,\n",
              "           0.55255,     0.55355,     0.55455,     0.55556,     0.55656,     0.55756,     0.55856,     0.55956,     0.56056,     0.56156,     0.56256,     0.56356,     0.56456,     0.56557,     0.56657,     0.56757,     0.56857,     0.56957,     0.57057,     0.57157,     0.57257,     0.57357,     0.57457,     0.57558,\n",
              "           0.57658,     0.57758,     0.57858,     0.57958,     0.58058,     0.58158,     0.58258,     0.58358,     0.58458,     0.58559,     0.58659,     0.58759,     0.58859,     0.58959,     0.59059,     0.59159,     0.59259,     0.59359,     0.59459,      0.5956,      0.5966,      0.5976,      0.5986,      0.5996,\n",
              "            0.6006,      0.6016,      0.6026,      0.6036,      0.6046,     0.60561,     0.60661,     0.60761,     0.60861,     0.60961,     0.61061,     0.61161,     0.61261,     0.61361,     0.61461,     0.61562,     0.61662,     0.61762,     0.61862,     0.61962,     0.62062,     0.62162,     0.62262,     0.62362,\n",
              "           0.62462,     0.62563,     0.62663,     0.62763,     0.62863,     0.62963,     0.63063,     0.63163,     0.63263,     0.63363,     0.63463,     0.63564,     0.63664,     0.63764,     0.63864,     0.63964,     0.64064,     0.64164,     0.64264,     0.64364,     0.64464,     0.64565,     0.64665,     0.64765,\n",
              "           0.64865,     0.64965,     0.65065,     0.65165,     0.65265,     0.65365,     0.65465,     0.65566,     0.65666,     0.65766,     0.65866,     0.65966,     0.66066,     0.66166,     0.66266,     0.66366,     0.66466,     0.66567,     0.66667,     0.66767,     0.66867,     0.66967,     0.67067,     0.67167,\n",
              "           0.67267,     0.67367,     0.67467,     0.67568,     0.67668,     0.67768,     0.67868,     0.67968,     0.68068,     0.68168,     0.68268,     0.68368,     0.68468,     0.68569,     0.68669,     0.68769,     0.68869,     0.68969,     0.69069,     0.69169,     0.69269,     0.69369,     0.69469,      0.6957,\n",
              "            0.6967,      0.6977,      0.6987,      0.6997,      0.7007,      0.7017,      0.7027,      0.7037,      0.7047,     0.70571,     0.70671,     0.70771,     0.70871,     0.70971,     0.71071,     0.71171,     0.71271,     0.71371,     0.71471,     0.71572,     0.71672,     0.71772,     0.71872,     0.71972,\n",
              "           0.72072,     0.72172,     0.72272,     0.72372,     0.72472,     0.72573,     0.72673,     0.72773,     0.72873,     0.72973,     0.73073,     0.73173,     0.73273,     0.73373,     0.73473,     0.73574,     0.73674,     0.73774,     0.73874,     0.73974,     0.74074,     0.74174,     0.74274,     0.74374,\n",
              "           0.74474,     0.74575,     0.74675,     0.74775,     0.74875,     0.74975,     0.75075,     0.75175,     0.75275,     0.75375,     0.75475,     0.75576,     0.75676,     0.75776,     0.75876,     0.75976,     0.76076,     0.76176,     0.76276,     0.76376,     0.76476,     0.76577,     0.76677,     0.76777,\n",
              "           0.76877,     0.76977,     0.77077,     0.77177,     0.77277,     0.77377,     0.77477,     0.77578,     0.77678,     0.77778,     0.77878,     0.77978,     0.78078,     0.78178,     0.78278,     0.78378,     0.78478,     0.78579,     0.78679,     0.78779,     0.78879,     0.78979,     0.79079,     0.79179,\n",
              "           0.79279,     0.79379,     0.79479,      0.7958,      0.7968,      0.7978,      0.7988,      0.7998,      0.8008,      0.8018,      0.8028,      0.8038,      0.8048,     0.80581,     0.80681,     0.80781,     0.80881,     0.80981,     0.81081,     0.81181,     0.81281,     0.81381,     0.81481,     0.81582,\n",
              "           0.81682,     0.81782,     0.81882,     0.81982,     0.82082,     0.82182,     0.82282,     0.82382,     0.82482,     0.82583,     0.82683,     0.82783,     0.82883,     0.82983,     0.83083,     0.83183,     0.83283,     0.83383,     0.83483,     0.83584,     0.83684,     0.83784,     0.83884,     0.83984,\n",
              "           0.84084,     0.84184,     0.84284,     0.84384,     0.84484,     0.84585,     0.84685,     0.84785,     0.84885,     0.84985,     0.85085,     0.85185,     0.85285,     0.85385,     0.85485,     0.85586,     0.85686,     0.85786,     0.85886,     0.85986,     0.86086,     0.86186,     0.86286,     0.86386,\n",
              "           0.86486,     0.86587,     0.86687,     0.86787,     0.86887,     0.86987,     0.87087,     0.87187,     0.87287,     0.87387,     0.87487,     0.87588,     0.87688,     0.87788,     0.87888,     0.87988,     0.88088,     0.88188,     0.88288,     0.88388,     0.88488,     0.88589,     0.88689,     0.88789,\n",
              "           0.88889,     0.88989,     0.89089,     0.89189,     0.89289,     0.89389,     0.89489,      0.8959,      0.8969,      0.8979,      0.8989,      0.8999,      0.9009,      0.9019,      0.9029,      0.9039,      0.9049,     0.90591,     0.90691,     0.90791,     0.90891,     0.90991,     0.91091,     0.91191,\n",
              "           0.91291,     0.91391,     0.91491,     0.91592,     0.91692,     0.91792,     0.91892,     0.91992,     0.92092,     0.92192,     0.92292,     0.92392,     0.92492,     0.92593,     0.92693,     0.92793,     0.92893,     0.92993,     0.93093,     0.93193,     0.93293,     0.93393,     0.93493,     0.93594,\n",
              "           0.93694,     0.93794,     0.93894,     0.93994,     0.94094,     0.94194,     0.94294,     0.94394,     0.94494,     0.94595,     0.94695,     0.94795,     0.94895,     0.94995,     0.95095,     0.95195,     0.95295,     0.95395,     0.95495,     0.95596,     0.95696,     0.95796,     0.95896,     0.95996,\n",
              "           0.96096,     0.96196,     0.96296,     0.96396,     0.96496,     0.96597,     0.96697,     0.96797,     0.96897,     0.96997,     0.97097,     0.97197,     0.97297,     0.97397,     0.97497,     0.97598,     0.97698,     0.97798,     0.97898,     0.97998,     0.98098,     0.98198,     0.98298,     0.98398,\n",
              "           0.98498,     0.98599,     0.98699,     0.98799,     0.98899,     0.98999,     0.99099,     0.99199,     0.99299,     0.99399,     0.99499,       0.996,       0.997,       0.998,       0.999,           1]), array([[      0.875,       0.875,     0.96565, ...,           0,           0,           0],\n",
              "       [    0.68627,     0.68627,     0.74875, ...,           0,           0,           0],\n",
              "       [    0.70588,     0.70588,     0.85094, ...,           0,           0,           0],\n",
              "       [        0.9,         0.9,     0.97388, ...,           0,           0,           0]]), 'Confidence', 'F1'], [array([          0,    0.001001,    0.002002,    0.003003,    0.004004,    0.005005,    0.006006,    0.007007,    0.008008,    0.009009,     0.01001,    0.011011,    0.012012,    0.013013,    0.014014,    0.015015,    0.016016,    0.017017,    0.018018,    0.019019,     0.02002,    0.021021,    0.022022,    0.023023,\n",
              "          0.024024,    0.025025,    0.026026,    0.027027,    0.028028,    0.029029,     0.03003,    0.031031,    0.032032,    0.033033,    0.034034,    0.035035,    0.036036,    0.037037,    0.038038,    0.039039,     0.04004,    0.041041,    0.042042,    0.043043,    0.044044,    0.045045,    0.046046,    0.047047,\n",
              "          0.048048,    0.049049,     0.05005,    0.051051,    0.052052,    0.053053,    0.054054,    0.055055,    0.056056,    0.057057,    0.058058,    0.059059,     0.06006,    0.061061,    0.062062,    0.063063,    0.064064,    0.065065,    0.066066,    0.067067,    0.068068,    0.069069,     0.07007,    0.071071,\n",
              "          0.072072,    0.073073,    0.074074,    0.075075,    0.076076,    0.077077,    0.078078,    0.079079,     0.08008,    0.081081,    0.082082,    0.083083,    0.084084,    0.085085,    0.086086,    0.087087,    0.088088,    0.089089,     0.09009,    0.091091,    0.092092,    0.093093,    0.094094,    0.095095,\n",
              "          0.096096,    0.097097,    0.098098,    0.099099,      0.1001,      0.1011,      0.1021,      0.1031,      0.1041,     0.10511,     0.10611,     0.10711,     0.10811,     0.10911,     0.11011,     0.11111,     0.11211,     0.11311,     0.11411,     0.11512,     0.11612,     0.11712,     0.11812,     0.11912,\n",
              "           0.12012,     0.12112,     0.12212,     0.12312,     0.12412,     0.12513,     0.12613,     0.12713,     0.12813,     0.12913,     0.13013,     0.13113,     0.13213,     0.13313,     0.13413,     0.13514,     0.13614,     0.13714,     0.13814,     0.13914,     0.14014,     0.14114,     0.14214,     0.14314,\n",
              "           0.14414,     0.14515,     0.14615,     0.14715,     0.14815,     0.14915,     0.15015,     0.15115,     0.15215,     0.15315,     0.15415,     0.15516,     0.15616,     0.15716,     0.15816,     0.15916,     0.16016,     0.16116,     0.16216,     0.16316,     0.16416,     0.16517,     0.16617,     0.16717,\n",
              "           0.16817,     0.16917,     0.17017,     0.17117,     0.17217,     0.17317,     0.17417,     0.17518,     0.17618,     0.17718,     0.17818,     0.17918,     0.18018,     0.18118,     0.18218,     0.18318,     0.18418,     0.18519,     0.18619,     0.18719,     0.18819,     0.18919,     0.19019,     0.19119,\n",
              "           0.19219,     0.19319,     0.19419,      0.1952,      0.1962,      0.1972,      0.1982,      0.1992,      0.2002,      0.2012,      0.2022,      0.2032,      0.2042,     0.20521,     0.20621,     0.20721,     0.20821,     0.20921,     0.21021,     0.21121,     0.21221,     0.21321,     0.21421,     0.21522,\n",
              "           0.21622,     0.21722,     0.21822,     0.21922,     0.22022,     0.22122,     0.22222,     0.22322,     0.22422,     0.22523,     0.22623,     0.22723,     0.22823,     0.22923,     0.23023,     0.23123,     0.23223,     0.23323,     0.23423,     0.23524,     0.23624,     0.23724,     0.23824,     0.23924,\n",
              "           0.24024,     0.24124,     0.24224,     0.24324,     0.24424,     0.24525,     0.24625,     0.24725,     0.24825,     0.24925,     0.25025,     0.25125,     0.25225,     0.25325,     0.25425,     0.25526,     0.25626,     0.25726,     0.25826,     0.25926,     0.26026,     0.26126,     0.26226,     0.26326,\n",
              "           0.26426,     0.26527,     0.26627,     0.26727,     0.26827,     0.26927,     0.27027,     0.27127,     0.27227,     0.27327,     0.27427,     0.27528,     0.27628,     0.27728,     0.27828,     0.27928,     0.28028,     0.28128,     0.28228,     0.28328,     0.28428,     0.28529,     0.28629,     0.28729,\n",
              "           0.28829,     0.28929,     0.29029,     0.29129,     0.29229,     0.29329,     0.29429,      0.2953,      0.2963,      0.2973,      0.2983,      0.2993,      0.3003,      0.3013,      0.3023,      0.3033,      0.3043,     0.30531,     0.30631,     0.30731,     0.30831,     0.30931,     0.31031,     0.31131,\n",
              "           0.31231,     0.31331,     0.31431,     0.31532,     0.31632,     0.31732,     0.31832,     0.31932,     0.32032,     0.32132,     0.32232,     0.32332,     0.32432,     0.32533,     0.32633,     0.32733,     0.32833,     0.32933,     0.33033,     0.33133,     0.33233,     0.33333,     0.33433,     0.33534,\n",
              "           0.33634,     0.33734,     0.33834,     0.33934,     0.34034,     0.34134,     0.34234,     0.34334,     0.34434,     0.34535,     0.34635,     0.34735,     0.34835,     0.34935,     0.35035,     0.35135,     0.35235,     0.35335,     0.35435,     0.35536,     0.35636,     0.35736,     0.35836,     0.35936,\n",
              "           0.36036,     0.36136,     0.36236,     0.36336,     0.36436,     0.36537,     0.36637,     0.36737,     0.36837,     0.36937,     0.37037,     0.37137,     0.37237,     0.37337,     0.37437,     0.37538,     0.37638,     0.37738,     0.37838,     0.37938,     0.38038,     0.38138,     0.38238,     0.38338,\n",
              "           0.38438,     0.38539,     0.38639,     0.38739,     0.38839,     0.38939,     0.39039,     0.39139,     0.39239,     0.39339,     0.39439,      0.3954,      0.3964,      0.3974,      0.3984,      0.3994,      0.4004,      0.4014,      0.4024,      0.4034,      0.4044,     0.40541,     0.40641,     0.40741,\n",
              "           0.40841,     0.40941,     0.41041,     0.41141,     0.41241,     0.41341,     0.41441,     0.41542,     0.41642,     0.41742,     0.41842,     0.41942,     0.42042,     0.42142,     0.42242,     0.42342,     0.42442,     0.42543,     0.42643,     0.42743,     0.42843,     0.42943,     0.43043,     0.43143,\n",
              "           0.43243,     0.43343,     0.43443,     0.43544,     0.43644,     0.43744,     0.43844,     0.43944,     0.44044,     0.44144,     0.44244,     0.44344,     0.44444,     0.44545,     0.44645,     0.44745,     0.44845,     0.44945,     0.45045,     0.45145,     0.45245,     0.45345,     0.45445,     0.45546,\n",
              "           0.45646,     0.45746,     0.45846,     0.45946,     0.46046,     0.46146,     0.46246,     0.46346,     0.46446,     0.46547,     0.46647,     0.46747,     0.46847,     0.46947,     0.47047,     0.47147,     0.47247,     0.47347,     0.47447,     0.47548,     0.47648,     0.47748,     0.47848,     0.47948,\n",
              "           0.48048,     0.48148,     0.48248,     0.48348,     0.48448,     0.48549,     0.48649,     0.48749,     0.48849,     0.48949,     0.49049,     0.49149,     0.49249,     0.49349,     0.49449,      0.4955,      0.4965,      0.4975,      0.4985,      0.4995,      0.5005,      0.5015,      0.5025,      0.5035,\n",
              "            0.5045,     0.50551,     0.50651,     0.50751,     0.50851,     0.50951,     0.51051,     0.51151,     0.51251,     0.51351,     0.51451,     0.51552,     0.51652,     0.51752,     0.51852,     0.51952,     0.52052,     0.52152,     0.52252,     0.52352,     0.52452,     0.52553,     0.52653,     0.52753,\n",
              "           0.52853,     0.52953,     0.53053,     0.53153,     0.53253,     0.53353,     0.53453,     0.53554,     0.53654,     0.53754,     0.53854,     0.53954,     0.54054,     0.54154,     0.54254,     0.54354,     0.54454,     0.54555,     0.54655,     0.54755,     0.54855,     0.54955,     0.55055,     0.55155,\n",
              "           0.55255,     0.55355,     0.55455,     0.55556,     0.55656,     0.55756,     0.55856,     0.55956,     0.56056,     0.56156,     0.56256,     0.56356,     0.56456,     0.56557,     0.56657,     0.56757,     0.56857,     0.56957,     0.57057,     0.57157,     0.57257,     0.57357,     0.57457,     0.57558,\n",
              "           0.57658,     0.57758,     0.57858,     0.57958,     0.58058,     0.58158,     0.58258,     0.58358,     0.58458,     0.58559,     0.58659,     0.58759,     0.58859,     0.58959,     0.59059,     0.59159,     0.59259,     0.59359,     0.59459,      0.5956,      0.5966,      0.5976,      0.5986,      0.5996,\n",
              "            0.6006,      0.6016,      0.6026,      0.6036,      0.6046,     0.60561,     0.60661,     0.60761,     0.60861,     0.60961,     0.61061,     0.61161,     0.61261,     0.61361,     0.61461,     0.61562,     0.61662,     0.61762,     0.61862,     0.61962,     0.62062,     0.62162,     0.62262,     0.62362,\n",
              "           0.62462,     0.62563,     0.62663,     0.62763,     0.62863,     0.62963,     0.63063,     0.63163,     0.63263,     0.63363,     0.63463,     0.63564,     0.63664,     0.63764,     0.63864,     0.63964,     0.64064,     0.64164,     0.64264,     0.64364,     0.64464,     0.64565,     0.64665,     0.64765,\n",
              "           0.64865,     0.64965,     0.65065,     0.65165,     0.65265,     0.65365,     0.65465,     0.65566,     0.65666,     0.65766,     0.65866,     0.65966,     0.66066,     0.66166,     0.66266,     0.66366,     0.66466,     0.66567,     0.66667,     0.66767,     0.66867,     0.66967,     0.67067,     0.67167,\n",
              "           0.67267,     0.67367,     0.67467,     0.67568,     0.67668,     0.67768,     0.67868,     0.67968,     0.68068,     0.68168,     0.68268,     0.68368,     0.68468,     0.68569,     0.68669,     0.68769,     0.68869,     0.68969,     0.69069,     0.69169,     0.69269,     0.69369,     0.69469,      0.6957,\n",
              "            0.6967,      0.6977,      0.6987,      0.6997,      0.7007,      0.7017,      0.7027,      0.7037,      0.7047,     0.70571,     0.70671,     0.70771,     0.70871,     0.70971,     0.71071,     0.71171,     0.71271,     0.71371,     0.71471,     0.71572,     0.71672,     0.71772,     0.71872,     0.71972,\n",
              "           0.72072,     0.72172,     0.72272,     0.72372,     0.72472,     0.72573,     0.72673,     0.72773,     0.72873,     0.72973,     0.73073,     0.73173,     0.73273,     0.73373,     0.73473,     0.73574,     0.73674,     0.73774,     0.73874,     0.73974,     0.74074,     0.74174,     0.74274,     0.74374,\n",
              "           0.74474,     0.74575,     0.74675,     0.74775,     0.74875,     0.74975,     0.75075,     0.75175,     0.75275,     0.75375,     0.75475,     0.75576,     0.75676,     0.75776,     0.75876,     0.75976,     0.76076,     0.76176,     0.76276,     0.76376,     0.76476,     0.76577,     0.76677,     0.76777,\n",
              "           0.76877,     0.76977,     0.77077,     0.77177,     0.77277,     0.77377,     0.77477,     0.77578,     0.77678,     0.77778,     0.77878,     0.77978,     0.78078,     0.78178,     0.78278,     0.78378,     0.78478,     0.78579,     0.78679,     0.78779,     0.78879,     0.78979,     0.79079,     0.79179,\n",
              "           0.79279,     0.79379,     0.79479,      0.7958,      0.7968,      0.7978,      0.7988,      0.7998,      0.8008,      0.8018,      0.8028,      0.8038,      0.8048,     0.80581,     0.80681,     0.80781,     0.80881,     0.80981,     0.81081,     0.81181,     0.81281,     0.81381,     0.81481,     0.81582,\n",
              "           0.81682,     0.81782,     0.81882,     0.81982,     0.82082,     0.82182,     0.82282,     0.82382,     0.82482,     0.82583,     0.82683,     0.82783,     0.82883,     0.82983,     0.83083,     0.83183,     0.83283,     0.83383,     0.83483,     0.83584,     0.83684,     0.83784,     0.83884,     0.83984,\n",
              "           0.84084,     0.84184,     0.84284,     0.84384,     0.84484,     0.84585,     0.84685,     0.84785,     0.84885,     0.84985,     0.85085,     0.85185,     0.85285,     0.85385,     0.85485,     0.85586,     0.85686,     0.85786,     0.85886,     0.85986,     0.86086,     0.86186,     0.86286,     0.86386,\n",
              "           0.86486,     0.86587,     0.86687,     0.86787,     0.86887,     0.86987,     0.87087,     0.87187,     0.87287,     0.87387,     0.87487,     0.87588,     0.87688,     0.87788,     0.87888,     0.87988,     0.88088,     0.88188,     0.88288,     0.88388,     0.88488,     0.88589,     0.88689,     0.88789,\n",
              "           0.88889,     0.88989,     0.89089,     0.89189,     0.89289,     0.89389,     0.89489,      0.8959,      0.8969,      0.8979,      0.8989,      0.8999,      0.9009,      0.9019,      0.9029,      0.9039,      0.9049,     0.90591,     0.90691,     0.90791,     0.90891,     0.90991,     0.91091,     0.91191,\n",
              "           0.91291,     0.91391,     0.91491,     0.91592,     0.91692,     0.91792,     0.91892,     0.91992,     0.92092,     0.92192,     0.92292,     0.92392,     0.92492,     0.92593,     0.92693,     0.92793,     0.92893,     0.92993,     0.93093,     0.93193,     0.93293,     0.93393,     0.93493,     0.93594,\n",
              "           0.93694,     0.93794,     0.93894,     0.93994,     0.94094,     0.94194,     0.94294,     0.94394,     0.94494,     0.94595,     0.94695,     0.94795,     0.94895,     0.94995,     0.95095,     0.95195,     0.95295,     0.95395,     0.95495,     0.95596,     0.95696,     0.95796,     0.95896,     0.95996,\n",
              "           0.96096,     0.96196,     0.96296,     0.96396,     0.96496,     0.96597,     0.96697,     0.96797,     0.96897,     0.96997,     0.97097,     0.97197,     0.97297,     0.97397,     0.97497,     0.97598,     0.97698,     0.97798,     0.97898,     0.97998,     0.98098,     0.98198,     0.98298,     0.98398,\n",
              "           0.98498,     0.98599,     0.98699,     0.98799,     0.98899,     0.98999,     0.99099,     0.99199,     0.99299,     0.99399,     0.99499,       0.996,       0.997,       0.998,       0.999,           1]), array([[    0.77778,     0.77778,     0.93359, ...,           1,           1,           1],\n",
              "       [    0.52239,     0.52239,      0.5984, ...,           1,           1,           1],\n",
              "       [    0.54545,     0.54545,     0.74055, ...,           1,           1,           1],\n",
              "       [    0.81818,     0.81818,     0.94908, ...,           1,           1,           1]]), 'Confidence', 'Precision'], [array([          0,    0.001001,    0.002002,    0.003003,    0.004004,    0.005005,    0.006006,    0.007007,    0.008008,    0.009009,     0.01001,    0.011011,    0.012012,    0.013013,    0.014014,    0.015015,    0.016016,    0.017017,    0.018018,    0.019019,     0.02002,    0.021021,    0.022022,    0.023023,\n",
              "          0.024024,    0.025025,    0.026026,    0.027027,    0.028028,    0.029029,     0.03003,    0.031031,    0.032032,    0.033033,    0.034034,    0.035035,    0.036036,    0.037037,    0.038038,    0.039039,     0.04004,    0.041041,    0.042042,    0.043043,    0.044044,    0.045045,    0.046046,    0.047047,\n",
              "          0.048048,    0.049049,     0.05005,    0.051051,    0.052052,    0.053053,    0.054054,    0.055055,    0.056056,    0.057057,    0.058058,    0.059059,     0.06006,    0.061061,    0.062062,    0.063063,    0.064064,    0.065065,    0.066066,    0.067067,    0.068068,    0.069069,     0.07007,    0.071071,\n",
              "          0.072072,    0.073073,    0.074074,    0.075075,    0.076076,    0.077077,    0.078078,    0.079079,     0.08008,    0.081081,    0.082082,    0.083083,    0.084084,    0.085085,    0.086086,    0.087087,    0.088088,    0.089089,     0.09009,    0.091091,    0.092092,    0.093093,    0.094094,    0.095095,\n",
              "          0.096096,    0.097097,    0.098098,    0.099099,      0.1001,      0.1011,      0.1021,      0.1031,      0.1041,     0.10511,     0.10611,     0.10711,     0.10811,     0.10911,     0.11011,     0.11111,     0.11211,     0.11311,     0.11411,     0.11512,     0.11612,     0.11712,     0.11812,     0.11912,\n",
              "           0.12012,     0.12112,     0.12212,     0.12312,     0.12412,     0.12513,     0.12613,     0.12713,     0.12813,     0.12913,     0.13013,     0.13113,     0.13213,     0.13313,     0.13413,     0.13514,     0.13614,     0.13714,     0.13814,     0.13914,     0.14014,     0.14114,     0.14214,     0.14314,\n",
              "           0.14414,     0.14515,     0.14615,     0.14715,     0.14815,     0.14915,     0.15015,     0.15115,     0.15215,     0.15315,     0.15415,     0.15516,     0.15616,     0.15716,     0.15816,     0.15916,     0.16016,     0.16116,     0.16216,     0.16316,     0.16416,     0.16517,     0.16617,     0.16717,\n",
              "           0.16817,     0.16917,     0.17017,     0.17117,     0.17217,     0.17317,     0.17417,     0.17518,     0.17618,     0.17718,     0.17818,     0.17918,     0.18018,     0.18118,     0.18218,     0.18318,     0.18418,     0.18519,     0.18619,     0.18719,     0.18819,     0.18919,     0.19019,     0.19119,\n",
              "           0.19219,     0.19319,     0.19419,      0.1952,      0.1962,      0.1972,      0.1982,      0.1992,      0.2002,      0.2012,      0.2022,      0.2032,      0.2042,     0.20521,     0.20621,     0.20721,     0.20821,     0.20921,     0.21021,     0.21121,     0.21221,     0.21321,     0.21421,     0.21522,\n",
              "           0.21622,     0.21722,     0.21822,     0.21922,     0.22022,     0.22122,     0.22222,     0.22322,     0.22422,     0.22523,     0.22623,     0.22723,     0.22823,     0.22923,     0.23023,     0.23123,     0.23223,     0.23323,     0.23423,     0.23524,     0.23624,     0.23724,     0.23824,     0.23924,\n",
              "           0.24024,     0.24124,     0.24224,     0.24324,     0.24424,     0.24525,     0.24625,     0.24725,     0.24825,     0.24925,     0.25025,     0.25125,     0.25225,     0.25325,     0.25425,     0.25526,     0.25626,     0.25726,     0.25826,     0.25926,     0.26026,     0.26126,     0.26226,     0.26326,\n",
              "           0.26426,     0.26527,     0.26627,     0.26727,     0.26827,     0.26927,     0.27027,     0.27127,     0.27227,     0.27327,     0.27427,     0.27528,     0.27628,     0.27728,     0.27828,     0.27928,     0.28028,     0.28128,     0.28228,     0.28328,     0.28428,     0.28529,     0.28629,     0.28729,\n",
              "           0.28829,     0.28929,     0.29029,     0.29129,     0.29229,     0.29329,     0.29429,      0.2953,      0.2963,      0.2973,      0.2983,      0.2993,      0.3003,      0.3013,      0.3023,      0.3033,      0.3043,     0.30531,     0.30631,     0.30731,     0.30831,     0.30931,     0.31031,     0.31131,\n",
              "           0.31231,     0.31331,     0.31431,     0.31532,     0.31632,     0.31732,     0.31832,     0.31932,     0.32032,     0.32132,     0.32232,     0.32332,     0.32432,     0.32533,     0.32633,     0.32733,     0.32833,     0.32933,     0.33033,     0.33133,     0.33233,     0.33333,     0.33433,     0.33534,\n",
              "           0.33634,     0.33734,     0.33834,     0.33934,     0.34034,     0.34134,     0.34234,     0.34334,     0.34434,     0.34535,     0.34635,     0.34735,     0.34835,     0.34935,     0.35035,     0.35135,     0.35235,     0.35335,     0.35435,     0.35536,     0.35636,     0.35736,     0.35836,     0.35936,\n",
              "           0.36036,     0.36136,     0.36236,     0.36336,     0.36436,     0.36537,     0.36637,     0.36737,     0.36837,     0.36937,     0.37037,     0.37137,     0.37237,     0.37337,     0.37437,     0.37538,     0.37638,     0.37738,     0.37838,     0.37938,     0.38038,     0.38138,     0.38238,     0.38338,\n",
              "           0.38438,     0.38539,     0.38639,     0.38739,     0.38839,     0.38939,     0.39039,     0.39139,     0.39239,     0.39339,     0.39439,      0.3954,      0.3964,      0.3974,      0.3984,      0.3994,      0.4004,      0.4014,      0.4024,      0.4034,      0.4044,     0.40541,     0.40641,     0.40741,\n",
              "           0.40841,     0.40941,     0.41041,     0.41141,     0.41241,     0.41341,     0.41441,     0.41542,     0.41642,     0.41742,     0.41842,     0.41942,     0.42042,     0.42142,     0.42242,     0.42342,     0.42442,     0.42543,     0.42643,     0.42743,     0.42843,     0.42943,     0.43043,     0.43143,\n",
              "           0.43243,     0.43343,     0.43443,     0.43544,     0.43644,     0.43744,     0.43844,     0.43944,     0.44044,     0.44144,     0.44244,     0.44344,     0.44444,     0.44545,     0.44645,     0.44745,     0.44845,     0.44945,     0.45045,     0.45145,     0.45245,     0.45345,     0.45445,     0.45546,\n",
              "           0.45646,     0.45746,     0.45846,     0.45946,     0.46046,     0.46146,     0.46246,     0.46346,     0.46446,     0.46547,     0.46647,     0.46747,     0.46847,     0.46947,     0.47047,     0.47147,     0.47247,     0.47347,     0.47447,     0.47548,     0.47648,     0.47748,     0.47848,     0.47948,\n",
              "           0.48048,     0.48148,     0.48248,     0.48348,     0.48448,     0.48549,     0.48649,     0.48749,     0.48849,     0.48949,     0.49049,     0.49149,     0.49249,     0.49349,     0.49449,      0.4955,      0.4965,      0.4975,      0.4985,      0.4995,      0.5005,      0.5015,      0.5025,      0.5035,\n",
              "            0.5045,     0.50551,     0.50651,     0.50751,     0.50851,     0.50951,     0.51051,     0.51151,     0.51251,     0.51351,     0.51451,     0.51552,     0.51652,     0.51752,     0.51852,     0.51952,     0.52052,     0.52152,     0.52252,     0.52352,     0.52452,     0.52553,     0.52653,     0.52753,\n",
              "           0.52853,     0.52953,     0.53053,     0.53153,     0.53253,     0.53353,     0.53453,     0.53554,     0.53654,     0.53754,     0.53854,     0.53954,     0.54054,     0.54154,     0.54254,     0.54354,     0.54454,     0.54555,     0.54655,     0.54755,     0.54855,     0.54955,     0.55055,     0.55155,\n",
              "           0.55255,     0.55355,     0.55455,     0.55556,     0.55656,     0.55756,     0.55856,     0.55956,     0.56056,     0.56156,     0.56256,     0.56356,     0.56456,     0.56557,     0.56657,     0.56757,     0.56857,     0.56957,     0.57057,     0.57157,     0.57257,     0.57357,     0.57457,     0.57558,\n",
              "           0.57658,     0.57758,     0.57858,     0.57958,     0.58058,     0.58158,     0.58258,     0.58358,     0.58458,     0.58559,     0.58659,     0.58759,     0.58859,     0.58959,     0.59059,     0.59159,     0.59259,     0.59359,     0.59459,      0.5956,      0.5966,      0.5976,      0.5986,      0.5996,\n",
              "            0.6006,      0.6016,      0.6026,      0.6036,      0.6046,     0.60561,     0.60661,     0.60761,     0.60861,     0.60961,     0.61061,     0.61161,     0.61261,     0.61361,     0.61461,     0.61562,     0.61662,     0.61762,     0.61862,     0.61962,     0.62062,     0.62162,     0.62262,     0.62362,\n",
              "           0.62462,     0.62563,     0.62663,     0.62763,     0.62863,     0.62963,     0.63063,     0.63163,     0.63263,     0.63363,     0.63463,     0.63564,     0.63664,     0.63764,     0.63864,     0.63964,     0.64064,     0.64164,     0.64264,     0.64364,     0.64464,     0.64565,     0.64665,     0.64765,\n",
              "           0.64865,     0.64965,     0.65065,     0.65165,     0.65265,     0.65365,     0.65465,     0.65566,     0.65666,     0.65766,     0.65866,     0.65966,     0.66066,     0.66166,     0.66266,     0.66366,     0.66466,     0.66567,     0.66667,     0.66767,     0.66867,     0.66967,     0.67067,     0.67167,\n",
              "           0.67267,     0.67367,     0.67467,     0.67568,     0.67668,     0.67768,     0.67868,     0.67968,     0.68068,     0.68168,     0.68268,     0.68368,     0.68468,     0.68569,     0.68669,     0.68769,     0.68869,     0.68969,     0.69069,     0.69169,     0.69269,     0.69369,     0.69469,      0.6957,\n",
              "            0.6967,      0.6977,      0.6987,      0.6997,      0.7007,      0.7017,      0.7027,      0.7037,      0.7047,     0.70571,     0.70671,     0.70771,     0.70871,     0.70971,     0.71071,     0.71171,     0.71271,     0.71371,     0.71471,     0.71572,     0.71672,     0.71772,     0.71872,     0.71972,\n",
              "           0.72072,     0.72172,     0.72272,     0.72372,     0.72472,     0.72573,     0.72673,     0.72773,     0.72873,     0.72973,     0.73073,     0.73173,     0.73273,     0.73373,     0.73473,     0.73574,     0.73674,     0.73774,     0.73874,     0.73974,     0.74074,     0.74174,     0.74274,     0.74374,\n",
              "           0.74474,     0.74575,     0.74675,     0.74775,     0.74875,     0.74975,     0.75075,     0.75175,     0.75275,     0.75375,     0.75475,     0.75576,     0.75676,     0.75776,     0.75876,     0.75976,     0.76076,     0.76176,     0.76276,     0.76376,     0.76476,     0.76577,     0.76677,     0.76777,\n",
              "           0.76877,     0.76977,     0.77077,     0.77177,     0.77277,     0.77377,     0.77477,     0.77578,     0.77678,     0.77778,     0.77878,     0.77978,     0.78078,     0.78178,     0.78278,     0.78378,     0.78478,     0.78579,     0.78679,     0.78779,     0.78879,     0.78979,     0.79079,     0.79179,\n",
              "           0.79279,     0.79379,     0.79479,      0.7958,      0.7968,      0.7978,      0.7988,      0.7998,      0.8008,      0.8018,      0.8028,      0.8038,      0.8048,     0.80581,     0.80681,     0.80781,     0.80881,     0.80981,     0.81081,     0.81181,     0.81281,     0.81381,     0.81481,     0.81582,\n",
              "           0.81682,     0.81782,     0.81882,     0.81982,     0.82082,     0.82182,     0.82282,     0.82382,     0.82482,     0.82583,     0.82683,     0.82783,     0.82883,     0.82983,     0.83083,     0.83183,     0.83283,     0.83383,     0.83483,     0.83584,     0.83684,     0.83784,     0.83884,     0.83984,\n",
              "           0.84084,     0.84184,     0.84284,     0.84384,     0.84484,     0.84585,     0.84685,     0.84785,     0.84885,     0.84985,     0.85085,     0.85185,     0.85285,     0.85385,     0.85485,     0.85586,     0.85686,     0.85786,     0.85886,     0.85986,     0.86086,     0.86186,     0.86286,     0.86386,\n",
              "           0.86486,     0.86587,     0.86687,     0.86787,     0.86887,     0.86987,     0.87087,     0.87187,     0.87287,     0.87387,     0.87487,     0.87588,     0.87688,     0.87788,     0.87888,     0.87988,     0.88088,     0.88188,     0.88288,     0.88388,     0.88488,     0.88589,     0.88689,     0.88789,\n",
              "           0.88889,     0.88989,     0.89089,     0.89189,     0.89289,     0.89389,     0.89489,      0.8959,      0.8969,      0.8979,      0.8989,      0.8999,      0.9009,      0.9019,      0.9029,      0.9039,      0.9049,     0.90591,     0.90691,     0.90791,     0.90891,     0.90991,     0.91091,     0.91191,\n",
              "           0.91291,     0.91391,     0.91491,     0.91592,     0.91692,     0.91792,     0.91892,     0.91992,     0.92092,     0.92192,     0.92292,     0.92392,     0.92492,     0.92593,     0.92693,     0.92793,     0.92893,     0.92993,     0.93093,     0.93193,     0.93293,     0.93393,     0.93493,     0.93594,\n",
              "           0.93694,     0.93794,     0.93894,     0.93994,     0.94094,     0.94194,     0.94294,     0.94394,     0.94494,     0.94595,     0.94695,     0.94795,     0.94895,     0.94995,     0.95095,     0.95195,     0.95295,     0.95395,     0.95495,     0.95596,     0.95696,     0.95796,     0.95896,     0.95996,\n",
              "           0.96096,     0.96196,     0.96296,     0.96396,     0.96496,     0.96597,     0.96697,     0.96797,     0.96897,     0.96997,     0.97097,     0.97197,     0.97297,     0.97397,     0.97497,     0.97598,     0.97698,     0.97798,     0.97898,     0.97998,     0.98098,     0.98198,     0.98298,     0.98398,\n",
              "           0.98498,     0.98599,     0.98699,     0.98799,     0.98899,     0.98999,     0.99099,     0.99199,     0.99299,     0.99399,     0.99499,       0.996,       0.997,       0.998,       0.999,           1]), array([[          1,           1,           1, ...,           0,           0,           0],\n",
              "       [          1,           1,           1, ...,           0,           0,           0],\n",
              "       [          1,           1,           1, ...,           0,           0,           0],\n",
              "       [          1,           1,           1, ...,           0,           0,           0]]), 'Confidence', 'Recall']]\n",
              "fitness: np.float64(0.9124381463966051)\n",
              "keys: ['metrics/precision(B)', 'metrics/recall(B)', 'metrics/mAP50(B)', 'metrics/mAP50-95(B)']\n",
              "maps: array([    0.87197,     0.90843,     0.88444,     0.94822])\n",
              "names: {0: 'Botol', 1: 'Buku', 2: 'Dompet', 3: 'Tas'}\n",
              "plot: True\n",
              "results_dict: {'metrics/precision(B)': np.float64(0.9967617332896725), 'metrics/recall(B)': np.float64(1.0), 'metrics/mAP50(B)': np.float64(0.995), 'metrics/mAP50-95(B)': np.float64(0.903264607107339), 'fitness': np.float64(0.9124381463966051)}\n",
              "save_dir: PosixPath('runs/detect/train3')\n",
              "speed: {'preprocess': 0.27163653333749, 'inference': 2.6779666083181537, 'loss': 0.0004831750023489197, 'postprocess': 6.568248858343395}\n",
              "task: 'detect'"
            ]
          },
          "metadata": {},
          "execution_count": 12
        }
      ]
    },
    {
      "cell_type": "code",
      "source": [
        "# Salin file best.pt ke Drive kamu\n",
        "!cp /content/drive/MyDrive/T4DL/runs/detect/train/weights/best.pt /content/drive/MyDrive/T5DeepLearning/model.pt"
      ],
      "metadata": {
        "id": "BCiuBsoKEvbq"
      },
      "execution_count": null,
      "outputs": []
    },
    {
      "cell_type": "code",
      "source": [
        "# === Load model dan video ===\n",
        "model = YOLO(model_path)\n",
        "cap = cv2.VideoCapture(video_path)\n",
        "width = int(cap.get(cv2.CAP_PROP_FRAME_WIDTH))\n",
        "height = int(cap.get(cv2.CAP_PROP_FRAME_HEIGHT))\n",
        "fps = cap.get(cv2.CAP_PROP_FPS)\n",
        "out = cv2.VideoWriter(output_path, cv2.VideoWriter_fourcc(*'mp4v'), fps, (width, height))\n",
        "\n",
        "# === Daftar nama kelas sesuai urutan di data.yaml ===\n",
        "class_names = ['Botol', 'Buku', 'Dompet', 'Tas']\n",
        "\n",
        "# === Inisialisasi DeepSORT tracker ===\n",
        "tracker = DeepSort(max_age=30)\n",
        "count_per_class = defaultdict(set)\n",
        "\n",
        "while True:\n",
        "    ret, frame = cap.read()\n",
        "    if not ret:\n",
        "        break\n",
        "\n",
        "    results = model.predict(frame, verbose=False)[0]\n",
        "\n",
        "    detections = []\n",
        "    for box in results.boxes:\n",
        "        cls_id = int(box.cls[0])\n",
        "        conf = float(box.conf[0])\n",
        "        label = class_names[cls_id]  # pastikan label adalah string\n",
        "        x1, y1, x2, y2 = map(int, box.xyxy[0])\n",
        "        bbox = [x1, y1, x2 - x1, y2 - y1]\n",
        "        detections.append((bbox, conf, label))\n",
        "\n",
        "    tracks = tracker.update_tracks(detections, frame=frame)\n",
        "\n",
        "    for track in tracks:\n",
        "        if not track.is_confirmed():\n",
        "            continue\n",
        "        track_id = track.track_id\n",
        "        ltrb = track.to_ltrb()\n",
        "        label = track.get_det_class()  # hasilnya string (sudah dari label)\n",
        "\n",
        "        x1, y1, x2, y2 = map(int, ltrb)\n",
        "        cv2.rectangle(frame, (x1, y1), (x2, y2), (0, 255, 0), 2)\n",
        "        cv2.putText(frame, f'{label} #{track_id}', (x1, y1 - 10),\n",
        "                    cv2.FONT_HERSHEY_SIMPLEX, 0.6, (0, 255, 0), 2)\n",
        "\n",
        "        # Hitung objek unik berdasarkan label\n",
        "        count_per_class[label].add(track_id)\n",
        "\n",
        "    out.write(frame)\n",
        "\n",
        "cap.release()\n",
        "out.release()\n",
        "\n",
        "# === Print hasil counting ===\n",
        "print(\"\\n Jumlah objek unik per kelas:\")\n",
        "for label, ids in count_per_class.items():\n",
        "    print(f\"- {label}: {len(ids)} objek\")\n",
        "\n",
        "print(f\"\\n Video hasil deteksi disimpan di: {output_path}\")"
      ],
      "metadata": {
        "colab": {
          "base_uri": "https://localhost:8080/"
        },
        "id": "oaKqMOZFDj60",
        "outputId": "03991c0e-c0b1-4827-f2fa-0b2eea9a47d2"
      },
      "execution_count": 11,
      "outputs": [
        {
          "output_type": "stream",
          "name": "stdout",
          "text": [
            "\n",
            " Jumlah objek unik per kelas:\n",
            "- Buku: 33 objek\n",
            "- Dompet: 49 objek\n",
            "- Botol: 33 objek\n",
            "- Tas: 23 objek\n",
            "\n",
            " Video hasil deteksi disimpan di: /content/drive/MyDrive/T4DL/result.mp4\n"
          ]
        }
      ]
    },
    {
      "cell_type": "markdown",
      "source": [
        "# 4. Export\n",
        "\n",
        "Export a YOLO model to any supported format below with the `format` argument, i.e. `format=onnx`. See [Export Docs](https://docs.ultralytics.com/modes/export/) for more information.\n",
        "\n",
        "- 💡 ProTip: Export to [ONNX](https://docs.ultralytics.com/integrations/onnx/) or [OpenVINO](https://docs.ultralytics.com/integrations/openvino/) for up to 3x CPU speedup.\n",
        "- 💡 ProTip: Export to [TensorRT](https://docs.ultralytics.com/integrations/tensorrt/) for up to 5x GPU speedup.\n",
        "\n",
        "| Format | `format` Argument | Model | Metadata | Arguments |\n",
        "|--------|-----------------|-------|----------|------------|\n",
        "| [PyTorch](https://pytorch.org/) | - | `yolo11n.pt` | ✅ | - |\n",
        "| [TorchScript](https://docs.ultralytics.com/integrations/torchscript) | `torchscript` | `yolo11n.torchscript` | ✅ | `imgsz`, `batch`, `optimize`, `half`, `nms`, `device` |\n",
        "| [ONNX](https://docs.ultralytics.com/integrations/onnx) | `onnx` | `yolo11n.onnx` | ✅ | `imgsz`, `batch`, `dynamic`, `half`, `opset`, `simplify`, `nms`, `device` |\n",
        "| [OpenVINO](https://docs.ultralytics.com/integrations/openvino) | `openvino` | `yolo11n_openvino_model/` | ✅ | `imgsz`, `batch`, `dynamic`, `half`, `int8`, `nms`, `fraction`, `device`, `data` |\n",
        "| [TensorRT](https://docs.ultralytics.com/integrations/tensorrt) | `engine` | `yolo11n.engine` | ✅ | `imgsz`, `batch`, `dynamic`, `half`, `int8`, `simplify`, `nms`, `fraction`, `device`, `data`, `workspace` |\n",
        "| [CoreML](https://docs.ultralytics.com/integrations/coreml) | `coreml` | `yolo11n.mlpackage` | ✅ | `imgsz`, `batch`, `half`, `int8`, `nms`, `device` |\n",
        "| [TF SavedModel](https://docs.ultralytics.com/integrations/tf-savedmodel) | `saved_model` | `yolo11n_saved_model/` | ✅ | `imgsz`, `batch`, `int8`, `keras`, `nms`, `device` |\n",
        "| [TF GraphDef](https://docs.ultralytics.com/integrations/tf-graphdef) | `pb` | `yolo11n.pb` | ❌ | `imgsz`, `batch`, `device` |\n",
        "| [TF Lite](https://docs.ultralytics.com/integrations/tflite) | `tflite` | `yolo11n.tflite` | ✅ | `imgsz`, `batch`, `half`, `int8`, `nms`, `fraction`, `device`, `data` |\n",
        "| [TF Edge TPU](https://docs.ultralytics.com/integrations/edge-tpu) | `edgetpu` | `yolo11n_edgetpu.tflite` | ✅ | `imgsz`, `device` |\n",
        "| [TF.js](https://docs.ultralytics.com/integrations/tfjs) | `tfjs` | `yolo11n_web_model/` | ✅ | `imgsz`, `batch`, `half`, `int8`, `nms`, `device` |\n",
        "| [PaddlePaddle](https://docs.ultralytics.com/integrations/paddlepaddle) | `paddle` | `yolo11n_paddle_model/` | ✅ | `imgsz`, `batch`, `device` |\n",
        "| [MNN](https://docs.ultralytics.com/integrations/mnn) | `mnn` | `yolo11n.mnn` | ✅ | `imgsz`, `batch`, `half`, `int8`, `device` |\n",
        "| [NCNN](https://docs.ultralytics.com/integrations/ncnn) | `ncnn` | `yolo11n_ncnn_model/` | ✅ | `imgsz`, `batch`, `half`, `device` |\n",
        "| [IMX500](https://docs.ultralytics.com/integrations/sony-imx500) | `imx` | `yolov8n_imx_model/` | ✅ | `imgsz`, `int8`, `fraction`, `device`, `data` |\n",
        "| [RKNN](https://docs.ultralytics.com/integrations/rockchip-rknn) | `rknn` | `yolo11n_rknn_model/` | ✅ | `imgsz`, `batch`, `name`, `device` |"
      ],
      "metadata": {
        "id": "nPZZeNrLCQG6"
      }
    },
    {
      "cell_type": "code",
      "source": [
        "!yolo export model=yolo11n.pt format=torchscript"
      ],
      "metadata": {
        "colab": {
          "base_uri": "https://localhost:8080/"
        },
        "id": "CYIjW4igCjqD",
        "outputId": "2fd8de97-e864-48d1-afbb-ef6eca114bb4"
      },
      "execution_count": null,
      "outputs": [
        {
          "output_type": "stream",
          "name": "stdout",
          "text": [
            "Ultralytics 8.3.110 🚀 Python-3.11.12 torch-2.6.0+cu124 CPU (Intel Xeon 2.00GHz)\n",
            "YOLO11n summary (fused): 100 layers, 2,616,248 parameters, 0 gradients, 6.5 GFLOPs\n",
            "\n",
            "\u001b[34m\u001b[1mPyTorch:\u001b[0m starting from 'yolo11n.pt' with input shape (1, 3, 640, 640) BCHW and output shape(s) (1, 84, 8400) (5.4 MB)\n",
            "\n",
            "\u001b[34m\u001b[1mTorchScript:\u001b[0m starting export with torch 2.6.0+cu124...\n",
            "\u001b[34m\u001b[1mTorchScript:\u001b[0m export success ✅ 2.4s, saved as 'yolo11n.torchscript' (10.5 MB)\n",
            "\n",
            "Export complete (4.1s)\n",
            "Results saved to \u001b[1m/content\u001b[0m\n",
            "Predict:         yolo predict task=detect model=yolo11n.torchscript imgsz=640  \n",
            "Validate:        yolo val task=detect model=yolo11n.torchscript imgsz=640 data=/usr/src/ultralytics/ultralytics/cfg/datasets/coco.yaml  \n",
            "Visualize:       https://netron.app\n",
            "💡 Learn more at https://docs.ultralytics.com/modes/export\n"
          ]
        }
      ]
    },
    {
      "cell_type": "markdown",
      "source": [
        "# 5. Python Usage\n",
        "\n",
        "YOLO11 was reimagined using Python-first principles for the most seamless Python YOLO experience yet. YOLO11 models can be loaded from a trained checkpoint or created from scratch. Then methods are used to train, val, predict, and export the model. See detailed Python usage examples in the [YOLO11 Python Docs](https://docs.ultralytics.com/usage/python/)."
      ],
      "metadata": {
        "id": "kUMOQ0OeDBJG"
      }
    },
    {
      "cell_type": "code",
      "source": [
        "from ultralytics import YOLO\n",
        "\n",
        "# Load a model\n",
        "model = YOLO('yolo11n.yaml')  # build a new model from scratch\n",
        "model = YOLO('yolo11n.pt')  # load a pretrained model (recommended for training)\n",
        "\n",
        "# Use the model\n",
        "results = model.train(data='coco8.yaml', epochs=3)  # train the model\n",
        "results = model.val()  # evaluate model performance on the validation set\n",
        "results = model('https://ultralytics.com/images/bus.jpg')  # predict on an image\n",
        "results = model.export(format='onnx')  # export the model to ONNX format"
      ],
      "metadata": {
        "id": "bpF9-vS_DAaf"
      },
      "execution_count": null,
      "outputs": []
    },
    {
      "cell_type": "markdown",
      "source": [
        "# 6. Tasks\n",
        "\n",
        "YOLO11 can train, val, predict and export models for the most common tasks in vision AI: [Detect](https://docs.ultralytics.com/tasks/detect/), [Segment](https://docs.ultralytics.com/tasks/segment/), [Classify](https://docs.ultralytics.com/tasks/classify/) and [Pose](https://docs.ultralytics.com/tasks/pose/). See [YOLO11 Tasks Docs](https://docs.ultralytics.com/tasks/) for more information.\n",
        "\n",
        "<br><img width=\"1024\" src=\"https://raw.githubusercontent.com/ultralytics/assets/main/im/banner-tasks.png\">\n"
      ],
      "metadata": {
        "id": "Phm9ccmOKye5"
      }
    },
    {
      "cell_type": "markdown",
      "source": [
        "## 1. Detection\n",
        "\n",
        "YOLO11 _detection_ models have no suffix and are the default YOLO11 models, i.e. `yolo11n.pt` and are pretrained on COCO. See [Detection Docs](https://docs.ultralytics.com/tasks/detect/) for full details.\n"
      ],
      "metadata": {
        "id": "yq26lwpYK1lq"
      }
    },
    {
      "cell_type": "code",
      "source": [
        "# Load YOLO11n, train it on COCO128 for 3 epochs and predict an image with it\n",
        "from ultralytics import YOLO\n",
        "\n",
        "model = YOLO('yolo11n.pt')  # load a pretrained YOLO detection model\n",
        "model.train(data='coco8.yaml', epochs=3)  # train the model\n",
        "model('https://ultralytics.com/images/bus.jpg')  # predict on an image"
      ],
      "metadata": {
        "id": "8Go5qqS9LbC5"
      },
      "execution_count": null,
      "outputs": []
    },
    {
      "cell_type": "markdown",
      "source": [
        "## 2. Segmentation\n",
        "\n",
        "YOLO11 _segmentation_ models use the `-seg` suffix, i.e. `yolo11n-seg.pt` and are pretrained on COCO. See [Segmentation Docs](https://docs.ultralytics.com/tasks/segment/) for full details.\n"
      ],
      "metadata": {
        "id": "7ZW58jUzK66B"
      }
    },
    {
      "cell_type": "code",
      "source": [
        "# Load YOLO11n-seg, train it on COCO128-seg for 3 epochs and predict an image with it\n",
        "from ultralytics import YOLO\n",
        "\n",
        "model = YOLO('yolo11n-seg.pt')  # load a pretrained YOLO segmentation model\n",
        "model.train(data='coco8-seg.yaml', epochs=3)  # train the model\n",
        "model('https://ultralytics.com/images/bus.jpg')  # predict on an image"
      ],
      "metadata": {
        "id": "WFPJIQl_L5HT"
      },
      "execution_count": null,
      "outputs": []
    },
    {
      "cell_type": "markdown",
      "source": [
        "## 3. Classification\n",
        "\n",
        "YOLO11 _classification_ models use the `-cls` suffix, i.e. `yolo11n-cls.pt` and are pretrained on ImageNet. See [Classification Docs](https://docs.ultralytics.com/tasks/classify/) for full details.\n"
      ],
      "metadata": {
        "id": "ax3p94VNK9zR"
      }
    },
    {
      "cell_type": "code",
      "source": [
        "# Load YOLO11n-cls, train it on mnist160 for 3 epochs and predict an image with it\n",
        "from ultralytics import YOLO\n",
        "\n",
        "model = YOLO('yolo11n-cls.pt')  # load a pretrained YOLO classification model\n",
        "model.train(data='mnist160', epochs=3)  # train the model\n",
        "model('https://ultralytics.com/images/bus.jpg')  # predict on an image"
      ],
      "metadata": {
        "id": "5q9Zu6zlL5rS"
      },
      "execution_count": null,
      "outputs": []
    },
    {
      "cell_type": "markdown",
      "source": [
        "## 4. Pose\n",
        "\n",
        "YOLO11 _pose_ models use the `-pose` suffix, i.e. `yolo11n-pose.pt` and are pretrained on COCO Keypoints. See [Pose Docs](https://docs.ultralytics.com/tasks/pose/) for full details."
      ],
      "metadata": {
        "id": "SpIaFLiO11TG"
      }
    },
    {
      "cell_type": "code",
      "source": [
        "# Load YOLO11n-pose, train it on COCO8-pose for 3 epochs and predict an image with it\n",
        "from ultralytics import YOLO\n",
        "\n",
        "model = YOLO('yolo11n-pose.pt')  # load a pretrained YOLO pose model\n",
        "model.train(data='coco8-pose.yaml', epochs=3)  # train the model\n",
        "model('https://ultralytics.com/images/bus.jpg')  # predict on an image"
      ],
      "metadata": {
        "id": "si4aKFNg19vX"
      },
      "execution_count": null,
      "outputs": []
    },
    {
      "cell_type": "markdown",
      "source": [
        "## 4. Oriented Bounding Boxes (OBB)\n",
        "\n",
        "YOLO11 _OBB_ models use the `-obb` suffix, i.e. `yolo11n-obb.pt` and are pretrained on the DOTA dataset. See [OBB Docs](https://docs.ultralytics.com/tasks/obb/) for full details."
      ],
      "metadata": {
        "id": "cf5j_T9-B5F0"
      }
    },
    {
      "cell_type": "code",
      "source": [
        "# Load YOLO11n-obb, train it on DOTA8 for 3 epochs and predict an image with it\n",
        "from ultralytics import YOLO\n",
        "\n",
        "model = YOLO('yolo11n-obb.pt')  # load a pretrained YOLO OBB model\n",
        "model.train(data='dota8.yaml', epochs=3)  # train the model\n",
        "model('https://ultralytics.com/images/boats.jpg')  # predict on an image"
      ],
      "metadata": {
        "id": "IJNKClOOB5YS"
      },
      "execution_count": null,
      "outputs": []
    },
    {
      "cell_type": "markdown",
      "metadata": {
        "id": "IEijrePND_2I"
      },
      "source": [
        "# Appendix\n",
        "\n",
        "Additional content below."
      ]
    },
    {
      "cell_type": "code",
      "source": [
        "# Pip install from source\n",
        "!pip install git+https://github.com/ultralytics/ultralytics@main"
      ],
      "metadata": {
        "id": "pIdE6i8C3LYp"
      },
      "execution_count": null,
      "outputs": []
    },
    {
      "cell_type": "code",
      "source": [
        "# Git clone and run tests on 'main' branch\n",
        "!git clone https://github.com/ultralytics/ultralytics -b main\n",
        "%pip install -qe ultralytics"
      ],
      "metadata": {
        "id": "uRKlwxSJdhd1"
      },
      "execution_count": null,
      "outputs": []
    },
    {
      "cell_type": "code",
      "source": [
        "# Run tests (Git clone only)\n",
        "!pytest ultralytics/tests"
      ],
      "metadata": {
        "id": "GtPlh7mcCGZX"
      },
      "execution_count": null,
      "outputs": []
    },
    {
      "cell_type": "code",
      "source": [
        "# Validate multiple models\n",
        "for x in 'nsmlx':\n",
        "  !yolo val model=yolo11{x}.pt data=coco.yaml"
      ],
      "metadata": {
        "id": "Wdc6t_bfzDDk"
      },
      "execution_count": null,
      "outputs": []
    }
  ]
}